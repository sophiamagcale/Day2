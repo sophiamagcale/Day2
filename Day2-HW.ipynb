{
 "cells": [
  {
   "cell_type": "markdown",
   "id": "1cc1bdae-fb8c-4df5-bceb-e966ef5872c5",
   "metadata": {},
   "source": [
    "## Introduction to Data Science\n",
    "\n",
    "#### University of Redlands - DATA 101\n",
    "#### Prof: Joanna Bieri [joanna_bieri@redlands.edu](mailto:joanna_bieri@redlands.edu)\n",
    "#### [Class Website: data101.joannabieri.com](https://joannabieri.com/data101.html)\n",
    "\n",
    "---------------------------------------\n",
    "# Homework Day 2\n",
    "---------------------------------------\n",
    "\n",
    "GOALS:\n",
    "\n",
    "1. Start using Python\n",
    "2. Start looking at Data!\n",
    "\n",
    "----------------------------------------------------------\n",
    "\n",
    "This homework has **TWO** warm-up problems and **FOUR** problems."
   ]
  },
  {
   "cell_type": "markdown",
   "id": "b2c39d80-a1fd-479b-910c-6ad341ad5310",
   "metadata": {},
   "source": [
    "\n",
    "## Hello World!\n",
    "\n",
    "### Warm up Problem 1\n",
    "\n",
    "Write python code that will print your name and run the cell."
   ]
  },
  {
   "cell_type": "code",
   "execution_count": 5,
   "id": "0a219b6a-b87f-456d-b991-c392fe5cc5b6",
   "metadata": {},
   "outputs": [
    {
     "name": "stdout",
     "output_type": "stream",
     "text": [
      "Sophia\n"
     ]
    }
   ],
   "source": [
    "# Your code here\n",
    "print('Sophia')"
   ]
  },
  {
   "cell_type": "markdown",
   "id": "e2b797c2-cfcd-4a3f-acf2-3ad6f0183192",
   "metadata": {},
   "source": [
    "## Installing Modules\n",
    "\n",
    "### Warm up Problem 2\n",
    "\n",
    "Install the modules that you will need to run the rest of the code. You can copy and paste the commands from the class notes. This might take a minute or two to run... go get a cup of coffee :)"
   ]
  },
  {
   "cell_type": "code",
   "execution_count": 7,
   "id": "7d0b61b4-204e-4c77-be7d-a318cd32e40a",
   "metadata": {},
   "outputs": [
    {
     "name": "stdout",
     "output_type": "stream",
     "text": [
      "Retrieving notices: ...working... done\n",
      "Channels:\n",
      " - conda-forge\n",
      " - defaults\n",
      "Platform: osx-arm64\n",
      "Collecting package metadata (repodata.json): done\n",
      "Solving environment: done\n",
      "\n",
      "## Package Plan ##\n",
      "\n",
      "  environment location: /opt/anaconda3\n",
      "\n",
      "  added / updated specs:\n",
      "    - numpy\n",
      "\n",
      "\n",
      "The following packages will be downloaded:\n",
      "\n",
      "    package                    |            build\n",
      "    ---------------------------|-----------------\n",
      "    openssl-3.3.2              |       h8359307_0         2.7 MB  conda-forge\n",
      "    ------------------------------------------------------------\n",
      "                                           Total:         2.7 MB\n",
      "\n",
      "The following packages will be UPDATED:\n",
      "\n",
      "  openssl                                  3.3.1-h8359307_3 --> 3.3.2-h8359307_0 \n",
      "\n",
      "\n",
      "\n",
      "Downloading and Extracting Packages:\n",
      "                                                                                \n",
      "Preparing transaction: done\n",
      "Verifying transaction: done\n",
      "Executing transaction: done\n",
      "Channels:\n",
      " - conda-forge\n",
      " - defaults\n",
      "Platform: osx-arm64\n",
      "Collecting package metadata (repodata.json): done\n",
      "Solving environment: done\n",
      "\n",
      "## Package Plan ##\n",
      "\n",
      "  environment location: /opt/anaconda3\n",
      "\n",
      "  added / updated specs:\n",
      "    - pandas\n",
      "\n",
      "\n",
      "The following packages will be downloaded:\n",
      "\n",
      "    package                    |            build\n",
      "    ---------------------------|-----------------\n",
      "    libcxx-18.1.8              |       h3ed4263_7         427 KB  conda-forge\n",
      "    pandas-2.2.2               |  py312h8ae5369_1        13.8 MB  conda-forge\n",
      "    ------------------------------------------------------------\n",
      "                                           Total:        14.2 MB\n",
      "\n",
      "The following packages will be UPDATED:\n",
      "\n",
      "  libcxx                pkgs/main::libcxx-14.0.6-h848a8c0_0 --> conda-forge::libcxx-18.1.8-h3ed4263_7 \n",
      "  pandas             pkgs/main::pandas-2.2.2-py312hd77ebd4~ --> conda-forge::pandas-2.2.2-py312h8ae5369_1 \n",
      "\n",
      "\n",
      "\n",
      "Downloading and Extracting Packages:\n",
      "pandas-2.2.2         | 13.8 MB   |                                       |   0% \n",
      "pandas-2.2.2         | 13.8 MB   |                                       |   0% \u001b[A\n",
      "libcxx-18.1.8        | 427 KB    | #3                                    |   4% \u001b[A\n",
      "                                                                                \u001b[A\n",
      "                                                                                \u001b[A\n",
      "Preparing transaction: done\n",
      "Verifying transaction: done\n",
      "Executing transaction: done\n",
      "Channels:\n",
      " - conda-forge\n",
      " - defaults\n",
      "Platform: osx-arm64\n",
      "Collecting package metadata (repodata.json): done\n",
      "Solving environment: done\n",
      "\n",
      "## Package Plan ##\n",
      "\n",
      "  environment location: /opt/anaconda3\n",
      "\n",
      "  added / updated specs:\n",
      "    - matplotlib\n",
      "\n",
      "\n",
      "The following packages will be downloaded:\n",
      "\n",
      "    package                    |            build\n",
      "    ---------------------------|-----------------\n",
      "    matplotlib-3.9.2           |  py312h1f38498_0           9 KB  conda-forge\n",
      "    matplotlib-base-3.9.2      |  py312h32d6e5a_0         7.5 MB  conda-forge\n",
      "    qhull-2020.2               |       h420ef59_5         504 KB  conda-forge\n",
      "    ------------------------------------------------------------\n",
      "                                           Total:         8.0 MB\n",
      "\n",
      "The following NEW packages will be INSTALLED:\n",
      "\n",
      "  qhull              conda-forge/osx-arm64::qhull-2020.2-h420ef59_5 \n",
      "\n",
      "The following packages will be UPDATED:\n",
      "\n",
      "  matplotlib         pkgs/main::matplotlib-3.8.4-py312hca0~ --> conda-forge::matplotlib-3.9.2-py312h1f38498_0 \n",
      "  matplotlib-base    pkgs/main::matplotlib-base-3.8.4-py31~ --> conda-forge::matplotlib-base-3.9.2-py312h32d6e5a_0 \n",
      "\n",
      "\n",
      "\n",
      "Downloading and Extracting Packages:\n",
      "matplotlib-base-3.9. | 7.5 MB    |                                       |   0% \n",
      "qhull-2020.2         | 504 KB    |                                       |   0% \u001b[A\n",
      "\n",
      "matplotlib-base-3.9. | 7.5 MB    |                                       |   0% \u001b[A\u001b[A\n",
      "\n",
      "matplotlib-3.9.2     | 9 KB      | ##################################### | 100% \u001b[A\u001b[A\n",
      "\n",
      "matplotlib-3.9.2     | 9 KB      | ##################################### | 100% \u001b[A\u001b[A\n",
      "matplotlib-base-3.9. | 7.5 MB    | #####4                                |  15% \u001b[A\n",
      "qhull-2020.2         | 504 KB    | ##################################### | 100% \u001b[A\n",
      "                                                                                \u001b[A\n",
      "                                                                                \u001b[A\n",
      "\n",
      "                                                                                \u001b[A\u001b[A\n",
      "Preparing transaction: done\n",
      "Verifying transaction: done\n",
      "Executing transaction: done\n",
      "Channels:\n",
      " - conda-forge\n",
      " - defaults\n",
      "Platform: osx-arm64\n",
      "Collecting package metadata (repodata.json): done\n",
      "Solving environment: done\n",
      "\n",
      "## Package Plan ##\n",
      "\n",
      "  environment location: /opt/anaconda3\n",
      "\n",
      "  added / updated specs:\n",
      "    - plotly\n",
      "\n",
      "\n",
      "The following packages will be downloaded:\n",
      "\n",
      "    package                    |            build\n",
      "    ---------------------------|-----------------\n",
      "    plotly-5.24.0              |     pyhd8ed1ab_0         5.7 MB  conda-forge\n",
      "    ------------------------------------------------------------\n",
      "                                           Total:         5.7 MB\n",
      "\n",
      "The following packages will be UPDATED:\n",
      "\n",
      "  plotly             pkgs/main/osx-arm64::plotly-5.22.0-py~ --> conda-forge/noarch::plotly-5.24.0-pyhd8ed1ab_0 \n",
      "\n",
      "\n",
      "\n",
      "Downloading and Extracting Packages:\n",
      "                                                                                \n",
      "Preparing transaction: done\n",
      "Verifying transaction: done\n",
      "Executing transaction: done\n",
      "Channels:\n",
      " - conda-forge\n",
      " - defaults\n",
      "Platform: osx-arm64\n",
      "Collecting package metadata (repodata.json): done\n",
      "Solving environment: done\n",
      "\n",
      "## Package Plan ##\n",
      "\n",
      "  environment location: /opt/anaconda3\n",
      "\n",
      "  added / updated specs:\n",
      "    - itables\n",
      "\n",
      "\n",
      "The following packages will be downloaded:\n",
      "\n",
      "    package                    |            build\n",
      "    ---------------------------|-----------------\n",
      "    itables-2.1.4              |     pyh80e38bb_0         917 KB  conda-forge\n",
      "    ------------------------------------------------------------\n",
      "                                           Total:         917 KB\n",
      "\n",
      "The following NEW packages will be INSTALLED:\n",
      "\n",
      "  itables            conda-forge/noarch::itables-2.1.4-pyh80e38bb_0 \n",
      "\n",
      "\n",
      "\n",
      "Downloading and Extracting Packages:\n",
      "                                                                                \n",
      "Preparing transaction: done\n",
      "Verifying transaction: done\n",
      "Executing transaction: done\n",
      "Channels:\n",
      " - conda-forge\n",
      " - defaults\n",
      "Platform: osx-arm64\n",
      "Collecting package metadata (repodata.json): done\n",
      "Solving environment: done\n",
      "\n",
      "## Package Plan ##\n",
      "\n",
      "  environment location: /opt/anaconda3\n",
      "\n",
      "  added / updated specs:\n",
      "    - statsmodels\n",
      "\n",
      "\n",
      "The following packages will be downloaded:\n",
      "\n",
      "    package                    |            build\n",
      "    ---------------------------|-----------------\n",
      "    statsmodels-0.14.2         |  py312hbebd99a_0        11.3 MB  conda-forge\n",
      "    ------------------------------------------------------------\n",
      "                                           Total:        11.3 MB\n",
      "\n",
      "The following packages will be SUPERSEDED by a higher-priority channel:\n",
      "\n",
      "  statsmodels        pkgs/main::statsmodels-0.14.2-py312ha~ --> conda-forge::statsmodels-0.14.2-py312hbebd99a_0 \n",
      "\n",
      "\n",
      "\n",
      "Downloading and Extracting Packages:\n",
      "                                                                                \n",
      "Preparing transaction: done\n",
      "Verifying transaction: done\n",
      "Executing transaction: done\n",
      "Channels:\n",
      " - conda-forge\n",
      " - defaults\n",
      "Platform: osx-arm64\n",
      "Collecting package metadata (repodata.json): done\n",
      "Solving environment: done\n",
      "\n",
      "## Package Plan ##\n",
      "\n",
      "  environment location: /opt/anaconda3\n",
      "\n",
      "  added / updated specs:\n",
      "    - python-kaleido\n",
      "\n",
      "\n",
      "The following packages will be downloaded:\n",
      "\n",
      "    package                    |            build\n",
      "    ---------------------------|-----------------\n",
      "    kaleido-core-0.2.1         |       h27ca646_0        73.4 MB  conda-forge\n",
      "    mathjax-2.7.7              |       hce30654_3        21.2 MB  conda-forge\n",
      "    python-kaleido-0.2.1       |     pyhd8ed1ab_0          18 KB  conda-forge\n",
      "    ------------------------------------------------------------\n",
      "                                           Total:        94.6 MB\n",
      "\n",
      "The following NEW packages will be INSTALLED:\n",
      "\n",
      "  kaleido-core       conda-forge/osx-arm64::kaleido-core-0.2.1-h27ca646_0 \n",
      "  mathjax            conda-forge/osx-arm64::mathjax-2.7.7-hce30654_3 \n",
      "  python-kaleido     conda-forge/noarch::python-kaleido-0.2.1-pyhd8ed1ab_0 \n",
      "\n",
      "\n",
      "\n",
      "Downloading and Extracting Packages:\n",
      "kaleido-core-0.2.1   | 73.4 MB   |                                       |   0% \n",
      "mathjax-2.7.7        | 21.2 MB   |                                       |   0% \u001b[A\n",
      "\n",
      "kaleido-core-0.2.1   | 73.4 MB   |                                       |   0% \u001b[A\u001b[A\n",
      "mathjax-2.7.7        | 21.2 MB   | 4                                     |   1% \u001b[A\n",
      "\n",
      "python-kaleido-0.2.1 | 18 KB     | #################################     |  89% \u001b[A\u001b[A\n",
      "\n",
      "python-kaleido-0.2.1 | 18 KB     | ##################################### | 100% \u001b[A\u001b[A\n",
      "kaleido-core-0.2.1   | 73.4 MB   | 5                                     |   2% \u001b[A\n",
      "kaleido-core-0.2.1   | 73.4 MB   | ##1                                   |   6% \u001b[A\n",
      "kaleido-core-0.2.1   | 73.4 MB   | ##7                                   |   7% \u001b[A\n",
      "mathjax-2.7.7        | 21.2 MB   | #########5                            |  26% \u001b[A\n",
      "kaleido-core-0.2.1   | 73.4 MB   | ###4                                  |   9% \u001b[A\n",
      "kaleido-core-0.2.1   | 73.4 MB   | ####1                                 |  11% \u001b[A\n",
      "kaleido-core-0.2.1   | 73.4 MB   | ####8                                 |  13% \u001b[A\n",
      "kaleido-core-0.2.1   | 73.4 MB   | ######2                               |  17% \u001b[A\n",
      "kaleido-core-0.2.1   | 73.4 MB   | ######9                               |  19% \u001b[A\n",
      "kaleido-core-0.2.1   | 73.4 MB   | #######6                              |  21% \u001b[A\n",
      "kaleido-core-0.2.1   | 73.4 MB   | ########2                             |  22% \u001b[A\n",
      "kaleido-core-0.2.1   | 73.4 MB   | #########                             |  24% \u001b[A\n",
      "kaleido-core-0.2.1   | 73.4 MB   | #########8                            |  27% \u001b[A\n",
      "mathjax-2.7.7        | 21.2 MB   | ##################################4   |  93% \u001b[A\n",
      "kaleido-core-0.2.1   | 73.4 MB   | ####################################  |  97% \u001b[A\n",
      "                                                                                \u001b[A\n",
      "                                                                                \u001b[A\n",
      "\n",
      "                                                                                \u001b[A\u001b[A\n",
      "Preparing transaction: done\n",
      "Verifying transaction: done\n",
      "Executing transaction: done\n"
     ]
    }
   ],
   "source": [
    "# Copy and paste the code here:### This will take a while to run - just let it go.\n",
    "!conda install -y numpy\n",
    "!conda install -y pandas\n",
    "!conda install -y matplotlib\n",
    "!conda install -y plotly\n",
    "!conda install -y itables\n",
    "!conda install -y statsmodels\n",
    "!conda install -y -c conda-forge python-kaleido\n"
   ]
  },
  {
   "cell_type": "markdown",
   "id": "56b03eae-6df6-424b-8325-0f40ca79e8c1",
   "metadata": {},
   "source": [
    "## Let's do some Data Science.\n",
    "\n",
    "We will explore some data about how countries vote at the United Nations General Assembly. You should follow along with the notes and/or class video.\n",
    "\n",
    "I am breaking this into parts and having you copy and paste the code so you can start to identify what the different parts of the code do."
   ]
  },
  {
   "cell_type": "markdown",
   "id": "b375e170-9404-4a45-b5ac-9896c009fdff",
   "metadata": {},
   "source": [
    "-------------------------------\n",
    "### Importing Packages:\n",
    "-------------------------------\n",
    "\n",
    "Every time we start a new project we will import the packages that will help us do the analysis. Copy and paste all of the imports in the cell below.\n",
    "\n",
    "* numpy = mathematical and number packages for python\n",
    "* pandas = pretty tables, dataframes, and data analysis packages\n",
    "* matplotlib.pyplot = nice looking graphs\n",
    "* plotly = nice looking graphs.\n",
    "* itables = pretty looking tables that have a search bar"
   ]
  },
  {
   "cell_type": "code",
   "execution_count": 39,
   "id": "d377d0c6-d6b9-4bbf-9561-02402781a58d",
   "metadata": {},
   "outputs": [],
   "source": [
    "# Copy and paste the code here:\n",
    "import numpy as np\n",
    "import pandas as pd\n",
    "\n",
    "import matplotlib.pyplot as plt\n",
    "import plotly.express as px\n",
    "from plotly.subplots import make_subplots\n",
    "\n",
    "from itables import show"
   ]
  },
  {
   "cell_type": "markdown",
   "id": "2d0f1b4e-0edd-4c16-a40b-fe13d095e15c",
   "metadata": {},
   "source": [
    "-------------------------------\n",
    "### Get the Data:\n",
    "-------------------------------\n",
    "\n",
    "We will practice all sorts of ways to get data into our notebooks. When you use Pandas (pd) to read a csv:\n",
    "\n",
    "    DF = pd.read_csv(file_location)\n",
    "\n",
    "you are basically reading in a spreadsheet (Excel). The data for today is stored on my website.\n",
    "\n",
    "It might take a minute for the data to load."
   ]
  },
  {
   "cell_type": "code",
   "execution_count": 14,
   "id": "1253d511-c553-454f-a94b-2d0a6f97bd1f",
   "metadata": {},
   "outputs": [],
   "source": [
    "# Copy and paste the code here:\n",
    "# Note this takes about a minute to run\n",
    "file_location = 'https://joannabieri.com/introdatascience/data/unvotes.csv'\n",
    "DF = pd.read_csv(file_location)\n",
    "years = [int(d.split('-')[0]) for d in DF['date']]\n",
    "DF['year'] = years\n",
    "DF = DF.drop('Unnamed: 0',axis=1)"
   ]
  },
  {
   "cell_type": "markdown",
   "id": "4775aa78-8ca3-4d32-bf28-ea0f2eff5650",
   "metadata": {},
   "source": [
    "\n",
    "-------------------------------\n",
    "### Initial Data Exploration:\n",
    "-------------------------------\n",
    "-------------------------------\n",
    "### Show the Data:\n",
    "-------------------------------\n",
    "\n",
    "We want to look at what we have. The data is now represented by the variable DF."
   ]
  },
  {
   "cell_type": "code",
   "execution_count": 16,
   "id": "da556aed-fa86-4049-bc8b-9cfc8c3666b3",
   "metadata": {},
   "outputs": [
    {
     "data": {
      "text/html": [
       "<table id=\"itables_3ef4413a_55d0_4f81_a675_da67b1f07d1c\" class=\"display nowrap\" data-quarto-disable-processing=\"true\" style=\"table-layout:auto;width:auto;margin:auto;caption-side:bottom\">\n",
       "<thead>\n",
       "    <tr style=\"text-align: right;\">\n",
       "      \n",
       "      <th>rcid</th>\n",
       "      <th>country</th>\n",
       "      <th>country_code</th>\n",
       "      <th>vote</th>\n",
       "      <th>session</th>\n",
       "      <th>importantvote</th>\n",
       "      <th>date</th>\n",
       "      <th>unres</th>\n",
       "      <th>amend</th>\n",
       "      <th>para</th>\n",
       "      <th>short</th>\n",
       "      <th>descr</th>\n",
       "      <th>short_name</th>\n",
       "      <th>issue</th>\n",
       "      <th>year</th>\n",
       "    </tr>\n",
       "  </thead><tbody><tr>\n",
       "<td style=\"vertical-align:middle; text-align:left\">\n",
       "<div style=\"float:left; margin-right: 10px;\">\n",
       "<a href=https://mwouts.github.io/itables/><svg class=\"main-svg\" xmlns=\"http://www.w3.org/2000/svg\" xmlns:xlink=\"http://www.w3.org/1999/xlink\"\n",
       "width=\"64\" viewBox=\"0 0 500 400\" style=\"font-family: 'Droid Sans', sans-serif;\">\n",
       "    <g style=\"fill:#d9d7fc\">\n",
       "        <path d=\"M100,400H500V357H100Z\" />\n",
       "        <path d=\"M100,300H400V257H100Z\" />\n",
       "        <path d=\"M0,200H400V157H0Z\" />\n",
       "        <path d=\"M100,100H500V57H100Z\" />\n",
       "        <path d=\"M100,350H500V307H100Z\" />\n",
       "        <path d=\"M100,250H400V207H100Z\" />\n",
       "        <path d=\"M0,150H400V107H0Z\" />\n",
       "        <path d=\"M100,50H500V7H100Z\" />\n",
       "    </g>\n",
       "    <g style=\"fill:#1a1366;stroke:#1a1366;\">\n",
       "   <rect x=\"100\" y=\"7\" width=\"400\" height=\"43\">\n",
       "    <animate\n",
       "      attributeName=\"width\"\n",
       "      values=\"0;400;0\"\n",
       "      dur=\"5s\"\n",
       "      repeatCount=\"indefinite\" />\n",
       "      <animate\n",
       "      attributeName=\"x\"\n",
       "      values=\"100;100;500\"\n",
       "      dur=\"5s\"\n",
       "      repeatCount=\"indefinite\" />\n",
       "  </rect>\n",
       "        <rect x=\"0\" y=\"107\" width=\"400\" height=\"43\">\n",
       "    <animate\n",
       "      attributeName=\"width\"\n",
       "      values=\"0;400;0\"\n",
       "      dur=\"3.5s\"\n",
       "      repeatCount=\"indefinite\" />\n",
       "    <animate\n",
       "      attributeName=\"x\"\n",
       "      values=\"0;0;400\"\n",
       "      dur=\"3.5s\"\n",
       "      repeatCount=\"indefinite\" />\n",
       "  </rect>\n",
       "        <rect x=\"100\" y=\"207\" width=\"300\" height=\"43\">\n",
       "    <animate\n",
       "      attributeName=\"width\"\n",
       "      values=\"0;300;0\"\n",
       "      dur=\"3s\"\n",
       "      repeatCount=\"indefinite\" />\n",
       "    <animate\n",
       "      attributeName=\"x\"\n",
       "      values=\"100;100;400\"\n",
       "      dur=\"3s\"\n",
       "      repeatCount=\"indefinite\" />\n",
       "  </rect>\n",
       "        <rect x=\"100\" y=\"307\" width=\"400\" height=\"43\">\n",
       "    <animate\n",
       "      attributeName=\"width\"\n",
       "      values=\"0;400;0\"\n",
       "      dur=\"4s\"\n",
       "      repeatCount=\"indefinite\" />\n",
       "      <animate\n",
       "      attributeName=\"x\"\n",
       "      values=\"100;100;500\"\n",
       "      dur=\"4s\"\n",
       "      repeatCount=\"indefinite\" />\n",
       "  </rect>\n",
       "        <g style=\"fill:transparent;stroke-width:8; stroke-linejoin:round\" rx=\"5\">\n",
       "            <g transform=\"translate(45 50) rotate(-45)\">\n",
       "                <circle r=\"33\" cx=\"0\" cy=\"0\" />\n",
       "                <rect x=\"-8\" y=\"32\" width=\"16\" height=\"30\" />\n",
       "            </g>\n",
       "\n",
       "            <g transform=\"translate(450 152)\">\n",
       "                <polyline points=\"-15,-20 -35,-20 -35,40 25,40 25,20\" />\n",
       "                <rect x=\"-15\" y=\"-40\" width=\"60\" height=\"60\" />\n",
       "            </g>\n",
       "\n",
       "            <g transform=\"translate(50 352)\">\n",
       "                <polygon points=\"-35,-5 0,-40 35,-5\" />\n",
       "                <polygon points=\"-35,10 0,45 35,10\" />\n",
       "            </g>\n",
       "\n",
       "            <g transform=\"translate(75 250)\">\n",
       "                <polyline points=\"-30,30 -60,0 -30,-30\" />\n",
       "                <polyline points=\"0,30 -30,0 0,-30\" />\n",
       "            </g>\n",
       "\n",
       "            <g transform=\"translate(425 250) rotate(180)\">\n",
       "                <polyline points=\"-30,30 -60,0 -30,-30\" />\n",
       "                <polyline points=\"0,30 -30,0 0,-30\" />\n",
       "            </g>\n",
       "        </g>\n",
       "    </g>\n",
       "</svg>\n",
       "</a>\n",
       "</div>\n",
       "<div>\n",
       "Loading ITables v2.1.4 from the internet...\n",
       "(need <a href=https://mwouts.github.io/itables/troubleshooting.html>help</a>?)</td>\n",
       "</div>\n",
       "</tr></tbody>\n",
       "\n",
       "</table>\n",
       "<link href=\"https://www.unpkg.com/dt_for_itables@2.0.11/dt_bundle.css\" rel=\"stylesheet\">\n",
       "<script type=\"module\">\n",
       "    import {DataTable, jQuery as $} from 'https://www.unpkg.com/dt_for_itables@2.0.11/dt_bundle.js';\n",
       "\n",
       "    document.querySelectorAll(\"#itables_3ef4413a_55d0_4f81_a675_da67b1f07d1c:not(.dataTable)\").forEach(table => {\n",
       "        // Define the table data\n",
       "        const data = [[6, \"United States\", \"US\", \"no\", 1, 0.0, \"1946-01-04\", \"R/1/107\", 0.0, 0.0, \"DECLARATION OF HUMAN RIGHTS\", \"TO ADOPT A CUBAN PROPOSAL (A/3-C) THAT AN ITEM ON A DECLARATION OF THE RIGHTS AND DUTIES OF MAN BE TABLED.\", \"hr\", \"Human rights\", 1946], [6, \"Canada\", \"CA\", \"no\", 1, 0.0, \"1946-01-04\", \"R/1/107\", 0.0, 0.0, \"DECLARATION OF HUMAN RIGHTS\", \"TO ADOPT A CUBAN PROPOSAL (A/3-C) THAT AN ITEM ON A DECLARATION OF THE RIGHTS AND DUTIES OF MAN BE TABLED.\", \"hr\", \"Human rights\", 1946], [6, \"Cuba\", \"CU\", \"yes\", 1, 0.0, \"1946-01-04\", \"R/1/107\", 0.0, 0.0, \"DECLARATION OF HUMAN RIGHTS\", \"TO ADOPT A CUBAN PROPOSAL (A/3-C) THAT AN ITEM ON A DECLARATION OF THE RIGHTS AND DUTIES OF MAN BE TABLED.\", \"hr\", \"Human rights\", 1946], [6, \"Dominican Republic\", \"DO\", \"abstain\", 1, 0.0, \"1946-01-04\", \"R/1/107\", 0.0, 0.0, \"DECLARATION OF HUMAN RIGHTS\", \"TO ADOPT A CUBAN PROPOSAL (A/3-C) THAT AN ITEM ON A DECLARATION OF THE RIGHTS AND DUTIES OF MAN BE TABLED.\", \"hr\", \"Human rights\", 1946], [6, \"Mexico\", \"MX\", \"yes\", 1, 0.0, \"1946-01-04\", \"R/1/107\", 0.0, 0.0, \"DECLARATION OF HUMAN RIGHTS\", \"TO ADOPT A CUBAN PROPOSAL (A/3-C) THAT AN ITEM ON A DECLARATION OF THE RIGHTS AND DUTIES OF MAN BE TABLED.\", \"hr\", \"Human rights\", 1946], [6, \"Guatemala\", \"GT\", \"no\", 1, 0.0, \"1946-01-04\", \"R/1/107\", 0.0, 0.0, \"DECLARATION OF HUMAN RIGHTS\", \"TO ADOPT A CUBAN PROPOSAL (A/3-C) THAT AN ITEM ON A DECLARATION OF THE RIGHTS AND DUTIES OF MAN BE TABLED.\", \"hr\", \"Human rights\", 1946], [6, \"Honduras\", \"HN\", \"yes\", 1, 0.0, \"1946-01-04\", \"R/1/107\", 0.0, 0.0, \"DECLARATION OF HUMAN RIGHTS\", \"TO ADOPT A CUBAN PROPOSAL (A/3-C) THAT AN ITEM ON A DECLARATION OF THE RIGHTS AND DUTIES OF MAN BE TABLED.\", \"hr\", \"Human rights\", 1946], [6, \"El Salvador\", \"SV\", \"abstain\", 1, 0.0, \"1946-01-04\", \"R/1/107\", 0.0, 0.0, \"DECLARATION OF HUMAN RIGHTS\", \"TO ADOPT A CUBAN PROPOSAL (A/3-C) THAT AN ITEM ON A DECLARATION OF THE RIGHTS AND DUTIES OF MAN BE TABLED.\", \"hr\", \"Human rights\", 1946], [6, \"Nicaragua\", \"NI\", \"yes\", 1, 0.0, \"1946-01-04\", \"R/1/107\", 0.0, 0.0, \"DECLARATION OF HUMAN RIGHTS\", \"TO ADOPT A CUBAN PROPOSAL (A/3-C) THAT AN ITEM ON A DECLARATION OF THE RIGHTS AND DUTIES OF MAN BE TABLED.\", \"hr\", \"Human rights\", 1946], [6, \"Panama\", \"PA\", \"abstain\", 1, 0.0, \"1946-01-04\", \"R/1/107\", 0.0, 0.0, \"DECLARATION OF HUMAN RIGHTS\", \"TO ADOPT A CUBAN PROPOSAL (A/3-C) THAT AN ITEM ON A DECLARATION OF THE RIGHTS AND DUTIES OF MAN BE TABLED.\", \"hr\", \"Human rights\", 1946], [6, \"Colombia\", \"CO\", \"abstain\", 1, 0.0, \"1946-01-04\", \"R/1/107\", 0.0, 0.0, \"DECLARATION OF HUMAN RIGHTS\", \"TO ADOPT A CUBAN PROPOSAL (A/3-C) THAT AN ITEM ON A DECLARATION OF THE RIGHTS AND DUTIES OF MAN BE TABLED.\", \"hr\", \"Human rights\", 1946], [6, \"Venezuela\", \"VE\", \"no\", 1, 0.0, \"1946-01-04\", \"R/1/107\", 0.0, 0.0, \"DECLARATION OF HUMAN RIGHTS\", \"TO ADOPT A CUBAN PROPOSAL (A/3-C) THAT AN ITEM ON A DECLARATION OF THE RIGHTS AND DUTIES OF MAN BE TABLED.\", \"hr\", \"Human rights\", 1946], [6, \"Ecuador\", \"EC\", \"yes\", 1, 0.0, \"1946-01-04\", \"R/1/107\", 0.0, 0.0, \"DECLARATION OF HUMAN RIGHTS\", \"TO ADOPT A CUBAN PROPOSAL (A/3-C) THAT AN ITEM ON A DECLARATION OF THE RIGHTS AND DUTIES OF MAN BE TABLED.\", \"hr\", \"Human rights\", 1946], [6, \"Peru\", \"PE\", \"yes\", 1, 0.0, \"1946-01-04\", \"R/1/107\", 0.0, 0.0, \"DECLARATION OF HUMAN RIGHTS\", \"TO ADOPT A CUBAN PROPOSAL (A/3-C) THAT AN ITEM ON A DECLARATION OF THE RIGHTS AND DUTIES OF MAN BE TABLED.\", \"hr\", \"Human rights\", 1946], [6, \"Brazil\", \"BR\", \"no\", 1, 0.0, \"1946-01-04\", \"R/1/107\", 0.0, 0.0, \"DECLARATION OF HUMAN RIGHTS\", \"TO ADOPT A CUBAN PROPOSAL (A/3-C) THAT AN ITEM ON A DECLARATION OF THE RIGHTS AND DUTIES OF MAN BE TABLED.\", \"hr\", \"Human rights\", 1946], [6, \"Bolivia\", \"BO\", \"no\", 1, 0.0, \"1946-01-04\", \"R/1/107\", 0.0, 0.0, \"DECLARATION OF HUMAN RIGHTS\", \"TO ADOPT A CUBAN PROPOSAL (A/3-C) THAT AN ITEM ON A DECLARATION OF THE RIGHTS AND DUTIES OF MAN BE TABLED.\", \"hr\", \"Human rights\", 1946], [6, \"Paraguay\", \"PY\", \"abstain\", 1, 0.0, \"1946-01-04\", \"R/1/107\", 0.0, 0.0, \"DECLARATION OF HUMAN RIGHTS\", \"TO ADOPT A CUBAN PROPOSAL (A/3-C) THAT AN ITEM ON A DECLARATION OF THE RIGHTS AND DUTIES OF MAN BE TABLED.\", \"hr\", \"Human rights\", 1946], [6, \"Chile\", \"CL\", \"yes\", 1, 0.0, \"1946-01-04\", \"R/1/107\", 0.0, 0.0, \"DECLARATION OF HUMAN RIGHTS\", \"TO ADOPT A CUBAN PROPOSAL (A/3-C) THAT AN ITEM ON A DECLARATION OF THE RIGHTS AND DUTIES OF MAN BE TABLED.\", \"hr\", \"Human rights\", 1946], [6, \"Argentina\", \"AR\", \"abstain\", 1, 0.0, \"1946-01-04\", \"R/1/107\", 0.0, 0.0, \"DECLARATION OF HUMAN RIGHTS\", \"TO ADOPT A CUBAN PROPOSAL (A/3-C) THAT AN ITEM ON A DECLARATION OF THE RIGHTS AND DUTIES OF MAN BE TABLED.\", \"hr\", \"Human rights\", 1946], [6, \"Uruguay\", \"UY\", \"yes\", 1, 0.0, \"1946-01-04\", \"R/1/107\", 0.0, 0.0, \"DECLARATION OF HUMAN RIGHTS\", \"TO ADOPT A CUBAN PROPOSAL (A/3-C) THAT AN ITEM ON A DECLARATION OF THE RIGHTS AND DUTIES OF MAN BE TABLED.\", \"hr\", \"Human rights\", 1946], [6, \"United Kingdom\", \"GB\", \"no\", 1, 0.0, \"1946-01-04\", \"R/1/107\", 0.0, 0.0, \"DECLARATION OF HUMAN RIGHTS\", \"TO ADOPT A CUBAN PROPOSAL (A/3-C) THAT AN ITEM ON A DECLARATION OF THE RIGHTS AND DUTIES OF MAN BE TABLED.\", \"hr\", \"Human rights\", 1946], [6, \"Netherlands\", \"NL\", \"no\", 1, 0.0, \"1946-01-04\", \"R/1/107\", 0.0, 0.0, \"DECLARATION OF HUMAN RIGHTS\", \"TO ADOPT A CUBAN PROPOSAL (A/3-C) THAT AN ITEM ON A DECLARATION OF THE RIGHTS AND DUTIES OF MAN BE TABLED.\", \"hr\", \"Human rights\", 1946], [6, \"Belgium\", \"BE\", \"no\", 1, 0.0, \"1946-01-04\", \"R/1/107\", 0.0, 0.0, \"DECLARATION OF HUMAN RIGHTS\", \"TO ADOPT A CUBAN PROPOSAL (A/3-C) THAT AN ITEM ON A DECLARATION OF THE RIGHTS AND DUTIES OF MAN BE TABLED.\", \"hr\", \"Human rights\", 1946], [6, \"Luxembourg\", \"LU\", \"no\", 1, 0.0, \"1946-01-04\", \"R/1/107\", 0.0, 0.0, \"DECLARATION OF HUMAN RIGHTS\", \"TO ADOPT A CUBAN PROPOSAL (A/3-C) THAT AN ITEM ON A DECLARATION OF THE RIGHTS AND DUTIES OF MAN BE TABLED.\", \"hr\", \"Human rights\", 1946], [6, \"France\", \"FR\", \"no\", 1, 0.0, \"1946-01-04\", \"R/1/107\", 0.0, 0.0, \"DECLARATION OF HUMAN RIGHTS\", \"TO ADOPT A CUBAN PROPOSAL (A/3-C) THAT AN ITEM ON A DECLARATION OF THE RIGHTS AND DUTIES OF MAN BE TABLED.\", \"hr\", \"Human rights\", 1946], [6, \"Poland\", \"PL\", \"no\", 1, 0.0, \"1946-01-04\", \"R/1/107\", 0.0, 0.0, \"DECLARATION OF HUMAN RIGHTS\", \"TO ADOPT A CUBAN PROPOSAL (A/3-C) THAT AN ITEM ON A DECLARATION OF THE RIGHTS AND DUTIES OF MAN BE TABLED.\", \"hr\", \"Human rights\", 1946], [6, \"Czechoslovakia\", \"CS\", \"no\", 1, 0.0, \"1946-01-04\", \"R/1/107\", 0.0, 0.0, \"DECLARATION OF HUMAN RIGHTS\", \"TO ADOPT A CUBAN PROPOSAL (A/3-C) THAT AN ITEM ON A DECLARATION OF THE RIGHTS AND DUTIES OF MAN BE TABLED.\", \"hr\", \"Human rights\", 1946], [6, \"Yugoslavia\", \"YU\", \"no\", 1, 0.0, \"1946-01-04\", \"R/1/107\", 0.0, 0.0, \"DECLARATION OF HUMAN RIGHTS\", \"TO ADOPT A CUBAN PROPOSAL (A/3-C) THAT AN ITEM ON A DECLARATION OF THE RIGHTS AND DUTIES OF MAN BE TABLED.\", \"hr\", \"Human rights\", 1946], [6, \"Greece\", \"GR\", \"no\", 1, 0.0, \"1946-01-04\", \"R/1/107\", 0.0, 0.0, \"DECLARATION OF HUMAN RIGHTS\", \"TO ADOPT A CUBAN PROPOSAL (A/3-C) THAT AN ITEM ON A DECLARATION OF THE RIGHTS AND DUTIES OF MAN BE TABLED.\", \"hr\", \"Human rights\", 1946], [6, \"Russia\", \"RU\", \"no\", 1, 0.0, \"1946-01-04\", \"R/1/107\", 0.0, 0.0, \"DECLARATION OF HUMAN RIGHTS\", \"TO ADOPT A CUBAN PROPOSAL (A/3-C) THAT AN ITEM ON A DECLARATION OF THE RIGHTS AND DUTIES OF MAN BE TABLED.\", \"hr\", \"Human rights\", 1946], [6, \"Ukraine\", \"UA\", \"no\", 1, 0.0, \"1946-01-04\", \"R/1/107\", 0.0, 0.0, \"DECLARATION OF HUMAN RIGHTS\", \"TO ADOPT A CUBAN PROPOSAL (A/3-C) THAT AN ITEM ON A DECLARATION OF THE RIGHTS AND DUTIES OF MAN BE TABLED.\", \"hr\", \"Human rights\", 1946], [6, \"Belarus\", \"BY\", \"no\", 1, 0.0, \"1946-01-04\", \"R/1/107\", 0.0, 0.0, \"DECLARATION OF HUMAN RIGHTS\", \"TO ADOPT A CUBAN PROPOSAL (A/3-C) THAT AN ITEM ON A DECLARATION OF THE RIGHTS AND DUTIES OF MAN BE TABLED.\", \"hr\", \"Human rights\", 1946], [6, \"Norway\", \"NO\", \"no\", 1, 0.0, \"1946-01-04\", \"R/1/107\", 0.0, 0.0, \"DECLARATION OF HUMAN RIGHTS\", \"TO ADOPT A CUBAN PROPOSAL (A/3-C) THAT AN ITEM ON A DECLARATION OF THE RIGHTS AND DUTIES OF MAN BE TABLED.\", \"hr\", \"Human rights\", 1946], [6, \"Denmark\", \"DK\", \"no\", 1, 0.0, \"1946-01-04\", \"R/1/107\", 0.0, 0.0, \"DECLARATION OF HUMAN RIGHTS\", \"TO ADOPT A CUBAN PROPOSAL (A/3-C) THAT AN ITEM ON A DECLARATION OF THE RIGHTS AND DUTIES OF MAN BE TABLED.\", \"hr\", \"Human rights\", 1946], [6, \"Liberia\", \"LR\", \"no\", 1, 0.0, \"1946-01-04\", \"R/1/107\", 0.0, 0.0, \"DECLARATION OF HUMAN RIGHTS\", \"TO ADOPT A CUBAN PROPOSAL (A/3-C) THAT AN ITEM ON A DECLARATION OF THE RIGHTS AND DUTIES OF MAN BE TABLED.\", \"hr\", \"Human rights\", 1946], [6, \"Ethiopia\", \"ET\", \"abstain\", 1, 0.0, \"1946-01-04\", \"R/1/107\", 0.0, 0.0, \"DECLARATION OF HUMAN RIGHTS\", \"TO ADOPT A CUBAN PROPOSAL (A/3-C) THAT AN ITEM ON A DECLARATION OF THE RIGHTS AND DUTIES OF MAN BE TABLED.\", \"hr\", \"Human rights\", 1946], [6, \"South Africa\", \"ZA\", \"no\", 1, 0.0, \"1946-01-04\", \"R/1/107\", 0.0, 0.0, \"DECLARATION OF HUMAN RIGHTS\", \"TO ADOPT A CUBAN PROPOSAL (A/3-C) THAT AN ITEM ON A DECLARATION OF THE RIGHTS AND DUTIES OF MAN BE TABLED.\", \"hr\", \"Human rights\", 1946], [6, \"Iran\", \"IR\", \"yes\", 1, 0.0, \"1946-01-04\", \"R/1/107\", 0.0, 0.0, \"DECLARATION OF HUMAN RIGHTS\", \"TO ADOPT A CUBAN PROPOSAL (A/3-C) THAT AN ITEM ON A DECLARATION OF THE RIGHTS AND DUTIES OF MAN BE TABLED.\", \"hr\", \"Human rights\", 1946], [6, \"Turkey\", \"TR\", \"no\", 1, 0.0, \"1946-01-04\", \"R/1/107\", 0.0, 0.0, \"DECLARATION OF HUMAN RIGHTS\", \"TO ADOPT A CUBAN PROPOSAL (A/3-C) THAT AN ITEM ON A DECLARATION OF THE RIGHTS AND DUTIES OF MAN BE TABLED.\", \"hr\", \"Human rights\", 1946], [6, \"Iraq\", \"IQ\", \"abstain\", 1, 0.0, \"1946-01-04\", \"R/1/107\", 0.0, 0.0, \"DECLARATION OF HUMAN RIGHTS\", \"TO ADOPT A CUBAN PROPOSAL (A/3-C) THAT AN ITEM ON A DECLARATION OF THE RIGHTS AND DUTIES OF MAN BE TABLED.\", \"hr\", \"Human rights\", 1946], [6, \"Egypt\", \"EG\", \"abstain\", 1, 0.0, \"1946-01-04\", \"R/1/107\", 0.0, 0.0, \"DECLARATION OF HUMAN RIGHTS\", \"TO ADOPT A CUBAN PROPOSAL (A/3-C) THAT AN ITEM ON A DECLARATION OF THE RIGHTS AND DUTIES OF MAN BE TABLED.\", \"hr\", \"Human rights\", 1946], [6, \"Syria\", \"SY\", \"no\", 1, 0.0, \"1946-01-04\", \"R/1/107\", 0.0, 0.0, \"DECLARATION OF HUMAN RIGHTS\", \"TO ADOPT A CUBAN PROPOSAL (A/3-C) THAT AN ITEM ON A DECLARATION OF THE RIGHTS AND DUTIES OF MAN BE TABLED.\", \"hr\", \"Human rights\", 1946], [6, \"Lebanon\", \"LB\", \"yes\", 1, 0.0, \"1946-01-04\", \"R/1/107\", 0.0, 0.0, \"DECLARATION OF HUMAN RIGHTS\", \"TO ADOPT A CUBAN PROPOSAL (A/3-C) THAT AN ITEM ON A DECLARATION OF THE RIGHTS AND DUTIES OF MAN BE TABLED.\", \"hr\", \"Human rights\", 1946], [6, \"Saudi Arabia\", \"SA\", \"abstain\", 1, 0.0, \"1946-01-04\", \"R/1/107\", 0.0, 0.0, \"DECLARATION OF HUMAN RIGHTS\", \"TO ADOPT A CUBAN PROPOSAL (A/3-C) THAT AN ITEM ON A DECLARATION OF THE RIGHTS AND DUTIES OF MAN BE TABLED.\", \"hr\", \"Human rights\", 1946], [6, \"Taiwan\", \"TW\", \"no\", 1, 0.0, \"1946-01-04\", \"R/1/107\", 0.0, 0.0, \"DECLARATION OF HUMAN RIGHTS\", \"TO ADOPT A CUBAN PROPOSAL (A/3-C) THAT AN ITEM ON A DECLARATION OF THE RIGHTS AND DUTIES OF MAN BE TABLED.\", \"hr\", \"Human rights\", 1946], [6, \"India\", \"IN\", \"no\", 1, 0.0, \"1946-01-04\", \"R/1/107\", 0.0, 0.0, \"DECLARATION OF HUMAN RIGHTS\", \"TO ADOPT A CUBAN PROPOSAL (A/3-C) THAT AN ITEM ON A DECLARATION OF THE RIGHTS AND DUTIES OF MAN BE TABLED.\", \"hr\", \"Human rights\", 1946], [6, \"Philippines\", \"PH\", \"yes\", 1, 0.0, \"1946-01-04\", \"R/1/107\", 0.0, 0.0, \"DECLARATION OF HUMAN RIGHTS\", \"TO ADOPT A CUBAN PROPOSAL (A/3-C) THAT AN ITEM ON A DECLARATION OF THE RIGHTS AND DUTIES OF MAN BE TABLED.\", \"hr\", \"Human rights\", 1946], [6, \"Australia\", \"AU\", \"yes\", 1, 0.0, \"1946-01-04\", \"R/1/107\", 0.0, 0.0, \"DECLARATION OF HUMAN RIGHTS\", \"TO ADOPT A CUBAN PROPOSAL (A/3-C) THAT AN ITEM ON A DECLARATION OF THE RIGHTS AND DUTIES OF MAN BE TABLED.\", \"hr\", \"Human rights\", 1946], [6, \"New Zealand\", \"NZ\", \"no\", 1, 0.0, \"1946-01-04\", \"R/1/107\", 0.0, 0.0, \"DECLARATION OF HUMAN RIGHTS\", \"TO ADOPT A CUBAN PROPOSAL (A/3-C) THAT AN ITEM ON A DECLARATION OF THE RIGHTS AND DUTIES OF MAN BE TABLED.\", \"hr\", \"Human rights\", 1946], [8, \"United States\", \"US\", \"no\", 1, 0.0, \"1946-01-05\", \"R/1/297\", 1.0, 0.0, \"ECOSOC POWERS\", \"TO ADOPT A SECOND 6TH COMM. AMENDMENT (A/14) TO THE PROVISIONAL RULES OF PROCEDURE, WHICH AMENDMENT EPLACES PROVISIONAL RULE T WITH A NEW TEXT AUTHORIZING THE ECONOMIC & SOC. COUNCIL TO CALL INTERNATIONAL CONFERENCES ON ANY MATTER WITHIN ITS CO\", \"ec\", \"Economic development\", 1946], [8, \"Canada\", \"CA\", \"yes\", 1, 0.0, \"1946-01-05\", \"R/1/297\", 1.0, 0.0, \"ECOSOC POWERS\", \"TO ADOPT A SECOND 6TH COMM. AMENDMENT (A/14) TO THE PROVISIONAL RULES OF PROCEDURE, WHICH AMENDMENT EPLACES PROVISIONAL RULE T WITH A NEW TEXT AUTHORIZING THE ECONOMIC & SOC. COUNCIL TO CALL INTERNATIONAL CONFERENCES ON ANY MATTER WITHIN ITS CO\", \"ec\", \"Economic development\", 1946], [8, \"Cuba\", \"CU\", \"yes\", 1, 0.0, \"1946-01-05\", \"R/1/297\", 1.0, 0.0, \"ECOSOC POWERS\", \"TO ADOPT A SECOND 6TH COMM. AMENDMENT (A/14) TO THE PROVISIONAL RULES OF PROCEDURE, WHICH AMENDMENT EPLACES PROVISIONAL RULE T WITH A NEW TEXT AUTHORIZING THE ECONOMIC & SOC. COUNCIL TO CALL INTERNATIONAL CONFERENCES ON ANY MATTER WITHIN ITS CO\", \"ec\", \"Economic development\", 1946], [8, \"Dominican Republic\", \"DO\", \"yes\", 1, 0.0, \"1946-01-05\", \"R/1/297\", 1.0, 0.0, \"ECOSOC POWERS\", \"TO ADOPT A SECOND 6TH COMM. AMENDMENT (A/14) TO THE PROVISIONAL RULES OF PROCEDURE, WHICH AMENDMENT EPLACES PROVISIONAL RULE T WITH A NEW TEXT AUTHORIZING THE ECONOMIC & SOC. COUNCIL TO CALL INTERNATIONAL CONFERENCES ON ANY MATTER WITHIN ITS CO\", \"ec\", \"Economic development\", 1946], [8, \"Mexico\", \"MX\", \"yes\", 1, 0.0, \"1946-01-05\", \"R/1/297\", 1.0, 0.0, \"ECOSOC POWERS\", \"TO ADOPT A SECOND 6TH COMM. AMENDMENT (A/14) TO THE PROVISIONAL RULES OF PROCEDURE, WHICH AMENDMENT EPLACES PROVISIONAL RULE T WITH A NEW TEXT AUTHORIZING THE ECONOMIC & SOC. COUNCIL TO CALL INTERNATIONAL CONFERENCES ON ANY MATTER WITHIN ITS CO\", \"ec\", \"Economic development\", 1946], [8, \"Guatemala\", \"GT\", \"yes\", 1, 0.0, \"1946-01-05\", \"R/1/297\", 1.0, 0.0, \"ECOSOC POWERS\", \"TO ADOPT A SECOND 6TH COMM. AMENDMENT (A/14) TO THE PROVISIONAL RULES OF PROCEDURE, WHICH AMENDMENT EPLACES PROVISIONAL RULE T WITH A NEW TEXT AUTHORIZING THE ECONOMIC & SOC. COUNCIL TO CALL INTERNATIONAL CONFERENCES ON ANY MATTER WITHIN ITS CO\", \"ec\", \"Economic development\", 1946], [8, \"Costa Rica\", \"CR\", \"yes\", 1, 0.0, \"1946-01-05\", \"R/1/297\", 1.0, 0.0, \"ECOSOC POWERS\", \"TO ADOPT A SECOND 6TH COMM. AMENDMENT (A/14) TO THE PROVISIONAL RULES OF PROCEDURE, WHICH AMENDMENT EPLACES PROVISIONAL RULE T WITH A NEW TEXT AUTHORIZING THE ECONOMIC & SOC. COUNCIL TO CALL INTERNATIONAL CONFERENCES ON ANY MATTER WITHIN ITS CO\", \"ec\", \"Economic development\", 1946], [8, \"Colombia\", \"CO\", \"yes\", 1, 0.0, \"1946-01-05\", \"R/1/297\", 1.0, 0.0, \"ECOSOC POWERS\", \"TO ADOPT A SECOND 6TH COMM. AMENDMENT (A/14) TO THE PROVISIONAL RULES OF PROCEDURE, WHICH AMENDMENT EPLACES PROVISIONAL RULE T WITH A NEW TEXT AUTHORIZING THE ECONOMIC & SOC. COUNCIL TO CALL INTERNATIONAL CONFERENCES ON ANY MATTER WITHIN ITS CO\", \"ec\", \"Economic development\", 1946], [8, \"Ecuador\", \"EC\", \"yes\", 1, 0.0, \"1946-01-05\", \"R/1/297\", 1.0, 0.0, \"ECOSOC POWERS\", \"TO ADOPT A SECOND 6TH COMM. AMENDMENT (A/14) TO THE PROVISIONAL RULES OF PROCEDURE, WHICH AMENDMENT EPLACES PROVISIONAL RULE T WITH A NEW TEXT AUTHORIZING THE ECONOMIC & SOC. COUNCIL TO CALL INTERNATIONAL CONFERENCES ON ANY MATTER WITHIN ITS CO\", \"ec\", \"Economic development\", 1946], [8, \"Peru\", \"PE\", \"yes\", 1, 0.0, \"1946-01-05\", \"R/1/297\", 1.0, 0.0, \"ECOSOC POWERS\", \"TO ADOPT A SECOND 6TH COMM. AMENDMENT (A/14) TO THE PROVISIONAL RULES OF PROCEDURE, WHICH AMENDMENT EPLACES PROVISIONAL RULE T WITH A NEW TEXT AUTHORIZING THE ECONOMIC & SOC. COUNCIL TO CALL INTERNATIONAL CONFERENCES ON ANY MATTER WITHIN ITS CO\", \"ec\", \"Economic development\", 1946], [8, \"Brazil\", \"BR\", \"yes\", 1, 0.0, \"1946-01-05\", \"R/1/297\", 1.0, 0.0, \"ECOSOC POWERS\", \"TO ADOPT A SECOND 6TH COMM. AMENDMENT (A/14) TO THE PROVISIONAL RULES OF PROCEDURE, WHICH AMENDMENT EPLACES PROVISIONAL RULE T WITH A NEW TEXT AUTHORIZING THE ECONOMIC & SOC. COUNCIL TO CALL INTERNATIONAL CONFERENCES ON ANY MATTER WITHIN ITS CO\", \"ec\", \"Economic development\", 1946], [8, \"Bolivia\", \"BO\", \"yes\", 1, 0.0, \"1946-01-05\", \"R/1/297\", 1.0, 0.0, \"ECOSOC POWERS\", \"TO ADOPT A SECOND 6TH COMM. AMENDMENT (A/14) TO THE PROVISIONAL RULES OF PROCEDURE, WHICH AMENDMENT EPLACES PROVISIONAL RULE T WITH A NEW TEXT AUTHORIZING THE ECONOMIC & SOC. COUNCIL TO CALL INTERNATIONAL CONFERENCES ON ANY MATTER WITHIN ITS CO\", \"ec\", \"Economic development\", 1946], [8, \"Chile\", \"CL\", \"yes\", 1, 0.0, \"1946-01-05\", \"R/1/297\", 1.0, 0.0, \"ECOSOC POWERS\", \"TO ADOPT A SECOND 6TH COMM. AMENDMENT (A/14) TO THE PROVISIONAL RULES OF PROCEDURE, WHICH AMENDMENT EPLACES PROVISIONAL RULE T WITH A NEW TEXT AUTHORIZING THE ECONOMIC & SOC. COUNCIL TO CALL INTERNATIONAL CONFERENCES ON ANY MATTER WITHIN ITS CO\", \"ec\", \"Economic development\", 1946], [8, \"Argentina\", \"AR\", \"yes\", 1, 0.0, \"1946-01-05\", \"R/1/297\", 1.0, 0.0, \"ECOSOC POWERS\", \"TO ADOPT A SECOND 6TH COMM. AMENDMENT (A/14) TO THE PROVISIONAL RULES OF PROCEDURE, WHICH AMENDMENT EPLACES PROVISIONAL RULE T WITH A NEW TEXT AUTHORIZING THE ECONOMIC & SOC. COUNCIL TO CALL INTERNATIONAL CONFERENCES ON ANY MATTER WITHIN ITS CO\", \"ec\", \"Economic development\", 1946], [8, \"Uruguay\", \"UY\", \"yes\", 1, 0.0, \"1946-01-05\", \"R/1/297\", 1.0, 0.0, \"ECOSOC POWERS\", \"TO ADOPT A SECOND 6TH COMM. AMENDMENT (A/14) TO THE PROVISIONAL RULES OF PROCEDURE, WHICH AMENDMENT EPLACES PROVISIONAL RULE T WITH A NEW TEXT AUTHORIZING THE ECONOMIC & SOC. COUNCIL TO CALL INTERNATIONAL CONFERENCES ON ANY MATTER WITHIN ITS CO\", \"ec\", \"Economic development\", 1946], [8, \"United Kingdom\", \"GB\", \"yes\", 1, 0.0, \"1946-01-05\", \"R/1/297\", 1.0, 0.0, \"ECOSOC POWERS\", \"TO ADOPT A SECOND 6TH COMM. AMENDMENT (A/14) TO THE PROVISIONAL RULES OF PROCEDURE, WHICH AMENDMENT EPLACES PROVISIONAL RULE T WITH A NEW TEXT AUTHORIZING THE ECONOMIC & SOC. COUNCIL TO CALL INTERNATIONAL CONFERENCES ON ANY MATTER WITHIN ITS CO\", \"ec\", \"Economic development\", 1946], [8, \"Netherlands\", \"NL\", \"yes\", 1, 0.0, \"1946-01-05\", \"R/1/297\", 1.0, 0.0, \"ECOSOC POWERS\", \"TO ADOPT A SECOND 6TH COMM. AMENDMENT (A/14) TO THE PROVISIONAL RULES OF PROCEDURE, WHICH AMENDMENT EPLACES PROVISIONAL RULE T WITH A NEW TEXT AUTHORIZING THE ECONOMIC & SOC. COUNCIL TO CALL INTERNATIONAL CONFERENCES ON ANY MATTER WITHIN ITS CO\", \"ec\", \"Economic development\", 1946], [8, \"Belgium\", \"BE\", \"yes\", 1, 0.0, \"1946-01-05\", \"R/1/297\", 1.0, 0.0, \"ECOSOC POWERS\", \"TO ADOPT A SECOND 6TH COMM. AMENDMENT (A/14) TO THE PROVISIONAL RULES OF PROCEDURE, WHICH AMENDMENT EPLACES PROVISIONAL RULE T WITH A NEW TEXT AUTHORIZING THE ECONOMIC & SOC. COUNCIL TO CALL INTERNATIONAL CONFERENCES ON ANY MATTER WITHIN ITS CO\", \"ec\", \"Economic development\", 1946], [8, \"Luxembourg\", \"LU\", \"yes\", 1, 0.0, \"1946-01-05\", \"R/1/297\", 1.0, 0.0, \"ECOSOC POWERS\", \"TO ADOPT A SECOND 6TH COMM. AMENDMENT (A/14) TO THE PROVISIONAL RULES OF PROCEDURE, WHICH AMENDMENT EPLACES PROVISIONAL RULE T WITH A NEW TEXT AUTHORIZING THE ECONOMIC & SOC. COUNCIL TO CALL INTERNATIONAL CONFERENCES ON ANY MATTER WITHIN ITS CO\", \"ec\", \"Economic development\", 1946], [8, \"France\", \"FR\", \"yes\", 1, 0.0, \"1946-01-05\", \"R/1/297\", 1.0, 0.0, \"ECOSOC POWERS\", \"TO ADOPT A SECOND 6TH COMM. AMENDMENT (A/14) TO THE PROVISIONAL RULES OF PROCEDURE, WHICH AMENDMENT EPLACES PROVISIONAL RULE T WITH A NEW TEXT AUTHORIZING THE ECONOMIC & SOC. COUNCIL TO CALL INTERNATIONAL CONFERENCES ON ANY MATTER WITHIN ITS CO\", \"ec\", \"Economic development\", 1946], [8, \"Poland\", \"PL\", \"yes\", 1, 0.0, \"1946-01-05\", \"R/1/297\", 1.0, 0.0, \"ECOSOC POWERS\", \"TO ADOPT A SECOND 6TH COMM. AMENDMENT (A/14) TO THE PROVISIONAL RULES OF PROCEDURE, WHICH AMENDMENT EPLACES PROVISIONAL RULE T WITH A NEW TEXT AUTHORIZING THE ECONOMIC & SOC. COUNCIL TO CALL INTERNATIONAL CONFERENCES ON ANY MATTER WITHIN ITS CO\", \"ec\", \"Economic development\", 1946], [8, \"Czechoslovakia\", \"CS\", \"yes\", 1, 0.0, \"1946-01-05\", \"R/1/297\", 1.0, 0.0, \"ECOSOC POWERS\", \"TO ADOPT A SECOND 6TH COMM. AMENDMENT (A/14) TO THE PROVISIONAL RULES OF PROCEDURE, WHICH AMENDMENT EPLACES PROVISIONAL RULE T WITH A NEW TEXT AUTHORIZING THE ECONOMIC & SOC. COUNCIL TO CALL INTERNATIONAL CONFERENCES ON ANY MATTER WITHIN ITS CO\", \"ec\", \"Economic development\", 1946], [8, \"Yugoslavia\", \"YU\", \"yes\", 1, 0.0, \"1946-01-05\", \"R/1/297\", 1.0, 0.0, \"ECOSOC POWERS\", \"TO ADOPT A SECOND 6TH COMM. AMENDMENT (A/14) TO THE PROVISIONAL RULES OF PROCEDURE, WHICH AMENDMENT EPLACES PROVISIONAL RULE T WITH A NEW TEXT AUTHORIZING THE ECONOMIC & SOC. COUNCIL TO CALL INTERNATIONAL CONFERENCES ON ANY MATTER WITHIN ITS CO\", \"ec\", \"Economic development\", 1946], [8, \"Greece\", \"GR\", \"yes\", 1, 0.0, \"1946-01-05\", \"R/1/297\", 1.0, 0.0, \"ECOSOC POWERS\", \"TO ADOPT A SECOND 6TH COMM. AMENDMENT (A/14) TO THE PROVISIONAL RULES OF PROCEDURE, WHICH AMENDMENT EPLACES PROVISIONAL RULE T WITH A NEW TEXT AUTHORIZING THE ECONOMIC & SOC. COUNCIL TO CALL INTERNATIONAL CONFERENCES ON ANY MATTER WITHIN ITS CO\", \"ec\", \"Economic development\", 1946], [8, \"Russia\", \"RU\", \"yes\", 1, 0.0, \"1946-01-05\", \"R/1/297\", 1.0, 0.0, \"ECOSOC POWERS\", \"TO ADOPT A SECOND 6TH COMM. AMENDMENT (A/14) TO THE PROVISIONAL RULES OF PROCEDURE, WHICH AMENDMENT EPLACES PROVISIONAL RULE T WITH A NEW TEXT AUTHORIZING THE ECONOMIC & SOC. COUNCIL TO CALL INTERNATIONAL CONFERENCES ON ANY MATTER WITHIN ITS CO\", \"ec\", \"Economic development\", 1946], [8, \"Ukraine\", \"UA\", \"yes\", 1, 0.0, \"1946-01-05\", \"R/1/297\", 1.0, 0.0, \"ECOSOC POWERS\", \"TO ADOPT A SECOND 6TH COMM. AMENDMENT (A/14) TO THE PROVISIONAL RULES OF PROCEDURE, WHICH AMENDMENT EPLACES PROVISIONAL RULE T WITH A NEW TEXT AUTHORIZING THE ECONOMIC & SOC. COUNCIL TO CALL INTERNATIONAL CONFERENCES ON ANY MATTER WITHIN ITS CO\", \"ec\", \"Economic development\", 1946], [8, \"Belarus\", \"BY\", \"yes\", 1, 0.0, \"1946-01-05\", \"R/1/297\", 1.0, 0.0, \"ECOSOC POWERS\", \"TO ADOPT A SECOND 6TH COMM. AMENDMENT (A/14) TO THE PROVISIONAL RULES OF PROCEDURE, WHICH AMENDMENT EPLACES PROVISIONAL RULE T WITH A NEW TEXT AUTHORIZING THE ECONOMIC & SOC. COUNCIL TO CALL INTERNATIONAL CONFERENCES ON ANY MATTER WITHIN ITS CO\", \"ec\", \"Economic development\", 1946], [8, \"Norway\", \"NO\", \"abstain\", 1, 0.0, \"1946-01-05\", \"R/1/297\", 1.0, 0.0, \"ECOSOC POWERS\", \"TO ADOPT A SECOND 6TH COMM. AMENDMENT (A/14) TO THE PROVISIONAL RULES OF PROCEDURE, WHICH AMENDMENT EPLACES PROVISIONAL RULE T WITH A NEW TEXT AUTHORIZING THE ECONOMIC & SOC. COUNCIL TO CALL INTERNATIONAL CONFERENCES ON ANY MATTER WITHIN ITS CO\", \"ec\", \"Economic development\", 1946], [8, \"Denmark\", \"DK\", \"abstain\", 1, 0.0, \"1946-01-05\", \"R/1/297\", 1.0, 0.0, \"ECOSOC POWERS\", \"TO ADOPT A SECOND 6TH COMM. AMENDMENT (A/14) TO THE PROVISIONAL RULES OF PROCEDURE, WHICH AMENDMENT EPLACES PROVISIONAL RULE T WITH A NEW TEXT AUTHORIZING THE ECONOMIC & SOC. COUNCIL TO CALL INTERNATIONAL CONFERENCES ON ANY MATTER WITHIN ITS CO\", \"ec\", \"Economic development\", 1946], [8, \"Liberia\", \"LR\", \"yes\", 1, 0.0, \"1946-01-05\", \"R/1/297\", 1.0, 0.0, \"ECOSOC POWERS\", \"TO ADOPT A SECOND 6TH COMM. AMENDMENT (A/14) TO THE PROVISIONAL RULES OF PROCEDURE, WHICH AMENDMENT EPLACES PROVISIONAL RULE T WITH A NEW TEXT AUTHORIZING THE ECONOMIC & SOC. COUNCIL TO CALL INTERNATIONAL CONFERENCES ON ANY MATTER WITHIN ITS CO\", \"ec\", \"Economic development\", 1946], [8, \"South Africa\", \"ZA\", \"yes\", 1, 0.0, \"1946-01-05\", \"R/1/297\", 1.0, 0.0, \"ECOSOC POWERS\", \"TO ADOPT A SECOND 6TH COMM. AMENDMENT (A/14) TO THE PROVISIONAL RULES OF PROCEDURE, WHICH AMENDMENT EPLACES PROVISIONAL RULE T WITH A NEW TEXT AUTHORIZING THE ECONOMIC & SOC. COUNCIL TO CALL INTERNATIONAL CONFERENCES ON ANY MATTER WITHIN ITS CO\", \"ec\", \"Economic development\", 1946], [8, \"Turkey\", \"TR\", \"yes\", 1, 0.0, \"1946-01-05\", \"R/1/297\", 1.0, 0.0, \"ECOSOC POWERS\", \"TO ADOPT A SECOND 6TH COMM. AMENDMENT (A/14) TO THE PROVISIONAL RULES OF PROCEDURE, WHICH AMENDMENT EPLACES PROVISIONAL RULE T WITH A NEW TEXT AUTHORIZING THE ECONOMIC & SOC. COUNCIL TO CALL INTERNATIONAL CONFERENCES ON ANY MATTER WITHIN ITS CO\", \"ec\", \"Economic development\", 1946], [8, \"Iraq\", \"IQ\", \"yes\", 1, 0.0, \"1946-01-05\", \"R/1/297\", 1.0, 0.0, \"ECOSOC POWERS\", \"TO ADOPT A SECOND 6TH COMM. AMENDMENT (A/14) TO THE PROVISIONAL RULES OF PROCEDURE, WHICH AMENDMENT EPLACES PROVISIONAL RULE T WITH A NEW TEXT AUTHORIZING THE ECONOMIC & SOC. COUNCIL TO CALL INTERNATIONAL CONFERENCES ON ANY MATTER WITHIN ITS CO\", \"ec\", \"Economic development\", 1946], [8, \"Egypt\", \"EG\", \"yes\", 1, 0.0, \"1946-01-05\", \"R/1/297\", 1.0, 0.0, \"ECOSOC POWERS\", \"TO ADOPT A SECOND 6TH COMM. AMENDMENT (A/14) TO THE PROVISIONAL RULES OF PROCEDURE, WHICH AMENDMENT EPLACES PROVISIONAL RULE T WITH A NEW TEXT AUTHORIZING THE ECONOMIC & SOC. COUNCIL TO CALL INTERNATIONAL CONFERENCES ON ANY MATTER WITHIN ITS CO\", \"ec\", \"Economic development\", 1946], [8, \"Syria\", \"SY\", \"yes\", 1, 0.0, \"1946-01-05\", \"R/1/297\", 1.0, 0.0, \"ECOSOC POWERS\", \"TO ADOPT A SECOND 6TH COMM. AMENDMENT (A/14) TO THE PROVISIONAL RULES OF PROCEDURE, WHICH AMENDMENT EPLACES PROVISIONAL RULE T WITH A NEW TEXT AUTHORIZING THE ECONOMIC & SOC. COUNCIL TO CALL INTERNATIONAL CONFERENCES ON ANY MATTER WITHIN ITS CO\", \"ec\", \"Economic development\", 1946], [8, \"Lebanon\", \"LB\", \"yes\", 1, 0.0, \"1946-01-05\", \"R/1/297\", 1.0, 0.0, \"ECOSOC POWERS\", \"TO ADOPT A SECOND 6TH COMM. AMENDMENT (A/14) TO THE PROVISIONAL RULES OF PROCEDURE, WHICH AMENDMENT EPLACES PROVISIONAL RULE T WITH A NEW TEXT AUTHORIZING THE ECONOMIC & SOC. COUNCIL TO CALL INTERNATIONAL CONFERENCES ON ANY MATTER WITHIN ITS CO\", \"ec\", \"Economic development\", 1946], [8, \"Taiwan\", \"TW\", \"yes\", 1, 0.0, \"1946-01-05\", \"R/1/297\", 1.0, 0.0, \"ECOSOC POWERS\", \"TO ADOPT A SECOND 6TH COMM. AMENDMENT (A/14) TO THE PROVISIONAL RULES OF PROCEDURE, WHICH AMENDMENT EPLACES PROVISIONAL RULE T WITH A NEW TEXT AUTHORIZING THE ECONOMIC & SOC. COUNCIL TO CALL INTERNATIONAL CONFERENCES ON ANY MATTER WITHIN ITS CO\", \"ec\", \"Economic development\", 1946], [8, \"India\", \"IN\", \"yes\", 1, 0.0, \"1946-01-05\", \"R/1/297\", 1.0, 0.0, \"ECOSOC POWERS\", \"TO ADOPT A SECOND 6TH COMM. AMENDMENT (A/14) TO THE PROVISIONAL RULES OF PROCEDURE, WHICH AMENDMENT EPLACES PROVISIONAL RULE T WITH A NEW TEXT AUTHORIZING THE ECONOMIC & SOC. COUNCIL TO CALL INTERNATIONAL CONFERENCES ON ANY MATTER WITHIN ITS CO\", \"ec\", \"Economic development\", 1946], [8, \"Philippines\", \"PH\", \"yes\", 1, 0.0, \"1946-01-05\", \"R/1/297\", 1.0, 0.0, \"ECOSOC POWERS\", \"TO ADOPT A SECOND 6TH COMM. AMENDMENT (A/14) TO THE PROVISIONAL RULES OF PROCEDURE, WHICH AMENDMENT EPLACES PROVISIONAL RULE T WITH A NEW TEXT AUTHORIZING THE ECONOMIC & SOC. COUNCIL TO CALL INTERNATIONAL CONFERENCES ON ANY MATTER WITHIN ITS CO\", \"ec\", \"Economic development\", 1946], [8, \"Australia\", \"AU\", \"yes\", 1, 0.0, \"1946-01-05\", \"R/1/297\", 1.0, 0.0, \"ECOSOC POWERS\", \"TO ADOPT A SECOND 6TH COMM. AMENDMENT (A/14) TO THE PROVISIONAL RULES OF PROCEDURE, WHICH AMENDMENT EPLACES PROVISIONAL RULE T WITH A NEW TEXT AUTHORIZING THE ECONOMIC & SOC. COUNCIL TO CALL INTERNATIONAL CONFERENCES ON ANY MATTER WITHIN ITS CO\", \"ec\", \"Economic development\", 1946], [8, \"New Zealand\", \"NZ\", \"yes\", 1, 0.0, \"1946-01-05\", \"R/1/297\", 1.0, 0.0, \"ECOSOC POWERS\", \"TO ADOPT A SECOND 6TH COMM. AMENDMENT (A/14) TO THE PROVISIONAL RULES OF PROCEDURE, WHICH AMENDMENT EPLACES PROVISIONAL RULE T WITH A NEW TEXT AUTHORIZING THE ECONOMIC & SOC. COUNCIL TO CALL INTERNATIONAL CONFERENCES ON ANY MATTER WITHIN ITS CO\", \"ec\", \"Economic development\", 1946], [11, \"United States\", \"US\", \"yes\", 1, 0.0, \"1946-02-05\", \"R/1/376\", 0.0, 0.0, \"TRUSTEESHIP AMENDMENTS\", \"TO ADOPT DRAFT RESOLUTIONS I AND II AS A WHOLE, OF THE 4TH COMM. REPORT (A/34) ON NON-SELF-GOVERNING TERRITORIES. RESOLUTION I PROVIDES TO PROMOTE THE POLITICAL, SOCIAL, ECONOMIC, AND EDUCATIONAL ASPIRATIONS OF NON-SELF-GOVERNING PEOPLES THROUG\", \"co\", \"Colonialism\", 1946], [11, \"United States\", \"US\", \"yes\", 1, 0.0, \"1946-02-05\", \"R/1/376\", 0.0, 0.0, \"TRUSTEESHIP AMENDMENTS\", \"TO ADOPT DRAFT RESOLUTIONS I AND II AS A WHOLE, OF THE 4TH COMM. REPORT (A/34) ON NON-SELF-GOVERNING TERRITORIES. RESOLUTION I PROVIDES TO PROMOTE THE POLITICAL, SOCIAL, ECONOMIC, AND EDUCATIONAL ASPIRATIONS OF NON-SELF-GOVERNING PEOPLES THROUG\", \"ec\", \"Economic development\", 1946], [11, \"Canada\", \"CA\", \"yes\", 1, 0.0, \"1946-02-05\", \"R/1/376\", 0.0, 0.0, \"TRUSTEESHIP AMENDMENTS\", \"TO ADOPT DRAFT RESOLUTIONS I AND II AS A WHOLE, OF THE 4TH COMM. REPORT (A/34) ON NON-SELF-GOVERNING TERRITORIES. RESOLUTION I PROVIDES TO PROMOTE THE POLITICAL, SOCIAL, ECONOMIC, AND EDUCATIONAL ASPIRATIONS OF NON-SELF-GOVERNING PEOPLES THROUG\", \"co\", \"Colonialism\", 1946], [11, \"Canada\", \"CA\", \"yes\", 1, 0.0, \"1946-02-05\", \"R/1/376\", 0.0, 0.0, \"TRUSTEESHIP AMENDMENTS\", \"TO ADOPT DRAFT RESOLUTIONS I AND II AS A WHOLE, OF THE 4TH COMM. REPORT (A/34) ON NON-SELF-GOVERNING TERRITORIES. RESOLUTION I PROVIDES TO PROMOTE THE POLITICAL, SOCIAL, ECONOMIC, AND EDUCATIONAL ASPIRATIONS OF NON-SELF-GOVERNING PEOPLES THROUG\", \"ec\", \"Economic development\", 1946], [11, \"Cuba\", \"CU\", \"yes\", 1, 0.0, \"1946-02-05\", \"R/1/376\", 0.0, 0.0, \"TRUSTEESHIP AMENDMENTS\", \"TO ADOPT DRAFT RESOLUTIONS I AND II AS A WHOLE, OF THE 4TH COMM. REPORT (A/34) ON NON-SELF-GOVERNING TERRITORIES. RESOLUTION I PROVIDES TO PROMOTE THE POLITICAL, SOCIAL, ECONOMIC, AND EDUCATIONAL ASPIRATIONS OF NON-SELF-GOVERNING PEOPLES THROUG\", \"co\", \"Colonialism\", 1946], [11, \"Cuba\", \"CU\", \"yes\", 1, 0.0, \"1946-02-05\", \"R/1/376\", 0.0, 0.0, \"TRUSTEESHIP AMENDMENTS\", \"TO ADOPT DRAFT RESOLUTIONS I AND II AS A WHOLE, OF THE 4TH COMM. REPORT (A/34) ON NON-SELF-GOVERNING TERRITORIES. RESOLUTION I PROVIDES TO PROMOTE THE POLITICAL, SOCIAL, ECONOMIC, AND EDUCATIONAL ASPIRATIONS OF NON-SELF-GOVERNING PEOPLES THROUG\", \"ec\", \"Economic development\", 1946], [11, \"Dominican Republic\", \"DO\", \"yes\", 1, 0.0, \"1946-02-05\", \"R/1/376\", 0.0, 0.0, \"TRUSTEESHIP AMENDMENTS\", \"TO ADOPT DRAFT RESOLUTIONS I AND II AS A WHOLE, OF THE 4TH COMM. REPORT (A/34) ON NON-SELF-GOVERNING TERRITORIES. RESOLUTION I PROVIDES TO PROMOTE THE POLITICAL, SOCIAL, ECONOMIC, AND EDUCATIONAL ASPIRATIONS OF NON-SELF-GOVERNING PEOPLES THROUG\", \"co\", \"Colonialism\", 1946], [11, \"Dominican Republic\", \"DO\", \"yes\", 1, 0.0, \"1946-02-05\", \"R/1/376\", 0.0, 0.0, \"TRUSTEESHIP AMENDMENTS\", \"TO ADOPT DRAFT RESOLUTIONS I AND II AS A WHOLE, OF THE 4TH COMM. REPORT (A/34) ON NON-SELF-GOVERNING TERRITORIES. RESOLUTION I PROVIDES TO PROMOTE THE POLITICAL, SOCIAL, ECONOMIC, AND EDUCATIONAL ASPIRATIONS OF NON-SELF-GOVERNING PEOPLES THROUG\", \"ec\", \"Economic development\", 1946], [11, \"Honduras\", \"HN\", \"yes\", 1, 0.0, \"1946-02-05\", \"R/1/376\", 0.0, 0.0, \"TRUSTEESHIP AMENDMENTS\", \"TO ADOPT DRAFT RESOLUTIONS I AND II AS A WHOLE, OF THE 4TH COMM. REPORT (A/34) ON NON-SELF-GOVERNING TERRITORIES. RESOLUTION I PROVIDES TO PROMOTE THE POLITICAL, SOCIAL, ECONOMIC, AND EDUCATIONAL ASPIRATIONS OF NON-SELF-GOVERNING PEOPLES THROUG\", \"co\", \"Colonialism\", 1946], [11, \"Honduras\", \"HN\", \"yes\", 1, 0.0, \"1946-02-05\", \"R/1/376\", 0.0, 0.0, \"TRUSTEESHIP AMENDMENTS\", \"TO ADOPT DRAFT RESOLUTIONS I AND II AS A WHOLE, OF THE 4TH COMM. REPORT (A/34) ON NON-SELF-GOVERNING TERRITORIES. RESOLUTION I PROVIDES TO PROMOTE THE POLITICAL, SOCIAL, ECONOMIC, AND EDUCATIONAL ASPIRATIONS OF NON-SELF-GOVERNING PEOPLES THROUG\", \"ec\", \"Economic development\", 1946], [11, \"Venezuela\", \"VE\", \"yes\", 1, 0.0, \"1946-02-05\", \"R/1/376\", 0.0, 0.0, \"TRUSTEESHIP AMENDMENTS\", \"TO ADOPT DRAFT RESOLUTIONS I AND II AS A WHOLE, OF THE 4TH COMM. REPORT (A/34) ON NON-SELF-GOVERNING TERRITORIES. RESOLUTION I PROVIDES TO PROMOTE THE POLITICAL, SOCIAL, ECONOMIC, AND EDUCATIONAL ASPIRATIONS OF NON-SELF-GOVERNING PEOPLES THROUG\", \"co\", \"Colonialism\", 1946], [11, \"Venezuela\", \"VE\", \"yes\", 1, 0.0, \"1946-02-05\", \"R/1/376\", 0.0, 0.0, \"TRUSTEESHIP AMENDMENTS\", \"TO ADOPT DRAFT RESOLUTIONS I AND II AS A WHOLE, OF THE 4TH COMM. REPORT (A/34) ON NON-SELF-GOVERNING TERRITORIES. RESOLUTION I PROVIDES TO PROMOTE THE POLITICAL, SOCIAL, ECONOMIC, AND EDUCATIONAL ASPIRATIONS OF NON-SELF-GOVERNING PEOPLES THROUG\", \"ec\", \"Economic development\", 1946], [11, \"Ecuador\", \"EC\", \"yes\", 1, 0.0, \"1946-02-05\", \"R/1/376\", 0.0, 0.0, \"TRUSTEESHIP AMENDMENTS\", \"TO ADOPT DRAFT RESOLUTIONS I AND II AS A WHOLE, OF THE 4TH COMM. REPORT (A/34) ON NON-SELF-GOVERNING TERRITORIES. RESOLUTION I PROVIDES TO PROMOTE THE POLITICAL, SOCIAL, ECONOMIC, AND EDUCATIONAL ASPIRATIONS OF NON-SELF-GOVERNING PEOPLES THROUG\", \"co\", \"Colonialism\", 1946], [11, \"Ecuador\", \"EC\", \"yes\", 1, 0.0, \"1946-02-05\", \"R/1/376\", 0.0, 0.0, \"TRUSTEESHIP AMENDMENTS\", \"TO ADOPT DRAFT RESOLUTIONS I AND II AS A WHOLE, OF THE 4TH COMM. REPORT (A/34) ON NON-SELF-GOVERNING TERRITORIES. RESOLUTION I PROVIDES TO PROMOTE THE POLITICAL, SOCIAL, ECONOMIC, AND EDUCATIONAL ASPIRATIONS OF NON-SELF-GOVERNING PEOPLES THROUG\", \"ec\", \"Economic development\", 1946], [11, \"Peru\", \"PE\", \"yes\", 1, 0.0, \"1946-02-05\", \"R/1/376\", 0.0, 0.0, \"TRUSTEESHIP AMENDMENTS\", \"TO ADOPT DRAFT RESOLUTIONS I AND II AS A WHOLE, OF THE 4TH COMM. REPORT (A/34) ON NON-SELF-GOVERNING TERRITORIES. RESOLUTION I PROVIDES TO PROMOTE THE POLITICAL, SOCIAL, ECONOMIC, AND EDUCATIONAL ASPIRATIONS OF NON-SELF-GOVERNING PEOPLES THROUG\", \"co\", \"Colonialism\", 1946], [11, \"Peru\", \"PE\", \"yes\", 1, 0.0, \"1946-02-05\", \"R/1/376\", 0.0, 0.0, \"TRUSTEESHIP AMENDMENTS\", \"TO ADOPT DRAFT RESOLUTIONS I AND II AS A WHOLE, OF THE 4TH COMM. REPORT (A/34) ON NON-SELF-GOVERNING TERRITORIES. RESOLUTION I PROVIDES TO PROMOTE THE POLITICAL, SOCIAL, ECONOMIC, AND EDUCATIONAL ASPIRATIONS OF NON-SELF-GOVERNING PEOPLES THROUG\", \"ec\", \"Economic development\", 1946], [11, \"Brazil\", \"BR\", \"yes\", 1, 0.0, \"1946-02-05\", \"R/1/376\", 0.0, 0.0, \"TRUSTEESHIP AMENDMENTS\", \"TO ADOPT DRAFT RESOLUTIONS I AND II AS A WHOLE, OF THE 4TH COMM. REPORT (A/34) ON NON-SELF-GOVERNING TERRITORIES. RESOLUTION I PROVIDES TO PROMOTE THE POLITICAL, SOCIAL, ECONOMIC, AND EDUCATIONAL ASPIRATIONS OF NON-SELF-GOVERNING PEOPLES THROUG\", \"co\", \"Colonialism\", 1946], [11, \"Brazil\", \"BR\", \"yes\", 1, 0.0, \"1946-02-05\", \"R/1/376\", 0.0, 0.0, \"TRUSTEESHIP AMENDMENTS\", \"TO ADOPT DRAFT RESOLUTIONS I AND II AS A WHOLE, OF THE 4TH COMM. REPORT (A/34) ON NON-SELF-GOVERNING TERRITORIES. RESOLUTION I PROVIDES TO PROMOTE THE POLITICAL, SOCIAL, ECONOMIC, AND EDUCATIONAL ASPIRATIONS OF NON-SELF-GOVERNING PEOPLES THROUG\", \"ec\", \"Economic development\", 1946], [11, \"Bolivia\", \"BO\", \"yes\", 1, 0.0, \"1946-02-05\", \"R/1/376\", 0.0, 0.0, \"TRUSTEESHIP AMENDMENTS\", \"TO ADOPT DRAFT RESOLUTIONS I AND II AS A WHOLE, OF THE 4TH COMM. REPORT (A/34) ON NON-SELF-GOVERNING TERRITORIES. RESOLUTION I PROVIDES TO PROMOTE THE POLITICAL, SOCIAL, ECONOMIC, AND EDUCATIONAL ASPIRATIONS OF NON-SELF-GOVERNING PEOPLES THROUG\", \"co\", \"Colonialism\", 1946], [11, \"Bolivia\", \"BO\", \"yes\", 1, 0.0, \"1946-02-05\", \"R/1/376\", 0.0, 0.0, \"TRUSTEESHIP AMENDMENTS\", \"TO ADOPT DRAFT RESOLUTIONS I AND II AS A WHOLE, OF THE 4TH COMM. REPORT (A/34) ON NON-SELF-GOVERNING TERRITORIES. RESOLUTION I PROVIDES TO PROMOTE THE POLITICAL, SOCIAL, ECONOMIC, AND EDUCATIONAL ASPIRATIONS OF NON-SELF-GOVERNING PEOPLES THROUG\", \"ec\", \"Economic development\", 1946], [11, \"Paraguay\", \"PY\", \"yes\", 1, 0.0, \"1946-02-05\", \"R/1/376\", 0.0, 0.0, \"TRUSTEESHIP AMENDMENTS\", \"TO ADOPT DRAFT RESOLUTIONS I AND II AS A WHOLE, OF THE 4TH COMM. REPORT (A/34) ON NON-SELF-GOVERNING TERRITORIES. RESOLUTION I PROVIDES TO PROMOTE THE POLITICAL, SOCIAL, ECONOMIC, AND EDUCATIONAL ASPIRATIONS OF NON-SELF-GOVERNING PEOPLES THROUG\", \"co\", \"Colonialism\", 1946], [11, \"Paraguay\", \"PY\", \"yes\", 1, 0.0, \"1946-02-05\", \"R/1/376\", 0.0, 0.0, \"TRUSTEESHIP AMENDMENTS\", \"TO ADOPT DRAFT RESOLUTIONS I AND II AS A WHOLE, OF THE 4TH COMM. REPORT (A/34) ON NON-SELF-GOVERNING TERRITORIES. RESOLUTION I PROVIDES TO PROMOTE THE POLITICAL, SOCIAL, ECONOMIC, AND EDUCATIONAL ASPIRATIONS OF NON-SELF-GOVERNING PEOPLES THROUG\", \"ec\", \"Economic development\", 1946], [11, \"Chile\", \"CL\", \"yes\", 1, 0.0, \"1946-02-05\", \"R/1/376\", 0.0, 0.0, \"TRUSTEESHIP AMENDMENTS\", \"TO ADOPT DRAFT RESOLUTIONS I AND II AS A WHOLE, OF THE 4TH COMM. REPORT (A/34) ON NON-SELF-GOVERNING TERRITORIES. RESOLUTION I PROVIDES TO PROMOTE THE POLITICAL, SOCIAL, ECONOMIC, AND EDUCATIONAL ASPIRATIONS OF NON-SELF-GOVERNING PEOPLES THROUG\", \"co\", \"Colonialism\", 1946], [11, \"Chile\", \"CL\", \"yes\", 1, 0.0, \"1946-02-05\", \"R/1/376\", 0.0, 0.0, \"TRUSTEESHIP AMENDMENTS\", \"TO ADOPT DRAFT RESOLUTIONS I AND II AS A WHOLE, OF THE 4TH COMM. REPORT (A/34) ON NON-SELF-GOVERNING TERRITORIES. RESOLUTION I PROVIDES TO PROMOTE THE POLITICAL, SOCIAL, ECONOMIC, AND EDUCATIONAL ASPIRATIONS OF NON-SELF-GOVERNING PEOPLES THROUG\", \"ec\", \"Economic development\", 1946], [11, \"Argentina\", \"AR\", \"yes\", 1, 0.0, \"1946-02-05\", \"R/1/376\", 0.0, 0.0, \"TRUSTEESHIP AMENDMENTS\", \"TO ADOPT DRAFT RESOLUTIONS I AND II AS A WHOLE, OF THE 4TH COMM. REPORT (A/34) ON NON-SELF-GOVERNING TERRITORIES. RESOLUTION I PROVIDES TO PROMOTE THE POLITICAL, SOCIAL, ECONOMIC, AND EDUCATIONAL ASPIRATIONS OF NON-SELF-GOVERNING PEOPLES THROUG\", \"co\", \"Colonialism\", 1946], [11, \"Argentina\", \"AR\", \"yes\", 1, 0.0, \"1946-02-05\", \"R/1/376\", 0.0, 0.0, \"TRUSTEESHIP AMENDMENTS\", \"TO ADOPT DRAFT RESOLUTIONS I AND II AS A WHOLE, OF THE 4TH COMM. REPORT (A/34) ON NON-SELF-GOVERNING TERRITORIES. RESOLUTION I PROVIDES TO PROMOTE THE POLITICAL, SOCIAL, ECONOMIC, AND EDUCATIONAL ASPIRATIONS OF NON-SELF-GOVERNING PEOPLES THROUG\", \"ec\", \"Economic development\", 1946], [11, \"Uruguay\", \"UY\", \"yes\", 1, 0.0, \"1946-02-05\", \"R/1/376\", 0.0, 0.0, \"TRUSTEESHIP AMENDMENTS\", \"TO ADOPT DRAFT RESOLUTIONS I AND II AS A WHOLE, OF THE 4TH COMM. REPORT (A/34) ON NON-SELF-GOVERNING TERRITORIES. RESOLUTION I PROVIDES TO PROMOTE THE POLITICAL, SOCIAL, ECONOMIC, AND EDUCATIONAL ASPIRATIONS OF NON-SELF-GOVERNING PEOPLES THROUG\", \"co\", \"Colonialism\", 1946], [11, \"Uruguay\", \"UY\", \"yes\", 1, 0.0, \"1946-02-05\", \"R/1/376\", 0.0, 0.0, \"TRUSTEESHIP AMENDMENTS\", \"TO ADOPT DRAFT RESOLUTIONS I AND II AS A WHOLE, OF THE 4TH COMM. REPORT (A/34) ON NON-SELF-GOVERNING TERRITORIES. RESOLUTION I PROVIDES TO PROMOTE THE POLITICAL, SOCIAL, ECONOMIC, AND EDUCATIONAL ASPIRATIONS OF NON-SELF-GOVERNING PEOPLES THROUG\", \"ec\", \"Economic development\", 1946], [11, \"United Kingdom\", \"GB\", \"yes\", 1, 0.0, \"1946-02-05\", \"R/1/376\", 0.0, 0.0, \"TRUSTEESHIP AMENDMENTS\", \"TO ADOPT DRAFT RESOLUTIONS I AND II AS A WHOLE, OF THE 4TH COMM. REPORT (A/34) ON NON-SELF-GOVERNING TERRITORIES. RESOLUTION I PROVIDES TO PROMOTE THE POLITICAL, SOCIAL, ECONOMIC, AND EDUCATIONAL ASPIRATIONS OF NON-SELF-GOVERNING PEOPLES THROUG\", \"co\", \"Colonialism\", 1946], [11, \"United Kingdom\", \"GB\", \"yes\", 1, 0.0, \"1946-02-05\", \"R/1/376\", 0.0, 0.0, \"TRUSTEESHIP AMENDMENTS\", \"TO ADOPT DRAFT RESOLUTIONS I AND II AS A WHOLE, OF THE 4TH COMM. REPORT (A/34) ON NON-SELF-GOVERNING TERRITORIES. RESOLUTION I PROVIDES TO PROMOTE THE POLITICAL, SOCIAL, ECONOMIC, AND EDUCATIONAL ASPIRATIONS OF NON-SELF-GOVERNING PEOPLES THROUG\", \"ec\", \"Economic development\", 1946], [11, \"Belgium\", \"BE\", \"yes\", 1, 0.0, \"1946-02-05\", \"R/1/376\", 0.0, 0.0, \"TRUSTEESHIP AMENDMENTS\", \"TO ADOPT DRAFT RESOLUTIONS I AND II AS A WHOLE, OF THE 4TH COMM. REPORT (A/34) ON NON-SELF-GOVERNING TERRITORIES. RESOLUTION I PROVIDES TO PROMOTE THE POLITICAL, SOCIAL, ECONOMIC, AND EDUCATIONAL ASPIRATIONS OF NON-SELF-GOVERNING PEOPLES THROUG\", \"co\", \"Colonialism\", 1946], [11, \"Belgium\", \"BE\", \"yes\", 1, 0.0, \"1946-02-05\", \"R/1/376\", 0.0, 0.0, \"TRUSTEESHIP AMENDMENTS\", \"TO ADOPT DRAFT RESOLUTIONS I AND II AS A WHOLE, OF THE 4TH COMM. REPORT (A/34) ON NON-SELF-GOVERNING TERRITORIES. RESOLUTION I PROVIDES TO PROMOTE THE POLITICAL, SOCIAL, ECONOMIC, AND EDUCATIONAL ASPIRATIONS OF NON-SELF-GOVERNING PEOPLES THROUG\", \"ec\", \"Economic development\", 1946], [11, \"France\", \"FR\", \"yes\", 1, 0.0, \"1946-02-05\", \"R/1/376\", 0.0, 0.0, \"TRUSTEESHIP AMENDMENTS\", \"TO ADOPT DRAFT RESOLUTIONS I AND II AS A WHOLE, OF THE 4TH COMM. REPORT (A/34) ON NON-SELF-GOVERNING TERRITORIES. RESOLUTION I PROVIDES TO PROMOTE THE POLITICAL, SOCIAL, ECONOMIC, AND EDUCATIONAL ASPIRATIONS OF NON-SELF-GOVERNING PEOPLES THROUG\", \"co\", \"Colonialism\", 1946], [11, \"France\", \"FR\", \"yes\", 1, 0.0, \"1946-02-05\", \"R/1/376\", 0.0, 0.0, \"TRUSTEESHIP AMENDMENTS\", \"TO ADOPT DRAFT RESOLUTIONS I AND II AS A WHOLE, OF THE 4TH COMM. REPORT (A/34) ON NON-SELF-GOVERNING TERRITORIES. RESOLUTION I PROVIDES TO PROMOTE THE POLITICAL, SOCIAL, ECONOMIC, AND EDUCATIONAL ASPIRATIONS OF NON-SELF-GOVERNING PEOPLES THROUG\", \"ec\", \"Economic development\", 1946], [11, \"Poland\", \"PL\", \"yes\", 1, 0.0, \"1946-02-05\", \"R/1/376\", 0.0, 0.0, \"TRUSTEESHIP AMENDMENTS\", \"TO ADOPT DRAFT RESOLUTIONS I AND II AS A WHOLE, OF THE 4TH COMM. REPORT (A/34) ON NON-SELF-GOVERNING TERRITORIES. RESOLUTION I PROVIDES TO PROMOTE THE POLITICAL, SOCIAL, ECONOMIC, AND EDUCATIONAL ASPIRATIONS OF NON-SELF-GOVERNING PEOPLES THROUG\", \"co\", \"Colonialism\", 1946], [11, \"Poland\", \"PL\", \"yes\", 1, 0.0, \"1946-02-05\", \"R/1/376\", 0.0, 0.0, \"TRUSTEESHIP AMENDMENTS\", \"TO ADOPT DRAFT RESOLUTIONS I AND II AS A WHOLE, OF THE 4TH COMM. REPORT (A/34) ON NON-SELF-GOVERNING TERRITORIES. RESOLUTION I PROVIDES TO PROMOTE THE POLITICAL, SOCIAL, ECONOMIC, AND EDUCATIONAL ASPIRATIONS OF NON-SELF-GOVERNING PEOPLES THROUG\", \"ec\", \"Economic development\", 1946], [11, \"Czechoslovakia\", \"CS\", \"yes\", 1, 0.0, \"1946-02-05\", \"R/1/376\", 0.0, 0.0, \"TRUSTEESHIP AMENDMENTS\", \"TO ADOPT DRAFT RESOLUTIONS I AND II AS A WHOLE, OF THE 4TH COMM. REPORT (A/34) ON NON-SELF-GOVERNING TERRITORIES. RESOLUTION I PROVIDES TO PROMOTE THE POLITICAL, SOCIAL, ECONOMIC, AND EDUCATIONAL ASPIRATIONS OF NON-SELF-GOVERNING PEOPLES THROUG\", \"co\", \"Colonialism\", 1946], [11, \"Czechoslovakia\", \"CS\", \"yes\", 1, 0.0, \"1946-02-05\", \"R/1/376\", 0.0, 0.0, \"TRUSTEESHIP AMENDMENTS\", \"TO ADOPT DRAFT RESOLUTIONS I AND II AS A WHOLE, OF THE 4TH COMM. REPORT (A/34) ON NON-SELF-GOVERNING TERRITORIES. RESOLUTION I PROVIDES TO PROMOTE THE POLITICAL, SOCIAL, ECONOMIC, AND EDUCATIONAL ASPIRATIONS OF NON-SELF-GOVERNING PEOPLES THROUG\", \"ec\", \"Economic development\", 1946], [11, \"Yugoslavia\", \"YU\", \"yes\", 1, 0.0, \"1946-02-05\", \"R/1/376\", 0.0, 0.0, \"TRUSTEESHIP AMENDMENTS\", \"TO ADOPT DRAFT RESOLUTIONS I AND II AS A WHOLE, OF THE 4TH COMM. REPORT (A/34) ON NON-SELF-GOVERNING TERRITORIES. RESOLUTION I PROVIDES TO PROMOTE THE POLITICAL, SOCIAL, ECONOMIC, AND EDUCATIONAL ASPIRATIONS OF NON-SELF-GOVERNING PEOPLES THROUG\", \"co\", \"Colonialism\", 1946], [11, \"Yugoslavia\", \"YU\", \"yes\", 1, 0.0, \"1946-02-05\", \"R/1/376\", 0.0, 0.0, \"TRUSTEESHIP AMENDMENTS\", \"TO ADOPT DRAFT RESOLUTIONS I AND II AS A WHOLE, OF THE 4TH COMM. REPORT (A/34) ON NON-SELF-GOVERNING TERRITORIES. RESOLUTION I PROVIDES TO PROMOTE THE POLITICAL, SOCIAL, ECONOMIC, AND EDUCATIONAL ASPIRATIONS OF NON-SELF-GOVERNING PEOPLES THROUG\", \"ec\", \"Economic development\", 1946], [11, \"Greece\", \"GR\", \"yes\", 1, 0.0, \"1946-02-05\", \"R/1/376\", 0.0, 0.0, \"TRUSTEESHIP AMENDMENTS\", \"TO ADOPT DRAFT RESOLUTIONS I AND II AS A WHOLE, OF THE 4TH COMM. REPORT (A/34) ON NON-SELF-GOVERNING TERRITORIES. RESOLUTION I PROVIDES TO PROMOTE THE POLITICAL, SOCIAL, ECONOMIC, AND EDUCATIONAL ASPIRATIONS OF NON-SELF-GOVERNING PEOPLES THROUG\", \"co\", \"Colonialism\", 1946], [11, \"Greece\", \"GR\", \"yes\", 1, 0.0, \"1946-02-05\", \"R/1/376\", 0.0, 0.0, \"TRUSTEESHIP AMENDMENTS\", \"TO ADOPT DRAFT RESOLUTIONS I AND II AS A WHOLE, OF THE 4TH COMM. REPORT (A/34) ON NON-SELF-GOVERNING TERRITORIES. RESOLUTION I PROVIDES TO PROMOTE THE POLITICAL, SOCIAL, ECONOMIC, AND EDUCATIONAL ASPIRATIONS OF NON-SELF-GOVERNING PEOPLES THROUG\", \"ec\", \"Economic development\", 1946], [11, \"Russia\", \"RU\", \"yes\", 1, 0.0, \"1946-02-05\", \"R/1/376\", 0.0, 0.0, \"TRUSTEESHIP AMENDMENTS\", \"TO ADOPT DRAFT RESOLUTIONS I AND II AS A WHOLE, OF THE 4TH COMM. REPORT (A/34) ON NON-SELF-GOVERNING TERRITORIES. RESOLUTION I PROVIDES TO PROMOTE THE POLITICAL, SOCIAL, ECONOMIC, AND EDUCATIONAL ASPIRATIONS OF NON-SELF-GOVERNING PEOPLES THROUG\", \"co\", \"Colonialism\", 1946], [11, \"Russia\", \"RU\", \"yes\", 1, 0.0, \"1946-02-05\", \"R/1/376\", 0.0, 0.0, \"TRUSTEESHIP AMENDMENTS\", \"TO ADOPT DRAFT RESOLUTIONS I AND II AS A WHOLE, OF THE 4TH COMM. REPORT (A/34) ON NON-SELF-GOVERNING TERRITORIES. RESOLUTION I PROVIDES TO PROMOTE THE POLITICAL, SOCIAL, ECONOMIC, AND EDUCATIONAL ASPIRATIONS OF NON-SELF-GOVERNING PEOPLES THROUG\", \"ec\", \"Economic development\", 1946], [11, \"Ukraine\", \"UA\", \"yes\", 1, 0.0, \"1946-02-05\", \"R/1/376\", 0.0, 0.0, \"TRUSTEESHIP AMENDMENTS\", \"TO ADOPT DRAFT RESOLUTIONS I AND II AS A WHOLE, OF THE 4TH COMM. REPORT (A/34) ON NON-SELF-GOVERNING TERRITORIES. RESOLUTION I PROVIDES TO PROMOTE THE POLITICAL, SOCIAL, ECONOMIC, AND EDUCATIONAL ASPIRATIONS OF NON-SELF-GOVERNING PEOPLES THROUG\", \"co\", \"Colonialism\", 1946], [11, \"Ukraine\", \"UA\", \"yes\", 1, 0.0, \"1946-02-05\", \"R/1/376\", 0.0, 0.0, \"TRUSTEESHIP AMENDMENTS\", \"TO ADOPT DRAFT RESOLUTIONS I AND II AS A WHOLE, OF THE 4TH COMM. REPORT (A/34) ON NON-SELF-GOVERNING TERRITORIES. RESOLUTION I PROVIDES TO PROMOTE THE POLITICAL, SOCIAL, ECONOMIC, AND EDUCATIONAL ASPIRATIONS OF NON-SELF-GOVERNING PEOPLES THROUG\", \"ec\", \"Economic development\", 1946], [11, \"Belarus\", \"BY\", \"yes\", 1, 0.0, \"1946-02-05\", \"R/1/376\", 0.0, 0.0, \"TRUSTEESHIP AMENDMENTS\", \"TO ADOPT DRAFT RESOLUTIONS I AND II AS A WHOLE, OF THE 4TH COMM. REPORT (A/34) ON NON-SELF-GOVERNING TERRITORIES. RESOLUTION I PROVIDES TO PROMOTE THE POLITICAL, SOCIAL, ECONOMIC, AND EDUCATIONAL ASPIRATIONS OF NON-SELF-GOVERNING PEOPLES THROUG\", \"co\", \"Colonialism\", 1946], [11, \"Belarus\", \"BY\", \"yes\", 1, 0.0, \"1946-02-05\", \"R/1/376\", 0.0, 0.0, \"TRUSTEESHIP AMENDMENTS\", \"TO ADOPT DRAFT RESOLUTIONS I AND II AS A WHOLE, OF THE 4TH COMM. REPORT (A/34) ON NON-SELF-GOVERNING TERRITORIES. RESOLUTION I PROVIDES TO PROMOTE THE POLITICAL, SOCIAL, ECONOMIC, AND EDUCATIONAL ASPIRATIONS OF NON-SELF-GOVERNING PEOPLES THROUG\", \"ec\", \"Economic development\", 1946], [11, \"Norway\", \"NO\", \"yes\", 1, 0.0, \"1946-02-05\", \"R/1/376\", 0.0, 0.0, \"TRUSTEESHIP AMENDMENTS\", \"TO ADOPT DRAFT RESOLUTIONS I AND II AS A WHOLE, OF THE 4TH COMM. REPORT (A/34) ON NON-SELF-GOVERNING TERRITORIES. RESOLUTION I PROVIDES TO PROMOTE THE POLITICAL, SOCIAL, ECONOMIC, AND EDUCATIONAL ASPIRATIONS OF NON-SELF-GOVERNING PEOPLES THROUG\", \"co\", \"Colonialism\", 1946], [11, \"Norway\", \"NO\", \"yes\", 1, 0.0, \"1946-02-05\", \"R/1/376\", 0.0, 0.0, \"TRUSTEESHIP AMENDMENTS\", \"TO ADOPT DRAFT RESOLUTIONS I AND II AS A WHOLE, OF THE 4TH COMM. REPORT (A/34) ON NON-SELF-GOVERNING TERRITORIES. RESOLUTION I PROVIDES TO PROMOTE THE POLITICAL, SOCIAL, ECONOMIC, AND EDUCATIONAL ASPIRATIONS OF NON-SELF-GOVERNING PEOPLES THROUG\", \"ec\", \"Economic development\", 1946], [11, \"Denmark\", \"DK\", \"yes\", 1, 0.0, \"1946-02-05\", \"R/1/376\", 0.0, 0.0, \"TRUSTEESHIP AMENDMENTS\", \"TO ADOPT DRAFT RESOLUTIONS I AND II AS A WHOLE, OF THE 4TH COMM. REPORT (A/34) ON NON-SELF-GOVERNING TERRITORIES. RESOLUTION I PROVIDES TO PROMOTE THE POLITICAL, SOCIAL, ECONOMIC, AND EDUCATIONAL ASPIRATIONS OF NON-SELF-GOVERNING PEOPLES THROUG\", \"co\", \"Colonialism\", 1946], [11, \"Denmark\", \"DK\", \"yes\", 1, 0.0, \"1946-02-05\", \"R/1/376\", 0.0, 0.0, \"TRUSTEESHIP AMENDMENTS\", \"TO ADOPT DRAFT RESOLUTIONS I AND II AS A WHOLE, OF THE 4TH COMM. REPORT (A/34) ON NON-SELF-GOVERNING TERRITORIES. RESOLUTION I PROVIDES TO PROMOTE THE POLITICAL, SOCIAL, ECONOMIC, AND EDUCATIONAL ASPIRATIONS OF NON-SELF-GOVERNING PEOPLES THROUG\", \"ec\", \"Economic development\", 1946], [11, \"Liberia\", \"LR\", \"yes\", 1, 0.0, \"1946-02-05\", \"R/1/376\", 0.0, 0.0, \"TRUSTEESHIP AMENDMENTS\", \"TO ADOPT DRAFT RESOLUTIONS I AND II AS A WHOLE, OF THE 4TH COMM. REPORT (A/34) ON NON-SELF-GOVERNING TERRITORIES. RESOLUTION I PROVIDES TO PROMOTE THE POLITICAL, SOCIAL, ECONOMIC, AND EDUCATIONAL ASPIRATIONS OF NON-SELF-GOVERNING PEOPLES THROUG\", \"co\", \"Colonialism\", 1946], [11, \"Liberia\", \"LR\", \"yes\", 1, 0.0, \"1946-02-05\", \"R/1/376\", 0.0, 0.0, \"TRUSTEESHIP AMENDMENTS\", \"TO ADOPT DRAFT RESOLUTIONS I AND II AS A WHOLE, OF THE 4TH COMM. REPORT (A/34) ON NON-SELF-GOVERNING TERRITORIES. RESOLUTION I PROVIDES TO PROMOTE THE POLITICAL, SOCIAL, ECONOMIC, AND EDUCATIONAL ASPIRATIONS OF NON-SELF-GOVERNING PEOPLES THROUG\", \"ec\", \"Economic development\", 1946], [11, \"Ethiopia\", \"ET\", \"yes\", 1, 0.0, \"1946-02-05\", \"R/1/376\", 0.0, 0.0, \"TRUSTEESHIP AMENDMENTS\", \"TO ADOPT DRAFT RESOLUTIONS I AND II AS A WHOLE, OF THE 4TH COMM. REPORT (A/34) ON NON-SELF-GOVERNING TERRITORIES. RESOLUTION I PROVIDES TO PROMOTE THE POLITICAL, SOCIAL, ECONOMIC, AND EDUCATIONAL ASPIRATIONS OF NON-SELF-GOVERNING PEOPLES THROUG\", \"co\", \"Colonialism\", 1946], [11, \"Ethiopia\", \"ET\", \"yes\", 1, 0.0, \"1946-02-05\", \"R/1/376\", 0.0, 0.0, \"TRUSTEESHIP AMENDMENTS\", \"TO ADOPT DRAFT RESOLUTIONS I AND II AS A WHOLE, OF THE 4TH COMM. REPORT (A/34) ON NON-SELF-GOVERNING TERRITORIES. RESOLUTION I PROVIDES TO PROMOTE THE POLITICAL, SOCIAL, ECONOMIC, AND EDUCATIONAL ASPIRATIONS OF NON-SELF-GOVERNING PEOPLES THROUG\", \"ec\", \"Economic development\", 1946], [11, \"South Africa\", \"ZA\", \"yes\", 1, 0.0, \"1946-02-05\", \"R/1/376\", 0.0, 0.0, \"TRUSTEESHIP AMENDMENTS\", \"TO ADOPT DRAFT RESOLUTIONS I AND II AS A WHOLE, OF THE 4TH COMM. REPORT (A/34) ON NON-SELF-GOVERNING TERRITORIES. RESOLUTION I PROVIDES TO PROMOTE THE POLITICAL, SOCIAL, ECONOMIC, AND EDUCATIONAL ASPIRATIONS OF NON-SELF-GOVERNING PEOPLES THROUG\", \"co\", \"Colonialism\", 1946], [11, \"South Africa\", \"ZA\", \"yes\", 1, 0.0, \"1946-02-05\", \"R/1/376\", 0.0, 0.0, \"TRUSTEESHIP AMENDMENTS\", \"TO ADOPT DRAFT RESOLUTIONS I AND II AS A WHOLE, OF THE 4TH COMM. REPORT (A/34) ON NON-SELF-GOVERNING TERRITORIES. RESOLUTION I PROVIDES TO PROMOTE THE POLITICAL, SOCIAL, ECONOMIC, AND EDUCATIONAL ASPIRATIONS OF NON-SELF-GOVERNING PEOPLES THROUG\", \"ec\", \"Economic development\", 1946], [11, \"Iran\", \"IR\", \"yes\", 1, 0.0, \"1946-02-05\", \"R/1/376\", 0.0, 0.0, \"TRUSTEESHIP AMENDMENTS\", \"TO ADOPT DRAFT RESOLUTIONS I AND II AS A WHOLE, OF THE 4TH COMM. REPORT (A/34) ON NON-SELF-GOVERNING TERRITORIES. RESOLUTION I PROVIDES TO PROMOTE THE POLITICAL, SOCIAL, ECONOMIC, AND EDUCATIONAL ASPIRATIONS OF NON-SELF-GOVERNING PEOPLES THROUG\", \"co\", \"Colonialism\", 1946], [11, \"Iran\", \"IR\", \"yes\", 1, 0.0, \"1946-02-05\", \"R/1/376\", 0.0, 0.0, \"TRUSTEESHIP AMENDMENTS\", \"TO ADOPT DRAFT RESOLUTIONS I AND II AS A WHOLE, OF THE 4TH COMM. REPORT (A/34) ON NON-SELF-GOVERNING TERRITORIES. RESOLUTION I PROVIDES TO PROMOTE THE POLITICAL, SOCIAL, ECONOMIC, AND EDUCATIONAL ASPIRATIONS OF NON-SELF-GOVERNING PEOPLES THROUG\", \"ec\", \"Economic development\", 1946], [11, \"Turkey\", \"TR\", \"yes\", 1, 0.0, \"1946-02-05\", \"R/1/376\", 0.0, 0.0, \"TRUSTEESHIP AMENDMENTS\", \"TO ADOPT DRAFT RESOLUTIONS I AND II AS A WHOLE, OF THE 4TH COMM. REPORT (A/34) ON NON-SELF-GOVERNING TERRITORIES. RESOLUTION I PROVIDES TO PROMOTE THE POLITICAL, SOCIAL, ECONOMIC, AND EDUCATIONAL ASPIRATIONS OF NON-SELF-GOVERNING PEOPLES THROUG\", \"co\", \"Colonialism\", 1946], [11, \"Turkey\", \"TR\", \"yes\", 1, 0.0, \"1946-02-05\", \"R/1/376\", 0.0, 0.0, \"TRUSTEESHIP AMENDMENTS\", \"TO ADOPT DRAFT RESOLUTIONS I AND II AS A WHOLE, OF THE 4TH COMM. REPORT (A/34) ON NON-SELF-GOVERNING TERRITORIES. RESOLUTION I PROVIDES TO PROMOTE THE POLITICAL, SOCIAL, ECONOMIC, AND EDUCATIONAL ASPIRATIONS OF NON-SELF-GOVERNING PEOPLES THROUG\", \"ec\", \"Economic development\", 1946], [11, \"Iraq\", \"IQ\", \"yes\", 1, 0.0, \"1946-02-05\", \"R/1/376\", 0.0, 0.0, \"TRUSTEESHIP AMENDMENTS\", \"TO ADOPT DRAFT RESOLUTIONS I AND II AS A WHOLE, OF THE 4TH COMM. REPORT (A/34) ON NON-SELF-GOVERNING TERRITORIES. RESOLUTION I PROVIDES TO PROMOTE THE POLITICAL, SOCIAL, ECONOMIC, AND EDUCATIONAL ASPIRATIONS OF NON-SELF-GOVERNING PEOPLES THROUG\", \"co\", \"Colonialism\", 1946], [11, \"Iraq\", \"IQ\", \"yes\", 1, 0.0, \"1946-02-05\", \"R/1/376\", 0.0, 0.0, \"TRUSTEESHIP AMENDMENTS\", \"TO ADOPT DRAFT RESOLUTIONS I AND II AS A WHOLE, OF THE 4TH COMM. REPORT (A/34) ON NON-SELF-GOVERNING TERRITORIES. RESOLUTION I PROVIDES TO PROMOTE THE POLITICAL, SOCIAL, ECONOMIC, AND EDUCATIONAL ASPIRATIONS OF NON-SELF-GOVERNING PEOPLES THROUG\", \"ec\", \"Economic development\", 1946], [11, \"Egypt\", \"EG\", \"yes\", 1, 0.0, \"1946-02-05\", \"R/1/376\", 0.0, 0.0, \"TRUSTEESHIP AMENDMENTS\", \"TO ADOPT DRAFT RESOLUTIONS I AND II AS A WHOLE, OF THE 4TH COMM. REPORT (A/34) ON NON-SELF-GOVERNING TERRITORIES. RESOLUTION I PROVIDES TO PROMOTE THE POLITICAL, SOCIAL, ECONOMIC, AND EDUCATIONAL ASPIRATIONS OF NON-SELF-GOVERNING PEOPLES THROUG\", \"co\", \"Colonialism\", 1946], [11, \"Egypt\", \"EG\", \"yes\", 1, 0.0, \"1946-02-05\", \"R/1/376\", 0.0, 0.0, \"TRUSTEESHIP AMENDMENTS\", \"TO ADOPT DRAFT RESOLUTIONS I AND II AS A WHOLE, OF THE 4TH COMM. REPORT (A/34) ON NON-SELF-GOVERNING TERRITORIES. RESOLUTION I PROVIDES TO PROMOTE THE POLITICAL, SOCIAL, ECONOMIC, AND EDUCATIONAL ASPIRATIONS OF NON-SELF-GOVERNING PEOPLES THROUG\", \"ec\", \"Economic development\", 1946], [11, \"Syria\", \"SY\", \"yes\", 1, 0.0, \"1946-02-05\", \"R/1/376\", 0.0, 0.0, \"TRUSTEESHIP AMENDMENTS\", \"TO ADOPT DRAFT RESOLUTIONS I AND II AS A WHOLE, OF THE 4TH COMM. REPORT (A/34) ON NON-SELF-GOVERNING TERRITORIES. RESOLUTION I PROVIDES TO PROMOTE THE POLITICAL, SOCIAL, ECONOMIC, AND EDUCATIONAL ASPIRATIONS OF NON-SELF-GOVERNING PEOPLES THROUG\", \"co\", \"Colonialism\", 1946], [11, \"Syria\", \"SY\", \"yes\", 1, 0.0, \"1946-02-05\", \"R/1/376\", 0.0, 0.0, \"TRUSTEESHIP AMENDMENTS\", \"TO ADOPT DRAFT RESOLUTIONS I AND II AS A WHOLE, OF THE 4TH COMM. REPORT (A/34) ON NON-SELF-GOVERNING TERRITORIES. RESOLUTION I PROVIDES TO PROMOTE THE POLITICAL, SOCIAL, ECONOMIC, AND EDUCATIONAL ASPIRATIONS OF NON-SELF-GOVERNING PEOPLES THROUG\", \"ec\", \"Economic development\", 1946], [11, \"Lebanon\", \"LB\", \"yes\", 1, 0.0, \"1946-02-05\", \"R/1/376\", 0.0, 0.0, \"TRUSTEESHIP AMENDMENTS\", \"TO ADOPT DRAFT RESOLUTIONS I AND II AS A WHOLE, OF THE 4TH COMM. REPORT (A/34) ON NON-SELF-GOVERNING TERRITORIES. RESOLUTION I PROVIDES TO PROMOTE THE POLITICAL, SOCIAL, ECONOMIC, AND EDUCATIONAL ASPIRATIONS OF NON-SELF-GOVERNING PEOPLES THROUG\", \"co\", \"Colonialism\", 1946], [11, \"Lebanon\", \"LB\", \"yes\", 1, 0.0, \"1946-02-05\", \"R/1/376\", 0.0, 0.0, \"TRUSTEESHIP AMENDMENTS\", \"TO ADOPT DRAFT RESOLUTIONS I AND II AS A WHOLE, OF THE 4TH COMM. REPORT (A/34) ON NON-SELF-GOVERNING TERRITORIES. RESOLUTION I PROVIDES TO PROMOTE THE POLITICAL, SOCIAL, ECONOMIC, AND EDUCATIONAL ASPIRATIONS OF NON-SELF-GOVERNING PEOPLES THROUG\", \"ec\", \"Economic development\", 1946], [11, \"Saudi Arabia\", \"SA\", \"yes\", 1, 0.0, \"1946-02-05\", \"R/1/376\", 0.0, 0.0, \"TRUSTEESHIP AMENDMENTS\", \"TO ADOPT DRAFT RESOLUTIONS I AND II AS A WHOLE, OF THE 4TH COMM. REPORT (A/34) ON NON-SELF-GOVERNING TERRITORIES. RESOLUTION I PROVIDES TO PROMOTE THE POLITICAL, SOCIAL, ECONOMIC, AND EDUCATIONAL ASPIRATIONS OF NON-SELF-GOVERNING PEOPLES THROUG\", \"co\", \"Colonialism\", 1946], [11, \"Saudi Arabia\", \"SA\", \"yes\", 1, 0.0, \"1946-02-05\", \"R/1/376\", 0.0, 0.0, \"TRUSTEESHIP AMENDMENTS\", \"TO ADOPT DRAFT RESOLUTIONS I AND II AS A WHOLE, OF THE 4TH COMM. REPORT (A/34) ON NON-SELF-GOVERNING TERRITORIES. RESOLUTION I PROVIDES TO PROMOTE THE POLITICAL, SOCIAL, ECONOMIC, AND EDUCATIONAL ASPIRATIONS OF NON-SELF-GOVERNING PEOPLES THROUG\", \"ec\", \"Economic development\", 1946], [11, \"Taiwan\", \"TW\", \"yes\", 1, 0.0, \"1946-02-05\", \"R/1/376\", 0.0, 0.0, \"TRUSTEESHIP AMENDMENTS\", \"TO ADOPT DRAFT RESOLUTIONS I AND II AS A WHOLE, OF THE 4TH COMM. REPORT (A/34) ON NON-SELF-GOVERNING TERRITORIES. RESOLUTION I PROVIDES TO PROMOTE THE POLITICAL, SOCIAL, ECONOMIC, AND EDUCATIONAL ASPIRATIONS OF NON-SELF-GOVERNING PEOPLES THROUG\", \"co\", \"Colonialism\", 1946], [11, \"Taiwan\", \"TW\", \"yes\", 1, 0.0, \"1946-02-05\", \"R/1/376\", 0.0, 0.0, \"TRUSTEESHIP AMENDMENTS\", \"TO ADOPT DRAFT RESOLUTIONS I AND II AS A WHOLE, OF THE 4TH COMM. REPORT (A/34) ON NON-SELF-GOVERNING TERRITORIES. RESOLUTION I PROVIDES TO PROMOTE THE POLITICAL, SOCIAL, ECONOMIC, AND EDUCATIONAL ASPIRATIONS OF NON-SELF-GOVERNING PEOPLES THROUG\", \"ec\", \"Economic development\", 1946], [11, \"India\", \"IN\", \"yes\", 1, 0.0, \"1946-02-05\", \"R/1/376\", 0.0, 0.0, \"TRUSTEESHIP AMENDMENTS\", \"TO ADOPT DRAFT RESOLUTIONS I AND II AS A WHOLE, OF THE 4TH COMM. REPORT (A/34) ON NON-SELF-GOVERNING TERRITORIES. RESOLUTION I PROVIDES TO PROMOTE THE POLITICAL, SOCIAL, ECONOMIC, AND EDUCATIONAL ASPIRATIONS OF NON-SELF-GOVERNING PEOPLES THROUG\", \"co\", \"Colonialism\", 1946], [11, \"India\", \"IN\", \"yes\", 1, 0.0, \"1946-02-05\", \"R/1/376\", 0.0, 0.0, \"TRUSTEESHIP AMENDMENTS\", \"TO ADOPT DRAFT RESOLUTIONS I AND II AS A WHOLE, OF THE 4TH COMM. REPORT (A/34) ON NON-SELF-GOVERNING TERRITORIES. RESOLUTION I PROVIDES TO PROMOTE THE POLITICAL, SOCIAL, ECONOMIC, AND EDUCATIONAL ASPIRATIONS OF NON-SELF-GOVERNING PEOPLES THROUG\", \"ec\", \"Economic development\", 1946], [11, \"Philippines\", \"PH\", \"yes\", 1, 0.0, \"1946-02-05\", \"R/1/376\", 0.0, 0.0, \"TRUSTEESHIP AMENDMENTS\", \"TO ADOPT DRAFT RESOLUTIONS I AND II AS A WHOLE, OF THE 4TH COMM. REPORT (A/34) ON NON-SELF-GOVERNING TERRITORIES. RESOLUTION I PROVIDES TO PROMOTE THE POLITICAL, SOCIAL, ECONOMIC, AND EDUCATIONAL ASPIRATIONS OF NON-SELF-GOVERNING PEOPLES THROUG\", \"co\", \"Colonialism\", 1946], [11, \"Philippines\", \"PH\", \"yes\", 1, 0.0, \"1946-02-05\", \"R/1/376\", 0.0, 0.0, \"TRUSTEESHIP AMENDMENTS\", \"TO ADOPT DRAFT RESOLUTIONS I AND II AS A WHOLE, OF THE 4TH COMM. REPORT (A/34) ON NON-SELF-GOVERNING TERRITORIES. RESOLUTION I PROVIDES TO PROMOTE THE POLITICAL, SOCIAL, ECONOMIC, AND EDUCATIONAL ASPIRATIONS OF NON-SELF-GOVERNING PEOPLES THROUG\", \"ec\", \"Economic development\", 1946], [11, \"Australia\", \"AU\", \"yes\", 1, 0.0, \"1946-02-05\", \"R/1/376\", 0.0, 0.0, \"TRUSTEESHIP AMENDMENTS\", \"TO ADOPT DRAFT RESOLUTIONS I AND II AS A WHOLE, OF THE 4TH COMM. REPORT (A/34) ON NON-SELF-GOVERNING TERRITORIES. RESOLUTION I PROVIDES TO PROMOTE THE POLITICAL, SOCIAL, ECONOMIC, AND EDUCATIONAL ASPIRATIONS OF NON-SELF-GOVERNING PEOPLES THROUG\", \"co\", \"Colonialism\", 1946], [11, \"Australia\", \"AU\", \"yes\", 1, 0.0, \"1946-02-05\", \"R/1/376\", 0.0, 0.0, \"TRUSTEESHIP AMENDMENTS\", \"TO ADOPT DRAFT RESOLUTIONS I AND II AS A WHOLE, OF THE 4TH COMM. REPORT (A/34) ON NON-SELF-GOVERNING TERRITORIES. RESOLUTION I PROVIDES TO PROMOTE THE POLITICAL, SOCIAL, ECONOMIC, AND EDUCATIONAL ASPIRATIONS OF NON-SELF-GOVERNING PEOPLES THROUG\", \"ec\", \"Economic development\", 1946], [11, \"New Zealand\", \"NZ\", \"yes\", 1, 0.0, \"1946-02-05\", \"R/1/376\", 0.0, 0.0, \"TRUSTEESHIP AMENDMENTS\", \"TO ADOPT DRAFT RESOLUTIONS I AND II AS A WHOLE, OF THE 4TH COMM. REPORT (A/34) ON NON-SELF-GOVERNING TERRITORIES. RESOLUTION I PROVIDES TO PROMOTE THE POLITICAL, SOCIAL, ECONOMIC, AND EDUCATIONAL ASPIRATIONS OF NON-SELF-GOVERNING PEOPLES THROUG\", \"co\", \"Colonialism\", 1946], [11, \"New Zealand\", \"NZ\", \"yes\", 1, 0.0, \"1946-02-05\", \"R/1/376\", 0.0, 0.0, \"TRUSTEESHIP AMENDMENTS\", \"TO ADOPT DRAFT RESOLUTIONS I AND II AS A WHOLE, OF THE 4TH COMM. REPORT (A/34) ON NON-SELF-GOVERNING TERRITORIES. RESOLUTION I PROVIDES TO PROMOTE THE POLITICAL, SOCIAL, ECONOMIC, AND EDUCATIONAL ASPIRATIONS OF NON-SELF-GOVERNING PEOPLES THROUG\", \"ec\", \"Economic development\", 1946], [18, \"United States\", \"US\", \"no\", 1, 0.0, \"1946-02-03\", \"R/1/532\", 1.0, 0.0, \"ECOSOC CONSULTANTS\", \"TO ADOPT USSR (ORAL) AMENDMENT REPLACING THE 1ST COMM. DRAFT RESOLUTION (A/54/REV.1) WITH THE FOLLOWING:  \\\\TAKING INTO CONSIDERATION THE QUESTION RAISED BY THE WORLD FEDERATION OF TRADE UNIONS CONCERNING ITS PARTICIPATION IN THE WORK OF THE ECO\", \"ec\", \"Economic development\", 1946], [18, \"Canada\", \"CA\", \"no\", 1, 0.0, \"1946-02-03\", \"R/1/532\", 1.0, 0.0, \"ECOSOC CONSULTANTS\", \"TO ADOPT USSR (ORAL) AMENDMENT REPLACING THE 1ST COMM. DRAFT RESOLUTION (A/54/REV.1) WITH THE FOLLOWING:  \\\\TAKING INTO CONSIDERATION THE QUESTION RAISED BY THE WORLD FEDERATION OF TRADE UNIONS CONCERNING ITS PARTICIPATION IN THE WORK OF THE ECO\", \"ec\", \"Economic development\", 1946], [18, \"Cuba\", \"CU\", \"no\", 1, 0.0, \"1946-02-03\", \"R/1/532\", 1.0, 0.0, \"ECOSOC CONSULTANTS\", \"TO ADOPT USSR (ORAL) AMENDMENT REPLACING THE 1ST COMM. DRAFT RESOLUTION (A/54/REV.1) WITH THE FOLLOWING:  \\\\TAKING INTO CONSIDERATION THE QUESTION RAISED BY THE WORLD FEDERATION OF TRADE UNIONS CONCERNING ITS PARTICIPATION IN THE WORK OF THE ECO\", \"ec\", \"Economic development\", 1946], [18, \"Haiti\", \"HT\", \"no\", 1, 0.0, \"1946-02-03\", \"R/1/532\", 1.0, 0.0, \"ECOSOC CONSULTANTS\", \"TO ADOPT USSR (ORAL) AMENDMENT REPLACING THE 1ST COMM. DRAFT RESOLUTION (A/54/REV.1) WITH THE FOLLOWING:  \\\\TAKING INTO CONSIDERATION THE QUESTION RAISED BY THE WORLD FEDERATION OF TRADE UNIONS CONCERNING ITS PARTICIPATION IN THE WORK OF THE ECO\", \"ec\", \"Economic development\", 1946], [18, \"Dominican Republic\", \"DO\", \"no\", 1, 0.0, \"1946-02-03\", \"R/1/532\", 1.0, 0.0, \"ECOSOC CONSULTANTS\", \"TO ADOPT USSR (ORAL) AMENDMENT REPLACING THE 1ST COMM. DRAFT RESOLUTION (A/54/REV.1) WITH THE FOLLOWING:  \\\\TAKING INTO CONSIDERATION THE QUESTION RAISED BY THE WORLD FEDERATION OF TRADE UNIONS CONCERNING ITS PARTICIPATION IN THE WORK OF THE ECO\", \"ec\", \"Economic development\", 1946], [18, \"Mexico\", \"MX\", \"abstain\", 1, 0.0, \"1946-02-03\", \"R/1/532\", 1.0, 0.0, \"ECOSOC CONSULTANTS\", \"TO ADOPT USSR (ORAL) AMENDMENT REPLACING THE 1ST COMM. DRAFT RESOLUTION (A/54/REV.1) WITH THE FOLLOWING:  \\\\TAKING INTO CONSIDERATION THE QUESTION RAISED BY THE WORLD FEDERATION OF TRADE UNIONS CONCERNING ITS PARTICIPATION IN THE WORK OF THE ECO\", \"ec\", \"Economic development\", 1946], [18, \"Guatemala\", \"GT\", \"yes\", 1, 0.0, \"1946-02-03\", \"R/1/532\", 1.0, 0.0, \"ECOSOC CONSULTANTS\", \"TO ADOPT USSR (ORAL) AMENDMENT REPLACING THE 1ST COMM. DRAFT RESOLUTION (A/54/REV.1) WITH THE FOLLOWING:  \\\\TAKING INTO CONSIDERATION THE QUESTION RAISED BY THE WORLD FEDERATION OF TRADE UNIONS CONCERNING ITS PARTICIPATION IN THE WORK OF THE ECO\", \"ec\", \"Economic development\", 1946], [18, \"Nicaragua\", \"NI\", \"abstain\", 1, 0.0, \"1946-02-03\", \"R/1/532\", 1.0, 0.0, \"ECOSOC CONSULTANTS\", \"TO ADOPT USSR (ORAL) AMENDMENT REPLACING THE 1ST COMM. DRAFT RESOLUTION (A/54/REV.1) WITH THE FOLLOWING:  \\\\TAKING INTO CONSIDERATION THE QUESTION RAISED BY THE WORLD FEDERATION OF TRADE UNIONS CONCERNING ITS PARTICIPATION IN THE WORK OF THE ECO\", \"ec\", \"Economic development\", 1946], [18, \"Panama\", \"PA\", \"abstain\", 1, 0.0, \"1946-02-03\", \"R/1/532\", 1.0, 0.0, \"ECOSOC CONSULTANTS\", \"TO ADOPT USSR (ORAL) AMENDMENT REPLACING THE 1ST COMM. DRAFT RESOLUTION (A/54/REV.1) WITH THE FOLLOWING:  \\\\TAKING INTO CONSIDERATION THE QUESTION RAISED BY THE WORLD FEDERATION OF TRADE UNIONS CONCERNING ITS PARTICIPATION IN THE WORK OF THE ECO\", \"ec\", \"Economic development\", 1946], [18, \"Colombia\", \"CO\", \"yes\", 1, 0.0, \"1946-02-03\", \"R/1/532\", 1.0, 0.0, \"ECOSOC CONSULTANTS\", \"TO ADOPT USSR (ORAL) AMENDMENT REPLACING THE 1ST COMM. DRAFT RESOLUTION (A/54/REV.1) WITH THE FOLLOWING:  \\\\TAKING INTO CONSIDERATION THE QUESTION RAISED BY THE WORLD FEDERATION OF TRADE UNIONS CONCERNING ITS PARTICIPATION IN THE WORK OF THE ECO\", \"ec\", \"Economic development\", 1946], [18, \"Venezuela\", \"VE\", \"no\", 1, 0.0, \"1946-02-03\", \"R/1/532\", 1.0, 0.0, \"ECOSOC CONSULTANTS\", \"TO ADOPT USSR (ORAL) AMENDMENT REPLACING THE 1ST COMM. DRAFT RESOLUTION (A/54/REV.1) WITH THE FOLLOWING:  \\\\TAKING INTO CONSIDERATION THE QUESTION RAISED BY THE WORLD FEDERATION OF TRADE UNIONS CONCERNING ITS PARTICIPATION IN THE WORK OF THE ECO\", \"ec\", \"Economic development\", 1946], [18, \"Ecuador\", \"EC\", \"no\", 1, 0.0, \"1946-02-03\", \"R/1/532\", 1.0, 0.0, \"ECOSOC CONSULTANTS\", \"TO ADOPT USSR (ORAL) AMENDMENT REPLACING THE 1ST COMM. DRAFT RESOLUTION (A/54/REV.1) WITH THE FOLLOWING:  \\\\TAKING INTO CONSIDERATION THE QUESTION RAISED BY THE WORLD FEDERATION OF TRADE UNIONS CONCERNING ITS PARTICIPATION IN THE WORK OF THE ECO\", \"ec\", \"Economic development\", 1946], [18, \"Peru\", \"PE\", \"no\", 1, 0.0, \"1946-02-03\", \"R/1/532\", 1.0, 0.0, \"ECOSOC CONSULTANTS\", \"TO ADOPT USSR (ORAL) AMENDMENT REPLACING THE 1ST COMM. DRAFT RESOLUTION (A/54/REV.1) WITH THE FOLLOWING:  \\\\TAKING INTO CONSIDERATION THE QUESTION RAISED BY THE WORLD FEDERATION OF TRADE UNIONS CONCERNING ITS PARTICIPATION IN THE WORK OF THE ECO\", \"ec\", \"Economic development\", 1946], [18, \"Brazil\", \"BR\", \"no\", 1, 0.0, \"1946-02-03\", \"R/1/532\", 1.0, 0.0, \"ECOSOC CONSULTANTS\", \"TO ADOPT USSR (ORAL) AMENDMENT REPLACING THE 1ST COMM. DRAFT RESOLUTION (A/54/REV.1) WITH THE FOLLOWING:  \\\\TAKING INTO CONSIDERATION THE QUESTION RAISED BY THE WORLD FEDERATION OF TRADE UNIONS CONCERNING ITS PARTICIPATION IN THE WORK OF THE ECO\", \"ec\", \"Economic development\", 1946], [18, \"Bolivia\", \"BO\", \"yes\", 1, 0.0, \"1946-02-03\", \"R/1/532\", 1.0, 0.0, \"ECOSOC CONSULTANTS\", \"TO ADOPT USSR (ORAL) AMENDMENT REPLACING THE 1ST COMM. DRAFT RESOLUTION (A/54/REV.1) WITH THE FOLLOWING:  \\\\TAKING INTO CONSIDERATION THE QUESTION RAISED BY THE WORLD FEDERATION OF TRADE UNIONS CONCERNING ITS PARTICIPATION IN THE WORK OF THE ECO\", \"ec\", \"Economic development\", 1946], [18, \"Chile\", \"CL\", \"yes\", 1, 0.0, \"1946-02-03\", \"R/1/532\", 1.0, 0.0, \"ECOSOC CONSULTANTS\", \"TO ADOPT USSR (ORAL) AMENDMENT REPLACING THE 1ST COMM. DRAFT RESOLUTION (A/54/REV.1) WITH THE FOLLOWING:  \\\\TAKING INTO CONSIDERATION THE QUESTION RAISED BY THE WORLD FEDERATION OF TRADE UNIONS CONCERNING ITS PARTICIPATION IN THE WORK OF THE ECO\", \"ec\", \"Economic development\", 1946], [18, \"Argentina\", \"AR\", \"no\", 1, 0.0, \"1946-02-03\", \"R/1/532\", 1.0, 0.0, \"ECOSOC CONSULTANTS\", \"TO ADOPT USSR (ORAL) AMENDMENT REPLACING THE 1ST COMM. DRAFT RESOLUTION (A/54/REV.1) WITH THE FOLLOWING:  \\\\TAKING INTO CONSIDERATION THE QUESTION RAISED BY THE WORLD FEDERATION OF TRADE UNIONS CONCERNING ITS PARTICIPATION IN THE WORK OF THE ECO\", \"ec\", \"Economic development\", 1946], [18, \"Uruguay\", \"UY\", \"no\", 1, 0.0, \"1946-02-03\", \"R/1/532\", 1.0, 0.0, \"ECOSOC CONSULTANTS\", \"TO ADOPT USSR (ORAL) AMENDMENT REPLACING THE 1ST COMM. DRAFT RESOLUTION (A/54/REV.1) WITH THE FOLLOWING:  \\\\TAKING INTO CONSIDERATION THE QUESTION RAISED BY THE WORLD FEDERATION OF TRADE UNIONS CONCERNING ITS PARTICIPATION IN THE WORK OF THE ECO\", \"ec\", \"Economic development\", 1946], [18, \"United Kingdom\", \"GB\", \"no\", 1, 0.0, \"1946-02-03\", \"R/1/532\", 1.0, 0.0, \"ECOSOC CONSULTANTS\", \"TO ADOPT USSR (ORAL) AMENDMENT REPLACING THE 1ST COMM. DRAFT RESOLUTION (A/54/REV.1) WITH THE FOLLOWING:  \\\\TAKING INTO CONSIDERATION THE QUESTION RAISED BY THE WORLD FEDERATION OF TRADE UNIONS CONCERNING ITS PARTICIPATION IN THE WORK OF THE ECO\", \"ec\", \"Economic development\", 1946], [18, \"Netherlands\", \"NL\", \"no\", 1, 0.0, \"1946-02-03\", \"R/1/532\", 1.0, 0.0, \"ECOSOC CONSULTANTS\", \"TO ADOPT USSR (ORAL) AMENDMENT REPLACING THE 1ST COMM. DRAFT RESOLUTION (A/54/REV.1) WITH THE FOLLOWING:  \\\\TAKING INTO CONSIDERATION THE QUESTION RAISED BY THE WORLD FEDERATION OF TRADE UNIONS CONCERNING ITS PARTICIPATION IN THE WORK OF THE ECO\", \"ec\", \"Economic development\", 1946], [18, \"Belgium\", \"BE\", \"abstain\", 1, 0.0, \"1946-02-03\", \"R/1/532\", 1.0, 0.0, \"ECOSOC CONSULTANTS\", \"TO ADOPT USSR (ORAL) AMENDMENT REPLACING THE 1ST COMM. DRAFT RESOLUTION (A/54/REV.1) WITH THE FOLLOWING:  \\\\TAKING INTO CONSIDERATION THE QUESTION RAISED BY THE WORLD FEDERATION OF TRADE UNIONS CONCERNING ITS PARTICIPATION IN THE WORK OF THE ECO\", \"ec\", \"Economic development\", 1946], [18, \"Luxembourg\", \"LU\", \"no\", 1, 0.0, \"1946-02-03\", \"R/1/532\", 1.0, 0.0, \"ECOSOC CONSULTANTS\", \"TO ADOPT USSR (ORAL) AMENDMENT REPLACING THE 1ST COMM. DRAFT RESOLUTION (A/54/REV.1) WITH THE FOLLOWING:  \\\\TAKING INTO CONSIDERATION THE QUESTION RAISED BY THE WORLD FEDERATION OF TRADE UNIONS CONCERNING ITS PARTICIPATION IN THE WORK OF THE ECO\", \"ec\", \"Economic development\", 1946], [18, \"France\", \"FR\", \"yes\", 1, 0.0, \"1946-02-03\", \"R/1/532\", 1.0, 0.0, \"ECOSOC CONSULTANTS\", \"TO ADOPT USSR (ORAL) AMENDMENT REPLACING THE 1ST COMM. DRAFT RESOLUTION (A/54/REV.1) WITH THE FOLLOWING:  \\\\TAKING INTO CONSIDERATION THE QUESTION RAISED BY THE WORLD FEDERATION OF TRADE UNIONS CONCERNING ITS PARTICIPATION IN THE WORK OF THE ECO\", \"ec\", \"Economic development\", 1946], [18, \"Poland\", \"PL\", \"yes\", 1, 0.0, \"1946-02-03\", \"R/1/532\", 1.0, 0.0, \"ECOSOC CONSULTANTS\", \"TO ADOPT USSR (ORAL) AMENDMENT REPLACING THE 1ST COMM. DRAFT RESOLUTION (A/54/REV.1) WITH THE FOLLOWING:  \\\\TAKING INTO CONSIDERATION THE QUESTION RAISED BY THE WORLD FEDERATION OF TRADE UNIONS CONCERNING ITS PARTICIPATION IN THE WORK OF THE ECO\", \"ec\", \"Economic development\", 1946], [18, \"Czechoslovakia\", \"CS\", \"yes\", 1, 0.0, \"1946-02-03\", \"R/1/532\", 1.0, 0.0, \"ECOSOC CONSULTANTS\", \"TO ADOPT USSR (ORAL) AMENDMENT REPLACING THE 1ST COMM. DRAFT RESOLUTION (A/54/REV.1) WITH THE FOLLOWING:  \\\\TAKING INTO CONSIDERATION THE QUESTION RAISED BY THE WORLD FEDERATION OF TRADE UNIONS CONCERNING ITS PARTICIPATION IN THE WORK OF THE ECO\", \"ec\", \"Economic development\", 1946], [18, \"Yugoslavia\", \"YU\", \"yes\", 1, 0.0, \"1946-02-03\", \"R/1/532\", 1.0, 0.0, \"ECOSOC CONSULTANTS\", \"TO ADOPT USSR (ORAL) AMENDMENT REPLACING THE 1ST COMM. DRAFT RESOLUTION (A/54/REV.1) WITH THE FOLLOWING:  \\\\TAKING INTO CONSIDERATION THE QUESTION RAISED BY THE WORLD FEDERATION OF TRADE UNIONS CONCERNING ITS PARTICIPATION IN THE WORK OF THE ECO\", \"ec\", \"Economic development\", 1946], [18, \"Greece\", \"GR\", \"no\", 1, 0.0, \"1946-02-03\", \"R/1/532\", 1.0, 0.0, \"ECOSOC CONSULTANTS\", \"TO ADOPT USSR (ORAL) AMENDMENT REPLACING THE 1ST COMM. DRAFT RESOLUTION (A/54/REV.1) WITH THE FOLLOWING:  \\\\TAKING INTO CONSIDERATION THE QUESTION RAISED BY THE WORLD FEDERATION OF TRADE UNIONS CONCERNING ITS PARTICIPATION IN THE WORK OF THE ECO\", \"ec\", \"Economic development\", 1946], [18, \"Russia\", \"RU\", \"yes\", 1, 0.0, \"1946-02-03\", \"R/1/532\", 1.0, 0.0, \"ECOSOC CONSULTANTS\", \"TO ADOPT USSR (ORAL) AMENDMENT REPLACING THE 1ST COMM. DRAFT RESOLUTION (A/54/REV.1) WITH THE FOLLOWING:  \\\\TAKING INTO CONSIDERATION THE QUESTION RAISED BY THE WORLD FEDERATION OF TRADE UNIONS CONCERNING ITS PARTICIPATION IN THE WORK OF THE ECO\", \"ec\", \"Economic development\", 1946], [18, \"Ukraine\", \"UA\", \"yes\", 1, 0.0, \"1946-02-03\", \"R/1/532\", 1.0, 0.0, \"ECOSOC CONSULTANTS\", \"TO ADOPT USSR (ORAL) AMENDMENT REPLACING THE 1ST COMM. DRAFT RESOLUTION (A/54/REV.1) WITH THE FOLLOWING:  \\\\TAKING INTO CONSIDERATION THE QUESTION RAISED BY THE WORLD FEDERATION OF TRADE UNIONS CONCERNING ITS PARTICIPATION IN THE WORK OF THE ECO\", \"ec\", \"Economic development\", 1946], [18, \"Belarus\", \"BY\", \"yes\", 1, 0.0, \"1946-02-03\", \"R/1/532\", 1.0, 0.0, \"ECOSOC CONSULTANTS\", \"TO ADOPT USSR (ORAL) AMENDMENT REPLACING THE 1ST COMM. DRAFT RESOLUTION (A/54/REV.1) WITH THE FOLLOWING:  \\\\TAKING INTO CONSIDERATION THE QUESTION RAISED BY THE WORLD FEDERATION OF TRADE UNIONS CONCERNING ITS PARTICIPATION IN THE WORK OF THE ECO\", \"ec\", \"Economic development\", 1946], [18, \"Norway\", \"NO\", \"no\", 1, 0.0, \"1946-02-03\", \"R/1/532\", 1.0, 0.0, \"ECOSOC CONSULTANTS\", \"TO ADOPT USSR (ORAL) AMENDMENT REPLACING THE 1ST COMM. DRAFT RESOLUTION (A/54/REV.1) WITH THE FOLLOWING:  \\\\TAKING INTO CONSIDERATION THE QUESTION RAISED BY THE WORLD FEDERATION OF TRADE UNIONS CONCERNING ITS PARTICIPATION IN THE WORK OF THE ECO\", \"ec\", \"Economic development\", 1946], [18, \"Denmark\", \"DK\", \"no\", 1, 0.0, \"1946-02-03\", \"R/1/532\", 1.0, 0.0, \"ECOSOC CONSULTANTS\", \"TO ADOPT USSR (ORAL) AMENDMENT REPLACING THE 1ST COMM. DRAFT RESOLUTION (A/54/REV.1) WITH THE FOLLOWING:  \\\\TAKING INTO CONSIDERATION THE QUESTION RAISED BY THE WORLD FEDERATION OF TRADE UNIONS CONCERNING ITS PARTICIPATION IN THE WORK OF THE ECO\", \"ec\", \"Economic development\", 1946], [18, \"Liberia\", \"LR\", \"no\", 1, 0.0, \"1946-02-03\", \"R/1/532\", 1.0, 0.0, \"ECOSOC CONSULTANTS\", \"TO ADOPT USSR (ORAL) AMENDMENT REPLACING THE 1ST COMM. DRAFT RESOLUTION (A/54/REV.1) WITH THE FOLLOWING:  \\\\TAKING INTO CONSIDERATION THE QUESTION RAISED BY THE WORLD FEDERATION OF TRADE UNIONS CONCERNING ITS PARTICIPATION IN THE WORK OF THE ECO\", \"ec\", \"Economic development\", 1946], [18, \"Ethiopia\", \"ET\", \"no\", 1, 0.0, \"1946-02-03\", \"R/1/532\", 1.0, 0.0, \"ECOSOC CONSULTANTS\", \"TO ADOPT USSR (ORAL) AMENDMENT REPLACING THE 1ST COMM. DRAFT RESOLUTION (A/54/REV.1) WITH THE FOLLOWING:  \\\\TAKING INTO CONSIDERATION THE QUESTION RAISED BY THE WORLD FEDERATION OF TRADE UNIONS CONCERNING ITS PARTICIPATION IN THE WORK OF THE ECO\", \"ec\", \"Economic development\", 1946], [18, \"South Africa\", \"ZA\", \"no\", 1, 0.0, \"1946-02-03\", \"R/1/532\", 1.0, 0.0, \"ECOSOC CONSULTANTS\", \"TO ADOPT USSR (ORAL) AMENDMENT REPLACING THE 1ST COMM. DRAFT RESOLUTION (A/54/REV.1) WITH THE FOLLOWING:  \\\\TAKING INTO CONSIDERATION THE QUESTION RAISED BY THE WORLD FEDERATION OF TRADE UNIONS CONCERNING ITS PARTICIPATION IN THE WORK OF THE ECO\", \"ec\", \"Economic development\", 1946], [18, \"Iran\", \"IR\", \"abstain\", 1, 0.0, \"1946-02-03\", \"R/1/532\", 1.0, 0.0, \"ECOSOC CONSULTANTS\", \"TO ADOPT USSR (ORAL) AMENDMENT REPLACING THE 1ST COMM. DRAFT RESOLUTION (A/54/REV.1) WITH THE FOLLOWING:  \\\\TAKING INTO CONSIDERATION THE QUESTION RAISED BY THE WORLD FEDERATION OF TRADE UNIONS CONCERNING ITS PARTICIPATION IN THE WORK OF THE ECO\", \"ec\", \"Economic development\", 1946], [18, \"Turkey\", \"TR\", \"no\", 1, 0.0, \"1946-02-03\", \"R/1/532\", 1.0, 0.0, \"ECOSOC CONSULTANTS\", \"TO ADOPT USSR (ORAL) AMENDMENT REPLACING THE 1ST COMM. DRAFT RESOLUTION (A/54/REV.1) WITH THE FOLLOWING:  \\\\TAKING INTO CONSIDERATION THE QUESTION RAISED BY THE WORLD FEDERATION OF TRADE UNIONS CONCERNING ITS PARTICIPATION IN THE WORK OF THE ECO\", \"ec\", \"Economic development\", 1946], [18, \"Iraq\", \"IQ\", \"yes\", 1, 0.0, \"1946-02-03\", \"R/1/532\", 1.0, 0.0, \"ECOSOC CONSULTANTS\", \"TO ADOPT USSR (ORAL) AMENDMENT REPLACING THE 1ST COMM. DRAFT RESOLUTION (A/54/REV.1) WITH THE FOLLOWING:  \\\\TAKING INTO CONSIDERATION THE QUESTION RAISED BY THE WORLD FEDERATION OF TRADE UNIONS CONCERNING ITS PARTICIPATION IN THE WORK OF THE ECO\", \"ec\", \"Economic development\", 1946], [18, \"Egypt\", \"EG\", \"abstain\", 1, 0.0, \"1946-02-03\", \"R/1/532\", 1.0, 0.0, \"ECOSOC CONSULTANTS\", \"TO ADOPT USSR (ORAL) AMENDMENT REPLACING THE 1ST COMM. DRAFT RESOLUTION (A/54/REV.1) WITH THE FOLLOWING:  \\\\TAKING INTO CONSIDERATION THE QUESTION RAISED BY THE WORLD FEDERATION OF TRADE UNIONS CONCERNING ITS PARTICIPATION IN THE WORK OF THE ECO\", \"ec\", \"Economic development\", 1946], [18, \"Syria\", \"SY\", \"abstain\", 1, 0.0, \"1946-02-03\", \"R/1/532\", 1.0, 0.0, \"ECOSOC CONSULTANTS\", \"TO ADOPT USSR (ORAL) AMENDMENT REPLACING THE 1ST COMM. DRAFT RESOLUTION (A/54/REV.1) WITH THE FOLLOWING:  \\\\TAKING INTO CONSIDERATION THE QUESTION RAISED BY THE WORLD FEDERATION OF TRADE UNIONS CONCERNING ITS PARTICIPATION IN THE WORK OF THE ECO\", \"ec\", \"Economic development\", 1946], [18, \"Lebanon\", \"LB\", \"abstain\", 1, 0.0, \"1946-02-03\", \"R/1/532\", 1.0, 0.0, \"ECOSOC CONSULTANTS\", \"TO ADOPT USSR (ORAL) AMENDMENT REPLACING THE 1ST COMM. DRAFT RESOLUTION (A/54/REV.1) WITH THE FOLLOWING:  \\\\TAKING INTO CONSIDERATION THE QUESTION RAISED BY THE WORLD FEDERATION OF TRADE UNIONS CONCERNING ITS PARTICIPATION IN THE WORK OF THE ECO\", \"ec\", \"Economic development\", 1946], [18, \"Saudi Arabia\", \"SA\", \"abstain\", 1, 0.0, \"1946-02-03\", \"R/1/532\", 1.0, 0.0, \"ECOSOC CONSULTANTS\", \"TO ADOPT USSR (ORAL) AMENDMENT REPLACING THE 1ST COMM. DRAFT RESOLUTION (A/54/REV.1) WITH THE FOLLOWING:  \\\\TAKING INTO CONSIDERATION THE QUESTION RAISED BY THE WORLD FEDERATION OF TRADE UNIONS CONCERNING ITS PARTICIPATION IN THE WORK OF THE ECO\", \"ec\", \"Economic development\", 1946], [18, \"Taiwan\", \"TW\", \"no\", 1, 0.0, \"1946-02-03\", \"R/1/532\", 1.0, 0.0, \"ECOSOC CONSULTANTS\", \"TO ADOPT USSR (ORAL) AMENDMENT REPLACING THE 1ST COMM. DRAFT RESOLUTION (A/54/REV.1) WITH THE FOLLOWING:  \\\\TAKING INTO CONSIDERATION THE QUESTION RAISED BY THE WORLD FEDERATION OF TRADE UNIONS CONCERNING ITS PARTICIPATION IN THE WORK OF THE ECO\", \"ec\", \"Economic development\", 1946], [18, \"India\", \"IN\", \"no\", 1, 0.0, \"1946-02-03\", \"R/1/532\", 1.0, 0.0, \"ECOSOC CONSULTANTS\", \"TO ADOPT USSR (ORAL) AMENDMENT REPLACING THE 1ST COMM. DRAFT RESOLUTION (A/54/REV.1) WITH THE FOLLOWING:  \\\\TAKING INTO CONSIDERATION THE QUESTION RAISED BY THE WORLD FEDERATION OF TRADE UNIONS CONCERNING ITS PARTICIPATION IN THE WORK OF THE ECO\", \"ec\", \"Economic development\", 1946], [18, \"Philippines\", \"PH\", \"no\", 1, 0.0, \"1946-02-03\", \"R/1/532\", 1.0, 0.0, \"ECOSOC CONSULTANTS\", \"TO ADOPT USSR (ORAL) AMENDMENT REPLACING THE 1ST COMM. DRAFT RESOLUTION (A/54/REV.1) WITH THE FOLLOWING:  \\\\TAKING INTO CONSIDERATION THE QUESTION RAISED BY THE WORLD FEDERATION OF TRADE UNIONS CONCERNING ITS PARTICIPATION IN THE WORK OF THE ECO\", \"ec\", \"Economic development\", 1946], [18, \"Australia\", \"AU\", \"no\", 1, 0.0, \"1946-02-03\", \"R/1/532\", 1.0, 0.0, \"ECOSOC CONSULTANTS\", \"TO ADOPT USSR (ORAL) AMENDMENT REPLACING THE 1ST COMM. DRAFT RESOLUTION (A/54/REV.1) WITH THE FOLLOWING:  \\\\TAKING INTO CONSIDERATION THE QUESTION RAISED BY THE WORLD FEDERATION OF TRADE UNIONS CONCERNING ITS PARTICIPATION IN THE WORK OF THE ECO\", \"ec\", \"Economic development\", 1946], [18, \"New Zealand\", \"NZ\", \"no\", 1, 0.0, \"1946-02-03\", \"R/1/532\", 1.0, 0.0, \"ECOSOC CONSULTANTS\", \"TO ADOPT USSR (ORAL) AMENDMENT REPLACING THE 1ST COMM. DRAFT RESOLUTION (A/54/REV.1) WITH THE FOLLOWING:  \\\\TAKING INTO CONSIDERATION THE QUESTION RAISED BY THE WORLD FEDERATION OF TRADE UNIONS CONCERNING ITS PARTICIPATION IN THE WORK OF THE ECO\", \"ec\", \"Economic development\", 1946], [19, \"United States\", \"US\", \"yes\", 1, 0.0, \"1946-02-03\", \"R/1/534\", 0.0, 0.0, \"ECOSOC CONSULTANTS\", \"TO ADOPT THE 1ST COMM. DRAFT RESOLUTION (A/54/REV.1) PROVIDING THAT THE E.S.C. ARRANGE FOR CONSULTATIVE COLLABORATION WITH NON-GOVERNMENTAL ORGANIZATIONS, INTERNATIONAL, NATIONAL OR REGIONAL.\", \"ec\", \"Economic development\", 1946], [19, \"Canada\", \"CA\", \"yes\", 1, 0.0, \"1946-02-03\", \"R/1/534\", 0.0, 0.0, \"ECOSOC CONSULTANTS\", \"TO ADOPT THE 1ST COMM. DRAFT RESOLUTION (A/54/REV.1) PROVIDING THAT THE E.S.C. ARRANGE FOR CONSULTATIVE COLLABORATION WITH NON-GOVERNMENTAL ORGANIZATIONS, INTERNATIONAL, NATIONAL OR REGIONAL.\", \"ec\", \"Economic development\", 1946], [19, \"Cuba\", \"CU\", \"yes\", 1, 0.0, \"1946-02-03\", \"R/1/534\", 0.0, 0.0, \"ECOSOC CONSULTANTS\", \"TO ADOPT THE 1ST COMM. DRAFT RESOLUTION (A/54/REV.1) PROVIDING THAT THE E.S.C. ARRANGE FOR CONSULTATIVE COLLABORATION WITH NON-GOVERNMENTAL ORGANIZATIONS, INTERNATIONAL, NATIONAL OR REGIONAL.\", \"ec\", \"Economic development\", 1946], [19, \"Haiti\", \"HT\", \"yes\", 1, 0.0, \"1946-02-03\", \"R/1/534\", 0.0, 0.0, \"ECOSOC CONSULTANTS\", \"TO ADOPT THE 1ST COMM. DRAFT RESOLUTION (A/54/REV.1) PROVIDING THAT THE E.S.C. ARRANGE FOR CONSULTATIVE COLLABORATION WITH NON-GOVERNMENTAL ORGANIZATIONS, INTERNATIONAL, NATIONAL OR REGIONAL.\", \"ec\", \"Economic development\", 1946], [19, \"Dominican Republic\", \"DO\", \"yes\", 1, 0.0, \"1946-02-03\", \"R/1/534\", 0.0, 0.0, \"ECOSOC CONSULTANTS\", \"TO ADOPT THE 1ST COMM. DRAFT RESOLUTION (A/54/REV.1) PROVIDING THAT THE E.S.C. ARRANGE FOR CONSULTATIVE COLLABORATION WITH NON-GOVERNMENTAL ORGANIZATIONS, INTERNATIONAL, NATIONAL OR REGIONAL.\", \"ec\", \"Economic development\", 1946], [19, \"Mexico\", \"MX\", \"abstain\", 1, 0.0, \"1946-02-03\", \"R/1/534\", 0.0, 0.0, \"ECOSOC CONSULTANTS\", \"TO ADOPT THE 1ST COMM. DRAFT RESOLUTION (A/54/REV.1) PROVIDING THAT THE E.S.C. ARRANGE FOR CONSULTATIVE COLLABORATION WITH NON-GOVERNMENTAL ORGANIZATIONS, INTERNATIONAL, NATIONAL OR REGIONAL.\", \"ec\", \"Economic development\", 1946], [19, \"Honduras\", \"HN\", \"yes\", 1, 0.0, \"1946-02-03\", \"R/1/534\", 0.0, 0.0, \"ECOSOC CONSULTANTS\", \"TO ADOPT THE 1ST COMM. DRAFT RESOLUTION (A/54/REV.1) PROVIDING THAT THE E.S.C. ARRANGE FOR CONSULTATIVE COLLABORATION WITH NON-GOVERNMENTAL ORGANIZATIONS, INTERNATIONAL, NATIONAL OR REGIONAL.\", \"ec\", \"Economic development\", 1946], [19, \"El Salvador\", \"SV\", \"yes\", 1, 0.0, \"1946-02-03\", \"R/1/534\", 0.0, 0.0, \"ECOSOC CONSULTANTS\", \"TO ADOPT THE 1ST COMM. DRAFT RESOLUTION (A/54/REV.1) PROVIDING THAT THE E.S.C. ARRANGE FOR CONSULTATIVE COLLABORATION WITH NON-GOVERNMENTAL ORGANIZATIONS, INTERNATIONAL, NATIONAL OR REGIONAL.\", \"ec\", \"Economic development\", 1946], [19, \"Nicaragua\", \"NI\", \"yes\", 1, 0.0, \"1946-02-03\", \"R/1/534\", 0.0, 0.0, \"ECOSOC CONSULTANTS\", \"TO ADOPT THE 1ST COMM. DRAFT RESOLUTION (A/54/REV.1) PROVIDING THAT THE E.S.C. ARRANGE FOR CONSULTATIVE COLLABORATION WITH NON-GOVERNMENTAL ORGANIZATIONS, INTERNATIONAL, NATIONAL OR REGIONAL.\", \"ec\", \"Economic development\", 1946], [19, \"Panama\", \"PA\", \"yes\", 1, 0.0, \"1946-02-03\", \"R/1/534\", 0.0, 0.0, \"ECOSOC CONSULTANTS\", \"TO ADOPT THE 1ST COMM. DRAFT RESOLUTION (A/54/REV.1) PROVIDING THAT THE E.S.C. ARRANGE FOR CONSULTATIVE COLLABORATION WITH NON-GOVERNMENTAL ORGANIZATIONS, INTERNATIONAL, NATIONAL OR REGIONAL.\", \"ec\", \"Economic development\", 1946], [19, \"Colombia\", \"CO\", \"abstain\", 1, 0.0, \"1946-02-03\", \"R/1/534\", 0.0, 0.0, \"ECOSOC CONSULTANTS\", \"TO ADOPT THE 1ST COMM. DRAFT RESOLUTION (A/54/REV.1) PROVIDING THAT THE E.S.C. ARRANGE FOR CONSULTATIVE COLLABORATION WITH NON-GOVERNMENTAL ORGANIZATIONS, INTERNATIONAL, NATIONAL OR REGIONAL.\", \"ec\", \"Economic development\", 1946], [19, \"Venezuela\", \"VE\", \"yes\", 1, 0.0, \"1946-02-03\", \"R/1/534\", 0.0, 0.0, \"ECOSOC CONSULTANTS\", \"TO ADOPT THE 1ST COMM. DRAFT RESOLUTION (A/54/REV.1) PROVIDING THAT THE E.S.C. ARRANGE FOR CONSULTATIVE COLLABORATION WITH NON-GOVERNMENTAL ORGANIZATIONS, INTERNATIONAL, NATIONAL OR REGIONAL.\", \"ec\", \"Economic development\", 1946], [19, \"Ecuador\", \"EC\", \"yes\", 1, 0.0, \"1946-02-03\", \"R/1/534\", 0.0, 0.0, \"ECOSOC CONSULTANTS\", \"TO ADOPT THE 1ST COMM. DRAFT RESOLUTION (A/54/REV.1) PROVIDING THAT THE E.S.C. ARRANGE FOR CONSULTATIVE COLLABORATION WITH NON-GOVERNMENTAL ORGANIZATIONS, INTERNATIONAL, NATIONAL OR REGIONAL.\", \"ec\", \"Economic development\", 1946], [19, \"Peru\", \"PE\", \"yes\", 1, 0.0, \"1946-02-03\", \"R/1/534\", 0.0, 0.0, \"ECOSOC CONSULTANTS\", \"TO ADOPT THE 1ST COMM. DRAFT RESOLUTION (A/54/REV.1) PROVIDING THAT THE E.S.C. ARRANGE FOR CONSULTATIVE COLLABORATION WITH NON-GOVERNMENTAL ORGANIZATIONS, INTERNATIONAL, NATIONAL OR REGIONAL.\", \"ec\", \"Economic development\", 1946], [19, \"Brazil\", \"BR\", \"yes\", 1, 0.0, \"1946-02-03\", \"R/1/534\", 0.0, 0.0, \"ECOSOC CONSULTANTS\", \"TO ADOPT THE 1ST COMM. DRAFT RESOLUTION (A/54/REV.1) PROVIDING THAT THE E.S.C. ARRANGE FOR CONSULTATIVE COLLABORATION WITH NON-GOVERNMENTAL ORGANIZATIONS, INTERNATIONAL, NATIONAL OR REGIONAL.\", \"ec\", \"Economic development\", 1946], [19, \"Bolivia\", \"BO\", \"yes\", 1, 0.0, \"1946-02-03\", \"R/1/534\", 0.0, 0.0, \"ECOSOC CONSULTANTS\", \"TO ADOPT THE 1ST COMM. DRAFT RESOLUTION (A/54/REV.1) PROVIDING THAT THE E.S.C. ARRANGE FOR CONSULTATIVE COLLABORATION WITH NON-GOVERNMENTAL ORGANIZATIONS, INTERNATIONAL, NATIONAL OR REGIONAL.\", \"ec\", \"Economic development\", 1946], [19, \"Paraguay\", \"PY\", \"yes\", 1, 0.0, \"1946-02-03\", \"R/1/534\", 0.0, 0.0, \"ECOSOC CONSULTANTS\", \"TO ADOPT THE 1ST COMM. DRAFT RESOLUTION (A/54/REV.1) PROVIDING THAT THE E.S.C. ARRANGE FOR CONSULTATIVE COLLABORATION WITH NON-GOVERNMENTAL ORGANIZATIONS, INTERNATIONAL, NATIONAL OR REGIONAL.\", \"ec\", \"Economic development\", 1946], [19, \"Chile\", \"CL\", \"abstain\", 1, 0.0, \"1946-02-03\", \"R/1/534\", 0.0, 0.0, \"ECOSOC CONSULTANTS\", \"TO ADOPT THE 1ST COMM. DRAFT RESOLUTION (A/54/REV.1) PROVIDING THAT THE E.S.C. ARRANGE FOR CONSULTATIVE COLLABORATION WITH NON-GOVERNMENTAL ORGANIZATIONS, INTERNATIONAL, NATIONAL OR REGIONAL.\", \"ec\", \"Economic development\", 1946], [19, \"Argentina\", \"AR\", \"yes\", 1, 0.0, \"1946-02-03\", \"R/1/534\", 0.0, 0.0, \"ECOSOC CONSULTANTS\", \"TO ADOPT THE 1ST COMM. DRAFT RESOLUTION (A/54/REV.1) PROVIDING THAT THE E.S.C. ARRANGE FOR CONSULTATIVE COLLABORATION WITH NON-GOVERNMENTAL ORGANIZATIONS, INTERNATIONAL, NATIONAL OR REGIONAL.\", \"ec\", \"Economic development\", 1946], [19, \"Uruguay\", \"UY\", \"yes\", 1, 0.0, \"1946-02-03\", \"R/1/534\", 0.0, 0.0, \"ECOSOC CONSULTANTS\", \"TO ADOPT THE 1ST COMM. DRAFT RESOLUTION (A/54/REV.1) PROVIDING THAT THE E.S.C. ARRANGE FOR CONSULTATIVE COLLABORATION WITH NON-GOVERNMENTAL ORGANIZATIONS, INTERNATIONAL, NATIONAL OR REGIONAL.\", \"ec\", \"Economic development\", 1946], [19, \"United Kingdom\", \"GB\", \"yes\", 1, 0.0, \"1946-02-03\", \"R/1/534\", 0.0, 0.0, \"ECOSOC CONSULTANTS\", \"TO ADOPT THE 1ST COMM. DRAFT RESOLUTION (A/54/REV.1) PROVIDING THAT THE E.S.C. ARRANGE FOR CONSULTATIVE COLLABORATION WITH NON-GOVERNMENTAL ORGANIZATIONS, INTERNATIONAL, NATIONAL OR REGIONAL.\", \"ec\", \"Economic development\", 1946], [19, \"Netherlands\", \"NL\", \"yes\", 1, 0.0, \"1946-02-03\", \"R/1/534\", 0.0, 0.0, \"ECOSOC CONSULTANTS\", \"TO ADOPT THE 1ST COMM. DRAFT RESOLUTION (A/54/REV.1) PROVIDING THAT THE E.S.C. ARRANGE FOR CONSULTATIVE COLLABORATION WITH NON-GOVERNMENTAL ORGANIZATIONS, INTERNATIONAL, NATIONAL OR REGIONAL.\", \"ec\", \"Economic development\", 1946], [19, \"Belgium\", \"BE\", \"abstain\", 1, 0.0, \"1946-02-03\", \"R/1/534\", 0.0, 0.0, \"ECOSOC CONSULTANTS\", \"TO ADOPT THE 1ST COMM. DRAFT RESOLUTION (A/54/REV.1) PROVIDING THAT THE E.S.C. ARRANGE FOR CONSULTATIVE COLLABORATION WITH NON-GOVERNMENTAL ORGANIZATIONS, INTERNATIONAL, NATIONAL OR REGIONAL.\", \"ec\", \"Economic development\", 1946], [19, \"Luxembourg\", \"LU\", \"yes\", 1, 0.0, \"1946-02-03\", \"R/1/534\", 0.0, 0.0, \"ECOSOC CONSULTANTS\", \"TO ADOPT THE 1ST COMM. DRAFT RESOLUTION (A/54/REV.1) PROVIDING THAT THE E.S.C. ARRANGE FOR CONSULTATIVE COLLABORATION WITH NON-GOVERNMENTAL ORGANIZATIONS, INTERNATIONAL, NATIONAL OR REGIONAL.\", \"ec\", \"Economic development\", 1946], [19, \"France\", \"FR\", \"abstain\", 1, 0.0, \"1946-02-03\", \"R/1/534\", 0.0, 0.0, \"ECOSOC CONSULTANTS\", \"TO ADOPT THE 1ST COMM. DRAFT RESOLUTION (A/54/REV.1) PROVIDING THAT THE E.S.C. ARRANGE FOR CONSULTATIVE COLLABORATION WITH NON-GOVERNMENTAL ORGANIZATIONS, INTERNATIONAL, NATIONAL OR REGIONAL.\", \"ec\", \"Economic development\", 1946], [19, \"Poland\", \"PL\", \"no\", 1, 0.0, \"1946-02-03\", \"R/1/534\", 0.0, 0.0, \"ECOSOC CONSULTANTS\", \"TO ADOPT THE 1ST COMM. DRAFT RESOLUTION (A/54/REV.1) PROVIDING THAT THE E.S.C. ARRANGE FOR CONSULTATIVE COLLABORATION WITH NON-GOVERNMENTAL ORGANIZATIONS, INTERNATIONAL, NATIONAL OR REGIONAL.\", \"ec\", \"Economic development\", 1946], [19, \"Czechoslovakia\", \"CS\", \"no\", 1, 0.0, \"1946-02-03\", \"R/1/534\", 0.0, 0.0, \"ECOSOC CONSULTANTS\", \"TO ADOPT THE 1ST COMM. DRAFT RESOLUTION (A/54/REV.1) PROVIDING THAT THE E.S.C. ARRANGE FOR CONSULTATIVE COLLABORATION WITH NON-GOVERNMENTAL ORGANIZATIONS, INTERNATIONAL, NATIONAL OR REGIONAL.\", \"ec\", \"Economic development\", 1946], [19, \"Yugoslavia\", \"YU\", \"no\", 1, 0.0, \"1946-02-03\", \"R/1/534\", 0.0, 0.0, \"ECOSOC CONSULTANTS\", \"TO ADOPT THE 1ST COMM. DRAFT RESOLUTION (A/54/REV.1) PROVIDING THAT THE E.S.C. ARRANGE FOR CONSULTATIVE COLLABORATION WITH NON-GOVERNMENTAL ORGANIZATIONS, INTERNATIONAL, NATIONAL OR REGIONAL.\", \"ec\", \"Economic development\", 1946], [19, \"Greece\", \"GR\", \"yes\", 1, 0.0, \"1946-02-03\", \"R/1/534\", 0.0, 0.0, \"ECOSOC CONSULTANTS\", \"TO ADOPT THE 1ST COMM. DRAFT RESOLUTION (A/54/REV.1) PROVIDING THAT THE E.S.C. ARRANGE FOR CONSULTATIVE COLLABORATION WITH NON-GOVERNMENTAL ORGANIZATIONS, INTERNATIONAL, NATIONAL OR REGIONAL.\", \"ec\", \"Economic development\", 1946], [19, \"Russia\", \"RU\", \"no\", 1, 0.0, \"1946-02-03\", \"R/1/534\", 0.0, 0.0, \"ECOSOC CONSULTANTS\", \"TO ADOPT THE 1ST COMM. DRAFT RESOLUTION (A/54/REV.1) PROVIDING THAT THE E.S.C. ARRANGE FOR CONSULTATIVE COLLABORATION WITH NON-GOVERNMENTAL ORGANIZATIONS, INTERNATIONAL, NATIONAL OR REGIONAL.\", \"ec\", \"Economic development\", 1946], [19, \"Ukraine\", \"UA\", \"no\", 1, 0.0, \"1946-02-03\", \"R/1/534\", 0.0, 0.0, \"ECOSOC CONSULTANTS\", \"TO ADOPT THE 1ST COMM. DRAFT RESOLUTION (A/54/REV.1) PROVIDING THAT THE E.S.C. ARRANGE FOR CONSULTATIVE COLLABORATION WITH NON-GOVERNMENTAL ORGANIZATIONS, INTERNATIONAL, NATIONAL OR REGIONAL.\", \"ec\", \"Economic development\", 1946], [19, \"Belarus\", \"BY\", \"no\", 1, 0.0, \"1946-02-03\", \"R/1/534\", 0.0, 0.0, \"ECOSOC CONSULTANTS\", \"TO ADOPT THE 1ST COMM. DRAFT RESOLUTION (A/54/REV.1) PROVIDING THAT THE E.S.C. ARRANGE FOR CONSULTATIVE COLLABORATION WITH NON-GOVERNMENTAL ORGANIZATIONS, INTERNATIONAL, NATIONAL OR REGIONAL.\", \"ec\", \"Economic development\", 1946], [19, \"Norway\", \"NO\", \"yes\", 1, 0.0, \"1946-02-03\", \"R/1/534\", 0.0, 0.0, \"ECOSOC CONSULTANTS\", \"TO ADOPT THE 1ST COMM. DRAFT RESOLUTION (A/54/REV.1) PROVIDING THAT THE E.S.C. ARRANGE FOR CONSULTATIVE COLLABORATION WITH NON-GOVERNMENTAL ORGANIZATIONS, INTERNATIONAL, NATIONAL OR REGIONAL.\", \"ec\", \"Economic development\", 1946], [19, \"Denmark\", \"DK\", \"yes\", 1, 0.0, \"1946-02-03\", \"R/1/534\", 0.0, 0.0, \"ECOSOC CONSULTANTS\", \"TO ADOPT THE 1ST COMM. DRAFT RESOLUTION (A/54/REV.1) PROVIDING THAT THE E.S.C. ARRANGE FOR CONSULTATIVE COLLABORATION WITH NON-GOVERNMENTAL ORGANIZATIONS, INTERNATIONAL, NATIONAL OR REGIONAL.\", \"ec\", \"Economic development\", 1946], [19, \"Liberia\", \"LR\", \"yes\", 1, 0.0, \"1946-02-03\", \"R/1/534\", 0.0, 0.0, \"ECOSOC CONSULTANTS\", \"TO ADOPT THE 1ST COMM. DRAFT RESOLUTION (A/54/REV.1) PROVIDING THAT THE E.S.C. ARRANGE FOR CONSULTATIVE COLLABORATION WITH NON-GOVERNMENTAL ORGANIZATIONS, INTERNATIONAL, NATIONAL OR REGIONAL.\", \"ec\", \"Economic development\", 1946], [19, \"Ethiopia\", \"ET\", \"yes\", 1, 0.0, \"1946-02-03\", \"R/1/534\", 0.0, 0.0, \"ECOSOC CONSULTANTS\", \"TO ADOPT THE 1ST COMM. DRAFT RESOLUTION (A/54/REV.1) PROVIDING THAT THE E.S.C. ARRANGE FOR CONSULTATIVE COLLABORATION WITH NON-GOVERNMENTAL ORGANIZATIONS, INTERNATIONAL, NATIONAL OR REGIONAL.\", \"ec\", \"Economic development\", 1946], [19, \"South Africa\", \"ZA\", \"yes\", 1, 0.0, \"1946-02-03\", \"R/1/534\", 0.0, 0.0, \"ECOSOC CONSULTANTS\", \"TO ADOPT THE 1ST COMM. DRAFT RESOLUTION (A/54/REV.1) PROVIDING THAT THE E.S.C. ARRANGE FOR CONSULTATIVE COLLABORATION WITH NON-GOVERNMENTAL ORGANIZATIONS, INTERNATIONAL, NATIONAL OR REGIONAL.\", \"ec\", \"Economic development\", 1946], [19, \"Iran\", \"IR\", \"abstain\", 1, 0.0, \"1946-02-03\", \"R/1/534\", 0.0, 0.0, \"ECOSOC CONSULTANTS\", \"TO ADOPT THE 1ST COMM. DRAFT RESOLUTION (A/54/REV.1) PROVIDING THAT THE E.S.C. ARRANGE FOR CONSULTATIVE COLLABORATION WITH NON-GOVERNMENTAL ORGANIZATIONS, INTERNATIONAL, NATIONAL OR REGIONAL.\", \"ec\", \"Economic development\", 1946], [19, \"Turkey\", \"TR\", \"yes\", 1, 0.0, \"1946-02-03\", \"R/1/534\", 0.0, 0.0, \"ECOSOC CONSULTANTS\", \"TO ADOPT THE 1ST COMM. DRAFT RESOLUTION (A/54/REV.1) PROVIDING THAT THE E.S.C. ARRANGE FOR CONSULTATIVE COLLABORATION WITH NON-GOVERNMENTAL ORGANIZATIONS, INTERNATIONAL, NATIONAL OR REGIONAL.\", \"ec\", \"Economic development\", 1946], [19, \"Iraq\", \"IQ\", \"abstain\", 1, 0.0, \"1946-02-03\", \"R/1/534\", 0.0, 0.0, \"ECOSOC CONSULTANTS\", \"TO ADOPT THE 1ST COMM. DRAFT RESOLUTION (A/54/REV.1) PROVIDING THAT THE E.S.C. ARRANGE FOR CONSULTATIVE COLLABORATION WITH NON-GOVERNMENTAL ORGANIZATIONS, INTERNATIONAL, NATIONAL OR REGIONAL.\", \"ec\", \"Economic development\", 1946], [19, \"Egypt\", \"EG\", \"abstain\", 1, 0.0, \"1946-02-03\", \"R/1/534\", 0.0, 0.0, \"ECOSOC CONSULTANTS\", \"TO ADOPT THE 1ST COMM. DRAFT RESOLUTION (A/54/REV.1) PROVIDING THAT THE E.S.C. ARRANGE FOR CONSULTATIVE COLLABORATION WITH NON-GOVERNMENTAL ORGANIZATIONS, INTERNATIONAL, NATIONAL OR REGIONAL.\", \"ec\", \"Economic development\", 1946], [19, \"Syria\", \"SY\", \"abstain\", 1, 0.0, \"1946-02-03\", \"R/1/534\", 0.0, 0.0, \"ECOSOC CONSULTANTS\", \"TO ADOPT THE 1ST COMM. DRAFT RESOLUTION (A/54/REV.1) PROVIDING THAT THE E.S.C. ARRANGE FOR CONSULTATIVE COLLABORATION WITH NON-GOVERNMENTAL ORGANIZATIONS, INTERNATIONAL, NATIONAL OR REGIONAL.\", \"ec\", \"Economic development\", 1946], [19, \"Lebanon\", \"LB\", \"abstain\", 1, 0.0, \"1946-02-03\", \"R/1/534\", 0.0, 0.0, \"ECOSOC CONSULTANTS\", \"TO ADOPT THE 1ST COMM. DRAFT RESOLUTION (A/54/REV.1) PROVIDING THAT THE E.S.C. ARRANGE FOR CONSULTATIVE COLLABORATION WITH NON-GOVERNMENTAL ORGANIZATIONS, INTERNATIONAL, NATIONAL OR REGIONAL.\", \"ec\", \"Economic development\", 1946], [19, \"Saudi Arabia\", \"SA\", \"abstain\", 1, 0.0, \"1946-02-03\", \"R/1/534\", 0.0, 0.0, \"ECOSOC CONSULTANTS\", \"TO ADOPT THE 1ST COMM. DRAFT RESOLUTION (A/54/REV.1) PROVIDING THAT THE E.S.C. ARRANGE FOR CONSULTATIVE COLLABORATION WITH NON-GOVERNMENTAL ORGANIZATIONS, INTERNATIONAL, NATIONAL OR REGIONAL.\", \"ec\", \"Economic development\", 1946], [19, \"Taiwan\", \"TW\", \"yes\", 1, 0.0, \"1946-02-03\", \"R/1/534\", 0.0, 0.0, \"ECOSOC CONSULTANTS\", \"TO ADOPT THE 1ST COMM. DRAFT RESOLUTION (A/54/REV.1) PROVIDING THAT THE E.S.C. ARRANGE FOR CONSULTATIVE COLLABORATION WITH NON-GOVERNMENTAL ORGANIZATIONS, INTERNATIONAL, NATIONAL OR REGIONAL.\", \"ec\", \"Economic development\", 1946], [19, \"India\", \"IN\", \"yes\", 1, 0.0, \"1946-02-03\", \"R/1/534\", 0.0, 0.0, \"ECOSOC CONSULTANTS\", \"TO ADOPT THE 1ST COMM. DRAFT RESOLUTION (A/54/REV.1) PROVIDING THAT THE E.S.C. ARRANGE FOR CONSULTATIVE COLLABORATION WITH NON-GOVERNMENTAL ORGANIZATIONS, INTERNATIONAL, NATIONAL OR REGIONAL.\", \"ec\", \"Economic development\", 1946], [19, \"Philippines\", \"PH\", \"yes\", 1, 0.0, \"1946-02-03\", \"R/1/534\", 0.0, 0.0, \"ECOSOC CONSULTANTS\", \"TO ADOPT THE 1ST COMM. DRAFT RESOLUTION (A/54/REV.1) PROVIDING THAT THE E.S.C. ARRANGE FOR CONSULTATIVE COLLABORATION WITH NON-GOVERNMENTAL ORGANIZATIONS, INTERNATIONAL, NATIONAL OR REGIONAL.\", \"ec\", \"Economic development\", 1946], [19, \"Australia\", \"AU\", \"yes\", 1, 0.0, \"1946-02-03\", \"R/1/534\", 0.0, 0.0, \"ECOSOC CONSULTANTS\", \"TO ADOPT THE 1ST COMM. DRAFT RESOLUTION (A/54/REV.1) PROVIDING THAT THE E.S.C. ARRANGE FOR CONSULTATIVE COLLABORATION WITH NON-GOVERNMENTAL ORGANIZATIONS, INTERNATIONAL, NATIONAL OR REGIONAL.\", \"ec\", \"Economic development\", 1946], [19, \"New Zealand\", \"NZ\", \"yes\", 1, 0.0, \"1946-02-03\", \"R/1/534\", 0.0, 0.0, \"ECOSOC CONSULTANTS\", \"TO ADOPT THE 1ST COMM. DRAFT RESOLUTION (A/54/REV.1) PROVIDING THAT THE E.S.C. ARRANGE FOR CONSULTATIVE COLLABORATION WITH NON-GOVERNMENTAL ORGANIZATIONS, INTERNATIONAL, NATIONAL OR REGIONAL.\", \"ec\", \"Economic development\", 1946], [24, \"United States\", \"US\", \"yes\", 1, 0.0, \"1946-12-05\", \"R/1/1229\", 0.0, 0.0, \"ECOSOC ELECTIONS\", \"TO ADOPT BELGIAN ORAL PROPOSAL TO SURRENDER BELGIUM'S SEAT IN THE E.S.C., PROVIDING THAT THE NETHERLANDS AND TURKEY BE THEREBY ELECTED TO THE 2 REMAINING VACANCIES.\", \"ec\", \"Economic development\", 1946], [24, \"Canada\", \"CA\", \"yes\", 1, 0.0, \"1946-12-05\", \"R/1/1229\", 0.0, 0.0, \"ECOSOC ELECTIONS\", \"TO ADOPT BELGIAN ORAL PROPOSAL TO SURRENDER BELGIUM'S SEAT IN THE E.S.C., PROVIDING THAT THE NETHERLANDS AND TURKEY BE THEREBY ELECTED TO THE 2 REMAINING VACANCIES.\", \"ec\", \"Economic development\", 1946], [24, \"Cuba\", \"CU\", \"yes\", 1, 0.0, \"1946-12-05\", \"R/1/1229\", 0.0, 0.0, \"ECOSOC ELECTIONS\", \"TO ADOPT BELGIAN ORAL PROPOSAL TO SURRENDER BELGIUM'S SEAT IN THE E.S.C., PROVIDING THAT THE NETHERLANDS AND TURKEY BE THEREBY ELECTED TO THE 2 REMAINING VACANCIES.\", \"ec\", \"Economic development\", 1946], [24, \"Haiti\", \"HT\", \"abstain\", 1, 0.0, \"1946-12-05\", \"R/1/1229\", 0.0, 0.0, \"ECOSOC ELECTIONS\", \"TO ADOPT BELGIAN ORAL PROPOSAL TO SURRENDER BELGIUM'S SEAT IN THE E.S.C., PROVIDING THAT THE NETHERLANDS AND TURKEY BE THEREBY ELECTED TO THE 2 REMAINING VACANCIES.\", \"ec\", \"Economic development\", 1946], [24, \"Dominican Republic\", \"DO\", \"yes\", 1, 0.0, \"1946-12-05\", \"R/1/1229\", 0.0, 0.0, \"ECOSOC ELECTIONS\", \"TO ADOPT BELGIAN ORAL PROPOSAL TO SURRENDER BELGIUM'S SEAT IN THE E.S.C., PROVIDING THAT THE NETHERLANDS AND TURKEY BE THEREBY ELECTED TO THE 2 REMAINING VACANCIES.\", \"ec\", \"Economic development\", 1946], [9092, \"Sierra Leone\", \"SL\", \"yes\", 74, NaN, \"2019-12-12\", \"A/RES/74/34\", NaN, NaN, \"Further practical measures for the prevention of an arms race in outer space \", \"Further practical measures for the prevention of an arms race in outer space \", \"ec\", \"Economic development\", 2019], [9092, \"Singapore\", \"SG\", \"yes\", 74, NaN, \"2019-12-12\", \"A/RES/74/34\", NaN, NaN, \"Further practical measures for the prevention of an arms race in outer space \", \"Further practical measures for the prevention of an arms race in outer space \", \"di\", \"Arms control and disarmament\", 2019], [9092, \"Singapore\", \"SG\", \"yes\", 74, NaN, \"2019-12-12\", \"A/RES/74/34\", NaN, NaN, \"Further practical measures for the prevention of an arms race in outer space \", \"Further practical measures for the prevention of an arms race in outer space \", \"co\", \"Colonialism\", 2019], [9092, \"Singapore\", \"SG\", \"yes\", 74, NaN, \"2019-12-12\", \"A/RES/74/34\", NaN, NaN, \"Further practical measures for the prevention of an arms race in outer space \", \"Further practical measures for the prevention of an arms race in outer space \", \"ec\", \"Economic development\", 2019], [9092, \"Slovakia\", \"SK\", \"abstain\", 74, NaN, \"2019-12-12\", \"A/RES/74/34\", NaN, NaN, \"Further practical measures for the prevention of an arms race in outer space \", \"Further practical measures for the prevention of an arms race in outer space \", \"di\", \"Arms control and disarmament\", 2019], [9092, \"Slovakia\", \"SK\", \"abstain\", 74, NaN, \"2019-12-12\", \"A/RES/74/34\", NaN, NaN, \"Further practical measures for the prevention of an arms race in outer space \", \"Further practical measures for the prevention of an arms race in outer space \", \"co\", \"Colonialism\", 2019], [9092, \"Slovakia\", \"SK\", \"abstain\", 74, NaN, \"2019-12-12\", \"A/RES/74/34\", NaN, NaN, \"Further practical measures for the prevention of an arms race in outer space \", \"Further practical measures for the prevention of an arms race in outer space \", \"ec\", \"Economic development\", 2019], [9092, \"Slovenia\", \"SI\", \"abstain\", 74, NaN, \"2019-12-12\", \"A/RES/74/34\", NaN, NaN, \"Further practical measures for the prevention of an arms race in outer space \", \"Further practical measures for the prevention of an arms race in outer space \", \"di\", \"Arms control and disarmament\", 2019], [9092, \"Slovenia\", \"SI\", \"abstain\", 74, NaN, \"2019-12-12\", \"A/RES/74/34\", NaN, NaN, \"Further practical measures for the prevention of an arms race in outer space \", \"Further practical measures for the prevention of an arms race in outer space \", \"co\", \"Colonialism\", 2019], [9092, \"Slovenia\", \"SI\", \"abstain\", 74, NaN, \"2019-12-12\", \"A/RES/74/34\", NaN, NaN, \"Further practical measures for the prevention of an arms race in outer space \", \"Further practical measures for the prevention of an arms race in outer space \", \"ec\", \"Economic development\", 2019], [9092, \"Solomon Islands\", \"SB\", \"yes\", 74, NaN, \"2019-12-12\", \"A/RES/74/34\", NaN, NaN, \"Further practical measures for the prevention of an arms race in outer space \", \"Further practical measures for the prevention of an arms race in outer space \", \"di\", \"Arms control and disarmament\", 2019], [9092, \"Solomon Islands\", \"SB\", \"yes\", 74, NaN, \"2019-12-12\", \"A/RES/74/34\", NaN, NaN, \"Further practical measures for the prevention of an arms race in outer space \", \"Further practical measures for the prevention of an arms race in outer space \", \"co\", \"Colonialism\", 2019], [9092, \"Solomon Islands\", \"SB\", \"yes\", 74, NaN, \"2019-12-12\", \"A/RES/74/34\", NaN, NaN, \"Further practical measures for the prevention of an arms race in outer space \", \"Further practical measures for the prevention of an arms race in outer space \", \"ec\", \"Economic development\", 2019], [9092, \"South Africa\", \"ZA\", \"yes\", 74, NaN, \"2019-12-12\", \"A/RES/74/34\", NaN, NaN, \"Further practical measures for the prevention of an arms race in outer space \", \"Further practical measures for the prevention of an arms race in outer space \", \"di\", \"Arms control and disarmament\", 2019], [9092, \"South Africa\", \"ZA\", \"yes\", 74, NaN, \"2019-12-12\", \"A/RES/74/34\", NaN, NaN, \"Further practical measures for the prevention of an arms race in outer space \", \"Further practical measures for the prevention of an arms race in outer space \", \"co\", \"Colonialism\", 2019], [9092, \"South Africa\", \"ZA\", \"yes\", 74, NaN, \"2019-12-12\", \"A/RES/74/34\", NaN, NaN, \"Further practical measures for the prevention of an arms race in outer space \", \"Further practical measures for the prevention of an arms race in outer space \", \"ec\", \"Economic development\", 2019], [9092, \"South Sudan\", \"SS\", \"yes\", 74, NaN, \"2019-12-12\", \"A/RES/74/34\", NaN, NaN, \"Further practical measures for the prevention of an arms race in outer space \", \"Further practical measures for the prevention of an arms race in outer space \", \"di\", \"Arms control and disarmament\", 2019], [9092, \"South Sudan\", \"SS\", \"yes\", 74, NaN, \"2019-12-12\", \"A/RES/74/34\", NaN, NaN, \"Further practical measures for the prevention of an arms race in outer space \", \"Further practical measures for the prevention of an arms race in outer space \", \"co\", \"Colonialism\", 2019], [9092, \"South Sudan\", \"SS\", \"yes\", 74, NaN, \"2019-12-12\", \"A/RES/74/34\", NaN, NaN, \"Further practical measures for the prevention of an arms race in outer space \", \"Further practical measures for the prevention of an arms race in outer space \", \"ec\", \"Economic development\", 2019], [9092, \"Spain\", \"ES\", \"abstain\", 74, NaN, \"2019-12-12\", \"A/RES/74/34\", NaN, NaN, \"Further practical measures for the prevention of an arms race in outer space \", \"Further practical measures for the prevention of an arms race in outer space \", \"di\", \"Arms control and disarmament\", 2019], [9092, \"Spain\", \"ES\", \"abstain\", 74, NaN, \"2019-12-12\", \"A/RES/74/34\", NaN, NaN, \"Further practical measures for the prevention of an arms race in outer space \", \"Further practical measures for the prevention of an arms race in outer space \", \"co\", \"Colonialism\", 2019], [9092, \"Spain\", \"ES\", \"abstain\", 74, NaN, \"2019-12-12\", \"A/RES/74/34\", NaN, NaN, \"Further practical measures for the prevention of an arms race in outer space \", \"Further practical measures for the prevention of an arms race in outer space \", \"ec\", \"Economic development\", 2019], [9092, \"Sri Lanka\", \"LK\", \"yes\", 74, NaN, \"2019-12-12\", \"A/RES/74/34\", NaN, NaN, \"Further practical measures for the prevention of an arms race in outer space \", \"Further practical measures for the prevention of an arms race in outer space \", \"di\", \"Arms control and disarmament\", 2019], [9092, \"Sri Lanka\", \"LK\", \"yes\", 74, NaN, \"2019-12-12\", \"A/RES/74/34\", NaN, NaN, \"Further practical measures for the prevention of an arms race in outer space \", \"Further practical measures for the prevention of an arms race in outer space \", \"co\", \"Colonialism\", 2019], [9092, \"Sri Lanka\", \"LK\", \"yes\", 74, NaN, \"2019-12-12\", \"A/RES/74/34\", NaN, NaN, \"Further practical measures for the prevention of an arms race in outer space \", \"Further practical measures for the prevention of an arms race in outer space \", \"ec\", \"Economic development\", 2019], [9092, \"Sudan\", \"SD\", \"yes\", 74, NaN, \"2019-12-12\", \"A/RES/74/34\", NaN, NaN, \"Further practical measures for the prevention of an arms race in outer space \", \"Further practical measures for the prevention of an arms race in outer space \", \"di\", \"Arms control and disarmament\", 2019], [9092, \"Sudan\", \"SD\", \"yes\", 74, NaN, \"2019-12-12\", \"A/RES/74/34\", NaN, NaN, \"Further practical measures for the prevention of an arms race in outer space \", \"Further practical measures for the prevention of an arms race in outer space \", \"co\", \"Colonialism\", 2019], [9092, \"Sudan\", \"SD\", \"yes\", 74, NaN, \"2019-12-12\", \"A/RES/74/34\", NaN, NaN, \"Further practical measures for the prevention of an arms race in outer space \", \"Further practical measures for the prevention of an arms race in outer space \", \"ec\", \"Economic development\", 2019], [9092, \"Suriname\", \"SR\", \"yes\", 74, NaN, \"2019-12-12\", \"A/RES/74/34\", NaN, NaN, \"Further practical measures for the prevention of an arms race in outer space \", \"Further practical measures for the prevention of an arms race in outer space \", \"di\", \"Arms control and disarmament\", 2019], [9092, \"Suriname\", \"SR\", \"yes\", 74, NaN, \"2019-12-12\", \"A/RES/74/34\", NaN, NaN, \"Further practical measures for the prevention of an arms race in outer space \", \"Further practical measures for the prevention of an arms race in outer space \", \"co\", \"Colonialism\", 2019], [9092, \"Suriname\", \"SR\", \"yes\", 74, NaN, \"2019-12-12\", \"A/RES/74/34\", NaN, NaN, \"Further practical measures for the prevention of an arms race in outer space \", \"Further practical measures for the prevention of an arms race in outer space \", \"ec\", \"Economic development\", 2019], [9092, \"Sweden\", \"SE\", \"abstain\", 74, NaN, \"2019-12-12\", \"A/RES/74/34\", NaN, NaN, \"Further practical measures for the prevention of an arms race in outer space \", \"Further practical measures for the prevention of an arms race in outer space \", \"di\", \"Arms control and disarmament\", 2019], [9092, \"Sweden\", \"SE\", \"abstain\", 74, NaN, \"2019-12-12\", \"A/RES/74/34\", NaN, NaN, \"Further practical measures for the prevention of an arms race in outer space \", \"Further practical measures for the prevention of an arms race in outer space \", \"co\", \"Colonialism\", 2019], [9092, \"Sweden\", \"SE\", \"abstain\", 74, NaN, \"2019-12-12\", \"A/RES/74/34\", NaN, NaN, \"Further practical measures for the prevention of an arms race in outer space \", \"Further practical measures for the prevention of an arms race in outer space \", \"ec\", \"Economic development\", 2019], [9092, \"Switzerland\", \"CH\", \"abstain\", 74, NaN, \"2019-12-12\", \"A/RES/74/34\", NaN, NaN, \"Further practical measures for the prevention of an arms race in outer space \", \"Further practical measures for the prevention of an arms race in outer space \", \"di\", \"Arms control and disarmament\", 2019], [9092, \"Switzerland\", \"CH\", \"abstain\", 74, NaN, \"2019-12-12\", \"A/RES/74/34\", NaN, NaN, \"Further practical measures for the prevention of an arms race in outer space \", \"Further practical measures for the prevention of an arms race in outer space \", \"co\", \"Colonialism\", 2019], [9092, \"Switzerland\", \"CH\", \"abstain\", 74, NaN, \"2019-12-12\", \"A/RES/74/34\", NaN, NaN, \"Further practical measures for the prevention of an arms race in outer space \", \"Further practical measures for the prevention of an arms race in outer space \", \"ec\", \"Economic development\", 2019], [9092, \"Syria\", \"SY\", \"yes\", 74, NaN, \"2019-12-12\", \"A/RES/74/34\", NaN, NaN, \"Further practical measures for the prevention of an arms race in outer space \", \"Further practical measures for the prevention of an arms race in outer space \", \"di\", \"Arms control and disarmament\", 2019], [9092, \"Syria\", \"SY\", \"yes\", 74, NaN, \"2019-12-12\", \"A/RES/74/34\", NaN, NaN, \"Further practical measures for the prevention of an arms race in outer space \", \"Further practical measures for the prevention of an arms race in outer space \", \"co\", \"Colonialism\", 2019], [9092, \"Syria\", \"SY\", \"yes\", 74, NaN, \"2019-12-12\", \"A/RES/74/34\", NaN, NaN, \"Further practical measures for the prevention of an arms race in outer space \", \"Further practical measures for the prevention of an arms race in outer space \", \"ec\", \"Economic development\", 2019], [9092, \"Tajikistan\", \"TJ\", \"yes\", 74, NaN, \"2019-12-12\", \"A/RES/74/34\", NaN, NaN, \"Further practical measures for the prevention of an arms race in outer space \", \"Further practical measures for the prevention of an arms race in outer space \", \"di\", \"Arms control and disarmament\", 2019], [9092, \"Tajikistan\", \"TJ\", \"yes\", 74, NaN, \"2019-12-12\", \"A/RES/74/34\", NaN, NaN, \"Further practical measures for the prevention of an arms race in outer space \", \"Further practical measures for the prevention of an arms race in outer space \", \"co\", \"Colonialism\", 2019], [9092, \"Tajikistan\", \"TJ\", \"yes\", 74, NaN, \"2019-12-12\", \"A/RES/74/34\", NaN, NaN, \"Further practical measures for the prevention of an arms race in outer space \", \"Further practical measures for the prevention of an arms race in outer space \", \"ec\", \"Economic development\", 2019], [9092, \"Thailand\", \"TH\", \"yes\", 74, NaN, \"2019-12-12\", \"A/RES/74/34\", NaN, NaN, \"Further practical measures for the prevention of an arms race in outer space \", \"Further practical measures for the prevention of an arms race in outer space \", \"di\", \"Arms control and disarmament\", 2019], [9092, \"Thailand\", \"TH\", \"yes\", 74, NaN, \"2019-12-12\", \"A/RES/74/34\", NaN, NaN, \"Further practical measures for the prevention of an arms race in outer space \", \"Further practical measures for the prevention of an arms race in outer space \", \"co\", \"Colonialism\", 2019], [9092, \"Thailand\", \"TH\", \"yes\", 74, NaN, \"2019-12-12\", \"A/RES/74/34\", NaN, NaN, \"Further practical measures for the prevention of an arms race in outer space \", \"Further practical measures for the prevention of an arms race in outer space \", \"ec\", \"Economic development\", 2019], [9092, \"Timor-Leste\", \"TL\", \"yes\", 74, NaN, \"2019-12-12\", \"A/RES/74/34\", NaN, NaN, \"Further practical measures for the prevention of an arms race in outer space \", \"Further practical measures for the prevention of an arms race in outer space \", \"di\", \"Arms control and disarmament\", 2019], [9092, \"Timor-Leste\", \"TL\", \"yes\", 74, NaN, \"2019-12-12\", \"A/RES/74/34\", NaN, NaN, \"Further practical measures for the prevention of an arms race in outer space \", \"Further practical measures for the prevention of an arms race in outer space \", \"co\", \"Colonialism\", 2019], [9092, \"Timor-Leste\", \"TL\", \"yes\", 74, NaN, \"2019-12-12\", \"A/RES/74/34\", NaN, NaN, \"Further practical measures for the prevention of an arms race in outer space \", \"Further practical measures for the prevention of an arms race in outer space \", \"ec\", \"Economic development\", 2019], [9092, \"Togo\", \"TG\", \"yes\", 74, NaN, \"2019-12-12\", \"A/RES/74/34\", NaN, NaN, \"Further practical measures for the prevention of an arms race in outer space \", \"Further practical measures for the prevention of an arms race in outer space \", \"di\", \"Arms control and disarmament\", 2019], [9092, \"Togo\", \"TG\", \"yes\", 74, NaN, \"2019-12-12\", \"A/RES/74/34\", NaN, NaN, \"Further practical measures for the prevention of an arms race in outer space \", \"Further practical measures for the prevention of an arms race in outer space \", \"co\", \"Colonialism\", 2019], [9092, \"Togo\", \"TG\", \"yes\", 74, NaN, \"2019-12-12\", \"A/RES/74/34\", NaN, NaN, \"Further practical measures for the prevention of an arms race in outer space \", \"Further practical measures for the prevention of an arms race in outer space \", \"ec\", \"Economic development\", 2019], [9092, \"Trinidad & Tobago\", \"TT\", \"yes\", 74, NaN, \"2019-12-12\", \"A/RES/74/34\", NaN, NaN, \"Further practical measures for the prevention of an arms race in outer space \", \"Further practical measures for the prevention of an arms race in outer space \", \"di\", \"Arms control and disarmament\", 2019], [9092, \"Trinidad & Tobago\", \"TT\", \"yes\", 74, NaN, \"2019-12-12\", \"A/RES/74/34\", NaN, NaN, \"Further practical measures for the prevention of an arms race in outer space \", \"Further practical measures for the prevention of an arms race in outer space \", \"co\", \"Colonialism\", 2019], [9092, \"Trinidad & Tobago\", \"TT\", \"yes\", 74, NaN, \"2019-12-12\", \"A/RES/74/34\", NaN, NaN, \"Further practical measures for the prevention of an arms race in outer space \", \"Further practical measures for the prevention of an arms race in outer space \", \"ec\", \"Economic development\", 2019], [9092, \"Tunisia\", \"TN\", \"yes\", 74, NaN, \"2019-12-12\", \"A/RES/74/34\", NaN, NaN, \"Further practical measures for the prevention of an arms race in outer space \", \"Further practical measures for the prevention of an arms race in outer space \", \"di\", \"Arms control and disarmament\", 2019], [9092, \"Tunisia\", \"TN\", \"yes\", 74, NaN, \"2019-12-12\", \"A/RES/74/34\", NaN, NaN, \"Further practical measures for the prevention of an arms race in outer space \", \"Further practical measures for the prevention of an arms race in outer space \", \"co\", \"Colonialism\", 2019], [9092, \"Tunisia\", \"TN\", \"yes\", 74, NaN, \"2019-12-12\", \"A/RES/74/34\", NaN, NaN, \"Further practical measures for the prevention of an arms race in outer space \", \"Further practical measures for the prevention of an arms race in outer space \", \"ec\", \"Economic development\", 2019], [9092, \"Turkey\", \"TR\", \"abstain\", 74, NaN, \"2019-12-12\", \"A/RES/74/34\", NaN, NaN, \"Further practical measures for the prevention of an arms race in outer space \", \"Further practical measures for the prevention of an arms race in outer space \", \"di\", \"Arms control and disarmament\", 2019], [9092, \"Turkey\", \"TR\", \"abstain\", 74, NaN, \"2019-12-12\", \"A/RES/74/34\", NaN, NaN, \"Further practical measures for the prevention of an arms race in outer space \", \"Further practical measures for the prevention of an arms race in outer space \", \"co\", \"Colonialism\", 2019], [9092, \"Turkey\", \"TR\", \"abstain\", 74, NaN, \"2019-12-12\", \"A/RES/74/34\", NaN, NaN, \"Further practical measures for the prevention of an arms race in outer space \", \"Further practical measures for the prevention of an arms race in outer space \", \"ec\", \"Economic development\", 2019], [9092, \"Turkmenistan\", \"TM\", \"yes\", 74, NaN, \"2019-12-12\", \"A/RES/74/34\", NaN, NaN, \"Further practical measures for the prevention of an arms race in outer space \", \"Further practical measures for the prevention of an arms race in outer space \", \"di\", \"Arms control and disarmament\", 2019], [9092, \"Turkmenistan\", \"TM\", \"yes\", 74, NaN, \"2019-12-12\", \"A/RES/74/34\", NaN, NaN, \"Further practical measures for the prevention of an arms race in outer space \", \"Further practical measures for the prevention of an arms race in outer space \", \"co\", \"Colonialism\", 2019], [9092, \"Turkmenistan\", \"TM\", \"yes\", 74, NaN, \"2019-12-12\", \"A/RES/74/34\", NaN, NaN, \"Further practical measures for the prevention of an arms race in outer space \", \"Further practical measures for the prevention of an arms race in outer space \", \"ec\", \"Economic development\", 2019], [9092, \"Tuvalu\", \"TV\", \"yes\", 74, NaN, \"2019-12-12\", \"A/RES/74/34\", NaN, NaN, \"Further practical measures for the prevention of an arms race in outer space \", \"Further practical measures for the prevention of an arms race in outer space \", \"di\", \"Arms control and disarmament\", 2019], [9092, \"Tuvalu\", \"TV\", \"yes\", 74, NaN, \"2019-12-12\", \"A/RES/74/34\", NaN, NaN, \"Further practical measures for the prevention of an arms race in outer space \", \"Further practical measures for the prevention of an arms race in outer space \", \"co\", \"Colonialism\", 2019], [9092, \"Tuvalu\", \"TV\", \"yes\", 74, NaN, \"2019-12-12\", \"A/RES/74/34\", NaN, NaN, \"Further practical measures for the prevention of an arms race in outer space \", \"Further practical measures for the prevention of an arms race in outer space \", \"ec\", \"Economic development\", 2019], [9092, \"Uganda\", \"UG\", \"yes\", 74, NaN, \"2019-12-12\", \"A/RES/74/34\", NaN, NaN, \"Further practical measures for the prevention of an arms race in outer space \", \"Further practical measures for the prevention of an arms race in outer space \", \"di\", \"Arms control and disarmament\", 2019], [9092, \"Uganda\", \"UG\", \"yes\", 74, NaN, \"2019-12-12\", \"A/RES/74/34\", NaN, NaN, \"Further practical measures for the prevention of an arms race in outer space \", \"Further practical measures for the prevention of an arms race in outer space \", \"co\", \"Colonialism\", 2019], [9092, \"Uganda\", \"UG\", \"yes\", 74, NaN, \"2019-12-12\", \"A/RES/74/34\", NaN, NaN, \"Further practical measures for the prevention of an arms race in outer space \", \"Further practical measures for the prevention of an arms race in outer space \", \"ec\", \"Economic development\", 2019], [9092, \"Ukraine\", \"UA\", \"no\", 74, NaN, \"2019-12-12\", \"A/RES/74/34\", NaN, NaN, \"Further practical measures for the prevention of an arms race in outer space \", \"Further practical measures for the prevention of an arms race in outer space \", \"di\", \"Arms control and disarmament\", 2019], [9092, \"Ukraine\", \"UA\", \"no\", 74, NaN, \"2019-12-12\", \"A/RES/74/34\", NaN, NaN, \"Further practical measures for the prevention of an arms race in outer space \", \"Further practical measures for the prevention of an arms race in outer space \", \"co\", \"Colonialism\", 2019], [9092, \"Ukraine\", \"UA\", \"no\", 74, NaN, \"2019-12-12\", \"A/RES/74/34\", NaN, NaN, \"Further practical measures for the prevention of an arms race in outer space \", \"Further practical measures for the prevention of an arms race in outer space \", \"ec\", \"Economic development\", 2019], [9092, \"United Arab Emirates\", \"AE\", \"yes\", 74, NaN, \"2019-12-12\", \"A/RES/74/34\", NaN, NaN, \"Further practical measures for the prevention of an arms race in outer space \", \"Further practical measures for the prevention of an arms race in outer space \", \"di\", \"Arms control and disarmament\", 2019], [9092, \"United Arab Emirates\", \"AE\", \"yes\", 74, NaN, \"2019-12-12\", \"A/RES/74/34\", NaN, NaN, \"Further practical measures for the prevention of an arms race in outer space \", \"Further practical measures for the prevention of an arms race in outer space \", \"co\", \"Colonialism\", 2019], [9092, \"United Arab Emirates\", \"AE\", \"yes\", 74, NaN, \"2019-12-12\", \"A/RES/74/34\", NaN, NaN, \"Further practical measures for the prevention of an arms race in outer space \", \"Further practical measures for the prevention of an arms race in outer space \", \"ec\", \"Economic development\", 2019], [9092, \"United Kingdom\", \"GB\", \"no\", 74, NaN, \"2019-12-12\", \"A/RES/74/34\", NaN, NaN, \"Further practical measures for the prevention of an arms race in outer space \", \"Further practical measures for the prevention of an arms race in outer space \", \"di\", \"Arms control and disarmament\", 2019], [9092, \"United Kingdom\", \"GB\", \"no\", 74, NaN, \"2019-12-12\", \"A/RES/74/34\", NaN, NaN, \"Further practical measures for the prevention of an arms race in outer space \", \"Further practical measures for the prevention of an arms race in outer space \", \"co\", \"Colonialism\", 2019], [9092, \"United Kingdom\", \"GB\", \"no\", 74, NaN, \"2019-12-12\", \"A/RES/74/34\", NaN, NaN, \"Further practical measures for the prevention of an arms race in outer space \", \"Further practical measures for the prevention of an arms race in outer space \", \"ec\", \"Economic development\", 2019], [9092, \"Tanzania\", \"TZ\", \"yes\", 74, NaN, \"2019-12-12\", \"A/RES/74/34\", NaN, NaN, \"Further practical measures for the prevention of an arms race in outer space \", \"Further practical measures for the prevention of an arms race in outer space \", \"di\", \"Arms control and disarmament\", 2019], [9092, \"Tanzania\", \"TZ\", \"yes\", 74, NaN, \"2019-12-12\", \"A/RES/74/34\", NaN, NaN, \"Further practical measures for the prevention of an arms race in outer space \", \"Further practical measures for the prevention of an arms race in outer space \", \"co\", \"Colonialism\", 2019], [9092, \"Tanzania\", \"TZ\", \"yes\", 74, NaN, \"2019-12-12\", \"A/RES/74/34\", NaN, NaN, \"Further practical measures for the prevention of an arms race in outer space \", \"Further practical measures for the prevention of an arms race in outer space \", \"ec\", \"Economic development\", 2019], [9092, \"United States\", \"US\", \"no\", 74, NaN, \"2019-12-12\", \"A/RES/74/34\", NaN, NaN, \"Further practical measures for the prevention of an arms race in outer space \", \"Further practical measures for the prevention of an arms race in outer space \", \"di\", \"Arms control and disarmament\", 2019], [9092, \"United States\", \"US\", \"no\", 74, NaN, \"2019-12-12\", \"A/RES/74/34\", NaN, NaN, \"Further practical measures for the prevention of an arms race in outer space \", \"Further practical measures for the prevention of an arms race in outer space \", \"co\", \"Colonialism\", 2019], [9092, \"United States\", \"US\", \"no\", 74, NaN, \"2019-12-12\", \"A/RES/74/34\", NaN, NaN, \"Further practical measures for the prevention of an arms race in outer space \", \"Further practical measures for the prevention of an arms race in outer space \", \"ec\", \"Economic development\", 2019], [9092, \"Uruguay\", \"UY\", \"yes\", 74, NaN, \"2019-12-12\", \"A/RES/74/34\", NaN, NaN, \"Further practical measures for the prevention of an arms race in outer space \", \"Further practical measures for the prevention of an arms race in outer space \", \"di\", \"Arms control and disarmament\", 2019], [9092, \"Uruguay\", \"UY\", \"yes\", 74, NaN, \"2019-12-12\", \"A/RES/74/34\", NaN, NaN, \"Further practical measures for the prevention of an arms race in outer space \", \"Further practical measures for the prevention of an arms race in outer space \", \"co\", \"Colonialism\", 2019], [9092, \"Uruguay\", \"UY\", \"yes\", 74, NaN, \"2019-12-12\", \"A/RES/74/34\", NaN, NaN, \"Further practical measures for the prevention of an arms race in outer space \", \"Further practical measures for the prevention of an arms race in outer space \", \"ec\", \"Economic development\", 2019], [9092, \"Uzbekistan\", \"UZ\", \"yes\", 74, NaN, \"2019-12-12\", \"A/RES/74/34\", NaN, NaN, \"Further practical measures for the prevention of an arms race in outer space \", \"Further practical measures for the prevention of an arms race in outer space \", \"di\", \"Arms control and disarmament\", 2019], [9092, \"Uzbekistan\", \"UZ\", \"yes\", 74, NaN, \"2019-12-12\", \"A/RES/74/34\", NaN, NaN, \"Further practical measures for the prevention of an arms race in outer space \", \"Further practical measures for the prevention of an arms race in outer space \", \"co\", \"Colonialism\", 2019], [9092, \"Uzbekistan\", \"UZ\", \"yes\", 74, NaN, \"2019-12-12\", \"A/RES/74/34\", NaN, NaN, \"Further practical measures for the prevention of an arms race in outer space \", \"Further practical measures for the prevention of an arms race in outer space \", \"ec\", \"Economic development\", 2019], [9092, \"Vanuatu\", \"VU\", \"yes\", 74, NaN, \"2019-12-12\", \"A/RES/74/34\", NaN, NaN, \"Further practical measures for the prevention of an arms race in outer space \", \"Further practical measures for the prevention of an arms race in outer space \", \"di\", \"Arms control and disarmament\", 2019], [9092, \"Vanuatu\", \"VU\", \"yes\", 74, NaN, \"2019-12-12\", \"A/RES/74/34\", NaN, NaN, \"Further practical measures for the prevention of an arms race in outer space \", \"Further practical measures for the prevention of an arms race in outer space \", \"co\", \"Colonialism\", 2019], [9092, \"Vanuatu\", \"VU\", \"yes\", 74, NaN, \"2019-12-12\", \"A/RES/74/34\", NaN, NaN, \"Further practical measures for the prevention of an arms race in outer space \", \"Further practical measures for the prevention of an arms race in outer space \", \"ec\", \"Economic development\", 2019], [9092, \"Venezuela\", \"VE\", \"yes\", 74, NaN, \"2019-12-12\", \"A/RES/74/34\", NaN, NaN, \"Further practical measures for the prevention of an arms race in outer space \", \"Further practical measures for the prevention of an arms race in outer space \", \"di\", \"Arms control and disarmament\", 2019], [9092, \"Venezuela\", \"VE\", \"yes\", 74, NaN, \"2019-12-12\", \"A/RES/74/34\", NaN, NaN, \"Further practical measures for the prevention of an arms race in outer space \", \"Further practical measures for the prevention of an arms race in outer space \", \"co\", \"Colonialism\", 2019], [9092, \"Venezuela\", \"VE\", \"yes\", 74, NaN, \"2019-12-12\", \"A/RES/74/34\", NaN, NaN, \"Further practical measures for the prevention of an arms race in outer space \", \"Further practical measures for the prevention of an arms race in outer space \", \"ec\", \"Economic development\", 2019], [9092, \"Vietnam\", \"VN\", \"yes\", 74, NaN, \"2019-12-12\", \"A/RES/74/34\", NaN, NaN, \"Further practical measures for the prevention of an arms race in outer space \", \"Further practical measures for the prevention of an arms race in outer space \", \"di\", \"Arms control and disarmament\", 2019], [9092, \"Vietnam\", \"VN\", \"yes\", 74, NaN, \"2019-12-12\", \"A/RES/74/34\", NaN, NaN, \"Further practical measures for the prevention of an arms race in outer space \", \"Further practical measures for the prevention of an arms race in outer space \", \"co\", \"Colonialism\", 2019], [9092, \"Vietnam\", \"VN\", \"yes\", 74, NaN, \"2019-12-12\", \"A/RES/74/34\", NaN, NaN, \"Further practical measures for the prevention of an arms race in outer space \", \"Further practical measures for the prevention of an arms race in outer space \", \"ec\", \"Economic development\", 2019], [9092, \"Yemen\", \"YE\", \"yes\", 74, NaN, \"2019-12-12\", \"A/RES/74/34\", NaN, NaN, \"Further practical measures for the prevention of an arms race in outer space \", \"Further practical measures for the prevention of an arms race in outer space \", \"di\", \"Arms control and disarmament\", 2019], [9092, \"Yemen\", \"YE\", \"yes\", 74, NaN, \"2019-12-12\", \"A/RES/74/34\", NaN, NaN, \"Further practical measures for the prevention of an arms race in outer space \", \"Further practical measures for the prevention of an arms race in outer space \", \"co\", \"Colonialism\", 2019], [9092, \"Yemen\", \"YE\", \"yes\", 74, NaN, \"2019-12-12\", \"A/RES/74/34\", NaN, NaN, \"Further practical measures for the prevention of an arms race in outer space \", \"Further practical measures for the prevention of an arms race in outer space \", \"ec\", \"Economic development\", 2019], [9092, \"Zambia\", \"ZM\", \"yes\", 74, NaN, \"2019-12-12\", \"A/RES/74/34\", NaN, NaN, \"Further practical measures for the prevention of an arms race in outer space \", \"Further practical measures for the prevention of an arms race in outer space \", \"di\", \"Arms control and disarmament\", 2019], [9092, \"Zambia\", \"ZM\", \"yes\", 74, NaN, \"2019-12-12\", \"A/RES/74/34\", NaN, NaN, \"Further practical measures for the prevention of an arms race in outer space \", \"Further practical measures for the prevention of an arms race in outer space \", \"co\", \"Colonialism\", 2019], [9092, \"Zambia\", \"ZM\", \"yes\", 74, NaN, \"2019-12-12\", \"A/RES/74/34\", NaN, NaN, \"Further practical measures for the prevention of an arms race in outer space \", \"Further practical measures for the prevention of an arms race in outer space \", \"ec\", \"Economic development\", 2019], [9092, \"Zimbabwe\", \"ZW\", \"yes\", 74, NaN, \"2019-12-12\", \"A/RES/74/34\", NaN, NaN, \"Further practical measures for the prevention of an arms race in outer space \", \"Further practical measures for the prevention of an arms race in outer space \", \"di\", \"Arms control and disarmament\", 2019], [9092, \"Zimbabwe\", \"ZW\", \"yes\", 74, NaN, \"2019-12-12\", \"A/RES/74/34\", NaN, NaN, \"Further practical measures for the prevention of an arms race in outer space \", \"Further practical measures for the prevention of an arms race in outer space \", \"co\", \"Colonialism\", 2019], [9092, \"Zimbabwe\", \"ZW\", \"yes\", 74, NaN, \"2019-12-12\", \"A/RES/74/34\", NaN, NaN, \"Further practical measures for the prevention of an arms race in outer space \", \"Further practical measures for the prevention of an arms race in outer space \", \"ec\", \"Economic development\", 2019], [9101, \"Afghanistan\", \"AF\", \"yes\", 74, NaN, \"2019-12-03\", \"A/RES/74/12\", NaN, NaN, \"Division for Palestinian Rights of the Secretariat \", \"Division for Palestinian Rights of the Secretariat \", \"me\", \"Palestinian conflict\", 2019], [9101, \"Albania\", \"AL\", \"abstain\", 74, NaN, \"2019-12-03\", \"A/RES/74/12\", NaN, NaN, \"Division for Palestinian Rights of the Secretariat \", \"Division for Palestinian Rights of the Secretariat \", \"me\", \"Palestinian conflict\", 2019], [9101, \"Algeria\", \"DZ\", \"yes\", 74, NaN, \"2019-12-03\", \"A/RES/74/12\", NaN, NaN, \"Division for Palestinian Rights of the Secretariat \", \"Division for Palestinian Rights of the Secretariat \", \"me\", \"Palestinian conflict\", 2019], [9101, \"Andorra\", \"AD\", \"abstain\", 74, NaN, \"2019-12-03\", \"A/RES/74/12\", NaN, NaN, \"Division for Palestinian Rights of the Secretariat \", \"Division for Palestinian Rights of the Secretariat \", \"me\", \"Palestinian conflict\", 2019], [9101, \"Angola\", \"AO\", \"yes\", 74, NaN, \"2019-12-03\", \"A/RES/74/12\", NaN, NaN, \"Division for Palestinian Rights of the Secretariat \", \"Division for Palestinian Rights of the Secretariat \", \"me\", \"Palestinian conflict\", 2019], [9101, \"Antigua & Barbuda\", \"AG\", \"yes\", 74, NaN, \"2019-12-03\", \"A/RES/74/12\", NaN, NaN, \"Division for Palestinian Rights of the Secretariat \", \"Division for Palestinian Rights of the Secretariat \", \"me\", \"Palestinian conflict\", 2019], [9101, \"Argentina\", \"AR\", \"abstain\", 74, NaN, \"2019-12-03\", \"A/RES/74/12\", NaN, NaN, \"Division for Palestinian Rights of the Secretariat \", \"Division for Palestinian Rights of the Secretariat \", \"me\", \"Palestinian conflict\", 2019], [9101, \"Armenia\", \"AM\", \"abstain\", 74, NaN, \"2019-12-03\", \"A/RES/74/12\", NaN, NaN, \"Division for Palestinian Rights of the Secretariat \", \"Division for Palestinian Rights of the Secretariat \", \"me\", \"Palestinian conflict\", 2019], [9101, \"Australia\", \"AU\", \"no\", 74, NaN, \"2019-12-03\", \"A/RES/74/12\", NaN, NaN, \"Division for Palestinian Rights of the Secretariat \", \"Division for Palestinian Rights of the Secretariat \", \"me\", \"Palestinian conflict\", 2019], [9101, \"Austria\", \"AT\", \"no\", 74, NaN, \"2019-12-03\", \"A/RES/74/12\", NaN, NaN, \"Division for Palestinian Rights of the Secretariat \", \"Division for Palestinian Rights of the Secretariat \", \"me\", \"Palestinian conflict\", 2019], [9101, \"Azerbaijan\", \"AZ\", \"yes\", 74, NaN, \"2019-12-03\", \"A/RES/74/12\", NaN, NaN, \"Division for Palestinian Rights of the Secretariat \", \"Division for Palestinian Rights of the Secretariat \", \"me\", \"Palestinian conflict\", 2019], [9101, \"Bahrain\", \"BH\", \"yes\", 74, NaN, \"2019-12-03\", \"A/RES/74/12\", NaN, NaN, \"Division for Palestinian Rights of the Secretariat \", \"Division for Palestinian Rights of the Secretariat \", \"me\", \"Palestinian conflict\", 2019], [9101, \"Bangladesh\", \"BD\", \"yes\", 74, NaN, \"2019-12-03\", \"A/RES/74/12\", NaN, NaN, \"Division for Palestinian Rights of the Secretariat \", \"Division for Palestinian Rights of the Secretariat \", \"me\", \"Palestinian conflict\", 2019], [9101, \"Belarus\", \"BY\", \"abstain\", 74, NaN, \"2019-12-03\", \"A/RES/74/12\", NaN, NaN, \"Division for Palestinian Rights of the Secretariat \", \"Division for Palestinian Rights of the Secretariat \", \"me\", \"Palestinian conflict\", 2019], [9101, \"Belgium\", \"BE\", \"abstain\", 74, NaN, \"2019-12-03\", \"A/RES/74/12\", NaN, NaN, \"Division for Palestinian Rights of the Secretariat \", \"Division for Palestinian Rights of the Secretariat \", \"me\", \"Palestinian conflict\", 2019], [9101, \"Belize\", \"BZ\", \"yes\", 74, NaN, \"2019-12-03\", \"A/RES/74/12\", NaN, NaN, \"Division for Palestinian Rights of the Secretariat \", \"Division for Palestinian Rights of the Secretariat \", \"me\", \"Palestinian conflict\", 2019], [9101, \"Bhutan\", \"BT\", \"yes\", 74, NaN, \"2019-12-03\", \"A/RES/74/12\", NaN, NaN, \"Division for Palestinian Rights of the Secretariat \", \"Division for Palestinian Rights of the Secretariat \", \"me\", \"Palestinian conflict\", 2019], [9101, \"Bolivia\", \"BO\", \"yes\", 74, NaN, \"2019-12-03\", \"A/RES/74/12\", NaN, NaN, \"Division for Palestinian Rights of the Secretariat \", \"Division for Palestinian Rights of the Secretariat \", \"me\", \"Palestinian conflict\", 2019], [9101, \"Bosnia & Herzegovina\", \"BA\", \"abstain\", 74, NaN, \"2019-12-03\", \"A/RES/74/12\", NaN, NaN, \"Division for Palestinian Rights of the Secretariat \", \"Division for Palestinian Rights of the Secretariat \", \"me\", \"Palestinian conflict\", 2019], [9101, \"Botswana\", \"BW\", \"yes\", 74, NaN, \"2019-12-03\", \"A/RES/74/12\", NaN, NaN, \"Division for Palestinian Rights of the Secretariat \", \"Division for Palestinian Rights of the Secretariat \", \"me\", \"Palestinian conflict\", 2019], [9101, \"Brazil\", \"BR\", \"no\", 74, NaN, \"2019-12-03\", \"A/RES/74/12\", NaN, NaN, \"Division for Palestinian Rights of the Secretariat \", \"Division for Palestinian Rights of the Secretariat \", \"me\", \"Palestinian conflict\", 2019], [9101, \"Brunei\", \"BN\", \"yes\", 74, NaN, \"2019-12-03\", \"A/RES/74/12\", NaN, NaN, \"Division for Palestinian Rights of the Secretariat \", \"Division for Palestinian Rights of the Secretariat \", \"me\", \"Palestinian conflict\", 2019], [9101, \"Bulgaria\", \"BG\", \"no\", 74, NaN, \"2019-12-03\", \"A/RES/74/12\", NaN, NaN, \"Division for Palestinian Rights of the Secretariat \", \"Division for Palestinian Rights of the Secretariat \", \"me\", \"Palestinian conflict\", 2019], [9101, \"Burundi\", \"BI\", \"yes\", 74, NaN, \"2019-12-03\", \"A/RES/74/12\", NaN, NaN, \"Division for Palestinian Rights of the Secretariat \", \"Division for Palestinian Rights of the Secretariat \", \"me\", \"Palestinian conflict\", 2019], [9101, \"Cape Verde\", \"CV\", \"abstain\", 74, NaN, \"2019-12-03\", \"A/RES/74/12\", NaN, NaN, \"Division for Palestinian Rights of the Secretariat \", \"Division for Palestinian Rights of the Secretariat \", \"me\", \"Palestinian conflict\", 2019], [9101, \"Cambodia\", \"KH\", \"yes\", 74, NaN, \"2019-12-03\", \"A/RES/74/12\", NaN, NaN, \"Division for Palestinian Rights of the Secretariat \", \"Division for Palestinian Rights of the Secretariat \", \"me\", \"Palestinian conflict\", 2019], [9101, \"Cameroon\", \"CM\", \"abstain\", 74, NaN, \"2019-12-03\", \"A/RES/74/12\", NaN, NaN, \"Division for Palestinian Rights of the Secretariat \", \"Division for Palestinian Rights of the Secretariat \", \"me\", \"Palestinian conflict\", 2019], [9101, \"Canada\", \"CA\", \"no\", 74, NaN, \"2019-12-03\", \"A/RES/74/12\", NaN, NaN, \"Division for Palestinian Rights of the Secretariat \", \"Division for Palestinian Rights of the Secretariat \", \"me\", \"Palestinian conflict\", 2019], [9101, \"Chile\", \"CL\", \"yes\", 74, NaN, \"2019-12-03\", \"A/RES/74/12\", NaN, NaN, \"Division for Palestinian Rights of the Secretariat \", \"Division for Palestinian Rights of the Secretariat \", \"me\", \"Palestinian conflict\", 2019], [9101, \"China\", \"CN\", \"yes\", 74, NaN, \"2019-12-03\", \"A/RES/74/12\", NaN, NaN, \"Division for Palestinian Rights of the Secretariat \", \"Division for Palestinian Rights of the Secretariat \", \"me\", \"Palestinian conflict\", 2019], [9101, \"Colombia\", \"CO\", \"no\", 74, NaN, \"2019-12-03\", \"A/RES/74/12\", NaN, NaN, \"Division for Palestinian Rights of the Secretariat \", \"Division for Palestinian Rights of the Secretariat \", \"me\", \"Palestinian conflict\", 2019], [9101, \"Costa Rica\", \"CR\", \"yes\", 74, NaN, \"2019-12-03\", \"A/RES/74/12\", NaN, NaN, \"Division for Palestinian Rights of the Secretariat \", \"Division for Palestinian Rights of the Secretariat \", \"me\", \"Palestinian conflict\", 2019], [9101, \"C\\u00f4te d\\u2019Ivoire\", \"CI\", \"abstain\", 74, NaN, \"2019-12-03\", \"A/RES/74/12\", NaN, NaN, \"Division for Palestinian Rights of the Secretariat \", \"Division for Palestinian Rights of the Secretariat \", \"me\", \"Palestinian conflict\", 2019], [9101, \"Croatia\", \"HR\", \"abstain\", 74, NaN, \"2019-12-03\", \"A/RES/74/12\", NaN, NaN, \"Division for Palestinian Rights of the Secretariat \", \"Division for Palestinian Rights of the Secretariat \", \"me\", \"Palestinian conflict\", 2019], [9101, \"Cuba\", \"CU\", \"yes\", 74, NaN, \"2019-12-03\", \"A/RES/74/12\", NaN, NaN, \"Division for Palestinian Rights of the Secretariat \", \"Division for Palestinian Rights of the Secretariat \", \"me\", \"Palestinian conflict\", 2019], [9101, \"Cyprus\", \"CY\", \"yes\", 74, NaN, \"2019-12-03\", \"A/RES/74/12\", NaN, NaN, \"Division for Palestinian Rights of the Secretariat \", \"Division for Palestinian Rights of the Secretariat \", \"me\", \"Palestinian conflict\", 2019], [9101, \"Czechia\", \"CZ\", \"no\", 74, NaN, \"2019-12-03\", \"A/RES/74/12\", NaN, NaN, \"Division for Palestinian Rights of the Secretariat \", \"Division for Palestinian Rights of the Secretariat \", \"me\", \"Palestinian conflict\", 2019], [9101, \"North Korea\", \"KP\", \"yes\", 74, NaN, \"2019-12-03\", \"A/RES/74/12\", NaN, NaN, \"Division for Palestinian Rights of the Secretariat \", \"Division for Palestinian Rights of the Secretariat \", \"me\", \"Palestinian conflict\", 2019], [9101, \"Denmark\", \"DK\", \"no\", 74, NaN, \"2019-12-03\", \"A/RES/74/12\", NaN, NaN, \"Division for Palestinian Rights of the Secretariat \", \"Division for Palestinian Rights of the Secretariat \", \"me\", \"Palestinian conflict\", 2019], [9101, \"Djibouti\", \"DJ\", \"yes\", 74, NaN, \"2019-12-03\", \"A/RES/74/12\", NaN, NaN, \"Division for Palestinian Rights of the Secretariat \", \"Division for Palestinian Rights of the Secretariat \", \"me\", \"Palestinian conflict\", 2019], [9101, \"Dominican Republic\", \"DO\", \"yes\", 74, NaN, \"2019-12-03\", \"A/RES/74/12\", NaN, NaN, \"Division for Palestinian Rights of the Secretariat \", \"Division for Palestinian Rights of the Secretariat \", \"me\", \"Palestinian conflict\", 2019], [9101, \"Ecuador\", \"EC\", \"yes\", 74, NaN, \"2019-12-03\", \"A/RES/74/12\", NaN, NaN, \"Division for Palestinian Rights of the Secretariat \", \"Division for Palestinian Rights of the Secretariat \", \"me\", \"Palestinian conflict\", 2019], [9101, \"Egypt\", \"EG\", \"yes\", 74, NaN, \"2019-12-03\", \"A/RES/74/12\", NaN, NaN, \"Division for Palestinian Rights of the Secretariat \", \"Division for Palestinian Rights of the Secretariat \", \"me\", \"Palestinian conflict\", 2019], [9101, \"El Salvador\", \"SV\", \"yes\", 74, NaN, \"2019-12-03\", \"A/RES/74/12\", NaN, NaN, \"Division for Palestinian Rights of the Secretariat \", \"Division for Palestinian Rights of the Secretariat \", \"me\", \"Palestinian conflict\", 2019], [9101, \"Eritrea\", \"ER\", \"yes\", 74, NaN, \"2019-12-03\", \"A/RES/74/12\", NaN, NaN, \"Division for Palestinian Rights of the Secretariat \", \"Division for Palestinian Rights of the Secretariat \", \"me\", \"Palestinian conflict\", 2019], [9101, \"Estonia\", \"EE\", \"no\", 74, NaN, \"2019-12-03\", \"A/RES/74/12\", NaN, NaN, \"Division for Palestinian Rights of the Secretariat \", \"Division for Palestinian Rights of the Secretariat \", \"me\", \"Palestinian conflict\", 2019], [9101, \"Ethiopia\", \"ET\", \"yes\", 74, NaN, \"2019-12-03\", \"A/RES/74/12\", NaN, NaN, \"Division for Palestinian Rights of the Secretariat \", \"Division for Palestinian Rights of the Secretariat \", \"me\", \"Palestinian conflict\", 2019], [9101, \"Fiji\", \"FJ\", \"abstain\", 74, NaN, \"2019-12-03\", \"A/RES/74/12\", NaN, NaN, \"Division for Palestinian Rights of the Secretariat \", \"Division for Palestinian Rights of the Secretariat \", \"me\", \"Palestinian conflict\", 2019], [9101, \"Finland\", \"FI\", \"abstain\", 74, NaN, \"2019-12-03\", \"A/RES/74/12\", NaN, NaN, \"Division for Palestinian Rights of the Secretariat \", \"Division for Palestinian Rights of the Secretariat \", \"me\", \"Palestinian conflict\", 2019], [9101, \"France\", \"FR\", \"abstain\", 74, NaN, \"2019-12-03\", \"A/RES/74/12\", NaN, NaN, \"Division for Palestinian Rights of the Secretariat \", \"Division for Palestinian Rights of the Secretariat \", \"me\", \"Palestinian conflict\", 2019], [9101, \"Gabon\", \"GA\", \"yes\", 74, NaN, \"2019-12-03\", \"A/RES/74/12\", NaN, NaN, \"Division for Palestinian Rights of the Secretariat \", \"Division for Palestinian Rights of the Secretariat \", \"me\", \"Palestinian conflict\", 2019], [9101, \"Gambia\", \"GM\", \"yes\", 74, NaN, \"2019-12-03\", \"A/RES/74/12\", NaN, NaN, \"Division for Palestinian Rights of the Secretariat \", \"Division for Palestinian Rights of the Secretariat \", \"me\", \"Palestinian conflict\", 2019], [9101, \"Georgia\", \"GE\", \"abstain\", 74, NaN, \"2019-12-03\", \"A/RES/74/12\", NaN, NaN, \"Division for Palestinian Rights of the Secretariat \", \"Division for Palestinian Rights of the Secretariat \", \"me\", \"Palestinian conflict\", 2019], [9101, \"Germany\", \"DE\", \"no\", 74, NaN, \"2019-12-03\", \"A/RES/74/12\", NaN, NaN, \"Division for Palestinian Rights of the Secretariat \", \"Division for Palestinian Rights of the Secretariat \", \"me\", \"Palestinian conflict\", 2019], [9101, \"Ghana\", \"GH\", \"abstain\", 74, NaN, \"2019-12-03\", \"A/RES/74/12\", NaN, NaN, \"Division for Palestinian Rights of the Secretariat \", \"Division for Palestinian Rights of the Secretariat \", \"me\", \"Palestinian conflict\", 2019], [9101, \"Greece\", \"GR\", \"no\", 74, NaN, \"2019-12-03\", \"A/RES/74/12\", NaN, NaN, \"Division for Palestinian Rights of the Secretariat \", \"Division for Palestinian Rights of the Secretariat \", \"me\", \"Palestinian conflict\", 2019], [9101, \"Guatemala\", \"GT\", \"no\", 74, NaN, \"2019-12-03\", \"A/RES/74/12\", NaN, NaN, \"Division for Palestinian Rights of the Secretariat \", \"Division for Palestinian Rights of the Secretariat \", \"me\", \"Palestinian conflict\", 2019], [9101, \"Guinea\", \"GN\", \"yes\", 74, NaN, \"2019-12-03\", \"A/RES/74/12\", NaN, NaN, \"Division for Palestinian Rights of the Secretariat \", \"Division for Palestinian Rights of the Secretariat \", \"me\", \"Palestinian conflict\", 2019], [9101, \"Guyana\", \"GY\", \"yes\", 74, NaN, \"2019-12-03\", \"A/RES/74/12\", NaN, NaN, \"Division for Palestinian Rights of the Secretariat \", \"Division for Palestinian Rights of the Secretariat \", \"me\", \"Palestinian conflict\", 2019], [9101, \"Honduras\", \"HN\", \"no\", 74, NaN, \"2019-12-03\", \"A/RES/74/12\", NaN, NaN, \"Division for Palestinian Rights of the Secretariat \", \"Division for Palestinian Rights of the Secretariat \", \"me\", \"Palestinian conflict\", 2019], [9101, \"Hungary\", \"HU\", \"no\", 74, NaN, \"2019-12-03\", \"A/RES/74/12\", NaN, NaN, \"Division for Palestinian Rights of the Secretariat \", \"Division for Palestinian Rights of the Secretariat \", \"me\", \"Palestinian conflict\", 2019], [9101, \"Iceland\", \"IS\", \"abstain\", 74, NaN, \"2019-12-03\", \"A/RES/74/12\", NaN, NaN, \"Division for Palestinian Rights of the Secretariat \", \"Division for Palestinian Rights of the Secretariat \", \"me\", \"Palestinian conflict\", 2019], [9101, \"India\", \"IN\", \"yes\", 74, NaN, \"2019-12-03\", \"A/RES/74/12\", NaN, NaN, \"Division for Palestinian Rights of the Secretariat \", \"Division for Palestinian Rights of the Secretariat \", \"me\", \"Palestinian conflict\", 2019], [9101, \"Indonesia\", \"ID\", \"yes\", 74, NaN, \"2019-12-03\", \"A/RES/74/12\", NaN, NaN, \"Division for Palestinian Rights of the Secretariat \", \"Division for Palestinian Rights of the Secretariat \", \"me\", \"Palestinian conflict\", 2019], [9101, \"Iran\", \"IR\", \"yes\", 74, NaN, \"2019-12-03\", \"A/RES/74/12\", NaN, NaN, \"Division for Palestinian Rights of the Secretariat \", \"Division for Palestinian Rights of the Secretariat \", \"me\", \"Palestinian conflict\", 2019], [9101, \"Iraq\", \"IQ\", \"yes\", 74, NaN, \"2019-12-03\", \"A/RES/74/12\", NaN, NaN, \"Division for Palestinian Rights of the Secretariat \", \"Division for Palestinian Rights of the Secretariat \", \"me\", \"Palestinian conflict\", 2019], [9101, \"Ireland\", \"IE\", \"abstain\", 74, NaN, \"2019-12-03\", \"A/RES/74/12\", NaN, NaN, \"Division for Palestinian Rights of the Secretariat \", \"Division for Palestinian Rights of the Secretariat \", \"me\", \"Palestinian conflict\", 2019], [9101, \"Israel\", \"IL\", \"no\", 74, NaN, \"2019-12-03\", \"A/RES/74/12\", NaN, NaN, \"Division for Palestinian Rights of the Secretariat \", \"Division for Palestinian Rights of the Secretariat \", \"me\", \"Palestinian conflict\", 2019], [9101, \"Italy\", \"IT\", \"abstain\", 74, NaN, \"2019-12-03\", \"A/RES/74/12\", NaN, NaN, \"Division for Palestinian Rights of the Secretariat \", \"Division for Palestinian Rights of the Secretariat \", \"me\", \"Palestinian conflict\", 2019], [9101, \"Jamaica\", \"JM\", \"yes\", 74, NaN, \"2019-12-03\", \"A/RES/74/12\", NaN, NaN, \"Division for Palestinian Rights of the Secretariat \", \"Division for Palestinian Rights of the Secretariat \", \"me\", \"Palestinian conflict\", 2019], [9101, \"Japan\", \"JP\", \"abstain\", 74, NaN, \"2019-12-03\", \"A/RES/74/12\", NaN, NaN, \"Division for Palestinian Rights of the Secretariat \", \"Division for Palestinian Rights of the Secretariat \", \"me\", \"Palestinian conflict\", 2019], [9101, \"Jordan\", \"JO\", \"yes\", 74, NaN, \"2019-12-03\", \"A/RES/74/12\", NaN, NaN, \"Division for Palestinian Rights of the Secretariat \", \"Division for Palestinian Rights of the Secretariat \", \"me\", \"Palestinian conflict\", 2019], [9101, \"Kazakhstan\", \"KZ\", \"yes\", 74, NaN, \"2019-12-03\", \"A/RES/74/12\", NaN, NaN, \"Division for Palestinian Rights of the Secretariat \", \"Division for Palestinian Rights of the Secretariat \", \"me\", \"Palestinian conflict\", 2019], [9101, \"Kenya\", \"KE\", \"yes\", 74, NaN, \"2019-12-03\", \"A/RES/74/12\", NaN, NaN, \"Division for Palestinian Rights of the Secretariat \", \"Division for Palestinian Rights of the Secretariat \", \"me\", \"Palestinian conflict\", 2019], [9101, \"Kuwait\", \"KW\", \"yes\", 74, NaN, \"2019-12-03\", \"A/RES/74/12\", NaN, NaN, \"Division for Palestinian Rights of the Secretariat \", \"Division for Palestinian Rights of the Secretariat \", \"me\", \"Palestinian conflict\", 2019], [9101, \"Kyrgyzstan\", \"KG\", \"yes\", 74, NaN, \"2019-12-03\", \"A/RES/74/12\", NaN, NaN, \"Division for Palestinian Rights of the Secretariat \", \"Division for Palestinian Rights of the Secretariat \", \"me\", \"Palestinian conflict\", 2019], [9101, \"Laos\", \"LA\", \"yes\", 74, NaN, \"2019-12-03\", \"A/RES/74/12\", NaN, NaN, \"Division for Palestinian Rights of the Secretariat \", \"Division for Palestinian Rights of the Secretariat \", \"me\", \"Palestinian conflict\", 2019], [9101, \"Latvia\", \"LV\", \"abstain\", 74, NaN, \"2019-12-03\", \"A/RES/74/12\", NaN, NaN, \"Division for Palestinian Rights of the Secretariat \", \"Division for Palestinian Rights of the Secretariat \", \"me\", \"Palestinian conflict\", 2019], [9101, \"Lebanon\", \"LB\", \"yes\", 74, NaN, \"2019-12-03\", \"A/RES/74/12\", NaN, NaN, \"Division for Palestinian Rights of the Secretariat \", \"Division for Palestinian Rights of the Secretariat \", \"me\", \"Palestinian conflict\", 2019], [9101, \"Lesotho\", \"LS\", \"yes\", 74, NaN, \"2019-12-03\", \"A/RES/74/12\", NaN, NaN, \"Division for Palestinian Rights of the Secretariat \", \"Division for Palestinian Rights of the Secretariat \", \"me\", \"Palestinian conflict\", 2019], [9101, \"Libya\", \"LY\", \"yes\", 74, NaN, \"2019-12-03\", \"A/RES/74/12\", NaN, NaN, \"Division for Palestinian Rights of the Secretariat \", \"Division for Palestinian Rights of the Secretariat \", \"me\", \"Palestinian conflict\", 2019], [9101, \"Liechtenstein\", \"LI\", \"abstain\", 74, NaN, \"2019-12-03\", \"A/RES/74/12\", NaN, NaN, \"Division for Palestinian Rights of the Secretariat \", \"Division for Palestinian Rights of the Secretariat \", \"me\", \"Palestinian conflict\", 2019], [9101, \"Lithuania\", \"LT\", \"no\", 74, NaN, \"2019-12-03\", \"A/RES/74/12\", NaN, NaN, \"Division for Palestinian Rights of the Secretariat \", \"Division for Palestinian Rights of the Secretariat \", \"me\", \"Palestinian conflict\", 2019], [9101, \"Luxembourg\", \"LU\", \"abstain\", 74, NaN, \"2019-12-03\", \"A/RES/74/12\", NaN, NaN, \"Division for Palestinian Rights of the Secretariat \", \"Division for Palestinian Rights of the Secretariat \", \"me\", \"Palestinian conflict\", 2019], [9101, \"Malaysia\", \"MY\", \"yes\", 74, NaN, \"2019-12-03\", \"A/RES/74/12\", NaN, NaN, \"Division for Palestinian Rights of the Secretariat \", \"Division for Palestinian Rights of the Secretariat \", \"me\", \"Palestinian conflict\", 2019], [9101, \"Maldives\", \"MV\", \"yes\", 74, NaN, \"2019-12-03\", \"A/RES/74/12\", NaN, NaN, \"Division for Palestinian Rights of the Secretariat \", \"Division for Palestinian Rights of the Secretariat \", \"me\", \"Palestinian conflict\", 2019], [9101, \"Mali\", \"ML\", \"yes\", 74, NaN, \"2019-12-03\", \"A/RES/74/12\", NaN, NaN, \"Division for Palestinian Rights of the Secretariat \", \"Division for Palestinian Rights of the Secretariat \", \"me\", \"Palestinian conflict\", 2019], [9101, \"Malta\", \"MT\", \"yes\", 74, NaN, \"2019-12-03\", \"A/RES/74/12\", NaN, NaN, \"Division for Palestinian Rights of the Secretariat \", \"Division for Palestinian Rights of the Secretariat \", \"me\", \"Palestinian conflict\", 2019], [9101, \"Marshall Islands\", \"MH\", \"no\", 74, NaN, \"2019-12-03\", \"A/RES/74/12\", NaN, NaN, \"Division for Palestinian Rights of the Secretariat \", \"Division for Palestinian Rights of the Secretariat \", \"me\", \"Palestinian conflict\", 2019], [9101, \"Mauritania\", \"MR\", \"yes\", 74, NaN, \"2019-12-03\", \"A/RES/74/12\", NaN, NaN, \"Division for Palestinian Rights of the Secretariat \", \"Division for Palestinian Rights of the Secretariat \", \"me\", \"Palestinian conflict\", 2019], [9101, \"Mauritius\", \"MU\", \"yes\", 74, NaN, \"2019-12-03\", \"A/RES/74/12\", NaN, NaN, \"Division for Palestinian Rights of the Secretariat \", \"Division for Palestinian Rights of the Secretariat \", \"me\", \"Palestinian conflict\", 2019], [9101, \"Mexico\", \"MX\", \"abstain\", 74, NaN, \"2019-12-03\", \"A/RES/74/12\", NaN, NaN, \"Division for Palestinian Rights of the Secretariat \", \"Division for Palestinian Rights of the Secretariat \", \"me\", \"Palestinian conflict\", 2019], [9101, \"Micronesia (Federated States of)\", \"FM\", \"no\", 74, NaN, \"2019-12-03\", \"A/RES/74/12\", NaN, NaN, \"Division for Palestinian Rights of the Secretariat \", \"Division for Palestinian Rights of the Secretariat \", \"me\", \"Palestinian conflict\", 2019], [9101, \"Monaco\", \"MC\", \"abstain\", 74, NaN, \"2019-12-03\", \"A/RES/74/12\", NaN, NaN, \"Division for Palestinian Rights of the Secretariat \", \"Division for Palestinian Rights of the Secretariat \", \"me\", \"Palestinian conflict\", 2019], [9101, \"Montenegro\", \"ME\", \"abstain\", 74, NaN, \"2019-12-03\", \"A/RES/74/12\", NaN, NaN, \"Division for Palestinian Rights of the Secretariat \", \"Division for Palestinian Rights of the Secretariat \", \"me\", \"Palestinian conflict\", 2019], [9101, \"Morocco\", \"MA\", \"yes\", 74, NaN, \"2019-12-03\", \"A/RES/74/12\", NaN, NaN, \"Division for Palestinian Rights of the Secretariat \", \"Division for Palestinian Rights of the Secretariat \", \"me\", \"Palestinian conflict\", 2019], [9101, \"Mozambique\", \"MZ\", \"yes\", 74, NaN, \"2019-12-03\", \"A/RES/74/12\", NaN, NaN, \"Division for Palestinian Rights of the Secretariat \", \"Division for Palestinian Rights of the Secretariat \", \"me\", \"Palestinian conflict\", 2019], [9101, \"Namibia\", \"NaN\", \"yes\", 74, NaN, \"2019-12-03\", \"A/RES/74/12\", NaN, NaN, \"Division for Palestinian Rights of the Secretariat \", \"Division for Palestinian Rights of the Secretariat \", \"me\", \"Palestinian conflict\", 2019], [9101, \"Nauru\", \"NR\", \"no\", 74, NaN, \"2019-12-03\", \"A/RES/74/12\", NaN, NaN, \"Division for Palestinian Rights of the Secretariat \", \"Division for Palestinian Rights of the Secretariat \", \"me\", \"Palestinian conflict\", 2019], [9101, \"Nepal\", \"NP\", \"yes\", 74, NaN, \"2019-12-03\", \"A/RES/74/12\", NaN, NaN, \"Division for Palestinian Rights of the Secretariat \", \"Division for Palestinian Rights of the Secretariat \", \"me\", \"Palestinian conflict\", 2019], [9101, \"Netherlands\", \"NL\", \"no\", 74, NaN, \"2019-12-03\", \"A/RES/74/12\", NaN, NaN, \"Division for Palestinian Rights of the Secretariat \", \"Division for Palestinian Rights of the Secretariat \", \"me\", \"Palestinian conflict\", 2019], [9101, \"New Zealand\", \"NZ\", \"abstain\", 74, NaN, \"2019-12-03\", \"A/RES/74/12\", NaN, NaN, \"Division for Palestinian Rights of the Secretariat \", \"Division for Palestinian Rights of the Secretariat \", \"me\", \"Palestinian conflict\", 2019], [9101, \"Nicaragua\", \"NI\", \"yes\", 74, NaN, \"2019-12-03\", \"A/RES/74/12\", NaN, NaN, \"Division for Palestinian Rights of the Secretariat \", \"Division for Palestinian Rights of the Secretariat \", \"me\", \"Palestinian conflict\", 2019], [9101, \"Nigeria\", \"NG\", \"yes\", 74, NaN, \"2019-12-03\", \"A/RES/74/12\", NaN, NaN, \"Division for Palestinian Rights of the Secretariat \", \"Division for Palestinian Rights of the Secretariat \", \"me\", \"Palestinian conflict\", 2019], [9101, \"North Macedonia\", \"MK\", \"abstain\", 74, NaN, \"2019-12-03\", \"A/RES/74/12\", NaN, NaN, \"Division for Palestinian Rights of the Secretariat \", \"Division for Palestinian Rights of the Secretariat \", \"me\", \"Palestinian conflict\", 2019], [9101, \"Norway\", \"NO\", \"abstain\", 74, NaN, \"2019-12-03\", \"A/RES/74/12\", NaN, NaN, \"Division for Palestinian Rights of the Secretariat \", \"Division for Palestinian Rights of the Secretariat \", \"me\", \"Palestinian conflict\", 2019], [9101, \"Oman\", \"OM\", \"yes\", 74, NaN, \"2019-12-03\", \"A/RES/74/12\", NaN, NaN, \"Division for Palestinian Rights of the Secretariat \", \"Division for Palestinian Rights of the Secretariat \", \"me\", \"Palestinian conflict\", 2019], [9101, \"Pakistan\", \"PK\", \"yes\", 74, NaN, \"2019-12-03\", \"A/RES/74/12\", NaN, NaN, \"Division for Palestinian Rights of the Secretariat \", \"Division for Palestinian Rights of the Secretariat \", \"me\", \"Palestinian conflict\", 2019], [9101, \"Palau\", \"PW\", \"abstain\", 74, NaN, \"2019-12-03\", \"A/RES/74/12\", NaN, NaN, \"Division for Palestinian Rights of the Secretariat \", \"Division for Palestinian Rights of the Secretariat \", \"me\", \"Palestinian conflict\", 2019], [9101, \"Panama\", \"PA\", \"abstain\", 74, NaN, \"2019-12-03\", \"A/RES/74/12\", NaN, NaN, \"Division for Palestinian Rights of the Secretariat \", \"Division for Palestinian Rights of the Secretariat \", \"me\", \"Palestinian conflict\", 2019], [9101, \"Papua New Guinea\", \"PG\", \"abstain\", 74, NaN, \"2019-12-03\", \"A/RES/74/12\", NaN, NaN, \"Division for Palestinian Rights of the Secretariat \", \"Division for Palestinian Rights of the Secretariat \", \"me\", \"Palestinian conflict\", 2019], [9101, \"Paraguay\", \"PY\", \"abstain\", 74, NaN, \"2019-12-03\", \"A/RES/74/12\", NaN, NaN, \"Division for Palestinian Rights of the Secretariat \", \"Division for Palestinian Rights of the Secretariat \", \"me\", \"Palestinian conflict\", 2019], [9101, \"Peru\", \"PE\", \"abstain\", 74, NaN, \"2019-12-03\", \"A/RES/74/12\", NaN, NaN, \"Division for Palestinian Rights of the Secretariat \", \"Division for Palestinian Rights of the Secretariat \", \"me\", \"Palestinian conflict\", 2019], [9101, \"Philippines\", \"PH\", \"yes\", 74, NaN, \"2019-12-03\", \"A/RES/74/12\", NaN, NaN, \"Division for Palestinian Rights of the Secretariat \", \"Division for Palestinian Rights of the Secretariat \", \"me\", \"Palestinian conflict\", 2019], [9101, \"Poland\", \"PL\", \"abstain\", 74, NaN, \"2019-12-03\", \"A/RES/74/12\", NaN, NaN, \"Division for Palestinian Rights of the Secretariat \", \"Division for Palestinian Rights of the Secretariat \", \"me\", \"Palestinian conflict\", 2019], [9101, \"Portugal\", \"PT\", \"abstain\", 74, NaN, \"2019-12-03\", \"A/RES/74/12\", NaN, NaN, \"Division for Palestinian Rights of the Secretariat \", \"Division for Palestinian Rights of the Secretariat \", \"me\", \"Palestinian conflict\", 2019], [9101, \"Qatar\", \"QA\", \"yes\", 74, NaN, \"2019-12-03\", \"A/RES/74/12\", NaN, NaN, \"Division for Palestinian Rights of the Secretariat \", \"Division for Palestinian Rights of the Secretariat \", \"me\", \"Palestinian conflict\", 2019], [9101, \"South Korea\", \"KR\", \"abstain\", 74, NaN, \"2019-12-03\", \"A/RES/74/12\", NaN, NaN, \"Division for Palestinian Rights of the Secretariat \", \"Division for Palestinian Rights of the Secretariat \", \"me\", \"Palestinian conflict\", 2019], [9101, \"Moldova\", \"MD\", \"abstain\", 74, NaN, \"2019-12-03\", \"A/RES/74/12\", NaN, NaN, \"Division for Palestinian Rights of the Secretariat \", \"Division for Palestinian Rights of the Secretariat \", \"me\", \"Palestinian conflict\", 2019], [9101, \"Romania\", \"RO\", \"no\", 74, NaN, \"2019-12-03\", \"A/RES/74/12\", NaN, NaN, \"Division for Palestinian Rights of the Secretariat \", \"Division for Palestinian Rights of the Secretariat \", \"me\", \"Palestinian conflict\", 2019], [9101, \"Russia\", \"RU\", \"abstain\", 74, NaN, \"2019-12-03\", \"A/RES/74/12\", NaN, NaN, \"Division for Palestinian Rights of the Secretariat \", \"Division for Palestinian Rights of the Secretariat \", \"me\", \"Palestinian conflict\", 2019], [9101, \"Rwanda\", \"RW\", \"abstain\", 74, NaN, \"2019-12-03\", \"A/RES/74/12\", NaN, NaN, \"Division for Palestinian Rights of the Secretariat \", \"Division for Palestinian Rights of the Secretariat \", \"me\", \"Palestinian conflict\", 2019], [9101, \"St. Lucia\", \"LC\", \"yes\", 74, NaN, \"2019-12-03\", \"A/RES/74/12\", NaN, NaN, \"Division for Palestinian Rights of the Secretariat \", \"Division for Palestinian Rights of the Secretariat \", \"me\", \"Palestinian conflict\", 2019], [9101, \"St. Vincent & Grenadines\", \"VC\", \"yes\", 74, NaN, \"2019-12-03\", \"A/RES/74/12\", NaN, NaN, \"Division for Palestinian Rights of the Secretariat \", \"Division for Palestinian Rights of the Secretariat \", \"me\", \"Palestinian conflict\", 2019], [9101, \"Samoa\", \"WS\", \"abstain\", 74, NaN, \"2019-12-03\", \"A/RES/74/12\", NaN, NaN, \"Division for Palestinian Rights of the Secretariat \", \"Division for Palestinian Rights of the Secretariat \", \"me\", \"Palestinian conflict\", 2019], [9101, \"San Marino\", \"SM\", \"abstain\", 74, NaN, \"2019-12-03\", \"A/RES/74/12\", NaN, NaN, \"Division for Palestinian Rights of the Secretariat \", \"Division for Palestinian Rights of the Secretariat \", \"me\", \"Palestinian conflict\", 2019], [9101, \"Saudi Arabia\", \"SA\", \"yes\", 74, NaN, \"2019-12-03\", \"A/RES/74/12\", NaN, NaN, \"Division for Palestinian Rights of the Secretariat \", \"Division for Palestinian Rights of the Secretariat \", \"me\", \"Palestinian conflict\", 2019], [9101, \"Senegal\", \"SN\", \"yes\", 74, NaN, \"2019-12-03\", \"A/RES/74/12\", NaN, NaN, \"Division for Palestinian Rights of the Secretariat \", \"Division for Palestinian Rights of the Secretariat \", \"me\", \"Palestinian conflict\", 2019], [9101, \"Yugoslavia\", \"YU\", \"abstain\", 74, NaN, \"2019-12-03\", \"A/RES/74/12\", NaN, NaN, \"Division for Palestinian Rights of the Secretariat \", \"Division for Palestinian Rights of the Secretariat \", \"me\", \"Palestinian conflict\", 2019], [9101, \"Sierra Leone\", \"SL\", \"yes\", 74, NaN, \"2019-12-03\", \"A/RES/74/12\", NaN, NaN, \"Division for Palestinian Rights of the Secretariat \", \"Division for Palestinian Rights of the Secretariat \", \"me\", \"Palestinian conflict\", 2019], [9101, \"Singapore\", \"SG\", \"yes\", 74, NaN, \"2019-12-03\", \"A/RES/74/12\", NaN, NaN, \"Division for Palestinian Rights of the Secretariat \", \"Division for Palestinian Rights of the Secretariat \", \"me\", \"Palestinian conflict\", 2019], [9101, \"Slovakia\", \"SK\", \"no\", 74, NaN, \"2019-12-03\", \"A/RES/74/12\", NaN, NaN, \"Division for Palestinian Rights of the Secretariat \", \"Division for Palestinian Rights of the Secretariat \", \"me\", \"Palestinian conflict\", 2019], [9101, \"Slovenia\", \"SI\", \"abstain\", 74, NaN, \"2019-12-03\", \"A/RES/74/12\", NaN, NaN, \"Division for Palestinian Rights of the Secretariat \", \"Division for Palestinian Rights of the Secretariat \", \"me\", \"Palestinian conflict\", 2019], [9101, \"Solomon Islands\", \"SB\", \"abstain\", 74, NaN, \"2019-12-03\", \"A/RES/74/12\", NaN, NaN, \"Division for Palestinian Rights of the Secretariat \", \"Division for Palestinian Rights of the Secretariat \", \"me\", \"Palestinian conflict\", 2019], [9101, \"Somalia\", \"SO\", \"yes\", 74, NaN, \"2019-12-03\", \"A/RES/74/12\", NaN, NaN, \"Division for Palestinian Rights of the Secretariat \", \"Division for Palestinian Rights of the Secretariat \", \"me\", \"Palestinian conflict\", 2019], [9101, \"South Africa\", \"ZA\", \"yes\", 74, NaN, \"2019-12-03\", \"A/RES/74/12\", NaN, NaN, \"Division for Palestinian Rights of the Secretariat \", \"Division for Palestinian Rights of the Secretariat \", \"me\", \"Palestinian conflict\", 2019], [9101, \"South Sudan\", \"SS\", \"abstain\", 74, NaN, \"2019-12-03\", \"A/RES/74/12\", NaN, NaN, \"Division for Palestinian Rights of the Secretariat \", \"Division for Palestinian Rights of the Secretariat \", \"me\", \"Palestinian conflict\", 2019], [9101, \"Spain\", \"ES\", \"abstain\", 74, NaN, \"2019-12-03\", \"A/RES/74/12\", NaN, NaN, \"Division for Palestinian Rights of the Secretariat \", \"Division for Palestinian Rights of the Secretariat \", \"me\", \"Palestinian conflict\", 2019], [9101, \"Sri Lanka\", \"LK\", \"yes\", 74, NaN, \"2019-12-03\", \"A/RES/74/12\", NaN, NaN, \"Division for Palestinian Rights of the Secretariat \", \"Division for Palestinian Rights of the Secretariat \", \"me\", \"Palestinian conflict\", 2019], [9101, \"Sudan\", \"SD\", \"yes\", 74, NaN, \"2019-12-03\", \"A/RES/74/12\", NaN, NaN, \"Division for Palestinian Rights of the Secretariat \", \"Division for Palestinian Rights of the Secretariat \", \"me\", \"Palestinian conflict\", 2019], [9101, \"Suriname\", \"SR\", \"yes\", 74, NaN, \"2019-12-03\", \"A/RES/74/12\", NaN, NaN, \"Division for Palestinian Rights of the Secretariat \", \"Division for Palestinian Rights of the Secretariat \", \"me\", \"Palestinian conflict\", 2019], [9101, \"Sweden\", \"SE\", \"abstain\", 74, NaN, \"2019-12-03\", \"A/RES/74/12\", NaN, NaN, \"Division for Palestinian Rights of the Secretariat \", \"Division for Palestinian Rights of the Secretariat \", \"me\", \"Palestinian conflict\", 2019], [9101, \"Switzerland\", \"CH\", \"abstain\", 74, NaN, \"2019-12-03\", \"A/RES/74/12\", NaN, NaN, \"Division for Palestinian Rights of the Secretariat \", \"Division for Palestinian Rights of the Secretariat \", \"me\", \"Palestinian conflict\", 2019], [9101, \"Syria\", \"SY\", \"yes\", 74, NaN, \"2019-12-03\", \"A/RES/74/12\", NaN, NaN, \"Division for Palestinian Rights of the Secretariat \", \"Division for Palestinian Rights of the Secretariat \", \"me\", \"Palestinian conflict\", 2019], [9101, \"Tajikistan\", \"TJ\", \"yes\", 74, NaN, \"2019-12-03\", \"A/RES/74/12\", NaN, NaN, \"Division for Palestinian Rights of the Secretariat \", \"Division for Palestinian Rights of the Secretariat \", \"me\", \"Palestinian conflict\", 2019], [9101, \"Thailand\", \"TH\", \"yes\", 74, NaN, \"2019-12-03\", \"A/RES/74/12\", NaN, NaN, \"Division for Palestinian Rights of the Secretariat \", \"Division for Palestinian Rights of the Secretariat \", \"me\", \"Palestinian conflict\", 2019], [9101, \"Togo\", \"TG\", \"abstain\", 74, NaN, \"2019-12-03\", \"A/RES/74/12\", NaN, NaN, \"Division for Palestinian Rights of the Secretariat \", \"Division for Palestinian Rights of the Secretariat \", \"me\", \"Palestinian conflict\", 2019], [9101, \"Tonga\", \"TO\", \"abstain\", 74, NaN, \"2019-12-03\", \"A/RES/74/12\", NaN, NaN, \"Division for Palestinian Rights of the Secretariat \", \"Division for Palestinian Rights of the Secretariat \", \"me\", \"Palestinian conflict\", 2019], [9101, \"Tunisia\", \"TN\", \"yes\", 74, NaN, \"2019-12-03\", \"A/RES/74/12\", NaN, NaN, \"Division for Palestinian Rights of the Secretariat \", \"Division for Palestinian Rights of the Secretariat \", \"me\", \"Palestinian conflict\", 2019], [9101, \"Turkey\", \"TR\", \"yes\", 74, NaN, \"2019-12-03\", \"A/RES/74/12\", NaN, NaN, \"Division for Palestinian Rights of the Secretariat \", \"Division for Palestinian Rights of the Secretariat \", \"me\", \"Palestinian conflict\", 2019], [9101, \"Turkmenistan\", \"TM\", \"yes\", 74, NaN, \"2019-12-03\", \"A/RES/74/12\", NaN, NaN, \"Division for Palestinian Rights of the Secretariat \", \"Division for Palestinian Rights of the Secretariat \", \"me\", \"Palestinian conflict\", 2019], [9101, \"Uganda\", \"UG\", \"yes\", 74, NaN, \"2019-12-03\", \"A/RES/74/12\", NaN, NaN, \"Division for Palestinian Rights of the Secretariat \", \"Division for Palestinian Rights of the Secretariat \", \"me\", \"Palestinian conflict\", 2019], [9101, \"Ukraine\", \"UA\", \"abstain\", 74, NaN, \"2019-12-03\", \"A/RES/74/12\", NaN, NaN, \"Division for Palestinian Rights of the Secretariat \", \"Division for Palestinian Rights of the Secretariat \", \"me\", \"Palestinian conflict\", 2019], [9101, \"United Arab Emirates\", \"AE\", \"yes\", 74, NaN, \"2019-12-03\", \"A/RES/74/12\", NaN, NaN, \"Division for Palestinian Rights of the Secretariat \", \"Division for Palestinian Rights of the Secretariat \", \"me\", \"Palestinian conflict\", 2019], [9101, \"United Kingdom\", \"GB\", \"abstain\", 74, NaN, \"2019-12-03\", \"A/RES/74/12\", NaN, NaN, \"Division for Palestinian Rights of the Secretariat \", \"Division for Palestinian Rights of the Secretariat \", \"me\", \"Palestinian conflict\", 2019], [9101, \"United States\", \"US\", \"no\", 74, NaN, \"2019-12-03\", \"A/RES/74/12\", NaN, NaN, \"Division for Palestinian Rights of the Secretariat \", \"Division for Palestinian Rights of the Secretariat \", \"me\", \"Palestinian conflict\", 2019], [9101, \"Uruguay\", \"UY\", \"yes\", 74, NaN, \"2019-12-03\", \"A/RES/74/12\", NaN, NaN, \"Division for Palestinian Rights of the Secretariat \", \"Division for Palestinian Rights of the Secretariat \", \"me\", \"Palestinian conflict\", 2019], [9101, \"Uzbekistan\", \"UZ\", \"yes\", 74, NaN, \"2019-12-03\", \"A/RES/74/12\", NaN, NaN, \"Division for Palestinian Rights of the Secretariat \", \"Division for Palestinian Rights of the Secretariat \", \"me\", \"Palestinian conflict\", 2019], [9101, \"Vanuatu\", \"VU\", \"abstain\", 74, NaN, \"2019-12-03\", \"A/RES/74/12\", NaN, NaN, \"Division for Palestinian Rights of the Secretariat \", \"Division for Palestinian Rights of the Secretariat \", \"me\", \"Palestinian conflict\", 2019], [9101, \"Venezuela\", \"VE\", \"yes\", 74, NaN, \"2019-12-03\", \"A/RES/74/12\", NaN, NaN, \"Division for Palestinian Rights of the Secretariat \", \"Division for Palestinian Rights of the Secretariat \", \"me\", \"Palestinian conflict\", 2019], [9101, \"Vietnam\", \"VN\", \"yes\", 74, NaN, \"2019-12-03\", \"A/RES/74/12\", NaN, NaN, \"Division for Palestinian Rights of the Secretariat \", \"Division for Palestinian Rights of the Secretariat \", \"me\", \"Palestinian conflict\", 2019], [9101, \"Yemen\", \"YE\", \"yes\", 74, NaN, \"2019-12-03\", \"A/RES/74/12\", NaN, NaN, \"Division for Palestinian Rights of the Secretariat \", \"Division for Palestinian Rights of the Secretariat \", \"me\", \"Palestinian conflict\", 2019], [9101, \"Zambia\", \"ZM\", \"yes\", 74, NaN, \"2019-12-03\", \"A/RES/74/12\", NaN, NaN, \"Division for Palestinian Rights of the Secretariat \", \"Division for Palestinian Rights of the Secretariat \", \"me\", \"Palestinian conflict\", 2019], [9101, \"Zimbabwe\", \"ZW\", \"yes\", 74, NaN, \"2019-12-03\", \"A/RES/74/12\", NaN, NaN, \"Division for Palestinian Rights of the Secretariat \", \"Division for Palestinian Rights of the Secretariat \", \"me\", \"Palestinian conflict\", 2019]];\n",
       "\n",
       "        // Define the dt_args\n",
       "        let dt_args = {\"layout\": {\"topStart\": \"pageLength\", \"topEnd\": \"search\", \"bottomStart\": \"info\", \"bottomEnd\": \"paging\"}, \"order\": [], \"fnInfoCallback\": function (oSettings, iStart, iEnd, iMax, iTotal, sPre) { return sPre + ' (<a href=\"https://mwouts.github.io/itables/downsampling.html\">downsampled</a> from 857,878x15 to 546x15 as maxBytes=64KB)'; }};\n",
       "        dt_args[\"data\"] = data;\n",
       "\n",
       "        \n",
       "        new DataTable(table, dt_args);\n",
       "    });\n",
       "</script>\n"
      ],
      "text/plain": [
       "<IPython.core.display.HTML object>"
      ]
     },
     "metadata": {},
     "output_type": "display_data"
    }
   ],
   "source": [
    "# Copy and paste the code here:\n",
    "show(DF)"
   ]
  },
  {
   "cell_type": "markdown",
   "id": "a3fac6d0-283f-45a8-8f04-824bce2bc030",
   "metadata": {},
   "source": [
    "### Problem 1\n",
    "\n",
    "Do some initial exploration of this data and write about it in the markdown cell below.\n",
    "\n",
    "* How man columns are there?\n",
    "* What do the columns represent?\n",
    "* What countries are there?\n",
    "* Can you search for a country you are interested in?\n",
    "* How many rows are there?\n",
    "* What other observations do you have?\n",
    "\n"
   ]
  },
  {
   "cell_type": "markdown",
   "id": "5d647175-19fd-404b-84e2-b92e627413a1",
   "metadata": {},
   "source": [
    "There are 15 columns\n",
    "\n",
    "Not sure what \"rcid\" means, \"country\" is the name of the country, \"country_code\" is the country's abbreviation, \"vote\" is what the country decided to choose, not sure what \"session\" means, not sure what \"important vote\" means, \"date\" is the date they voted, not sure what \"unres\" means, not sure what \"amend\" means, not sure what \"para\" means, \"short\" is the name of the issue they are voting on, \"descr\" is the description of the issue, not sure what \"short_name\" means, unsure of the difference between \"short\" and \"issue\", \"year\" is the year they voted on\n",
    "\n",
    "There are 200 countries\n",
    "\n",
    "I can use the search bar to find a specific country. I searched for the Philippines\n",
    "\n",
    "There are 10 rows but you can change how many you want to see on a page\n",
    "\n",
    "There is an up/down arrow in each column that allows you to sort the data. You can also adjust how many rows/entries you want to view per page"
   ]
  },
  {
   "cell_type": "markdown",
   "id": "a5ec908c-b134-4b31-907d-93f4415315b4",
   "metadata": {},
   "source": [
    "-------------------------------\n",
    "### Make Python Explore the Data!:\n",
    "-------------------------------\n",
    "\n",
    "Copy and paste the command that will show you a list of the counties:"
   ]
  },
  {
   "cell_type": "code",
   "execution_count": 18,
   "id": "76ada79b-d012-48ff-bfe5-b110ce00ac4b",
   "metadata": {},
   "outputs": [
    {
     "data": {
      "text/html": [
       "<table id=\"itables_2c763cff_eca4_46ce_bb9d_44531990482a\" class=\"display nowrap\" data-quarto-disable-processing=\"true\" style=\"table-layout:auto;width:auto;margin:auto;caption-side:bottom\">\n",
       "<thead>\n",
       "    <tr style=\"text-align: right;\">\n",
       "      \n",
       "      <th>country</th>\n",
       "    </tr>\n",
       "  </thead><tbody><tr>\n",
       "<td style=\"vertical-align:middle; text-align:left\">\n",
       "<div style=\"float:left; margin-right: 10px;\">\n",
       "<a href=https://mwouts.github.io/itables/><svg class=\"main-svg\" xmlns=\"http://www.w3.org/2000/svg\" xmlns:xlink=\"http://www.w3.org/1999/xlink\"\n",
       "width=\"64\" viewBox=\"0 0 500 400\" style=\"font-family: 'Droid Sans', sans-serif;\">\n",
       "    <g style=\"fill:#d9d7fc\">\n",
       "        <path d=\"M100,400H500V357H100Z\" />\n",
       "        <path d=\"M100,300H400V257H100Z\" />\n",
       "        <path d=\"M0,200H400V157H0Z\" />\n",
       "        <path d=\"M100,100H500V57H100Z\" />\n",
       "        <path d=\"M100,350H500V307H100Z\" />\n",
       "        <path d=\"M100,250H400V207H100Z\" />\n",
       "        <path d=\"M0,150H400V107H0Z\" />\n",
       "        <path d=\"M100,50H500V7H100Z\" />\n",
       "    </g>\n",
       "    <g style=\"fill:#1a1366;stroke:#1a1366;\">\n",
       "   <rect x=\"100\" y=\"7\" width=\"400\" height=\"43\">\n",
       "    <animate\n",
       "      attributeName=\"width\"\n",
       "      values=\"0;400;0\"\n",
       "      dur=\"5s\"\n",
       "      repeatCount=\"indefinite\" />\n",
       "      <animate\n",
       "      attributeName=\"x\"\n",
       "      values=\"100;100;500\"\n",
       "      dur=\"5s\"\n",
       "      repeatCount=\"indefinite\" />\n",
       "  </rect>\n",
       "        <rect x=\"0\" y=\"107\" width=\"400\" height=\"43\">\n",
       "    <animate\n",
       "      attributeName=\"width\"\n",
       "      values=\"0;400;0\"\n",
       "      dur=\"3.5s\"\n",
       "      repeatCount=\"indefinite\" />\n",
       "    <animate\n",
       "      attributeName=\"x\"\n",
       "      values=\"0;0;400\"\n",
       "      dur=\"3.5s\"\n",
       "      repeatCount=\"indefinite\" />\n",
       "  </rect>\n",
       "        <rect x=\"100\" y=\"207\" width=\"300\" height=\"43\">\n",
       "    <animate\n",
       "      attributeName=\"width\"\n",
       "      values=\"0;300;0\"\n",
       "      dur=\"3s\"\n",
       "      repeatCount=\"indefinite\" />\n",
       "    <animate\n",
       "      attributeName=\"x\"\n",
       "      values=\"100;100;400\"\n",
       "      dur=\"3s\"\n",
       "      repeatCount=\"indefinite\" />\n",
       "  </rect>\n",
       "        <rect x=\"100\" y=\"307\" width=\"400\" height=\"43\">\n",
       "    <animate\n",
       "      attributeName=\"width\"\n",
       "      values=\"0;400;0\"\n",
       "      dur=\"4s\"\n",
       "      repeatCount=\"indefinite\" />\n",
       "      <animate\n",
       "      attributeName=\"x\"\n",
       "      values=\"100;100;500\"\n",
       "      dur=\"4s\"\n",
       "      repeatCount=\"indefinite\" />\n",
       "  </rect>\n",
       "        <g style=\"fill:transparent;stroke-width:8; stroke-linejoin:round\" rx=\"5\">\n",
       "            <g transform=\"translate(45 50) rotate(-45)\">\n",
       "                <circle r=\"33\" cx=\"0\" cy=\"0\" />\n",
       "                <rect x=\"-8\" y=\"32\" width=\"16\" height=\"30\" />\n",
       "            </g>\n",
       "\n",
       "            <g transform=\"translate(450 152)\">\n",
       "                <polyline points=\"-15,-20 -35,-20 -35,40 25,40 25,20\" />\n",
       "                <rect x=\"-15\" y=\"-40\" width=\"60\" height=\"60\" />\n",
       "            </g>\n",
       "\n",
       "            <g transform=\"translate(50 352)\">\n",
       "                <polygon points=\"-35,-5 0,-40 35,-5\" />\n",
       "                <polygon points=\"-35,10 0,45 35,10\" />\n",
       "            </g>\n",
       "\n",
       "            <g transform=\"translate(75 250)\">\n",
       "                <polyline points=\"-30,30 -60,0 -30,-30\" />\n",
       "                <polyline points=\"0,30 -30,0 0,-30\" />\n",
       "            </g>\n",
       "\n",
       "            <g transform=\"translate(425 250) rotate(180)\">\n",
       "                <polyline points=\"-30,30 -60,0 -30,-30\" />\n",
       "                <polyline points=\"0,30 -30,0 0,-30\" />\n",
       "            </g>\n",
       "        </g>\n",
       "    </g>\n",
       "</svg>\n",
       "</a>\n",
       "</div>\n",
       "<div>\n",
       "Loading ITables v2.1.4 from the internet...\n",
       "(need <a href=https://mwouts.github.io/itables/troubleshooting.html>help</a>?)</td>\n",
       "</div>\n",
       "</tr></tbody>\n",
       "\n",
       "</table>\n",
       "<link href=\"https://www.unpkg.com/dt_for_itables@2.0.11/dt_bundle.css\" rel=\"stylesheet\">\n",
       "<script type=\"module\">\n",
       "    import {DataTable, jQuery as $} from 'https://www.unpkg.com/dt_for_itables@2.0.11/dt_bundle.js';\n",
       "\n",
       "    document.querySelectorAll(\"#itables_2c763cff_eca4_46ce_bb9d_44531990482a:not(.dataTable)\").forEach(table => {\n",
       "        // Define the table data\n",
       "        const data = [[\"United States\"], [\"Canada\"], [\"Cuba\"], [\"Dominican Republic\"], [\"Mexico\"], [\"Guatemala\"], [\"Honduras\"], [\"El Salvador\"], [\"Nicaragua\"], [\"Panama\"], [\"Colombia\"], [\"Venezuela\"], [\"Ecuador\"], [\"Peru\"], [\"Brazil\"], [\"Bolivia\"], [\"Paraguay\"], [\"Chile\"], [\"Argentina\"], [\"Uruguay\"], [\"United Kingdom\"], [\"Netherlands\"], [\"Belgium\"], [\"Luxembourg\"], [\"France\"], [\"Poland\"], [\"Czechoslovakia\"], [\"Yugoslavia\"], [\"Greece\"], [\"Russia\"], [\"Ukraine\"], [\"Belarus\"], [\"Norway\"], [\"Denmark\"], [\"Liberia\"], [\"Ethiopia\"], [\"South Africa\"], [\"Iran\"], [\"Turkey\"], [\"Iraq\"], [\"Egypt\"], [\"Syria\"], [\"Lebanon\"], [\"Saudi Arabia\"], [\"Taiwan\"], [\"India\"], [\"Philippines\"], [\"Australia\"], [\"New Zealand\"], [\"Costa Rica\"], [\"Haiti\"], [\"Sweden\"], [\"Iceland\"], [\"Afghanistan\"], [\"Yemen Arab Republic\"], [\"Pakistan\"], [\"Thailand\"], [\"Myanmar (Burma)\"], [\"Israel\"], [\"Indonesia\"], [\"Hungary\"], [\"Jordan\"], [\"Sri Lanka\"], [\"Spain\"], [\"Romania\"], [\"Ireland\"], [\"Portugal\"], [\"Austria\"], [\"Italy\"], [\"Albania\"], [\"Bulgaria\"], [\"Finland\"], [\"Morocco\"], [\"Tunisia\"], [\"Libya\"], [\"Sudan\"], [\"Nepal\"], [\"Cambodia\"], [\"Laos\"], [\"Japan\"], [\"Ghana\"], [\"Malaysia\"], [\"Guinea\"], [\"Cyprus\"], [\"Mali\"], [\"Senegal\"], [\"Benin\"], [\"Niger\"], [\"C\\u00f4te d\\u2019Ivoire\"], [\"Burkina Faso\"], [\"Togo\"], [\"Cameroon\"], [\"Nigeria\"], [\"Gabon\"], [\"Central African Republic\"], [\"Chad\"], [\"Congo - Brazzaville\"], [\"Somalia\"], [\"Madagascar\"], [\"Congo - Kinshasa\"], [\"Mauritania\"], [\"Sierra Leone\"], [\"Mongolia\"], [\"Tanzania\"], [\"Jamaica\"], [\"Trinidad & Tobago\"], [\"Uganda\"], [\"Burundi\"], [\"Rwanda\"], [\"Algeria\"], [\"Kuwait\"], [\"Kenya\"], [\"Zanzibar\"], [\"Malta\"], [\"Zambia\"], [\"Maldives\"], [\"Malawi\"], [\"Singapore\"], [\"Guyana\"], [\"Gambia\"], [\"Lesotho\"], [\"Barbados\"], [\"Botswana\"], [\"Yemen People's Republic\"], [\"Mauritius\"], [\"Equatorial Guinea\"], [\"Eswatini\"], [\"Fiji\"], [\"Bahrain\"], [\"Qatar\"], [\"China\"], [\"Oman\"], [\"United Arab Emirates\"], [\"Bhutan\"], [\"Federal Republic of Germany\"], [\"German Democratic Republic\"], [\"Bahamas\"], [\"Bangladesh\"], [\"Grenada\"], [\"Guinea-Bissau\"], [\"Cape Verde\"], [\"S\\u00e3o Tom\\u00e9 & Pr\\u00edncipe\"], [\"Mozambique\"], [\"Comoros\"], [\"Papua New Guinea\"], [\"Suriname\"], [\"Angola\"], [\"Djibouti\"], [\"Vietnam\"], [\"Samoa\"], [\"Seychelles\"], [\"St. Lucia\"], [\"Solomon Islands\"], [\"Zimbabwe\"], [\"Vanuatu\"], [\"Antigua & Barbuda\"], [\"Belize\"], [\"St. Vincent & Grenadines\"], [\"Dominica\"], [\"St. Kitts & Nevis\"], [\"Brunei\"], [\"Liechtenstein\"], [\"Namibia\"], [\"Germany\"], [\"Estonia\"], [\"Latvia\"], [\"Lithuania\"], [\"Yemen\"], [\"North Korea\"], [\"South Korea\"], [\"Marshall Islands\"], [\"Micronesia (Federated States of)\"], [\"Croatia\"], [\"Slovenia\"], [\"Moldova\"], [\"San Marino\"], [\"Armenia\"], [\"Azerbaijan\"], [\"Bosnia & Herzegovina\"], [\"Kazakhstan\"], [\"Tajikistan\"], [\"Turkmenistan\"], [\"Kyrgyzstan\"], [\"Andorra\"], [\"Czechia\"], [\"Slovakia\"], [\"North Macedonia\"], [\"Monaco\"], [\"Georgia\"], [\"Eritrea\"], [\"Uzbekistan\"], [\"Palau\"], [\"Tonga\"], [\"Nauru\"], [\"Tuvalu\"], [\"Kiribati\"], [\"Switzerland\"], [\"Timor-Leste\"], [\"Montenegro\"], [\"South Sudan\"]];\n",
       "\n",
       "        // Define the dt_args\n",
       "        let dt_args = {\"layout\": {\"topStart\": \"pageLength\", \"topEnd\": \"search\", \"bottomStart\": \"info\", \"bottomEnd\": \"paging\"}, \"order\": []};\n",
       "        dt_args[\"data\"] = data;\n",
       "\n",
       "        \n",
       "        new DataTable(table, dt_args);\n",
       "    });\n",
       "</script>\n"
      ],
      "text/plain": [
       "<IPython.core.display.HTML object>"
      ]
     },
     "metadata": {},
     "output_type": "display_data"
    }
   ],
   "source": [
    "# Copy and paste the code here:\n",
    "# Python can list all the different countries:\n",
    "country_list = list(DF['country'].unique())\n",
    "\n",
    "# Show the data in a nice way\n",
    "show(pd.DataFrame(country_list,columns=['country']))"
   ]
  },
  {
   "cell_type": "markdown",
   "id": "e6869f91-d574-4e4f-8200-7f7ba12ef657",
   "metadata": {},
   "source": [
    "Copy and paste the command that will count up the number of countries:"
   ]
  },
  {
   "cell_type": "code",
   "execution_count": 20,
   "id": "fa93e932-08e9-46b8-ae03-1f6504a8d7b7",
   "metadata": {},
   "outputs": [
    {
     "name": "stdout",
     "output_type": "stream",
     "text": [
      "200\n"
     ]
    }
   ],
   "source": [
    "# Copy and paste the code here:\n",
    "# Python can count up the number of countries.\n",
    "# Find the length of the list\n",
    "print(len(country_list))"
   ]
  },
  {
   "cell_type": "markdown",
   "id": "8fc80b9c-3777-4ed3-903f-610f9a889561",
   "metadata": {},
   "source": [
    "### Problem 2\n",
    "\n",
    "Try writing some code for your self. Above we found a countries list by focusing on the column named 'country'. See if you can redo that same code but change it to focus on the column named 'issue'.\n",
    "\n",
    "What do I expect here:\n",
    "\n",
    "* First copy and past the code from above\n",
    "* Then change that code slightly\n",
    "* Run the cell to see if it worked"
   ]
  },
  {
   "cell_type": "code",
   "execution_count": 22,
   "id": "8322841e-daef-4ff3-a74b-20560af34c52",
   "metadata": {},
   "outputs": [
    {
     "data": {
      "text/plain": [
       "['Human rights',\n",
       " 'Economic development',\n",
       " 'Colonialism',\n",
       " 'Palestinian conflict',\n",
       " 'Arms control and disarmament',\n",
       " 'Nuclear weapons and nuclear material']"
      ]
     },
     "execution_count": 22,
     "metadata": {},
     "output_type": "execute_result"
    }
   ],
   "source": [
    "# Write your code here\n",
    "issues_list = list(DF['issue'].unique())\n",
    "issues_list"
   ]
  },
  {
   "cell_type": "markdown",
   "id": "7ebdffc3-dbc2-4100-83d6-ea94d27f9456",
   "metadata": {},
   "source": [
    "-------------------------------\n",
    "### Data Visualization:\n",
    "-------------------------------\n",
    "\n",
    "Now we will select three countries that we are interested in and see how their votes have changed over time. Below you should see code that selects: Turkey, United States, and United Kingdom.\n",
    "\n",
    "**IMPORTANT** These have to be spelled and capitalized exactly like they are in the data. Python is unforgiving of typos!\n",
    "\n",
    "You can just run the cell below - assuming you have done all the parts above!"
   ]
  },
  {
   "cell_type": "code",
   "execution_count": 31,
   "id": "cb0dfbd6-1959-4881-890a-aa184248699d",
   "metadata": {},
   "outputs": [
    {
     "name": "stdout",
     "output_type": "stream",
     "text": [
      "['Human rights', 'Economic development', 'Colonialism', 'Palestinian conflict', 'Arms control and disarmament', 'Nuclear weapons and nuclear material']\n"
     ]
    }
   ],
   "source": [
    "countries = ['Turkey', 'United States', 'United Kingdom']\n",
    "issues = list(DF['issue'].unique())\n",
    "c_groups = DF.groupby(['country','issue'])\n",
    "print(issues)"
   ]
  },
  {
   "cell_type": "markdown",
   "id": "00a813fa-de2b-4c25-a96c-68234b9b9503",
   "metadata": {},
   "source": [
    "Now that we have our focus countries, we can make pretty pictures.\n",
    "\n",
    "You can just run the cell below - assuming you have done all the parts above!"
   ]
  },
  {
   "cell_type": "code",
   "execution_count": 37,
   "id": "0004cb71-264f-4580-b847-41f8b01fa300",
   "metadata": {},
   "outputs": [
    {
     "data": {
      "application/vnd.plotly.v1+json": {
       "config": {
        "plotlyServerURL": "https://plot.ly"
       },
       "data": [
        {
         "hovertemplate": "Country=Turkey<br>x=%{x}<br>y=%{y}<extra></extra>",
         "legendgroup": "Turkey",
         "marker": {
          "color": "#636efa",
          "symbol": "circle"
         },
         "mode": "markers",
         "name": "Turkey",
         "orientation": "v",
         "showlegend": true,
         "type": "scatter",
         "x": [
          1946,
          1948,
          1949,
          1950,
          1952,
          1953,
          1954,
          1955,
          1956,
          1958,
          1959,
          1961,
          1962,
          1965,
          1966,
          1967,
          1968,
          1969,
          1970,
          1971,
          1972,
          1973,
          1974,
          1975,
          1976,
          1977,
          1978,
          1979,
          1980,
          1981,
          1982,
          1983,
          1984,
          1985,
          1986,
          1987,
          1988,
          1989,
          1990,
          1991,
          1992,
          1993,
          1994,
          1995,
          1996,
          1997,
          1998,
          1999,
          2000,
          2001,
          2002,
          2003,
          2004,
          2006,
          2005,
          2007,
          2008,
          2009,
          2010,
          2011,
          2012,
          2013,
          2014,
          2015,
          2016,
          2017,
          2018,
          2019
         ],
         "xaxis": "x",
         "y": [
          0,
          16.666666666666664,
          100,
          50,
          25,
          33.33333333333333,
          100,
          33.33333333333333,
          83.33333333333334,
          100,
          100,
          50,
          0,
          0,
          100,
          100,
          100,
          80,
          100,
          100,
          100,
          91.66666666666666,
          94.73684210526315,
          85.71428571428571,
          82.35294117647058,
          84.21052631578947,
          81.25,
          75,
          94.44444444444444,
          84.61538461538461,
          71.42857142857143,
          68.42105263157895,
          53.333333333333336,
          62.5,
          70.83333333333334,
          57.89473684210527,
          52.94117647058824,
          57.14285714285714,
          60,
          63.63636363636363,
          63.63636363636363,
          70,
          76.92307692307693,
          92.3076923076923,
          82.35294117647058,
          76.47058823529412,
          87.5,
          94.11764705882352,
          80,
          81.25,
          68.18181818181817,
          69.56521739130434,
          66.66666666666666,
          66.66666666666666,
          73.68421052631578,
          76,
          72,
          68.18181818181817,
          65.21739130434783,
          72.72727272727273,
          68.18181818181817,
          65,
          64.70588235294117,
          63.1578947368421,
          55.55555555555556,
          65.51724137931035,
          66.66666666666666,
          46.15384615384615
         ],
         "yaxis": "y"
        },
        {
         "hovertemplate": "<b>LOWESS trendline</b><br><br>Country=Turkey<br>x=%{x}<br>y=%{y} <b>(trend)</b><extra></extra>",
         "legendgroup": "Turkey",
         "marker": {
          "color": "#636efa",
          "symbol": "circle"
         },
         "mode": "lines",
         "name": "Turkey",
         "showlegend": false,
         "type": "scatter",
         "x": [
          1946,
          1948,
          1949,
          1950,
          1952,
          1953,
          1954,
          1955,
          1956,
          1958,
          1959,
          1961,
          1962,
          1965,
          1966,
          1967,
          1968,
          1969,
          1970,
          1971,
          1972,
          1973,
          1974,
          1975,
          1976,
          1977,
          1978,
          1979,
          1980,
          1981,
          1982,
          1983,
          1984,
          1985,
          1986,
          1987,
          1988,
          1989,
          1990,
          1991,
          1992,
          1993,
          1994,
          1995,
          1996,
          1997,
          1998,
          1999,
          2000,
          2001,
          2002,
          2003,
          2004,
          2005,
          2006,
          2007,
          2008,
          2009,
          2010,
          2011,
          2012,
          2013,
          2014,
          2015,
          2016,
          2017,
          2018,
          2019
         ],
         "xaxis": "x",
         "y": [
          47.100775708506575,
          50.42186330479894,
          52.03944903844874,
          53.626945751860596,
          56.70820625985818,
          58.20062209321406,
          59.66123874023213,
          61.09172827570233,
          62.49407829836141,
          65.22603694501566,
          66.56178559135816,
          69.18853919412898,
          70.48657654021028,
          74.39525138567318,
          75.73696343233945,
          77.12169848504836,
          78.56456927811875,
          80.07176052295496,
          81.61905404773758,
          83.11547997640311,
          83.52515493766128,
          83.6730196098472,
          83.55717201671185,
          83.19374764567598,
          82.95909883682542,
          82.10565273415347,
          81.20813197131872,
          80.32325878749,
          79.49479405247317,
          78.7370577060806,
          78.04417480906527,
          77.40478589592617,
          76.4441759358042,
          75.87899435188561,
          75.3525154771859,
          74.47075422617858,
          74.01955997614637,
          73.59418039802073,
          73.19423279541822,
          72.82619437653489,
          72.49972957106864,
          72.22006334355885,
          71.9905254588185,
          71.81276183929315,
          71.68526236327779,
          71.60477070957877,
          71.43580908898741,
          71.21548186019855,
          70.97102230384913,
          70.71475506715747,
          70.4489682621078,
          70.17258490181287,
          69.88423009312203,
          69.58289795073502,
          69.2679781013152,
          68.93901837851628,
          68.595737317374,
          68.2377878916201,
          67.86481445025879,
          67.47656865184587,
          67.07291756351472,
          66.65366218546542,
          66.21861552162416,
          65.76769560215267,
          65.30093302369896,
          64.81853949683932,
          64.32102421277247,
          63.80888897131585
         ],
         "yaxis": "y"
        },
        {
         "hovertemplate": "Country=United States<br>x=%{x}<br>y=%{y}<extra></extra>",
         "legendgroup": "United States",
         "marker": {
          "color": "#EF553B",
          "symbol": "circle"
         },
         "mode": "markers",
         "name": "United States",
         "orientation": "v",
         "showlegend": true,
         "type": "scatter",
         "x": [
          1946,
          1948,
          1949,
          1950,
          1952,
          1953,
          1954,
          1955,
          1956,
          1958,
          1959,
          1961,
          1962,
          1965,
          1966,
          1967,
          1968,
          1969,
          1970,
          1971,
          1972,
          1973,
          1974,
          1975,
          1976,
          1977,
          1978,
          1979,
          1980,
          1981,
          1982,
          1983,
          1984,
          1985,
          1986,
          1987,
          1988,
          1989,
          1990,
          1991,
          1992,
          1993,
          1994,
          1995,
          1996,
          1997,
          1998,
          1999,
          2000,
          2001,
          2002,
          2003,
          2004,
          2006,
          2005,
          2007,
          2008,
          2009,
          2010,
          2011,
          2012,
          2013,
          2014,
          2015,
          2016,
          2017,
          2018,
          2019
         ],
         "xaxis": "x",
         "y": [
          0,
          16.666666666666664,
          100,
          50,
          12.5,
          50,
          0,
          33.33333333333333,
          100,
          100,
          33.33333333333333,
          25,
          0,
          50,
          77.77777777777779,
          20,
          0,
          60,
          50,
          44.44444444444444,
          35.294117647058826,
          29.166666666666668,
          15,
          19.047619047619047,
          13.333333333333334,
          16.666666666666664,
          28.57142857142857,
          25,
          27.77777777777778,
          15.384615384615385,
          4.761904761904762,
          5.263157894736842,
          6.666666666666667,
          12.5,
          20.833333333333336,
          10.526315789473683,
          6.25,
          0,
          10,
          27.27272727272727,
          36.36363636363637,
          36.36363636363637,
          42.857142857142854,
          50,
          41.17647058823529,
          40,
          35.294117647058826,
          25,
          17.647058823529413,
          15,
          17.391304347826086,
          20,
          20,
          14.285714285714285,
          33.33333333333333,
          18.51851851851852,
          11.538461538461538,
          17.391304347826086,
          12,
          20,
          17.391304347826086,
          14.285714285714285,
          23.52941176470588,
          30,
          26.31578947368421,
          36.666666666666664,
          27.27272727272727,
          35.714285714285715
         ],
         "yaxis": "y"
        },
        {
         "hovertemplate": "<b>LOWESS trendline</b><br><br>Country=United States<br>x=%{x}<br>y=%{y} <b>(trend)</b><extra></extra>",
         "legendgroup": "United States",
         "marker": {
          "color": "#EF553B",
          "symbol": "circle"
         },
         "mode": "lines",
         "name": "United States",
         "showlegend": false,
         "type": "scatter",
         "x": [
          1946,
          1948,
          1949,
          1950,
          1952,
          1953,
          1954,
          1955,
          1956,
          1958,
          1959,
          1961,
          1962,
          1965,
          1966,
          1967,
          1968,
          1969,
          1970,
          1971,
          1972,
          1973,
          1974,
          1975,
          1976,
          1977,
          1978,
          1979,
          1980,
          1981,
          1982,
          1983,
          1984,
          1985,
          1986,
          1987,
          1988,
          1989,
          1990,
          1991,
          1992,
          1993,
          1994,
          1995,
          1996,
          1997,
          1998,
          1999,
          2000,
          2001,
          2002,
          2003,
          2004,
          2005,
          2006,
          2007,
          2008,
          2009,
          2010,
          2011,
          2012,
          2013,
          2014,
          2015,
          2016,
          2017,
          2018,
          2019
         ],
         "xaxis": "x",
         "y": [
          27.239088739236813,
          27.256684541739578,
          27.250099812087925,
          27.23419757877401,
          27.176889874574826,
          27.135643338200605,
          27.086378953444317,
          27.029088896025602,
          26.964169044542036,
          26.813043852759023,
          26.727732530069243,
          26.539960110737546,
          26.43818840421143,
          26.111319030143004,
          26.000404281073546,
          25.889296080246314,
          25.773913455815293,
          25.64324713495871,
          25.47602793258306,
          25.25174519300978,
          24.82679030054259,
          24.41112374024385,
          24.018006592981468,
          23.654181570884393,
          23.260124008028455,
          22.92000157646855,
          22.654862678655594,
          22.46889614970196,
          22.348963567016835,
          22.27557303186933,
          22.22996838638761,
          22.19748606654547,
          21.914795571584506,
          21.902803514778483,
          21.88813077950239,
          21.705930424520506,
          21.723914673790894,
          21.734981368162327,
          21.749771689691332,
          21.7810463581078,
          21.831408571077088,
          21.898192137869742,
          21.98067488336956,
          22.082856203501386,
          22.21187667855547,
          22.377177308216538,
          22.37798131843154,
          22.465640664336178,
          22.605590471984822,
          22.76799343490267,
          22.93491698330357,
          23.096556965850805,
          23.247675148718628,
          23.385570207014936,
          23.5089768665155,
          23.61734182428785,
          23.710970944762515,
          23.79082563873045,
          23.858437421410006,
          23.915703651592345,
          23.964841529095924,
          24.008181150175066,
          24.04817640371738,
          24.087412075945288,
          24.12830629036821,
          24.172890050932825,
          24.222807777805148,
          24.279124523127674
         ],
         "yaxis": "y"
        },
        {
         "hovertemplate": "Country=United Kingdom<br>x=%{x}<br>y=%{y}<extra></extra>",
         "legendgroup": "United Kingdom",
         "marker": {
          "color": "#00cc96",
          "symbol": "circle"
         },
         "mode": "markers",
         "name": "United Kingdom",
         "orientation": "v",
         "showlegend": true,
         "type": "scatter",
         "x": [
          1946,
          1948,
          1949,
          1950,
          1952,
          1953,
          1954,
          1955,
          1956,
          1958,
          1959,
          1961,
          1962,
          1965,
          1966,
          1967,
          1968,
          1969,
          1970,
          1971,
          1972,
          1973,
          1974,
          1975,
          1976,
          1977,
          1978,
          1979,
          1980,
          1981,
          1982,
          1983,
          1984,
          1985,
          1986,
          1987,
          1988,
          1989,
          1990,
          1991,
          1992,
          1993,
          1994,
          1995,
          1996,
          1997,
          1998,
          1999,
          2000,
          2001,
          2002,
          2003,
          2004,
          2006,
          2005,
          2007,
          2008,
          2009,
          2010,
          2011,
          2012,
          2013,
          2014,
          2015,
          2016,
          2017,
          2018,
          2019
         ],
         "xaxis": "x",
         "y": [
          0,
          16.666666666666664,
          100,
          0,
          12.5,
          16.666666666666664,
          100,
          33.33333333333333,
          100,
          0,
          0,
          25,
          0,
          50,
          66.66666666666666,
          20,
          0,
          75,
          38.46153846153847,
          33.33333333333333,
          35.294117647058826,
          30.434782608695656,
          20,
          30,
          26.666666666666668,
          33.33333333333333,
          37.5,
          25,
          27.77777777777778,
          38.46153846153847,
          9.523809523809524,
          10.526315789473683,
          20,
          31.25,
          33.33333333333333,
          31.57894736842105,
          11.76470588235294,
          35.714285714285715,
          20,
          36.36363636363637,
          45.45454545454545,
          54.54545454545454,
          64.28571428571429,
          71.42857142857143,
          64.70588235294117,
          60,
          64.70588235294117,
          50,
          52.94117647058824,
          45,
          56.52173913043478,
          44,
          50,
          50,
          61.904761904761905,
          55.55555555555556,
          50,
          39.130434782608695,
          48,
          44,
          52.17391304347826,
          38.095238095238095,
          38.88888888888889,
          40,
          31.57894736842105,
          53.333333333333336,
          54.54545454545454,
          42.857142857142854
         ],
         "yaxis": "y"
        },
        {
         "hovertemplate": "<b>LOWESS trendline</b><br><br>Country=United Kingdom<br>x=%{x}<br>y=%{y} <b>(trend)</b><extra></extra>",
         "legendgroup": "United Kingdom",
         "marker": {
          "color": "#00cc96",
          "symbol": "circle"
         },
         "mode": "lines",
         "name": "United Kingdom",
         "showlegend": false,
         "type": "scatter",
         "x": [
          1946,
          1948,
          1949,
          1950,
          1952,
          1953,
          1954,
          1955,
          1956,
          1958,
          1959,
          1961,
          1962,
          1965,
          1966,
          1967,
          1968,
          1969,
          1970,
          1971,
          1972,
          1973,
          1974,
          1975,
          1976,
          1977,
          1978,
          1979,
          1980,
          1981,
          1982,
          1983,
          1984,
          1985,
          1986,
          1987,
          1988,
          1989,
          1990,
          1991,
          1992,
          1993,
          1994,
          1995,
          1996,
          1997,
          1998,
          1999,
          2000,
          2001,
          2002,
          2003,
          2004,
          2005,
          2006,
          2007,
          2008,
          2009,
          2010,
          2011,
          2012,
          2013,
          2014,
          2015,
          2016,
          2017,
          2018,
          2019
         ],
         "xaxis": "x",
         "y": [
          6.935252276081041,
          8.398031794266217,
          9.127081941435412,
          9.85439957500593,
          11.303204222114397,
          12.02489437094629,
          12.7448875707822,
          13.463084762759367,
          14.179222837118173,
          15.601983432584603,
          16.30658719707701,
          17.699179302307385,
          18.387001789177734,
          20.418130106075875,
          21.08700441574719,
          21.753169895329968,
          22.416826345506585,
          23.077164048872003,
          23.732350060992154,
          24.384339503091628,
          24.965104863899988,
          25.56430537063967,
          26.189474369871228,
          26.85367647242675,
          27.56475354224537,
          28.30912600654103,
          29.110564396279585,
          29.963025591025563,
          30.85621777440597,
          31.781499146004954,
          32.730508922093726,
          33.69499378071792,
          34.49262447136946,
          35.47486793229548,
          36.440708405287445,
          37.260878586258585,
          38.198047594119316,
          39.09862641186852,
          39.9664835667263,
          40.811895684471764,
          41.64526098521476,
          42.467793328205666,
          43.276901634708544,
          44.06802772472828,
          44.836532434791366,
          45.58028412492405,
          45.86096642221625,
          46.09727659077024,
          46.322684552575424,
          46.54490575048053,
          46.76123281241759,
          46.96733234760649,
          47.15940525265444,
          47.33483496366784,
          47.49176875608261,
          47.62867849151687,
          47.74443577577096,
          47.838153999702506,
          47.909284682318116,
          47.95776883727315,
          47.98380599161487,
          47.98779457709238,
          47.97019079447215,
          47.93180077597012,
          47.87380937795867,
          47.79775717667142,
          47.70552278029431,
          47.59872522051037
         ],
         "yaxis": "y"
        }
       ],
       "layout": {
        "height": 360,
        "legend": {
         "title": {
          "text": "Country"
         },
         "tracegroupgap": 0
        },
        "margin": {
         "t": 60
        },
        "template": {
         "data": {
          "bar": [
           {
            "error_x": {
             "color": "#2a3f5f"
            },
            "error_y": {
             "color": "#2a3f5f"
            },
            "marker": {
             "line": {
              "color": "#E5ECF6",
              "width": 0.5
             },
             "pattern": {
              "fillmode": "overlay",
              "size": 10,
              "solidity": 0.2
             }
            },
            "type": "bar"
           }
          ],
          "barpolar": [
           {
            "marker": {
             "line": {
              "color": "#E5ECF6",
              "width": 0.5
             },
             "pattern": {
              "fillmode": "overlay",
              "size": 10,
              "solidity": 0.2
             }
            },
            "type": "barpolar"
           }
          ],
          "carpet": [
           {
            "aaxis": {
             "endlinecolor": "#2a3f5f",
             "gridcolor": "white",
             "linecolor": "white",
             "minorgridcolor": "white",
             "startlinecolor": "#2a3f5f"
            },
            "baxis": {
             "endlinecolor": "#2a3f5f",
             "gridcolor": "white",
             "linecolor": "white",
             "minorgridcolor": "white",
             "startlinecolor": "#2a3f5f"
            },
            "type": "carpet"
           }
          ],
          "choropleth": [
           {
            "colorbar": {
             "outlinewidth": 0,
             "ticks": ""
            },
            "type": "choropleth"
           }
          ],
          "contour": [
           {
            "colorbar": {
             "outlinewidth": 0,
             "ticks": ""
            },
            "colorscale": [
             [
              0,
              "#0d0887"
             ],
             [
              0.1111111111111111,
              "#46039f"
             ],
             [
              0.2222222222222222,
              "#7201a8"
             ],
             [
              0.3333333333333333,
              "#9c179e"
             ],
             [
              0.4444444444444444,
              "#bd3786"
             ],
             [
              0.5555555555555556,
              "#d8576b"
             ],
             [
              0.6666666666666666,
              "#ed7953"
             ],
             [
              0.7777777777777778,
              "#fb9f3a"
             ],
             [
              0.8888888888888888,
              "#fdca26"
             ],
             [
              1,
              "#f0f921"
             ]
            ],
            "type": "contour"
           }
          ],
          "contourcarpet": [
           {
            "colorbar": {
             "outlinewidth": 0,
             "ticks": ""
            },
            "type": "contourcarpet"
           }
          ],
          "heatmap": [
           {
            "colorbar": {
             "outlinewidth": 0,
             "ticks": ""
            },
            "colorscale": [
             [
              0,
              "#0d0887"
             ],
             [
              0.1111111111111111,
              "#46039f"
             ],
             [
              0.2222222222222222,
              "#7201a8"
             ],
             [
              0.3333333333333333,
              "#9c179e"
             ],
             [
              0.4444444444444444,
              "#bd3786"
             ],
             [
              0.5555555555555556,
              "#d8576b"
             ],
             [
              0.6666666666666666,
              "#ed7953"
             ],
             [
              0.7777777777777778,
              "#fb9f3a"
             ],
             [
              0.8888888888888888,
              "#fdca26"
             ],
             [
              1,
              "#f0f921"
             ]
            ],
            "type": "heatmap"
           }
          ],
          "heatmapgl": [
           {
            "colorbar": {
             "outlinewidth": 0,
             "ticks": ""
            },
            "colorscale": [
             [
              0,
              "#0d0887"
             ],
             [
              0.1111111111111111,
              "#46039f"
             ],
             [
              0.2222222222222222,
              "#7201a8"
             ],
             [
              0.3333333333333333,
              "#9c179e"
             ],
             [
              0.4444444444444444,
              "#bd3786"
             ],
             [
              0.5555555555555556,
              "#d8576b"
             ],
             [
              0.6666666666666666,
              "#ed7953"
             ],
             [
              0.7777777777777778,
              "#fb9f3a"
             ],
             [
              0.8888888888888888,
              "#fdca26"
             ],
             [
              1,
              "#f0f921"
             ]
            ],
            "type": "heatmapgl"
           }
          ],
          "histogram": [
           {
            "marker": {
             "pattern": {
              "fillmode": "overlay",
              "size": 10,
              "solidity": 0.2
             }
            },
            "type": "histogram"
           }
          ],
          "histogram2d": [
           {
            "colorbar": {
             "outlinewidth": 0,
             "ticks": ""
            },
            "colorscale": [
             [
              0,
              "#0d0887"
             ],
             [
              0.1111111111111111,
              "#46039f"
             ],
             [
              0.2222222222222222,
              "#7201a8"
             ],
             [
              0.3333333333333333,
              "#9c179e"
             ],
             [
              0.4444444444444444,
              "#bd3786"
             ],
             [
              0.5555555555555556,
              "#d8576b"
             ],
             [
              0.6666666666666666,
              "#ed7953"
             ],
             [
              0.7777777777777778,
              "#fb9f3a"
             ],
             [
              0.8888888888888888,
              "#fdca26"
             ],
             [
              1,
              "#f0f921"
             ]
            ],
            "type": "histogram2d"
           }
          ],
          "histogram2dcontour": [
           {
            "colorbar": {
             "outlinewidth": 0,
             "ticks": ""
            },
            "colorscale": [
             [
              0,
              "#0d0887"
             ],
             [
              0.1111111111111111,
              "#46039f"
             ],
             [
              0.2222222222222222,
              "#7201a8"
             ],
             [
              0.3333333333333333,
              "#9c179e"
             ],
             [
              0.4444444444444444,
              "#bd3786"
             ],
             [
              0.5555555555555556,
              "#d8576b"
             ],
             [
              0.6666666666666666,
              "#ed7953"
             ],
             [
              0.7777777777777778,
              "#fb9f3a"
             ],
             [
              0.8888888888888888,
              "#fdca26"
             ],
             [
              1,
              "#f0f921"
             ]
            ],
            "type": "histogram2dcontour"
           }
          ],
          "mesh3d": [
           {
            "colorbar": {
             "outlinewidth": 0,
             "ticks": ""
            },
            "type": "mesh3d"
           }
          ],
          "parcoords": [
           {
            "line": {
             "colorbar": {
              "outlinewidth": 0,
              "ticks": ""
             }
            },
            "type": "parcoords"
           }
          ],
          "pie": [
           {
            "automargin": true,
            "type": "pie"
           }
          ],
          "scatter": [
           {
            "fillpattern": {
             "fillmode": "overlay",
             "size": 10,
             "solidity": 0.2
            },
            "type": "scatter"
           }
          ],
          "scatter3d": [
           {
            "line": {
             "colorbar": {
              "outlinewidth": 0,
              "ticks": ""
             }
            },
            "marker": {
             "colorbar": {
              "outlinewidth": 0,
              "ticks": ""
             }
            },
            "type": "scatter3d"
           }
          ],
          "scattercarpet": [
           {
            "marker": {
             "colorbar": {
              "outlinewidth": 0,
              "ticks": ""
             }
            },
            "type": "scattercarpet"
           }
          ],
          "scattergeo": [
           {
            "marker": {
             "colorbar": {
              "outlinewidth": 0,
              "ticks": ""
             }
            },
            "type": "scattergeo"
           }
          ],
          "scattergl": [
           {
            "marker": {
             "colorbar": {
              "outlinewidth": 0,
              "ticks": ""
             }
            },
            "type": "scattergl"
           }
          ],
          "scattermapbox": [
           {
            "marker": {
             "colorbar": {
              "outlinewidth": 0,
              "ticks": ""
             }
            },
            "type": "scattermapbox"
           }
          ],
          "scatterpolar": [
           {
            "marker": {
             "colorbar": {
              "outlinewidth": 0,
              "ticks": ""
             }
            },
            "type": "scatterpolar"
           }
          ],
          "scatterpolargl": [
           {
            "marker": {
             "colorbar": {
              "outlinewidth": 0,
              "ticks": ""
             }
            },
            "type": "scatterpolargl"
           }
          ],
          "scatterternary": [
           {
            "marker": {
             "colorbar": {
              "outlinewidth": 0,
              "ticks": ""
             }
            },
            "type": "scatterternary"
           }
          ],
          "surface": [
           {
            "colorbar": {
             "outlinewidth": 0,
             "ticks": ""
            },
            "colorscale": [
             [
              0,
              "#0d0887"
             ],
             [
              0.1111111111111111,
              "#46039f"
             ],
             [
              0.2222222222222222,
              "#7201a8"
             ],
             [
              0.3333333333333333,
              "#9c179e"
             ],
             [
              0.4444444444444444,
              "#bd3786"
             ],
             [
              0.5555555555555556,
              "#d8576b"
             ],
             [
              0.6666666666666666,
              "#ed7953"
             ],
             [
              0.7777777777777778,
              "#fb9f3a"
             ],
             [
              0.8888888888888888,
              "#fdca26"
             ],
             [
              1,
              "#f0f921"
             ]
            ],
            "type": "surface"
           }
          ],
          "table": [
           {
            "cells": {
             "fill": {
              "color": "#EBF0F8"
             },
             "line": {
              "color": "white"
             }
            },
            "header": {
             "fill": {
              "color": "#C8D4E3"
             },
             "line": {
              "color": "white"
             }
            },
            "type": "table"
           }
          ]
         },
         "layout": {
          "annotationdefaults": {
           "arrowcolor": "#2a3f5f",
           "arrowhead": 0,
           "arrowwidth": 1
          },
          "autotypenumbers": "strict",
          "coloraxis": {
           "colorbar": {
            "outlinewidth": 0,
            "ticks": ""
           }
          },
          "colorscale": {
           "diverging": [
            [
             0,
             "#8e0152"
            ],
            [
             0.1,
             "#c51b7d"
            ],
            [
             0.2,
             "#de77ae"
            ],
            [
             0.3,
             "#f1b6da"
            ],
            [
             0.4,
             "#fde0ef"
            ],
            [
             0.5,
             "#f7f7f7"
            ],
            [
             0.6,
             "#e6f5d0"
            ],
            [
             0.7,
             "#b8e186"
            ],
            [
             0.8,
             "#7fbc41"
            ],
            [
             0.9,
             "#4d9221"
            ],
            [
             1,
             "#276419"
            ]
           ],
           "sequential": [
            [
             0,
             "#0d0887"
            ],
            [
             0.1111111111111111,
             "#46039f"
            ],
            [
             0.2222222222222222,
             "#7201a8"
            ],
            [
             0.3333333333333333,
             "#9c179e"
            ],
            [
             0.4444444444444444,
             "#bd3786"
            ],
            [
             0.5555555555555556,
             "#d8576b"
            ],
            [
             0.6666666666666666,
             "#ed7953"
            ],
            [
             0.7777777777777778,
             "#fb9f3a"
            ],
            [
             0.8888888888888888,
             "#fdca26"
            ],
            [
             1,
             "#f0f921"
            ]
           ],
           "sequentialminus": [
            [
             0,
             "#0d0887"
            ],
            [
             0.1111111111111111,
             "#46039f"
            ],
            [
             0.2222222222222222,
             "#7201a8"
            ],
            [
             0.3333333333333333,
             "#9c179e"
            ],
            [
             0.4444444444444444,
             "#bd3786"
            ],
            [
             0.5555555555555556,
             "#d8576b"
            ],
            [
             0.6666666666666666,
             "#ed7953"
            ],
            [
             0.7777777777777778,
             "#fb9f3a"
            ],
            [
             0.8888888888888888,
             "#fdca26"
            ],
            [
             1,
             "#f0f921"
            ]
           ]
          },
          "colorway": [
           "#636efa",
           "#EF553B",
           "#00cc96",
           "#ab63fa",
           "#FFA15A",
           "#19d3f3",
           "#FF6692",
           "#B6E880",
           "#FF97FF",
           "#FECB52"
          ],
          "font": {
           "color": "#2a3f5f"
          },
          "geo": {
           "bgcolor": "white",
           "lakecolor": "white",
           "landcolor": "#E5ECF6",
           "showlakes": true,
           "showland": true,
           "subunitcolor": "white"
          },
          "hoverlabel": {
           "align": "left"
          },
          "hovermode": "closest",
          "mapbox": {
           "style": "light"
          },
          "paper_bgcolor": "white",
          "plot_bgcolor": "#E5ECF6",
          "polar": {
           "angularaxis": {
            "gridcolor": "white",
            "linecolor": "white",
            "ticks": ""
           },
           "bgcolor": "#E5ECF6",
           "radialaxis": {
            "gridcolor": "white",
            "linecolor": "white",
            "ticks": ""
           }
          },
          "scene": {
           "xaxis": {
            "backgroundcolor": "#E5ECF6",
            "gridcolor": "white",
            "gridwidth": 2,
            "linecolor": "white",
            "showbackground": true,
            "ticks": "",
            "zerolinecolor": "white"
           },
           "yaxis": {
            "backgroundcolor": "#E5ECF6",
            "gridcolor": "white",
            "gridwidth": 2,
            "linecolor": "white",
            "showbackground": true,
            "ticks": "",
            "zerolinecolor": "white"
           },
           "zaxis": {
            "backgroundcolor": "#E5ECF6",
            "gridcolor": "white",
            "gridwidth": 2,
            "linecolor": "white",
            "showbackground": true,
            "ticks": "",
            "zerolinecolor": "white"
           }
          },
          "shapedefaults": {
           "line": {
            "color": "#2a3f5f"
           }
          },
          "ternary": {
           "aaxis": {
            "gridcolor": "white",
            "linecolor": "white",
            "ticks": ""
           },
           "baxis": {
            "gridcolor": "white",
            "linecolor": "white",
            "ticks": ""
           },
           "bgcolor": "#E5ECF6",
           "caxis": {
            "gridcolor": "white",
            "linecolor": "white",
            "ticks": ""
           }
          },
          "title": {
           "x": 0.05
          },
          "xaxis": {
           "automargin": true,
           "gridcolor": "white",
           "linecolor": "white",
           "ticks": "",
           "title": {
            "standoff": 15
           },
           "zerolinecolor": "white",
           "zerolinewidth": 2
          },
          "yaxis": {
           "automargin": true,
           "gridcolor": "white",
           "linecolor": "white",
           "ticks": "",
           "title": {
            "standoff": 15
           },
           "zerolinecolor": "white",
           "zerolinewidth": 2
          }
         }
        },
        "title": {
         "text": "Human rights<br>",
         "x": 0.5,
         "xanchor": "center",
         "y": 0.9,
         "yanchor": "top"
        },
        "xaxis": {
         "anchor": "y",
         "domain": [
          0,
          1
         ],
         "title": {
          "text": "Year"
         }
        },
        "yaxis": {
         "anchor": "x",
         "domain": [
          0,
          1
         ],
         "title": {
          "text": "% Yes"
         }
        }
       }
      },
      "text/html": [
       "<div>                            <div id=\"f45e28bc-277a-4539-9c42-018ca9ce38d9\" class=\"plotly-graph-div\" style=\"height:525px; width:100%;\"></div>            <script type=\"text/javascript\">                require([\"plotly\"], function(Plotly) {                    window.PLOTLYENV=window.PLOTLYENV || {};                                    if (document.getElementById(\"f45e28bc-277a-4539-9c42-018ca9ce38d9\")) {                    Plotly.newPlot(                        \"f45e28bc-277a-4539-9c42-018ca9ce38d9\",                        [{\"hovertemplate\":\"Country=Turkey\\u003cbr\\u003ex=%{x}\\u003cbr\\u003ey=%{y}\\u003cextra\\u003e\\u003c\\u002fextra\\u003e\",\"legendgroup\":\"Turkey\",\"marker\":{\"color\":\"#636efa\",\"symbol\":\"circle\"},\"mode\":\"markers\",\"name\":\"Turkey\",\"orientation\":\"v\",\"showlegend\":true,\"x\":[1946,1948,1949,1950,1952,1953,1954,1955,1956,1958,1959,1961,1962,1965,1966,1967,1968,1969,1970,1971,1972,1973,1974,1975,1976,1977,1978,1979,1980,1981,1982,1983,1984,1985,1986,1987,1988,1989,1990,1991,1992,1993,1994,1995,1996,1997,1998,1999,2000,2001,2002,2003,2004,2006,2005,2007,2008,2009,2010,2011,2012,2013,2014,2015,2016,2017,2018,2019],\"xaxis\":\"x\",\"y\":[0.0,16.666666666666664,100.0,50.0,25.0,33.33333333333333,100.0,33.33333333333333,83.33333333333334,100.0,100.0,50.0,0.0,0.0,100.0,100.0,100.0,80.0,100.0,100.0,100.0,91.66666666666666,94.73684210526315,85.71428571428571,82.35294117647058,84.21052631578947,81.25,75.0,94.44444444444444,84.61538461538461,71.42857142857143,68.42105263157895,53.333333333333336,62.5,70.83333333333334,57.89473684210527,52.94117647058824,57.14285714285714,60.0,63.63636363636363,63.63636363636363,70.0,76.92307692307693,92.3076923076923,82.35294117647058,76.47058823529412,87.5,94.11764705882352,80.0,81.25,68.18181818181817,69.56521739130434,66.66666666666666,66.66666666666666,73.68421052631578,76.0,72.0,68.18181818181817,65.21739130434783,72.72727272727273,68.18181818181817,65.0,64.70588235294117,63.1578947368421,55.55555555555556,65.51724137931035,66.66666666666666,46.15384615384615],\"yaxis\":\"y\",\"type\":\"scatter\"},{\"hovertemplate\":\"\\u003cb\\u003eLOWESS trendline\\u003c\\u002fb\\u003e\\u003cbr\\u003e\\u003cbr\\u003eCountry=Turkey\\u003cbr\\u003ex=%{x}\\u003cbr\\u003ey=%{y} \\u003cb\\u003e(trend)\\u003c\\u002fb\\u003e\\u003cextra\\u003e\\u003c\\u002fextra\\u003e\",\"legendgroup\":\"Turkey\",\"marker\":{\"color\":\"#636efa\",\"symbol\":\"circle\"},\"mode\":\"lines\",\"name\":\"Turkey\",\"showlegend\":false,\"x\":[1946,1948,1949,1950,1952,1953,1954,1955,1956,1958,1959,1961,1962,1965,1966,1967,1968,1969,1970,1971,1972,1973,1974,1975,1976,1977,1978,1979,1980,1981,1982,1983,1984,1985,1986,1987,1988,1989,1990,1991,1992,1993,1994,1995,1996,1997,1998,1999,2000,2001,2002,2003,2004,2005,2006,2007,2008,2009,2010,2011,2012,2013,2014,2015,2016,2017,2018,2019],\"xaxis\":\"x\",\"y\":[47.100775708506575,50.42186330479894,52.03944903844874,53.626945751860596,56.70820625985818,58.20062209321406,59.66123874023213,61.09172827570233,62.49407829836141,65.22603694501566,66.56178559135816,69.18853919412898,70.48657654021028,74.39525138567318,75.73696343233945,77.12169848504836,78.56456927811875,80.07176052295496,81.61905404773758,83.11547997640311,83.52515493766128,83.6730196098472,83.55717201671185,83.19374764567598,82.95909883682542,82.10565273415347,81.20813197131872,80.32325878749,79.49479405247317,78.7370577060806,78.04417480906527,77.40478589592617,76.4441759358042,75.87899435188561,75.3525154771859,74.47075422617858,74.01955997614637,73.59418039802073,73.19423279541822,72.82619437653489,72.49972957106864,72.22006334355885,71.9905254588185,71.81276183929315,71.68526236327779,71.60477070957877,71.43580908898741,71.21548186019855,70.97102230384913,70.71475506715747,70.4489682621078,70.17258490181287,69.88423009312203,69.58289795073502,69.2679781013152,68.93901837851628,68.595737317374,68.2377878916201,67.86481445025879,67.47656865184587,67.07291756351472,66.65366218546542,66.21861552162416,65.76769560215267,65.30093302369896,64.81853949683932,64.32102421277247,63.80888897131585],\"yaxis\":\"y\",\"type\":\"scatter\"},{\"hovertemplate\":\"Country=United States\\u003cbr\\u003ex=%{x}\\u003cbr\\u003ey=%{y}\\u003cextra\\u003e\\u003c\\u002fextra\\u003e\",\"legendgroup\":\"United States\",\"marker\":{\"color\":\"#EF553B\",\"symbol\":\"circle\"},\"mode\":\"markers\",\"name\":\"United States\",\"orientation\":\"v\",\"showlegend\":true,\"x\":[1946,1948,1949,1950,1952,1953,1954,1955,1956,1958,1959,1961,1962,1965,1966,1967,1968,1969,1970,1971,1972,1973,1974,1975,1976,1977,1978,1979,1980,1981,1982,1983,1984,1985,1986,1987,1988,1989,1990,1991,1992,1993,1994,1995,1996,1997,1998,1999,2000,2001,2002,2003,2004,2006,2005,2007,2008,2009,2010,2011,2012,2013,2014,2015,2016,2017,2018,2019],\"xaxis\":\"x\",\"y\":[0.0,16.666666666666664,100.0,50.0,12.5,50.0,0.0,33.33333333333333,100.0,100.0,33.33333333333333,25.0,0.0,50.0,77.77777777777779,20.0,0.0,60.0,50.0,44.44444444444444,35.294117647058826,29.166666666666668,15.0,19.047619047619047,13.333333333333334,16.666666666666664,28.57142857142857,25.0,27.77777777777778,15.384615384615385,4.761904761904762,5.263157894736842,6.666666666666667,12.5,20.833333333333336,10.526315789473683,6.25,0.0,10.0,27.27272727272727,36.36363636363637,36.36363636363637,42.857142857142854,50.0,41.17647058823529,40.0,35.294117647058826,25.0,17.647058823529413,15.0,17.391304347826086,20.0,20.0,14.285714285714285,33.33333333333333,18.51851851851852,11.538461538461538,17.391304347826086,12.0,20.0,17.391304347826086,14.285714285714285,23.52941176470588,30.0,26.31578947368421,36.666666666666664,27.27272727272727,35.714285714285715],\"yaxis\":\"y\",\"type\":\"scatter\"},{\"hovertemplate\":\"\\u003cb\\u003eLOWESS trendline\\u003c\\u002fb\\u003e\\u003cbr\\u003e\\u003cbr\\u003eCountry=United States\\u003cbr\\u003ex=%{x}\\u003cbr\\u003ey=%{y} \\u003cb\\u003e(trend)\\u003c\\u002fb\\u003e\\u003cextra\\u003e\\u003c\\u002fextra\\u003e\",\"legendgroup\":\"United States\",\"marker\":{\"color\":\"#EF553B\",\"symbol\":\"circle\"},\"mode\":\"lines\",\"name\":\"United States\",\"showlegend\":false,\"x\":[1946,1948,1949,1950,1952,1953,1954,1955,1956,1958,1959,1961,1962,1965,1966,1967,1968,1969,1970,1971,1972,1973,1974,1975,1976,1977,1978,1979,1980,1981,1982,1983,1984,1985,1986,1987,1988,1989,1990,1991,1992,1993,1994,1995,1996,1997,1998,1999,2000,2001,2002,2003,2004,2005,2006,2007,2008,2009,2010,2011,2012,2013,2014,2015,2016,2017,2018,2019],\"xaxis\":\"x\",\"y\":[27.239088739236813,27.256684541739578,27.250099812087925,27.23419757877401,27.176889874574826,27.135643338200605,27.086378953444317,27.029088896025602,26.964169044542036,26.813043852759023,26.727732530069243,26.539960110737546,26.43818840421143,26.111319030143004,26.000404281073546,25.889296080246314,25.773913455815293,25.64324713495871,25.47602793258306,25.25174519300978,24.82679030054259,24.41112374024385,24.018006592981468,23.654181570884393,23.260124008028455,22.92000157646855,22.654862678655594,22.46889614970196,22.348963567016835,22.27557303186933,22.22996838638761,22.19748606654547,21.914795571584506,21.902803514778483,21.88813077950239,21.705930424520506,21.723914673790894,21.734981368162327,21.749771689691332,21.7810463581078,21.831408571077088,21.898192137869742,21.98067488336956,22.082856203501386,22.21187667855547,22.377177308216538,22.37798131843154,22.465640664336178,22.605590471984822,22.76799343490267,22.93491698330357,23.096556965850805,23.247675148718628,23.385570207014936,23.5089768665155,23.61734182428785,23.710970944762515,23.79082563873045,23.858437421410006,23.915703651592345,23.964841529095924,24.008181150175066,24.04817640371738,24.087412075945288,24.12830629036821,24.172890050932825,24.222807777805148,24.279124523127674],\"yaxis\":\"y\",\"type\":\"scatter\"},{\"hovertemplate\":\"Country=United Kingdom\\u003cbr\\u003ex=%{x}\\u003cbr\\u003ey=%{y}\\u003cextra\\u003e\\u003c\\u002fextra\\u003e\",\"legendgroup\":\"United Kingdom\",\"marker\":{\"color\":\"#00cc96\",\"symbol\":\"circle\"},\"mode\":\"markers\",\"name\":\"United Kingdom\",\"orientation\":\"v\",\"showlegend\":true,\"x\":[1946,1948,1949,1950,1952,1953,1954,1955,1956,1958,1959,1961,1962,1965,1966,1967,1968,1969,1970,1971,1972,1973,1974,1975,1976,1977,1978,1979,1980,1981,1982,1983,1984,1985,1986,1987,1988,1989,1990,1991,1992,1993,1994,1995,1996,1997,1998,1999,2000,2001,2002,2003,2004,2006,2005,2007,2008,2009,2010,2011,2012,2013,2014,2015,2016,2017,2018,2019],\"xaxis\":\"x\",\"y\":[0.0,16.666666666666664,100.0,0.0,12.5,16.666666666666664,100.0,33.33333333333333,100.0,0.0,0.0,25.0,0.0,50.0,66.66666666666666,20.0,0.0,75.0,38.46153846153847,33.33333333333333,35.294117647058826,30.434782608695656,20.0,30.0,26.666666666666668,33.33333333333333,37.5,25.0,27.77777777777778,38.46153846153847,9.523809523809524,10.526315789473683,20.0,31.25,33.33333333333333,31.57894736842105,11.76470588235294,35.714285714285715,20.0,36.36363636363637,45.45454545454545,54.54545454545454,64.28571428571429,71.42857142857143,64.70588235294117,60.0,64.70588235294117,50.0,52.94117647058824,45.0,56.52173913043478,44.0,50.0,50.0,61.904761904761905,55.55555555555556,50.0,39.130434782608695,48.0,44.0,52.17391304347826,38.095238095238095,38.88888888888889,40.0,31.57894736842105,53.333333333333336,54.54545454545454,42.857142857142854],\"yaxis\":\"y\",\"type\":\"scatter\"},{\"hovertemplate\":\"\\u003cb\\u003eLOWESS trendline\\u003c\\u002fb\\u003e\\u003cbr\\u003e\\u003cbr\\u003eCountry=United Kingdom\\u003cbr\\u003ex=%{x}\\u003cbr\\u003ey=%{y} \\u003cb\\u003e(trend)\\u003c\\u002fb\\u003e\\u003cextra\\u003e\\u003c\\u002fextra\\u003e\",\"legendgroup\":\"United Kingdom\",\"marker\":{\"color\":\"#00cc96\",\"symbol\":\"circle\"},\"mode\":\"lines\",\"name\":\"United Kingdom\",\"showlegend\":false,\"x\":[1946,1948,1949,1950,1952,1953,1954,1955,1956,1958,1959,1961,1962,1965,1966,1967,1968,1969,1970,1971,1972,1973,1974,1975,1976,1977,1978,1979,1980,1981,1982,1983,1984,1985,1986,1987,1988,1989,1990,1991,1992,1993,1994,1995,1996,1997,1998,1999,2000,2001,2002,2003,2004,2005,2006,2007,2008,2009,2010,2011,2012,2013,2014,2015,2016,2017,2018,2019],\"xaxis\":\"x\",\"y\":[6.935252276081041,8.398031794266217,9.127081941435412,9.85439957500593,11.303204222114397,12.02489437094629,12.7448875707822,13.463084762759367,14.179222837118173,15.601983432584603,16.30658719707701,17.699179302307385,18.387001789177734,20.418130106075875,21.08700441574719,21.753169895329968,22.416826345506585,23.077164048872003,23.732350060992154,24.384339503091628,24.965104863899988,25.56430537063967,26.189474369871228,26.85367647242675,27.56475354224537,28.30912600654103,29.110564396279585,29.963025591025563,30.85621777440597,31.781499146004954,32.730508922093726,33.69499378071792,34.49262447136946,35.47486793229548,36.440708405287445,37.260878586258585,38.198047594119316,39.09862641186852,39.9664835667263,40.811895684471764,41.64526098521476,42.467793328205666,43.276901634708544,44.06802772472828,44.836532434791366,45.58028412492405,45.86096642221625,46.09727659077024,46.322684552575424,46.54490575048053,46.76123281241759,46.96733234760649,47.15940525265444,47.33483496366784,47.49176875608261,47.62867849151687,47.74443577577096,47.838153999702506,47.909284682318116,47.95776883727315,47.98380599161487,47.98779457709238,47.97019079447215,47.93180077597012,47.87380937795867,47.79775717667142,47.70552278029431,47.59872522051037],\"yaxis\":\"y\",\"type\":\"scatter\"}],                        {\"template\":{\"data\":{\"histogram2dcontour\":[{\"type\":\"histogram2dcontour\",\"colorbar\":{\"outlinewidth\":0,\"ticks\":\"\"},\"colorscale\":[[0.0,\"#0d0887\"],[0.1111111111111111,\"#46039f\"],[0.2222222222222222,\"#7201a8\"],[0.3333333333333333,\"#9c179e\"],[0.4444444444444444,\"#bd3786\"],[0.5555555555555556,\"#d8576b\"],[0.6666666666666666,\"#ed7953\"],[0.7777777777777778,\"#fb9f3a\"],[0.8888888888888888,\"#fdca26\"],[1.0,\"#f0f921\"]]}],\"choropleth\":[{\"type\":\"choropleth\",\"colorbar\":{\"outlinewidth\":0,\"ticks\":\"\"}}],\"histogram2d\":[{\"type\":\"histogram2d\",\"colorbar\":{\"outlinewidth\":0,\"ticks\":\"\"},\"colorscale\":[[0.0,\"#0d0887\"],[0.1111111111111111,\"#46039f\"],[0.2222222222222222,\"#7201a8\"],[0.3333333333333333,\"#9c179e\"],[0.4444444444444444,\"#bd3786\"],[0.5555555555555556,\"#d8576b\"],[0.6666666666666666,\"#ed7953\"],[0.7777777777777778,\"#fb9f3a\"],[0.8888888888888888,\"#fdca26\"],[1.0,\"#f0f921\"]]}],\"heatmap\":[{\"type\":\"heatmap\",\"colorbar\":{\"outlinewidth\":0,\"ticks\":\"\"},\"colorscale\":[[0.0,\"#0d0887\"],[0.1111111111111111,\"#46039f\"],[0.2222222222222222,\"#7201a8\"],[0.3333333333333333,\"#9c179e\"],[0.4444444444444444,\"#bd3786\"],[0.5555555555555556,\"#d8576b\"],[0.6666666666666666,\"#ed7953\"],[0.7777777777777778,\"#fb9f3a\"],[0.8888888888888888,\"#fdca26\"],[1.0,\"#f0f921\"]]}],\"heatmapgl\":[{\"type\":\"heatmapgl\",\"colorbar\":{\"outlinewidth\":0,\"ticks\":\"\"},\"colorscale\":[[0.0,\"#0d0887\"],[0.1111111111111111,\"#46039f\"],[0.2222222222222222,\"#7201a8\"],[0.3333333333333333,\"#9c179e\"],[0.4444444444444444,\"#bd3786\"],[0.5555555555555556,\"#d8576b\"],[0.6666666666666666,\"#ed7953\"],[0.7777777777777778,\"#fb9f3a\"],[0.8888888888888888,\"#fdca26\"],[1.0,\"#f0f921\"]]}],\"contourcarpet\":[{\"type\":\"contourcarpet\",\"colorbar\":{\"outlinewidth\":0,\"ticks\":\"\"}}],\"contour\":[{\"type\":\"contour\",\"colorbar\":{\"outlinewidth\":0,\"ticks\":\"\"},\"colorscale\":[[0.0,\"#0d0887\"],[0.1111111111111111,\"#46039f\"],[0.2222222222222222,\"#7201a8\"],[0.3333333333333333,\"#9c179e\"],[0.4444444444444444,\"#bd3786\"],[0.5555555555555556,\"#d8576b\"],[0.6666666666666666,\"#ed7953\"],[0.7777777777777778,\"#fb9f3a\"],[0.8888888888888888,\"#fdca26\"],[1.0,\"#f0f921\"]]}],\"surface\":[{\"type\":\"surface\",\"colorbar\":{\"outlinewidth\":0,\"ticks\":\"\"},\"colorscale\":[[0.0,\"#0d0887\"],[0.1111111111111111,\"#46039f\"],[0.2222222222222222,\"#7201a8\"],[0.3333333333333333,\"#9c179e\"],[0.4444444444444444,\"#bd3786\"],[0.5555555555555556,\"#d8576b\"],[0.6666666666666666,\"#ed7953\"],[0.7777777777777778,\"#fb9f3a\"],[0.8888888888888888,\"#fdca26\"],[1.0,\"#f0f921\"]]}],\"mesh3d\":[{\"type\":\"mesh3d\",\"colorbar\":{\"outlinewidth\":0,\"ticks\":\"\"}}],\"scatter\":[{\"fillpattern\":{\"fillmode\":\"overlay\",\"size\":10,\"solidity\":0.2},\"type\":\"scatter\"}],\"parcoords\":[{\"type\":\"parcoords\",\"line\":{\"colorbar\":{\"outlinewidth\":0,\"ticks\":\"\"}}}],\"scatterpolargl\":[{\"type\":\"scatterpolargl\",\"marker\":{\"colorbar\":{\"outlinewidth\":0,\"ticks\":\"\"}}}],\"bar\":[{\"error_x\":{\"color\":\"#2a3f5f\"},\"error_y\":{\"color\":\"#2a3f5f\"},\"marker\":{\"line\":{\"color\":\"#E5ECF6\",\"width\":0.5},\"pattern\":{\"fillmode\":\"overlay\",\"size\":10,\"solidity\":0.2}},\"type\":\"bar\"}],\"scattergeo\":[{\"type\":\"scattergeo\",\"marker\":{\"colorbar\":{\"outlinewidth\":0,\"ticks\":\"\"}}}],\"scatterpolar\":[{\"type\":\"scatterpolar\",\"marker\":{\"colorbar\":{\"outlinewidth\":0,\"ticks\":\"\"}}}],\"histogram\":[{\"marker\":{\"pattern\":{\"fillmode\":\"overlay\",\"size\":10,\"solidity\":0.2}},\"type\":\"histogram\"}],\"scattergl\":[{\"type\":\"scattergl\",\"marker\":{\"colorbar\":{\"outlinewidth\":0,\"ticks\":\"\"}}}],\"scatter3d\":[{\"type\":\"scatter3d\",\"line\":{\"colorbar\":{\"outlinewidth\":0,\"ticks\":\"\"}},\"marker\":{\"colorbar\":{\"outlinewidth\":0,\"ticks\":\"\"}}}],\"scattermapbox\":[{\"type\":\"scattermapbox\",\"marker\":{\"colorbar\":{\"outlinewidth\":0,\"ticks\":\"\"}}}],\"scatterternary\":[{\"type\":\"scatterternary\",\"marker\":{\"colorbar\":{\"outlinewidth\":0,\"ticks\":\"\"}}}],\"scattercarpet\":[{\"type\":\"scattercarpet\",\"marker\":{\"colorbar\":{\"outlinewidth\":0,\"ticks\":\"\"}}}],\"carpet\":[{\"aaxis\":{\"endlinecolor\":\"#2a3f5f\",\"gridcolor\":\"white\",\"linecolor\":\"white\",\"minorgridcolor\":\"white\",\"startlinecolor\":\"#2a3f5f\"},\"baxis\":{\"endlinecolor\":\"#2a3f5f\",\"gridcolor\":\"white\",\"linecolor\":\"white\",\"minorgridcolor\":\"white\",\"startlinecolor\":\"#2a3f5f\"},\"type\":\"carpet\"}],\"table\":[{\"cells\":{\"fill\":{\"color\":\"#EBF0F8\"},\"line\":{\"color\":\"white\"}},\"header\":{\"fill\":{\"color\":\"#C8D4E3\"},\"line\":{\"color\":\"white\"}},\"type\":\"table\"}],\"barpolar\":[{\"marker\":{\"line\":{\"color\":\"#E5ECF6\",\"width\":0.5},\"pattern\":{\"fillmode\":\"overlay\",\"size\":10,\"solidity\":0.2}},\"type\":\"barpolar\"}],\"pie\":[{\"automargin\":true,\"type\":\"pie\"}]},\"layout\":{\"autotypenumbers\":\"strict\",\"colorway\":[\"#636efa\",\"#EF553B\",\"#00cc96\",\"#ab63fa\",\"#FFA15A\",\"#19d3f3\",\"#FF6692\",\"#B6E880\",\"#FF97FF\",\"#FECB52\"],\"font\":{\"color\":\"#2a3f5f\"},\"hovermode\":\"closest\",\"hoverlabel\":{\"align\":\"left\"},\"paper_bgcolor\":\"white\",\"plot_bgcolor\":\"#E5ECF6\",\"polar\":{\"bgcolor\":\"#E5ECF6\",\"angularaxis\":{\"gridcolor\":\"white\",\"linecolor\":\"white\",\"ticks\":\"\"},\"radialaxis\":{\"gridcolor\":\"white\",\"linecolor\":\"white\",\"ticks\":\"\"}},\"ternary\":{\"bgcolor\":\"#E5ECF6\",\"aaxis\":{\"gridcolor\":\"white\",\"linecolor\":\"white\",\"ticks\":\"\"},\"baxis\":{\"gridcolor\":\"white\",\"linecolor\":\"white\",\"ticks\":\"\"},\"caxis\":{\"gridcolor\":\"white\",\"linecolor\":\"white\",\"ticks\":\"\"}},\"coloraxis\":{\"colorbar\":{\"outlinewidth\":0,\"ticks\":\"\"}},\"colorscale\":{\"sequential\":[[0.0,\"#0d0887\"],[0.1111111111111111,\"#46039f\"],[0.2222222222222222,\"#7201a8\"],[0.3333333333333333,\"#9c179e\"],[0.4444444444444444,\"#bd3786\"],[0.5555555555555556,\"#d8576b\"],[0.6666666666666666,\"#ed7953\"],[0.7777777777777778,\"#fb9f3a\"],[0.8888888888888888,\"#fdca26\"],[1.0,\"#f0f921\"]],\"sequentialminus\":[[0.0,\"#0d0887\"],[0.1111111111111111,\"#46039f\"],[0.2222222222222222,\"#7201a8\"],[0.3333333333333333,\"#9c179e\"],[0.4444444444444444,\"#bd3786\"],[0.5555555555555556,\"#d8576b\"],[0.6666666666666666,\"#ed7953\"],[0.7777777777777778,\"#fb9f3a\"],[0.8888888888888888,\"#fdca26\"],[1.0,\"#f0f921\"]],\"diverging\":[[0,\"#8e0152\"],[0.1,\"#c51b7d\"],[0.2,\"#de77ae\"],[0.3,\"#f1b6da\"],[0.4,\"#fde0ef\"],[0.5,\"#f7f7f7\"],[0.6,\"#e6f5d0\"],[0.7,\"#b8e186\"],[0.8,\"#7fbc41\"],[0.9,\"#4d9221\"],[1,\"#276419\"]]},\"xaxis\":{\"gridcolor\":\"white\",\"linecolor\":\"white\",\"ticks\":\"\",\"title\":{\"standoff\":15},\"zerolinecolor\":\"white\",\"automargin\":true,\"zerolinewidth\":2},\"yaxis\":{\"gridcolor\":\"white\",\"linecolor\":\"white\",\"ticks\":\"\",\"title\":{\"standoff\":15},\"zerolinecolor\":\"white\",\"automargin\":true,\"zerolinewidth\":2},\"scene\":{\"xaxis\":{\"backgroundcolor\":\"#E5ECF6\",\"gridcolor\":\"white\",\"linecolor\":\"white\",\"showbackground\":true,\"ticks\":\"\",\"zerolinecolor\":\"white\",\"gridwidth\":2},\"yaxis\":{\"backgroundcolor\":\"#E5ECF6\",\"gridcolor\":\"white\",\"linecolor\":\"white\",\"showbackground\":true,\"ticks\":\"\",\"zerolinecolor\":\"white\",\"gridwidth\":2},\"zaxis\":{\"backgroundcolor\":\"#E5ECF6\",\"gridcolor\":\"white\",\"linecolor\":\"white\",\"showbackground\":true,\"ticks\":\"\",\"zerolinecolor\":\"white\",\"gridwidth\":2}},\"shapedefaults\":{\"line\":{\"color\":\"#2a3f5f\"}},\"annotationdefaults\":{\"arrowcolor\":\"#2a3f5f\",\"arrowhead\":0,\"arrowwidth\":1},\"geo\":{\"bgcolor\":\"white\",\"landcolor\":\"#E5ECF6\",\"subunitcolor\":\"white\",\"showland\":true,\"showlakes\":true,\"lakecolor\":\"white\"},\"title\":{\"x\":0.05},\"mapbox\":{\"style\":\"light\"}}},\"xaxis\":{\"anchor\":\"y\",\"domain\":[0.0,1.0],\"title\":{\"text\":\"Year\"}},\"yaxis\":{\"anchor\":\"x\",\"domain\":[0.0,1.0],\"title\":{\"text\":\"% Yes\"}},\"legend\":{\"title\":{\"text\":\"Country\"},\"tracegroupgap\":0},\"margin\":{\"t\":60},\"title\":{\"text\":\"Human rights\\u003cbr\\u003e\",\"y\":0.9,\"x\":0.5,\"xanchor\":\"center\",\"yanchor\":\"top\"}},                        {\"responsive\": true}                    ).then(function(){\n",
       "                            \n",
       "var gd = document.getElementById('f45e28bc-277a-4539-9c42-018ca9ce38d9');\n",
       "var x = new MutationObserver(function (mutations, observer) {{\n",
       "        var display = window.getComputedStyle(gd).display;\n",
       "        if (!display || display === 'none') {{\n",
       "            console.log([gd, 'removed!']);\n",
       "            Plotly.purge(gd);\n",
       "            observer.disconnect();\n",
       "        }}\n",
       "}});\n",
       "\n",
       "// Listen for the removal of the full notebook cells\n",
       "var notebookContainer = gd.closest('#notebook-container');\n",
       "if (notebookContainer) {{\n",
       "    x.observe(notebookContainer, {childList: true});\n",
       "}}\n",
       "\n",
       "// Listen for the clearing of the current output cell\n",
       "var outputEl = gd.closest('.output');\n",
       "if (outputEl) {{\n",
       "    x.observe(outputEl, {childList: true});\n",
       "}}\n",
       "\n",
       "                        })                };                });            </script>        </div>"
      ]
     },
     "metadata": {},
     "output_type": "display_data"
    },
    {
     "data": {
      "application/vnd.plotly.v1+json": {
       "config": {
        "plotlyServerURL": "https://plot.ly"
       },
       "data": [
        {
         "hovertemplate": "Country=Turkey<br>x=%{x}<br>y=%{y}<extra></extra>",
         "legendgroup": "Turkey",
         "marker": {
          "color": "#636efa",
          "symbol": "circle"
         },
         "mode": "markers",
         "name": "Turkey",
         "orientation": "v",
         "showlegend": true,
         "type": "scatter",
         "x": [
          1946,
          1947,
          1948,
          1949,
          1950,
          1952,
          1953,
          1954,
          1955,
          1956,
          1957,
          1958,
          1959,
          1961,
          1962,
          1963,
          1966,
          1967,
          1968,
          1969,
          1970,
          1971,
          1972,
          1973,
          1974,
          1975,
          1976,
          1977,
          1979,
          1978,
          1980,
          1981,
          1982,
          1983,
          1984,
          1985,
          1986,
          1987,
          1988,
          1989,
          1990,
          1991,
          1992,
          1993,
          1994,
          1995,
          1996,
          1997,
          1998,
          1999,
          2000,
          2001,
          2002,
          2003,
          2004,
          2005,
          2006,
          2007,
          2008,
          2009,
          2010,
          2011,
          2012,
          2013,
          2014,
          2015,
          2016,
          2017,
          2018,
          2019
         ],
         "xaxis": "x",
         "y": [
          60,
          50,
          37.5,
          25,
          0,
          0,
          100,
          100,
          50,
          0,
          100,
          60,
          83.33333333333334,
          81.81818181818183,
          66.66666666666666,
          100,
          83.33333333333334,
          66.66666666666666,
          50,
          75,
          100,
          96.15384615384616,
          85.71428571428571,
          85,
          85.71428571428571,
          100,
          92.5925925925926,
          95.65217391304348,
          84,
          91.30434782608695,
          81.25,
          85.71428571428571,
          71.42857142857143,
          76,
          70,
          80,
          65,
          55.00000000000001,
          61.111111111111114,
          52.63157894736842,
          50,
          50,
          33.33333333333333,
          33.33333333333333,
          25,
          40,
          66.66666666666666,
          75,
          100,
          83.33333333333334,
          100,
          75,
          66.66666666666666,
          85.71428571428571,
          100,
          77.77777777777779,
          77.77777777777779,
          75,
          76.92307692307693,
          66.66666666666666,
          57.14285714285714,
          66.66666666666666,
          66.66666666666666,
          71.42857142857143,
          54.54545454545454,
          71.42857142857143,
          71.42857142857143,
          85,
          72.22222222222221,
          37.5
         ],
         "yaxis": "y"
        },
        {
         "hovertemplate": "<b>LOWESS trendline</b><br><br>Country=Turkey<br>x=%{x}<br>y=%{y} <b>(trend)</b><extra></extra>",
         "legendgroup": "Turkey",
         "marker": {
          "color": "#636efa",
          "symbol": "circle"
         },
         "mode": "lines",
         "name": "Turkey",
         "showlegend": false,
         "type": "scatter",
         "x": [
          1946,
          1947,
          1948,
          1949,
          1950,
          1952,
          1953,
          1954,
          1955,
          1956,
          1957,
          1958,
          1959,
          1961,
          1962,
          1963,
          1966,
          1967,
          1968,
          1969,
          1970,
          1971,
          1972,
          1973,
          1974,
          1975,
          1976,
          1977,
          1978,
          1979,
          1980,
          1981,
          1982,
          1983,
          1984,
          1985,
          1986,
          1987,
          1988,
          1989,
          1990,
          1991,
          1992,
          1993,
          1994,
          1995,
          1996,
          1997,
          1998,
          1999,
          2000,
          2001,
          2002,
          2003,
          2004,
          2005,
          2006,
          2007,
          2008,
          2009,
          2010,
          2011,
          2012,
          2013,
          2014,
          2015,
          2016,
          2017,
          2018,
          2019
         ],
         "xaxis": "x",
         "y": [
          55.20923409023113,
          56.39539477831253,
          57.56413110618227,
          58.71428941305551,
          59.84553658679439,
          62.05470093350536,
          63.135562956084534,
          64.20307136667603,
          65.25867980601232,
          66.30337820503262,
          67.33863929274388,
          68.36629270758878,
          69.3879834239329,
          71.42164302857675,
          72.43829684381748,
          73.45856899906038,
          76.57299898949874,
          77.6301922474456,
          78.67359788713605,
          79.64211853025887,
          80.4140714223963,
          80.44408499106757,
          80.2694813546427,
          79.92140134710512,
          79.43993167542799,
          78.86292620453276,
          78.6406377978159,
          77.88972964416722,
          77.08709110918106,
          76.26719866372206,
          75.46750089698915,
          74.7147639924624,
          74.03266689530528,
          73.44077288119338,
          72.94299116013032,
          72.53157495607473,
          72.19386716943109,
          71.90721335524918,
          71.12417092449327,
          70.83808681518882,
          70.54421659207225,
          70.24059853626821,
          69.93308229927669,
          69.62396978917425,
          69.3181392547119,
          69.0298201824378,
          68.78347341547715,
          68.602693330451,
          68.684371712425,
          68.77025758765619,
          68.87569151028433,
          69.00462046337576,
          69.15497555073455,
          69.32301158407209,
          69.50488784681392,
          69.69650038300978,
          69.8935577117521,
          70.09206149892412,
          70.28838208828972,
          70.4792550985418,
          70.66175907686532,
          70.83355467430023,
          70.99301782009528,
          71.1389903642806,
          71.27065149341713,
          71.38747125136081,
          71.48946614372242,
          71.5768345948151,
          71.64972916510004,
          71.7079398872849
         ],
         "yaxis": "y"
        },
        {
         "hovertemplate": "Country=United States<br>x=%{x}<br>y=%{y}<extra></extra>",
         "legendgroup": "United States",
         "marker": {
          "color": "#EF553B",
          "symbol": "circle"
         },
         "mode": "markers",
         "name": "United States",
         "orientation": "v",
         "showlegend": true,
         "type": "scatter",
         "x": [
          1946,
          1947,
          1948,
          1949,
          1950,
          1952,
          1953,
          1954,
          1955,
          1956,
          1957,
          1958,
          1959,
          1961,
          1962,
          1963,
          1966,
          1967,
          1968,
          1969,
          1970,
          1971,
          1972,
          1973,
          1974,
          1975,
          1976,
          1977,
          1979,
          1978,
          1980,
          1981,
          1982,
          1983,
          1984,
          1985,
          1986,
          1987,
          1988,
          1989,
          1990,
          1991,
          1992,
          1993,
          1994,
          1995,
          1996,
          1997,
          1998,
          1999,
          2000,
          2001,
          2002,
          2003,
          2004,
          2005,
          2006,
          2007,
          2008,
          2009,
          2010,
          2011,
          2012,
          2013,
          2014,
          2015,
          2016,
          2017,
          2018,
          2019
         ],
         "xaxis": "x",
         "y": [
          50,
          100,
          62.5,
          25,
          0,
          33.33333333333333,
          100,
          100,
          100,
          100,
          100,
          60,
          66.66666666666666,
          72.72727272727273,
          66.66666666666666,
          50,
          83.33333333333334,
          16.666666666666664,
          33.33333333333333,
          0,
          33.33333333333333,
          62.96296296296296,
          66.66666666666666,
          45,
          42.857142857142854,
          36.36363636363637,
          29.629629629629626,
          45.45454545454545,
          29.166666666666668,
          40.909090909090914,
          43.75,
          15,
          14.285714285714285,
          24,
          5,
          12,
          5,
          0,
          5.555555555555555,
          5.263157894736842,
          0,
          0,
          0,
          16.666666666666664,
          0,
          20,
          0,
          0,
          16.666666666666664,
          14.285714285714285,
          0,
          0,
          0,
          14.285714285714285,
          0,
          0,
          0,
          8.333333333333332,
          7.6923076923076925,
          41.66666666666667,
          14.285714285714285,
          33.33333333333333,
          41.66666666666667,
          28.57142857142857,
          36.36363636363637,
          37.5,
          57.14285714285714,
          20,
          16.666666666666664,
          18.75
         ],
         "yaxis": "y"
        },
        {
         "hovertemplate": "<b>LOWESS trendline</b><br><br>Country=United States<br>x=%{x}<br>y=%{y} <b>(trend)</b><extra></extra>",
         "legendgroup": "United States",
         "marker": {
          "color": "#EF553B",
          "symbol": "circle"
         },
         "mode": "lines",
         "name": "United States",
         "showlegend": false,
         "type": "scatter",
         "x": [
          1946,
          1947,
          1948,
          1949,
          1950,
          1952,
          1953,
          1954,
          1955,
          1956,
          1957,
          1958,
          1959,
          1961,
          1962,
          1963,
          1966,
          1967,
          1968,
          1969,
          1970,
          1971,
          1972,
          1973,
          1974,
          1975,
          1976,
          1977,
          1978,
          1979,
          1980,
          1981,
          1982,
          1983,
          1984,
          1985,
          1986,
          1987,
          1988,
          1989,
          1990,
          1991,
          1992,
          1993,
          1994,
          1995,
          1996,
          1997,
          1998,
          1999,
          2000,
          2001,
          2002,
          2003,
          2004,
          2005,
          2006,
          2007,
          2008,
          2009,
          2010,
          2011,
          2012,
          2013,
          2014,
          2015,
          2016,
          2017,
          2018,
          2019
         ],
         "xaxis": "x",
         "y": [
          92.5034954174121,
          90.73224223681726,
          88.94818728064091,
          87.15194722443219,
          85.34499680754655,
          81.70747276749407,
          79.88179202260328,
          78.05562666167002,
          76.23193735223784,
          74.41302217563431,
          72.60040162989205,
          70.79467245194213,
          68.99554815630479,
          65.41498655933881,
          63.63141157793484,
          61.84926398137103,
          56.45835574800948,
          54.61022619425003,
          52.69637960214799,
          50.66980570380136,
          48.47303020822477,
          46.118092567862526,
          43.74520745818797,
          41.38406637345534,
          39.06311070204006,
          36.804597716954184,
          34.478301816141986,
          32.40308979978919,
          30.438144350960837,
          28.574263578863828,
          26.799164735561106,
          25.10331384206533,
          23.48023132789119,
          21.927877457769586,
          20.440810620485394,
          19.012604390332594,
          17.638238637391126,
          16.32139087066916,
          14.696536269191167,
          13.469411888661249,
          12.335414331178649,
          11.328066087345212,
          10.480384454093521,
          9.821547946506177,
          9.369588144323346,
          9.128858618501756,
          9.09434287809796,
          9.253150704092695,
          10.137643117726368,
          11.017587904169071,
          11.867125731079055,
          12.688555500369178,
          13.490769520087795,
          14.282440876853716,
          15.070623955445072,
          15.860660466584198,
          16.656934516485723,
          17.463234371092085,
          18.28289197778188,
          19.118775743962335,
          19.97323554114652,
          20.84769967416475,
          21.743158000270768,
          22.659917268997454,
          23.59752616360393,
          24.555079489818343,
          25.53116969911234,
          26.52381810693917,
          27.530464720943687,
          28.548815403399328
         ],
         "yaxis": "y"
        },
        {
         "hovertemplate": "Country=United Kingdom<br>x=%{x}<br>y=%{y}<extra></extra>",
         "legendgroup": "United Kingdom",
         "marker": {
          "color": "#00cc96",
          "symbol": "circle"
         },
         "mode": "markers",
         "name": "United Kingdom",
         "orientation": "v",
         "showlegend": true,
         "type": "scatter",
         "x": [
          1946,
          1947,
          1948,
          1949,
          1950,
          1952,
          1953,
          1954,
          1955,
          1956,
          1957,
          1958,
          1959,
          1961,
          1962,
          1963,
          1966,
          1967,
          1968,
          1969,
          1970,
          1971,
          1972,
          1973,
          1974,
          1975,
          1976,
          1977,
          1979,
          1978,
          1980,
          1981,
          1982,
          1983,
          1984,
          1985,
          1986,
          1987,
          1988,
          1989,
          1990,
          1991,
          1992,
          1993,
          1994,
          1995,
          1996,
          1997,
          1998,
          1999,
          2000,
          2001,
          2002,
          2003,
          2004,
          2005,
          2006,
          2007,
          2008,
          2009,
          2010,
          2011,
          2012,
          2013,
          2014,
          2015,
          2016,
          2017,
          2018,
          2019
         ],
         "xaxis": "x",
         "y": [
          70,
          50,
          37.5,
          25,
          0,
          33.33333333333333,
          100,
          100,
          0,
          100,
          100,
          60,
          50,
          72.72727272727273,
          83.33333333333334,
          50,
          83.33333333333334,
          16.666666666666664,
          40,
          0,
          22.22222222222222,
          62.96296296296296,
          62.06896551724138,
          45,
          57.14285714285714,
          45.45454545454545,
          32,
          69.56521739130434,
          32,
          52.17391304347826,
          37.5,
          33.33333333333333,
          28.57142857142857,
          36,
          20,
          28.000000000000004,
          10,
          30,
          22.22222222222222,
          26.31578947368421,
          16.666666666666664,
          12.5,
          33.33333333333333,
          16.666666666666664,
          25,
          40,
          33.33333333333333,
          25,
          33.33333333333333,
          42.857142857142854,
          66.66666666666666,
          25,
          33.33333333333333,
          85.71428571428571,
          85.71428571428571,
          66.66666666666666,
          55.55555555555556,
          66.66666666666666,
          69.23076923076923,
          58.333333333333336,
          42.857142857142854,
          55.55555555555556,
          58.333333333333336,
          57.14285714285714,
          54.54545454545454,
          50,
          57.14285714285714,
          70,
          66.66666666666666,
          31.25
         ],
         "yaxis": "y"
        },
        {
         "hovertemplate": "<b>LOWESS trendline</b><br><br>Country=United Kingdom<br>x=%{x}<br>y=%{y} <b>(trend)</b><extra></extra>",
         "legendgroup": "United Kingdom",
         "marker": {
          "color": "#00cc96",
          "symbol": "circle"
         },
         "mode": "lines",
         "name": "United Kingdom",
         "showlegend": false,
         "type": "scatter",
         "x": [
          1946,
          1947,
          1948,
          1949,
          1950,
          1952,
          1953,
          1954,
          1955,
          1956,
          1957,
          1958,
          1959,
          1961,
          1962,
          1963,
          1966,
          1967,
          1968,
          1969,
          1970,
          1971,
          1972,
          1973,
          1974,
          1975,
          1976,
          1977,
          1978,
          1979,
          1980,
          1981,
          1982,
          1983,
          1984,
          1985,
          1986,
          1987,
          1988,
          1989,
          1990,
          1991,
          1992,
          1993,
          1994,
          1995,
          1996,
          1997,
          1998,
          1999,
          2000,
          2001,
          2002,
          2003,
          2004,
          2005,
          2006,
          2007,
          2008,
          2009,
          2010,
          2011,
          2012,
          2013,
          2014,
          2015,
          2016,
          2017,
          2018,
          2019
         ],
         "xaxis": "x",
         "y": [
          61.59251677388059,
          61.15846088475864,
          60.707637886474274,
          60.2392188757607,
          59.75335181792676,
          58.7346033758364,
          58.20565202724978,
          57.66735727459141,
          57.122532857226105,
          56.573712303035165,
          56.02375672217892,
          55.475350973038296,
          54.93089069501743,
          53.86462345994077,
          53.34975990496507,
          52.852151555603385,
          51.49740490713246,
          51.09429014893609,
          50.689834593138485,
          50.2153860156153,
          49.529324421559124,
          48.34399547090981,
          47.04338220953709,
          45.677711705061974,
          44.29649235309586,
          42.938606253066055,
          41.51854358101123,
          40.26345188098298,
          39.103115741332296,
          38.04372336189621,
          37.09152516796836,
          36.24937999409531,
          35.5241612178895,
          34.92909054074511,
          34.47573479409394,
          34.16939125503948,
          34.00876041774175,
          33.98827515621131,
          33.48781885213001,
          33.67781057830198,
          33.994872979829886,
          34.433431127371485,
          34.98696749304023,
          35.65045611800891,
          36.412708824417145,
          37.25728356105176,
          38.17485237191536,
          39.16023938573504,
          40.37087797990911,
          41.53234622384344,
          42.67926606837306,
          43.829063054794815,
          44.988699004263445,
          46.161315511608045,
          47.348217784560276,
          48.54889160909549,
          49.761588906154024,
          50.98394318331043,
          52.213397509324984,
          53.44711430813337,
          54.682044306000996,
          55.91532603289175,
          57.14465310501453,
          58.3680242549083,
          59.58362813392591,
          60.78991256225003,
          61.98572640522036,
          63.17043238539285,
          64.34366084485772,
          65.50492286135301
         ],
         "yaxis": "y"
        }
       ],
       "layout": {
        "height": 360,
        "legend": {
         "title": {
          "text": "Country"
         },
         "tracegroupgap": 0
        },
        "margin": {
         "t": 60
        },
        "template": {
         "data": {
          "bar": [
           {
            "error_x": {
             "color": "#2a3f5f"
            },
            "error_y": {
             "color": "#2a3f5f"
            },
            "marker": {
             "line": {
              "color": "#E5ECF6",
              "width": 0.5
             },
             "pattern": {
              "fillmode": "overlay",
              "size": 10,
              "solidity": 0.2
             }
            },
            "type": "bar"
           }
          ],
          "barpolar": [
           {
            "marker": {
             "line": {
              "color": "#E5ECF6",
              "width": 0.5
             },
             "pattern": {
              "fillmode": "overlay",
              "size": 10,
              "solidity": 0.2
             }
            },
            "type": "barpolar"
           }
          ],
          "carpet": [
           {
            "aaxis": {
             "endlinecolor": "#2a3f5f",
             "gridcolor": "white",
             "linecolor": "white",
             "minorgridcolor": "white",
             "startlinecolor": "#2a3f5f"
            },
            "baxis": {
             "endlinecolor": "#2a3f5f",
             "gridcolor": "white",
             "linecolor": "white",
             "minorgridcolor": "white",
             "startlinecolor": "#2a3f5f"
            },
            "type": "carpet"
           }
          ],
          "choropleth": [
           {
            "colorbar": {
             "outlinewidth": 0,
             "ticks": ""
            },
            "type": "choropleth"
           }
          ],
          "contour": [
           {
            "colorbar": {
             "outlinewidth": 0,
             "ticks": ""
            },
            "colorscale": [
             [
              0,
              "#0d0887"
             ],
             [
              0.1111111111111111,
              "#46039f"
             ],
             [
              0.2222222222222222,
              "#7201a8"
             ],
             [
              0.3333333333333333,
              "#9c179e"
             ],
             [
              0.4444444444444444,
              "#bd3786"
             ],
             [
              0.5555555555555556,
              "#d8576b"
             ],
             [
              0.6666666666666666,
              "#ed7953"
             ],
             [
              0.7777777777777778,
              "#fb9f3a"
             ],
             [
              0.8888888888888888,
              "#fdca26"
             ],
             [
              1,
              "#f0f921"
             ]
            ],
            "type": "contour"
           }
          ],
          "contourcarpet": [
           {
            "colorbar": {
             "outlinewidth": 0,
             "ticks": ""
            },
            "type": "contourcarpet"
           }
          ],
          "heatmap": [
           {
            "colorbar": {
             "outlinewidth": 0,
             "ticks": ""
            },
            "colorscale": [
             [
              0,
              "#0d0887"
             ],
             [
              0.1111111111111111,
              "#46039f"
             ],
             [
              0.2222222222222222,
              "#7201a8"
             ],
             [
              0.3333333333333333,
              "#9c179e"
             ],
             [
              0.4444444444444444,
              "#bd3786"
             ],
             [
              0.5555555555555556,
              "#d8576b"
             ],
             [
              0.6666666666666666,
              "#ed7953"
             ],
             [
              0.7777777777777778,
              "#fb9f3a"
             ],
             [
              0.8888888888888888,
              "#fdca26"
             ],
             [
              1,
              "#f0f921"
             ]
            ],
            "type": "heatmap"
           }
          ],
          "heatmapgl": [
           {
            "colorbar": {
             "outlinewidth": 0,
             "ticks": ""
            },
            "colorscale": [
             [
              0,
              "#0d0887"
             ],
             [
              0.1111111111111111,
              "#46039f"
             ],
             [
              0.2222222222222222,
              "#7201a8"
             ],
             [
              0.3333333333333333,
              "#9c179e"
             ],
             [
              0.4444444444444444,
              "#bd3786"
             ],
             [
              0.5555555555555556,
              "#d8576b"
             ],
             [
              0.6666666666666666,
              "#ed7953"
             ],
             [
              0.7777777777777778,
              "#fb9f3a"
             ],
             [
              0.8888888888888888,
              "#fdca26"
             ],
             [
              1,
              "#f0f921"
             ]
            ],
            "type": "heatmapgl"
           }
          ],
          "histogram": [
           {
            "marker": {
             "pattern": {
              "fillmode": "overlay",
              "size": 10,
              "solidity": 0.2
             }
            },
            "type": "histogram"
           }
          ],
          "histogram2d": [
           {
            "colorbar": {
             "outlinewidth": 0,
             "ticks": ""
            },
            "colorscale": [
             [
              0,
              "#0d0887"
             ],
             [
              0.1111111111111111,
              "#46039f"
             ],
             [
              0.2222222222222222,
              "#7201a8"
             ],
             [
              0.3333333333333333,
              "#9c179e"
             ],
             [
              0.4444444444444444,
              "#bd3786"
             ],
             [
              0.5555555555555556,
              "#d8576b"
             ],
             [
              0.6666666666666666,
              "#ed7953"
             ],
             [
              0.7777777777777778,
              "#fb9f3a"
             ],
             [
              0.8888888888888888,
              "#fdca26"
             ],
             [
              1,
              "#f0f921"
             ]
            ],
            "type": "histogram2d"
           }
          ],
          "histogram2dcontour": [
           {
            "colorbar": {
             "outlinewidth": 0,
             "ticks": ""
            },
            "colorscale": [
             [
              0,
              "#0d0887"
             ],
             [
              0.1111111111111111,
              "#46039f"
             ],
             [
              0.2222222222222222,
              "#7201a8"
             ],
             [
              0.3333333333333333,
              "#9c179e"
             ],
             [
              0.4444444444444444,
              "#bd3786"
             ],
             [
              0.5555555555555556,
              "#d8576b"
             ],
             [
              0.6666666666666666,
              "#ed7953"
             ],
             [
              0.7777777777777778,
              "#fb9f3a"
             ],
             [
              0.8888888888888888,
              "#fdca26"
             ],
             [
              1,
              "#f0f921"
             ]
            ],
            "type": "histogram2dcontour"
           }
          ],
          "mesh3d": [
           {
            "colorbar": {
             "outlinewidth": 0,
             "ticks": ""
            },
            "type": "mesh3d"
           }
          ],
          "parcoords": [
           {
            "line": {
             "colorbar": {
              "outlinewidth": 0,
              "ticks": ""
             }
            },
            "type": "parcoords"
           }
          ],
          "pie": [
           {
            "automargin": true,
            "type": "pie"
           }
          ],
          "scatter": [
           {
            "fillpattern": {
             "fillmode": "overlay",
             "size": 10,
             "solidity": 0.2
            },
            "type": "scatter"
           }
          ],
          "scatter3d": [
           {
            "line": {
             "colorbar": {
              "outlinewidth": 0,
              "ticks": ""
             }
            },
            "marker": {
             "colorbar": {
              "outlinewidth": 0,
              "ticks": ""
             }
            },
            "type": "scatter3d"
           }
          ],
          "scattercarpet": [
           {
            "marker": {
             "colorbar": {
              "outlinewidth": 0,
              "ticks": ""
             }
            },
            "type": "scattercarpet"
           }
          ],
          "scattergeo": [
           {
            "marker": {
             "colorbar": {
              "outlinewidth": 0,
              "ticks": ""
             }
            },
            "type": "scattergeo"
           }
          ],
          "scattergl": [
           {
            "marker": {
             "colorbar": {
              "outlinewidth": 0,
              "ticks": ""
             }
            },
            "type": "scattergl"
           }
          ],
          "scattermapbox": [
           {
            "marker": {
             "colorbar": {
              "outlinewidth": 0,
              "ticks": ""
             }
            },
            "type": "scattermapbox"
           }
          ],
          "scatterpolar": [
           {
            "marker": {
             "colorbar": {
              "outlinewidth": 0,
              "ticks": ""
             }
            },
            "type": "scatterpolar"
           }
          ],
          "scatterpolargl": [
           {
            "marker": {
             "colorbar": {
              "outlinewidth": 0,
              "ticks": ""
             }
            },
            "type": "scatterpolargl"
           }
          ],
          "scatterternary": [
           {
            "marker": {
             "colorbar": {
              "outlinewidth": 0,
              "ticks": ""
             }
            },
            "type": "scatterternary"
           }
          ],
          "surface": [
           {
            "colorbar": {
             "outlinewidth": 0,
             "ticks": ""
            },
            "colorscale": [
             [
              0,
              "#0d0887"
             ],
             [
              0.1111111111111111,
              "#46039f"
             ],
             [
              0.2222222222222222,
              "#7201a8"
             ],
             [
              0.3333333333333333,
              "#9c179e"
             ],
             [
              0.4444444444444444,
              "#bd3786"
             ],
             [
              0.5555555555555556,
              "#d8576b"
             ],
             [
              0.6666666666666666,
              "#ed7953"
             ],
             [
              0.7777777777777778,
              "#fb9f3a"
             ],
             [
              0.8888888888888888,
              "#fdca26"
             ],
             [
              1,
              "#f0f921"
             ]
            ],
            "type": "surface"
           }
          ],
          "table": [
           {
            "cells": {
             "fill": {
              "color": "#EBF0F8"
             },
             "line": {
              "color": "white"
             }
            },
            "header": {
             "fill": {
              "color": "#C8D4E3"
             },
             "line": {
              "color": "white"
             }
            },
            "type": "table"
           }
          ]
         },
         "layout": {
          "annotationdefaults": {
           "arrowcolor": "#2a3f5f",
           "arrowhead": 0,
           "arrowwidth": 1
          },
          "autotypenumbers": "strict",
          "coloraxis": {
           "colorbar": {
            "outlinewidth": 0,
            "ticks": ""
           }
          },
          "colorscale": {
           "diverging": [
            [
             0,
             "#8e0152"
            ],
            [
             0.1,
             "#c51b7d"
            ],
            [
             0.2,
             "#de77ae"
            ],
            [
             0.3,
             "#f1b6da"
            ],
            [
             0.4,
             "#fde0ef"
            ],
            [
             0.5,
             "#f7f7f7"
            ],
            [
             0.6,
             "#e6f5d0"
            ],
            [
             0.7,
             "#b8e186"
            ],
            [
             0.8,
             "#7fbc41"
            ],
            [
             0.9,
             "#4d9221"
            ],
            [
             1,
             "#276419"
            ]
           ],
           "sequential": [
            [
             0,
             "#0d0887"
            ],
            [
             0.1111111111111111,
             "#46039f"
            ],
            [
             0.2222222222222222,
             "#7201a8"
            ],
            [
             0.3333333333333333,
             "#9c179e"
            ],
            [
             0.4444444444444444,
             "#bd3786"
            ],
            [
             0.5555555555555556,
             "#d8576b"
            ],
            [
             0.6666666666666666,
             "#ed7953"
            ],
            [
             0.7777777777777778,
             "#fb9f3a"
            ],
            [
             0.8888888888888888,
             "#fdca26"
            ],
            [
             1,
             "#f0f921"
            ]
           ],
           "sequentialminus": [
            [
             0,
             "#0d0887"
            ],
            [
             0.1111111111111111,
             "#46039f"
            ],
            [
             0.2222222222222222,
             "#7201a8"
            ],
            [
             0.3333333333333333,
             "#9c179e"
            ],
            [
             0.4444444444444444,
             "#bd3786"
            ],
            [
             0.5555555555555556,
             "#d8576b"
            ],
            [
             0.6666666666666666,
             "#ed7953"
            ],
            [
             0.7777777777777778,
             "#fb9f3a"
            ],
            [
             0.8888888888888888,
             "#fdca26"
            ],
            [
             1,
             "#f0f921"
            ]
           ]
          },
          "colorway": [
           "#636efa",
           "#EF553B",
           "#00cc96",
           "#ab63fa",
           "#FFA15A",
           "#19d3f3",
           "#FF6692",
           "#B6E880",
           "#FF97FF",
           "#FECB52"
          ],
          "font": {
           "color": "#2a3f5f"
          },
          "geo": {
           "bgcolor": "white",
           "lakecolor": "white",
           "landcolor": "#E5ECF6",
           "showlakes": true,
           "showland": true,
           "subunitcolor": "white"
          },
          "hoverlabel": {
           "align": "left"
          },
          "hovermode": "closest",
          "mapbox": {
           "style": "light"
          },
          "paper_bgcolor": "white",
          "plot_bgcolor": "#E5ECF6",
          "polar": {
           "angularaxis": {
            "gridcolor": "white",
            "linecolor": "white",
            "ticks": ""
           },
           "bgcolor": "#E5ECF6",
           "radialaxis": {
            "gridcolor": "white",
            "linecolor": "white",
            "ticks": ""
           }
          },
          "scene": {
           "xaxis": {
            "backgroundcolor": "#E5ECF6",
            "gridcolor": "white",
            "gridwidth": 2,
            "linecolor": "white",
            "showbackground": true,
            "ticks": "",
            "zerolinecolor": "white"
           },
           "yaxis": {
            "backgroundcolor": "#E5ECF6",
            "gridcolor": "white",
            "gridwidth": 2,
            "linecolor": "white",
            "showbackground": true,
            "ticks": "",
            "zerolinecolor": "white"
           },
           "zaxis": {
            "backgroundcolor": "#E5ECF6",
            "gridcolor": "white",
            "gridwidth": 2,
            "linecolor": "white",
            "showbackground": true,
            "ticks": "",
            "zerolinecolor": "white"
           }
          },
          "shapedefaults": {
           "line": {
            "color": "#2a3f5f"
           }
          },
          "ternary": {
           "aaxis": {
            "gridcolor": "white",
            "linecolor": "white",
            "ticks": ""
           },
           "baxis": {
            "gridcolor": "white",
            "linecolor": "white",
            "ticks": ""
           },
           "bgcolor": "#E5ECF6",
           "caxis": {
            "gridcolor": "white",
            "linecolor": "white",
            "ticks": ""
           }
          },
          "title": {
           "x": 0.05
          },
          "xaxis": {
           "automargin": true,
           "gridcolor": "white",
           "linecolor": "white",
           "ticks": "",
           "title": {
            "standoff": 15
           },
           "zerolinecolor": "white",
           "zerolinewidth": 2
          },
          "yaxis": {
           "automargin": true,
           "gridcolor": "white",
           "linecolor": "white",
           "ticks": "",
           "title": {
            "standoff": 15
           },
           "zerolinecolor": "white",
           "zerolinewidth": 2
          }
         }
        },
        "title": {
         "text": "Economic development<br>",
         "x": 0.5,
         "xanchor": "center",
         "y": 0.9,
         "yanchor": "top"
        },
        "xaxis": {
         "anchor": "y",
         "domain": [
          0,
          1
         ],
         "title": {
          "text": "Year"
         }
        },
        "yaxis": {
         "anchor": "x",
         "domain": [
          0,
          1
         ],
         "title": {
          "text": "% Yes"
         }
        }
       }
      },
      "text/html": [
       "<div>                            <div id=\"88945b5b-ee0d-4ef6-996a-c3935861f6dc\" class=\"plotly-graph-div\" style=\"height:525px; width:100%;\"></div>            <script type=\"text/javascript\">                require([\"plotly\"], function(Plotly) {                    window.PLOTLYENV=window.PLOTLYENV || {};                                    if (document.getElementById(\"88945b5b-ee0d-4ef6-996a-c3935861f6dc\")) {                    Plotly.newPlot(                        \"88945b5b-ee0d-4ef6-996a-c3935861f6dc\",                        [{\"hovertemplate\":\"Country=Turkey\\u003cbr\\u003ex=%{x}\\u003cbr\\u003ey=%{y}\\u003cextra\\u003e\\u003c\\u002fextra\\u003e\",\"legendgroup\":\"Turkey\",\"marker\":{\"color\":\"#636efa\",\"symbol\":\"circle\"},\"mode\":\"markers\",\"name\":\"Turkey\",\"orientation\":\"v\",\"showlegend\":true,\"x\":[1946,1947,1948,1949,1950,1952,1953,1954,1955,1956,1957,1958,1959,1961,1962,1963,1966,1967,1968,1969,1970,1971,1972,1973,1974,1975,1976,1977,1979,1978,1980,1981,1982,1983,1984,1985,1986,1987,1988,1989,1990,1991,1992,1993,1994,1995,1996,1997,1998,1999,2000,2001,2002,2003,2004,2005,2006,2007,2008,2009,2010,2011,2012,2013,2014,2015,2016,2017,2018,2019],\"xaxis\":\"x\",\"y\":[60.0,50.0,37.5,25.0,0.0,0.0,100.0,100.0,50.0,0.0,100.0,60.0,83.33333333333334,81.81818181818183,66.66666666666666,100.0,83.33333333333334,66.66666666666666,50.0,75.0,100.0,96.15384615384616,85.71428571428571,85.0,85.71428571428571,100.0,92.5925925925926,95.65217391304348,84.0,91.30434782608695,81.25,85.71428571428571,71.42857142857143,76.0,70.0,80.0,65.0,55.00000000000001,61.111111111111114,52.63157894736842,50.0,50.0,33.33333333333333,33.33333333333333,25.0,40.0,66.66666666666666,75.0,100.0,83.33333333333334,100.0,75.0,66.66666666666666,85.71428571428571,100.0,77.77777777777779,77.77777777777779,75.0,76.92307692307693,66.66666666666666,57.14285714285714,66.66666666666666,66.66666666666666,71.42857142857143,54.54545454545454,71.42857142857143,71.42857142857143,85.0,72.22222222222221,37.5],\"yaxis\":\"y\",\"type\":\"scatter\"},{\"hovertemplate\":\"\\u003cb\\u003eLOWESS trendline\\u003c\\u002fb\\u003e\\u003cbr\\u003e\\u003cbr\\u003eCountry=Turkey\\u003cbr\\u003ex=%{x}\\u003cbr\\u003ey=%{y} \\u003cb\\u003e(trend)\\u003c\\u002fb\\u003e\\u003cextra\\u003e\\u003c\\u002fextra\\u003e\",\"legendgroup\":\"Turkey\",\"marker\":{\"color\":\"#636efa\",\"symbol\":\"circle\"},\"mode\":\"lines\",\"name\":\"Turkey\",\"showlegend\":false,\"x\":[1946,1947,1948,1949,1950,1952,1953,1954,1955,1956,1957,1958,1959,1961,1962,1963,1966,1967,1968,1969,1970,1971,1972,1973,1974,1975,1976,1977,1978,1979,1980,1981,1982,1983,1984,1985,1986,1987,1988,1989,1990,1991,1992,1993,1994,1995,1996,1997,1998,1999,2000,2001,2002,2003,2004,2005,2006,2007,2008,2009,2010,2011,2012,2013,2014,2015,2016,2017,2018,2019],\"xaxis\":\"x\",\"y\":[55.20923409023113,56.39539477831253,57.56413110618227,58.71428941305551,59.84553658679439,62.05470093350536,63.135562956084534,64.20307136667603,65.25867980601232,66.30337820503262,67.33863929274388,68.36629270758878,69.3879834239329,71.42164302857675,72.43829684381748,73.45856899906038,76.57299898949874,77.6301922474456,78.67359788713605,79.64211853025887,80.4140714223963,80.44408499106757,80.2694813546427,79.92140134710512,79.43993167542799,78.86292620453276,78.6406377978159,77.88972964416722,77.08709110918106,76.26719866372206,75.46750089698915,74.7147639924624,74.03266689530528,73.44077288119338,72.94299116013032,72.53157495607473,72.19386716943109,71.90721335524918,71.12417092449327,70.83808681518882,70.54421659207225,70.24059853626821,69.93308229927669,69.62396978917425,69.3181392547119,69.0298201824378,68.78347341547715,68.602693330451,68.684371712425,68.77025758765619,68.87569151028433,69.00462046337576,69.15497555073455,69.32301158407209,69.50488784681392,69.69650038300978,69.8935577117521,70.09206149892412,70.28838208828972,70.4792550985418,70.66175907686532,70.83355467430023,70.99301782009528,71.1389903642806,71.27065149341713,71.38747125136081,71.48946614372242,71.5768345948151,71.64972916510004,71.7079398872849],\"yaxis\":\"y\",\"type\":\"scatter\"},{\"hovertemplate\":\"Country=United States\\u003cbr\\u003ex=%{x}\\u003cbr\\u003ey=%{y}\\u003cextra\\u003e\\u003c\\u002fextra\\u003e\",\"legendgroup\":\"United States\",\"marker\":{\"color\":\"#EF553B\",\"symbol\":\"circle\"},\"mode\":\"markers\",\"name\":\"United States\",\"orientation\":\"v\",\"showlegend\":true,\"x\":[1946,1947,1948,1949,1950,1952,1953,1954,1955,1956,1957,1958,1959,1961,1962,1963,1966,1967,1968,1969,1970,1971,1972,1973,1974,1975,1976,1977,1979,1978,1980,1981,1982,1983,1984,1985,1986,1987,1988,1989,1990,1991,1992,1993,1994,1995,1996,1997,1998,1999,2000,2001,2002,2003,2004,2005,2006,2007,2008,2009,2010,2011,2012,2013,2014,2015,2016,2017,2018,2019],\"xaxis\":\"x\",\"y\":[50.0,100.0,62.5,25.0,0.0,33.33333333333333,100.0,100.0,100.0,100.0,100.0,60.0,66.66666666666666,72.72727272727273,66.66666666666666,50.0,83.33333333333334,16.666666666666664,33.33333333333333,0.0,33.33333333333333,62.96296296296296,66.66666666666666,45.0,42.857142857142854,36.36363636363637,29.629629629629626,45.45454545454545,29.166666666666668,40.909090909090914,43.75,15.0,14.285714285714285,24.0,5.0,12.0,5.0,0.0,5.555555555555555,5.263157894736842,0.0,0.0,0.0,16.666666666666664,0.0,20.0,0.0,0.0,16.666666666666664,14.285714285714285,0.0,0.0,0.0,14.285714285714285,0.0,0.0,0.0,8.333333333333332,7.6923076923076925,41.66666666666667,14.285714285714285,33.33333333333333,41.66666666666667,28.57142857142857,36.36363636363637,37.5,57.14285714285714,20.0,16.666666666666664,18.75],\"yaxis\":\"y\",\"type\":\"scatter\"},{\"hovertemplate\":\"\\u003cb\\u003eLOWESS trendline\\u003c\\u002fb\\u003e\\u003cbr\\u003e\\u003cbr\\u003eCountry=United States\\u003cbr\\u003ex=%{x}\\u003cbr\\u003ey=%{y} \\u003cb\\u003e(trend)\\u003c\\u002fb\\u003e\\u003cextra\\u003e\\u003c\\u002fextra\\u003e\",\"legendgroup\":\"United States\",\"marker\":{\"color\":\"#EF553B\",\"symbol\":\"circle\"},\"mode\":\"lines\",\"name\":\"United States\",\"showlegend\":false,\"x\":[1946,1947,1948,1949,1950,1952,1953,1954,1955,1956,1957,1958,1959,1961,1962,1963,1966,1967,1968,1969,1970,1971,1972,1973,1974,1975,1976,1977,1978,1979,1980,1981,1982,1983,1984,1985,1986,1987,1988,1989,1990,1991,1992,1993,1994,1995,1996,1997,1998,1999,2000,2001,2002,2003,2004,2005,2006,2007,2008,2009,2010,2011,2012,2013,2014,2015,2016,2017,2018,2019],\"xaxis\":\"x\",\"y\":[92.5034954174121,90.73224223681726,88.94818728064091,87.15194722443219,85.34499680754655,81.70747276749407,79.88179202260328,78.05562666167002,76.23193735223784,74.41302217563431,72.60040162989205,70.79467245194213,68.99554815630479,65.41498655933881,63.63141157793484,61.84926398137103,56.45835574800948,54.61022619425003,52.69637960214799,50.66980570380136,48.47303020822477,46.118092567862526,43.74520745818797,41.38406637345534,39.06311070204006,36.804597716954184,34.478301816141986,32.40308979978919,30.438144350960837,28.574263578863828,26.799164735561106,25.10331384206533,23.48023132789119,21.927877457769586,20.440810620485394,19.012604390332594,17.638238637391126,16.32139087066916,14.696536269191167,13.469411888661249,12.335414331178649,11.328066087345212,10.480384454093521,9.821547946506177,9.369588144323346,9.128858618501756,9.09434287809796,9.253150704092695,10.137643117726368,11.017587904169071,11.867125731079055,12.688555500369178,13.490769520087795,14.282440876853716,15.070623955445072,15.860660466584198,16.656934516485723,17.463234371092085,18.28289197778188,19.118775743962335,19.97323554114652,20.84769967416475,21.743158000270768,22.659917268997454,23.59752616360393,24.555079489818343,25.53116969911234,26.52381810693917,27.530464720943687,28.548815403399328],\"yaxis\":\"y\",\"type\":\"scatter\"},{\"hovertemplate\":\"Country=United Kingdom\\u003cbr\\u003ex=%{x}\\u003cbr\\u003ey=%{y}\\u003cextra\\u003e\\u003c\\u002fextra\\u003e\",\"legendgroup\":\"United Kingdom\",\"marker\":{\"color\":\"#00cc96\",\"symbol\":\"circle\"},\"mode\":\"markers\",\"name\":\"United Kingdom\",\"orientation\":\"v\",\"showlegend\":true,\"x\":[1946,1947,1948,1949,1950,1952,1953,1954,1955,1956,1957,1958,1959,1961,1962,1963,1966,1967,1968,1969,1970,1971,1972,1973,1974,1975,1976,1977,1979,1978,1980,1981,1982,1983,1984,1985,1986,1987,1988,1989,1990,1991,1992,1993,1994,1995,1996,1997,1998,1999,2000,2001,2002,2003,2004,2005,2006,2007,2008,2009,2010,2011,2012,2013,2014,2015,2016,2017,2018,2019],\"xaxis\":\"x\",\"y\":[70.0,50.0,37.5,25.0,0.0,33.33333333333333,100.0,100.0,0.0,100.0,100.0,60.0,50.0,72.72727272727273,83.33333333333334,50.0,83.33333333333334,16.666666666666664,40.0,0.0,22.22222222222222,62.96296296296296,62.06896551724138,45.0,57.14285714285714,45.45454545454545,32.0,69.56521739130434,32.0,52.17391304347826,37.5,33.33333333333333,28.57142857142857,36.0,20.0,28.000000000000004,10.0,30.0,22.22222222222222,26.31578947368421,16.666666666666664,12.5,33.33333333333333,16.666666666666664,25.0,40.0,33.33333333333333,25.0,33.33333333333333,42.857142857142854,66.66666666666666,25.0,33.33333333333333,85.71428571428571,85.71428571428571,66.66666666666666,55.55555555555556,66.66666666666666,69.23076923076923,58.333333333333336,42.857142857142854,55.55555555555556,58.333333333333336,57.14285714285714,54.54545454545454,50.0,57.14285714285714,70.0,66.66666666666666,31.25],\"yaxis\":\"y\",\"type\":\"scatter\"},{\"hovertemplate\":\"\\u003cb\\u003eLOWESS trendline\\u003c\\u002fb\\u003e\\u003cbr\\u003e\\u003cbr\\u003eCountry=United Kingdom\\u003cbr\\u003ex=%{x}\\u003cbr\\u003ey=%{y} \\u003cb\\u003e(trend)\\u003c\\u002fb\\u003e\\u003cextra\\u003e\\u003c\\u002fextra\\u003e\",\"legendgroup\":\"United Kingdom\",\"marker\":{\"color\":\"#00cc96\",\"symbol\":\"circle\"},\"mode\":\"lines\",\"name\":\"United Kingdom\",\"showlegend\":false,\"x\":[1946,1947,1948,1949,1950,1952,1953,1954,1955,1956,1957,1958,1959,1961,1962,1963,1966,1967,1968,1969,1970,1971,1972,1973,1974,1975,1976,1977,1978,1979,1980,1981,1982,1983,1984,1985,1986,1987,1988,1989,1990,1991,1992,1993,1994,1995,1996,1997,1998,1999,2000,2001,2002,2003,2004,2005,2006,2007,2008,2009,2010,2011,2012,2013,2014,2015,2016,2017,2018,2019],\"xaxis\":\"x\",\"y\":[61.59251677388059,61.15846088475864,60.707637886474274,60.2392188757607,59.75335181792676,58.7346033758364,58.20565202724978,57.66735727459141,57.122532857226105,56.573712303035165,56.02375672217892,55.475350973038296,54.93089069501743,53.86462345994077,53.34975990496507,52.852151555603385,51.49740490713246,51.09429014893609,50.689834593138485,50.2153860156153,49.529324421559124,48.34399547090981,47.04338220953709,45.677711705061974,44.29649235309586,42.938606253066055,41.51854358101123,40.26345188098298,39.103115741332296,38.04372336189621,37.09152516796836,36.24937999409531,35.5241612178895,34.92909054074511,34.47573479409394,34.16939125503948,34.00876041774175,33.98827515621131,33.48781885213001,33.67781057830198,33.994872979829886,34.433431127371485,34.98696749304023,35.65045611800891,36.412708824417145,37.25728356105176,38.17485237191536,39.16023938573504,40.37087797990911,41.53234622384344,42.67926606837306,43.829063054794815,44.988699004263445,46.161315511608045,47.348217784560276,48.54889160909549,49.761588906154024,50.98394318331043,52.213397509324984,53.44711430813337,54.682044306000996,55.91532603289175,57.14465310501453,58.3680242549083,59.58362813392591,60.78991256225003,61.98572640522036,63.17043238539285,64.34366084485772,65.50492286135301],\"yaxis\":\"y\",\"type\":\"scatter\"}],                        {\"template\":{\"data\":{\"histogram2dcontour\":[{\"type\":\"histogram2dcontour\",\"colorbar\":{\"outlinewidth\":0,\"ticks\":\"\"},\"colorscale\":[[0.0,\"#0d0887\"],[0.1111111111111111,\"#46039f\"],[0.2222222222222222,\"#7201a8\"],[0.3333333333333333,\"#9c179e\"],[0.4444444444444444,\"#bd3786\"],[0.5555555555555556,\"#d8576b\"],[0.6666666666666666,\"#ed7953\"],[0.7777777777777778,\"#fb9f3a\"],[0.8888888888888888,\"#fdca26\"],[1.0,\"#f0f921\"]]}],\"choropleth\":[{\"type\":\"choropleth\",\"colorbar\":{\"outlinewidth\":0,\"ticks\":\"\"}}],\"histogram2d\":[{\"type\":\"histogram2d\",\"colorbar\":{\"outlinewidth\":0,\"ticks\":\"\"},\"colorscale\":[[0.0,\"#0d0887\"],[0.1111111111111111,\"#46039f\"],[0.2222222222222222,\"#7201a8\"],[0.3333333333333333,\"#9c179e\"],[0.4444444444444444,\"#bd3786\"],[0.5555555555555556,\"#d8576b\"],[0.6666666666666666,\"#ed7953\"],[0.7777777777777778,\"#fb9f3a\"],[0.8888888888888888,\"#fdca26\"],[1.0,\"#f0f921\"]]}],\"heatmap\":[{\"type\":\"heatmap\",\"colorbar\":{\"outlinewidth\":0,\"ticks\":\"\"},\"colorscale\":[[0.0,\"#0d0887\"],[0.1111111111111111,\"#46039f\"],[0.2222222222222222,\"#7201a8\"],[0.3333333333333333,\"#9c179e\"],[0.4444444444444444,\"#bd3786\"],[0.5555555555555556,\"#d8576b\"],[0.6666666666666666,\"#ed7953\"],[0.7777777777777778,\"#fb9f3a\"],[0.8888888888888888,\"#fdca26\"],[1.0,\"#f0f921\"]]}],\"heatmapgl\":[{\"type\":\"heatmapgl\",\"colorbar\":{\"outlinewidth\":0,\"ticks\":\"\"},\"colorscale\":[[0.0,\"#0d0887\"],[0.1111111111111111,\"#46039f\"],[0.2222222222222222,\"#7201a8\"],[0.3333333333333333,\"#9c179e\"],[0.4444444444444444,\"#bd3786\"],[0.5555555555555556,\"#d8576b\"],[0.6666666666666666,\"#ed7953\"],[0.7777777777777778,\"#fb9f3a\"],[0.8888888888888888,\"#fdca26\"],[1.0,\"#f0f921\"]]}],\"contourcarpet\":[{\"type\":\"contourcarpet\",\"colorbar\":{\"outlinewidth\":0,\"ticks\":\"\"}}],\"contour\":[{\"type\":\"contour\",\"colorbar\":{\"outlinewidth\":0,\"ticks\":\"\"},\"colorscale\":[[0.0,\"#0d0887\"],[0.1111111111111111,\"#46039f\"],[0.2222222222222222,\"#7201a8\"],[0.3333333333333333,\"#9c179e\"],[0.4444444444444444,\"#bd3786\"],[0.5555555555555556,\"#d8576b\"],[0.6666666666666666,\"#ed7953\"],[0.7777777777777778,\"#fb9f3a\"],[0.8888888888888888,\"#fdca26\"],[1.0,\"#f0f921\"]]}],\"surface\":[{\"type\":\"surface\",\"colorbar\":{\"outlinewidth\":0,\"ticks\":\"\"},\"colorscale\":[[0.0,\"#0d0887\"],[0.1111111111111111,\"#46039f\"],[0.2222222222222222,\"#7201a8\"],[0.3333333333333333,\"#9c179e\"],[0.4444444444444444,\"#bd3786\"],[0.5555555555555556,\"#d8576b\"],[0.6666666666666666,\"#ed7953\"],[0.7777777777777778,\"#fb9f3a\"],[0.8888888888888888,\"#fdca26\"],[1.0,\"#f0f921\"]]}],\"mesh3d\":[{\"type\":\"mesh3d\",\"colorbar\":{\"outlinewidth\":0,\"ticks\":\"\"}}],\"scatter\":[{\"fillpattern\":{\"fillmode\":\"overlay\",\"size\":10,\"solidity\":0.2},\"type\":\"scatter\"}],\"parcoords\":[{\"type\":\"parcoords\",\"line\":{\"colorbar\":{\"outlinewidth\":0,\"ticks\":\"\"}}}],\"scatterpolargl\":[{\"type\":\"scatterpolargl\",\"marker\":{\"colorbar\":{\"outlinewidth\":0,\"ticks\":\"\"}}}],\"bar\":[{\"error_x\":{\"color\":\"#2a3f5f\"},\"error_y\":{\"color\":\"#2a3f5f\"},\"marker\":{\"line\":{\"color\":\"#E5ECF6\",\"width\":0.5},\"pattern\":{\"fillmode\":\"overlay\",\"size\":10,\"solidity\":0.2}},\"type\":\"bar\"}],\"scattergeo\":[{\"type\":\"scattergeo\",\"marker\":{\"colorbar\":{\"outlinewidth\":0,\"ticks\":\"\"}}}],\"scatterpolar\":[{\"type\":\"scatterpolar\",\"marker\":{\"colorbar\":{\"outlinewidth\":0,\"ticks\":\"\"}}}],\"histogram\":[{\"marker\":{\"pattern\":{\"fillmode\":\"overlay\",\"size\":10,\"solidity\":0.2}},\"type\":\"histogram\"}],\"scattergl\":[{\"type\":\"scattergl\",\"marker\":{\"colorbar\":{\"outlinewidth\":0,\"ticks\":\"\"}}}],\"scatter3d\":[{\"type\":\"scatter3d\",\"line\":{\"colorbar\":{\"outlinewidth\":0,\"ticks\":\"\"}},\"marker\":{\"colorbar\":{\"outlinewidth\":0,\"ticks\":\"\"}}}],\"scattermapbox\":[{\"type\":\"scattermapbox\",\"marker\":{\"colorbar\":{\"outlinewidth\":0,\"ticks\":\"\"}}}],\"scatterternary\":[{\"type\":\"scatterternary\",\"marker\":{\"colorbar\":{\"outlinewidth\":0,\"ticks\":\"\"}}}],\"scattercarpet\":[{\"type\":\"scattercarpet\",\"marker\":{\"colorbar\":{\"outlinewidth\":0,\"ticks\":\"\"}}}],\"carpet\":[{\"aaxis\":{\"endlinecolor\":\"#2a3f5f\",\"gridcolor\":\"white\",\"linecolor\":\"white\",\"minorgridcolor\":\"white\",\"startlinecolor\":\"#2a3f5f\"},\"baxis\":{\"endlinecolor\":\"#2a3f5f\",\"gridcolor\":\"white\",\"linecolor\":\"white\",\"minorgridcolor\":\"white\",\"startlinecolor\":\"#2a3f5f\"},\"type\":\"carpet\"}],\"table\":[{\"cells\":{\"fill\":{\"color\":\"#EBF0F8\"},\"line\":{\"color\":\"white\"}},\"header\":{\"fill\":{\"color\":\"#C8D4E3\"},\"line\":{\"color\":\"white\"}},\"type\":\"table\"}],\"barpolar\":[{\"marker\":{\"line\":{\"color\":\"#E5ECF6\",\"width\":0.5},\"pattern\":{\"fillmode\":\"overlay\",\"size\":10,\"solidity\":0.2}},\"type\":\"barpolar\"}],\"pie\":[{\"automargin\":true,\"type\":\"pie\"}]},\"layout\":{\"autotypenumbers\":\"strict\",\"colorway\":[\"#636efa\",\"#EF553B\",\"#00cc96\",\"#ab63fa\",\"#FFA15A\",\"#19d3f3\",\"#FF6692\",\"#B6E880\",\"#FF97FF\",\"#FECB52\"],\"font\":{\"color\":\"#2a3f5f\"},\"hovermode\":\"closest\",\"hoverlabel\":{\"align\":\"left\"},\"paper_bgcolor\":\"white\",\"plot_bgcolor\":\"#E5ECF6\",\"polar\":{\"bgcolor\":\"#E5ECF6\",\"angularaxis\":{\"gridcolor\":\"white\",\"linecolor\":\"white\",\"ticks\":\"\"},\"radialaxis\":{\"gridcolor\":\"white\",\"linecolor\":\"white\",\"ticks\":\"\"}},\"ternary\":{\"bgcolor\":\"#E5ECF6\",\"aaxis\":{\"gridcolor\":\"white\",\"linecolor\":\"white\",\"ticks\":\"\"},\"baxis\":{\"gridcolor\":\"white\",\"linecolor\":\"white\",\"ticks\":\"\"},\"caxis\":{\"gridcolor\":\"white\",\"linecolor\":\"white\",\"ticks\":\"\"}},\"coloraxis\":{\"colorbar\":{\"outlinewidth\":0,\"ticks\":\"\"}},\"colorscale\":{\"sequential\":[[0.0,\"#0d0887\"],[0.1111111111111111,\"#46039f\"],[0.2222222222222222,\"#7201a8\"],[0.3333333333333333,\"#9c179e\"],[0.4444444444444444,\"#bd3786\"],[0.5555555555555556,\"#d8576b\"],[0.6666666666666666,\"#ed7953\"],[0.7777777777777778,\"#fb9f3a\"],[0.8888888888888888,\"#fdca26\"],[1.0,\"#f0f921\"]],\"sequentialminus\":[[0.0,\"#0d0887\"],[0.1111111111111111,\"#46039f\"],[0.2222222222222222,\"#7201a8\"],[0.3333333333333333,\"#9c179e\"],[0.4444444444444444,\"#bd3786\"],[0.5555555555555556,\"#d8576b\"],[0.6666666666666666,\"#ed7953\"],[0.7777777777777778,\"#fb9f3a\"],[0.8888888888888888,\"#fdca26\"],[1.0,\"#f0f921\"]],\"diverging\":[[0,\"#8e0152\"],[0.1,\"#c51b7d\"],[0.2,\"#de77ae\"],[0.3,\"#f1b6da\"],[0.4,\"#fde0ef\"],[0.5,\"#f7f7f7\"],[0.6,\"#e6f5d0\"],[0.7,\"#b8e186\"],[0.8,\"#7fbc41\"],[0.9,\"#4d9221\"],[1,\"#276419\"]]},\"xaxis\":{\"gridcolor\":\"white\",\"linecolor\":\"white\",\"ticks\":\"\",\"title\":{\"standoff\":15},\"zerolinecolor\":\"white\",\"automargin\":true,\"zerolinewidth\":2},\"yaxis\":{\"gridcolor\":\"white\",\"linecolor\":\"white\",\"ticks\":\"\",\"title\":{\"standoff\":15},\"zerolinecolor\":\"white\",\"automargin\":true,\"zerolinewidth\":2},\"scene\":{\"xaxis\":{\"backgroundcolor\":\"#E5ECF6\",\"gridcolor\":\"white\",\"linecolor\":\"white\",\"showbackground\":true,\"ticks\":\"\",\"zerolinecolor\":\"white\",\"gridwidth\":2},\"yaxis\":{\"backgroundcolor\":\"#E5ECF6\",\"gridcolor\":\"white\",\"linecolor\":\"white\",\"showbackground\":true,\"ticks\":\"\",\"zerolinecolor\":\"white\",\"gridwidth\":2},\"zaxis\":{\"backgroundcolor\":\"#E5ECF6\",\"gridcolor\":\"white\",\"linecolor\":\"white\",\"showbackground\":true,\"ticks\":\"\",\"zerolinecolor\":\"white\",\"gridwidth\":2}},\"shapedefaults\":{\"line\":{\"color\":\"#2a3f5f\"}},\"annotationdefaults\":{\"arrowcolor\":\"#2a3f5f\",\"arrowhead\":0,\"arrowwidth\":1},\"geo\":{\"bgcolor\":\"white\",\"landcolor\":\"#E5ECF6\",\"subunitcolor\":\"white\",\"showland\":true,\"showlakes\":true,\"lakecolor\":\"white\"},\"title\":{\"x\":0.05},\"mapbox\":{\"style\":\"light\"}}},\"xaxis\":{\"anchor\":\"y\",\"domain\":[0.0,1.0],\"title\":{\"text\":\"Year\"}},\"yaxis\":{\"anchor\":\"x\",\"domain\":[0.0,1.0],\"title\":{\"text\":\"% Yes\"}},\"legend\":{\"title\":{\"text\":\"Country\"},\"tracegroupgap\":0},\"margin\":{\"t\":60},\"title\":{\"text\":\"Economic development\\u003cbr\\u003e\",\"y\":0.9,\"x\":0.5,\"xanchor\":\"center\",\"yanchor\":\"top\"}},                        {\"responsive\": true}                    ).then(function(){\n",
       "                            \n",
       "var gd = document.getElementById('88945b5b-ee0d-4ef6-996a-c3935861f6dc');\n",
       "var x = new MutationObserver(function (mutations, observer) {{\n",
       "        var display = window.getComputedStyle(gd).display;\n",
       "        if (!display || display === 'none') {{\n",
       "            console.log([gd, 'removed!']);\n",
       "            Plotly.purge(gd);\n",
       "            observer.disconnect();\n",
       "        }}\n",
       "}});\n",
       "\n",
       "// Listen for the removal of the full notebook cells\n",
       "var notebookContainer = gd.closest('#notebook-container');\n",
       "if (notebookContainer) {{\n",
       "    x.observe(notebookContainer, {childList: true});\n",
       "}}\n",
       "\n",
       "// Listen for the clearing of the current output cell\n",
       "var outputEl = gd.closest('.output');\n",
       "if (outputEl) {{\n",
       "    x.observe(outputEl, {childList: true});\n",
       "}}\n",
       "\n",
       "                        })                };                });            </script>        </div>"
      ]
     },
     "metadata": {},
     "output_type": "display_data"
    },
    {
     "data": {
      "application/vnd.plotly.v1+json": {
       "config": {
        "plotlyServerURL": "https://plot.ly"
       },
       "data": [
        {
         "hovertemplate": "Country=Turkey<br>x=%{x}<br>y=%{y}<extra></extra>",
         "legendgroup": "Turkey",
         "marker": {
          "color": "#636efa",
          "symbol": "circle"
         },
         "mode": "markers",
         "name": "Turkey",
         "orientation": "v",
         "showlegend": true,
         "type": "scatter",
         "x": [
          1946,
          1947,
          1948,
          1949,
          1950,
          1951,
          1952,
          1953,
          1954,
          1955,
          1957,
          1956,
          1959,
          1960,
          1961,
          1962,
          1963,
          1965,
          1966,
          1967,
          1968,
          1969,
          1970,
          1971,
          1972,
          1973,
          1974,
          1975,
          1976,
          1977,
          1978,
          1979,
          1980,
          1981,
          1982,
          1983,
          1984,
          1985,
          1986,
          1987,
          1988,
          1989,
          1990,
          1991,
          1992,
          1993,
          1994,
          1995,
          1996,
          1997,
          1998,
          1999,
          2000,
          2001,
          2002,
          2003,
          2004,
          2005,
          2006,
          2007,
          2008,
          2009,
          2010,
          2011,
          2012,
          2013,
          2014,
          2015,
          2016,
          2017,
          2018,
          2019
         ],
         "xaxis": "x",
         "y": [
          80,
          22.22222222222222,
          41.66666666666667,
          30.76923076923077,
          58.333333333333336,
          100,
          9.090909090909092,
          16.666666666666664,
          25,
          40,
          44.44444444444444,
          100,
          62.5,
          63.63636363636363,
          73.33333333333333,
          38.095238095238095,
          66.66666666666666,
          66.66666666666666,
          70.58823529411765,
          64.28571428571429,
          63.63636363636363,
          78.57142857142857,
          88.23529411764706,
          90.9090909090909,
          100,
          91.66666666666666,
          100,
          81.81818181818183,
          84.21052631578947,
          88.88888888888889,
          75,
          76.19047619047619,
          81.25,
          88.23529411764706,
          82.6086956521739,
          94.11764705882352,
          91.30434782608695,
          100,
          93.75,
          83.33333333333334,
          85.71428571428571,
          84.61538461538461,
          60,
          60,
          64.28571428571429,
          54.54545454545454,
          61.53846153846154,
          71.42857142857143,
          66.66666666666666,
          75,
          76.92307692307693,
          76.92307692307693,
          69.23076923076923,
          81.81818181818183,
          72.72727272727273,
          80,
          77.77777777777779,
          80,
          86.66666666666667,
          81.81818181818183,
          86.66666666666667,
          85.71428571428571,
          84.61538461538461,
          83.33333333333334,
          92.3076923076923,
          92.3076923076923,
          88.88888888888889,
          90,
          90.9090909090909,
          87.5,
          66.66666666666666,
          37.5
         ],
         "yaxis": "y"
        },
        {
         "hovertemplate": "<b>LOWESS trendline</b><br><br>Country=Turkey<br>x=%{x}<br>y=%{y} <b>(trend)</b><extra></extra>",
         "legendgroup": "Turkey",
         "marker": {
          "color": "#636efa",
          "symbol": "circle"
         },
         "mode": "lines",
         "name": "Turkey",
         "showlegend": false,
         "type": "scatter",
         "x": [
          1946,
          1947,
          1948,
          1949,
          1950,
          1951,
          1952,
          1953,
          1954,
          1955,
          1956,
          1957,
          1959,
          1960,
          1961,
          1962,
          1963,
          1965,
          1966,
          1967,
          1968,
          1969,
          1970,
          1971,
          1972,
          1973,
          1974,
          1975,
          1976,
          1977,
          1978,
          1979,
          1980,
          1981,
          1982,
          1983,
          1984,
          1985,
          1986,
          1987,
          1988,
          1989,
          1990,
          1991,
          1992,
          1993,
          1994,
          1995,
          1996,
          1997,
          1998,
          1999,
          2000,
          2001,
          2002,
          2003,
          2004,
          2005,
          2006,
          2007,
          2008,
          2009,
          2010,
          2011,
          2012,
          2013,
          2014,
          2015,
          2016,
          2017,
          2018,
          2019
         ],
         "xaxis": "x",
         "y": [
          29.17971638023244,
          31.1522768828995,
          33.11824875203014,
          35.077174197681906,
          37.02833572819215,
          38.97092204433174,
          40.903615671951776,
          42.82495597793842,
          44.73370986021484,
          46.62910345955643,
          48.51093058662475,
          50.37939651906393,
          54.0785248861761,
          55.91127299615109,
          57.73450334208987,
          59.54956420852772,
          61.357946295780515,
          64.96538001176864,
          66.77203573920437,
          68.58666205371694,
          70.41145449507846,
          72.23919585774006,
          74.04155355611469,
          75.3978235197767,
          76.61793286734147,
          77.68756186669606,
          78.59710499839564,
          79.33851771837435,
          79.91141212177885,
          80.32615994177313,
          80.60113261361363,
          80.76009390163263,
          80.82488259695138,
          80.8115169914125,
          80.73650349763182,
          80.61039491205918,
          80.4468969851484,
          80.25854212757453,
          80.05496881524255,
          79.84492863265096,
          79.5379176603267,
          79.26343316330166,
          79.01090972703874,
          78.7936097273624,
          78.62152745499905,
          78.49644578963735,
          78.41446148507,
          78.37004540800146,
          78.3567597591237,
          78.68914953306498,
          79.0147938168652,
          79.32890450325077,
          79.63730023523748,
          79.94672773854093,
          80.2626707755058,
          80.58897348479539,
          80.92837933832263,
          81.28273466661018,
          81.65326103181144,
          82.04066334147466,
          82.44514692614126,
          82.86660548044127,
          83.30463351802874,
          83.75860956086117,
          84.22779972638838,
          84.71138838563337,
          85.20830604758947,
          85.71724200830005,
          86.23676495141912,
          86.76534216543052,
          87.30136566055776,
          87.84339538974946
         ],
         "yaxis": "y"
        },
        {
         "hovertemplate": "Country=United States<br>x=%{x}<br>y=%{y}<extra></extra>",
         "legendgroup": "United States",
         "marker": {
          "color": "#EF553B",
          "symbol": "circle"
         },
         "mode": "markers",
         "name": "United States",
         "orientation": "v",
         "showlegend": true,
         "type": "scatter",
         "x": [
          1946,
          1947,
          1948,
          1949,
          1950,
          1951,
          1952,
          1953,
          1954,
          1955,
          1957,
          1956,
          1959,
          1960,
          1961,
          1962,
          1963,
          1965,
          1966,
          1967,
          1968,
          1969,
          1970,
          1971,
          1972,
          1973,
          1974,
          1975,
          1976,
          1977,
          1978,
          1979,
          1980,
          1981,
          1982,
          1983,
          1984,
          1985,
          1986,
          1987,
          1988,
          1989,
          1990,
          1991,
          1992,
          1993,
          1994,
          1995,
          1996,
          1997,
          1998,
          1999,
          2000,
          2001,
          2002,
          2003,
          2004,
          2005,
          2006,
          2007,
          2008,
          2009,
          2010,
          2011,
          2012,
          2013,
          2014,
          2015,
          2016,
          2017,
          2018,
          2019
         ],
         "xaxis": "x",
         "y": [
          73.33333333333333,
          55.55555555555556,
          50,
          40,
          58.333333333333336,
          100,
          20,
          44.44444444444444,
          40,
          60,
          44.44444444444444,
          100,
          31.25,
          9.090909090909092,
          73.33333333333333,
          38.095238095238095,
          33.33333333333333,
          16.666666666666664,
          29.411764705882355,
          7.142857142857142,
          0,
          7.142857142857142,
          5.88235294117647,
          27.27272727272727,
          12.5,
          12.5,
          16.666666666666664,
          9.090909090909092,
          11.11111111111111,
          11.11111111111111,
          25,
          19.047619047619047,
          25,
          5.88235294117647,
          0,
          0,
          0,
          0,
          0,
          0,
          0,
          0,
          0,
          13.333333333333334,
          0,
          0,
          23.076923076923077,
          7.142857142857142,
          8.333333333333332,
          8.333333333333332,
          0,
          7.6923076923076925,
          7.6923076923076925,
          8.333333333333332,
          9.090909090909092,
          0,
          0,
          0,
          0,
          0,
          0,
          7.142857142857142,
          0,
          0,
          0,
          0,
          0,
          10,
          18.181818181818183,
          12.5,
          0,
          18.75
         ],
         "yaxis": "y"
        },
        {
         "hovertemplate": "<b>LOWESS trendline</b><br><br>Country=United States<br>x=%{x}<br>y=%{y} <b>(trend)</b><extra></extra>",
         "legendgroup": "United States",
         "marker": {
          "color": "#EF553B",
          "symbol": "circle"
         },
         "mode": "lines",
         "name": "United States",
         "showlegend": false,
         "type": "scatter",
         "x": [
          1946,
          1947,
          1948,
          1949,
          1950,
          1951,
          1952,
          1953,
          1954,
          1955,
          1956,
          1957,
          1959,
          1960,
          1961,
          1962,
          1963,
          1965,
          1966,
          1967,
          1968,
          1969,
          1970,
          1971,
          1972,
          1973,
          1974,
          1975,
          1976,
          1977,
          1978,
          1979,
          1980,
          1981,
          1982,
          1983,
          1984,
          1985,
          1986,
          1987,
          1988,
          1989,
          1990,
          1991,
          1992,
          1993,
          1994,
          1995,
          1996,
          1997,
          1998,
          1999,
          2000,
          2001,
          2002,
          2003,
          2004,
          2005,
          2006,
          2007,
          2008,
          2009,
          2010,
          2011,
          2012,
          2013,
          2014,
          2015,
          2016,
          2017,
          2018,
          2019
         ],
         "xaxis": "x",
         "y": [
          56.39150530551082,
          54.83523659531247,
          53.28307865621943,
          51.7349118067308,
          50.19080010196736,
          48.65108092889108,
          47.1159307880163,
          45.58546715612722,
          44.05983717786296,
          42.53925938167892,
          41.02402615414025,
          39.5141928315771,
          36.510097732022096,
          35.01501312275975,
          33.52392581016202,
          32.036247535114015,
          30.55108850609532,
          27.581392586420385,
          26.09159359672114,
          24.594775151279222,
          23.089982151244424,
          21.582755776767666,
          20.085628228906213,
          18.742815285750932,
          17.43605766190456,
          16.178077731280148,
          14.981847898320803,
          13.856897883097988,
          12.815855877138663,
          11.869012715034284,
          11.018484819403241,
          10.261783879330098,
          9.593618011553591,
          9.006734453747656,
          8.488316361566108,
          8.02749000146162,
          7.612778955122342,
          7.2341491590873765,
          6.880419874775329,
          6.539055214220495,
          6.099118336312254,
          5.764249390787989,
          5.426651995070732,
          5.092438628157359,
          4.7710190005863975,
          4.471838117510055,
          4.2048653714394195,
          3.9788002191081846,
          3.802868759444022,
          3.7472683856114304,
          3.7454927627363803,
          3.7807694337691125,
          3.8389210195286,
          3.910805219639435,
          3.990554619832193,
          4.074181976715849,
          4.158881307038841,
          4.242847830739973,
          4.325018398017408,
          4.404863072051187,
          4.482250193686538,
          4.5573547093438505,
          4.630552836724246,
          4.70226576509453,
          4.7730686100074955,
          4.843705451076406,
          4.91506878454485,
          4.988185943190561,
          5.064144442617588,
          5.143797663141493,
          5.227606157000353,
          5.315771007948362
         ],
         "yaxis": "y"
        },
        {
         "hovertemplate": "Country=United Kingdom<br>x=%{x}<br>y=%{y}<extra></extra>",
         "legendgroup": "United Kingdom",
         "marker": {
          "color": "#00cc96",
          "symbol": "circle"
         },
         "mode": "markers",
         "name": "United Kingdom",
         "orientation": "v",
         "showlegend": true,
         "type": "scatter",
         "x": [
          1946,
          1947,
          1948,
          1949,
          1950,
          1951,
          1952,
          1953,
          1954,
          1955,
          1957,
          1956,
          1959,
          1960,
          1961,
          1962,
          1963,
          1965,
          1966,
          1967,
          1968,
          1969,
          1970,
          1971,
          1972,
          1973,
          1974,
          1975,
          1976,
          1977,
          1978,
          1979,
          1980,
          1981,
          1982,
          1983,
          1984,
          1985,
          1986,
          1987,
          1988,
          1989,
          1990,
          1991,
          1992,
          1993,
          1994,
          1995,
          1996,
          1997,
          1998,
          1999,
          2000,
          2001,
          2002,
          2003,
          2004,
          2005,
          2006,
          2007,
          2008,
          2009,
          2010,
          2011,
          2012,
          2013,
          2014,
          2015,
          2016,
          2017,
          2018,
          2019
         ],
         "xaxis": "x",
         "y": [
          80,
          33.33333333333333,
          41.66666666666667,
          26.666666666666668,
          33.33333333333333,
          100,
          13.333333333333334,
          22.22222222222222,
          0,
          20,
          44.44444444444444,
          100,
          25,
          0,
          53.333333333333336,
          38.88888888888889,
          0,
          16.666666666666664,
          23.52941176470588,
          7.142857142857142,
          0,
          8.333333333333332,
          6.666666666666667,
          25,
          12.5,
          8.695652173913043,
          16.666666666666664,
          28.57142857142857,
          31.25,
          23.52941176470588,
          25,
          19.047619047619047,
          31.25,
          17.647058823529413,
          13.043478260869565,
          23.52941176470588,
          26.08695652173913,
          30.76923076923077,
          6.25,
          16.666666666666664,
          21.428571428571427,
          23.076923076923077,
          20,
          33.33333333333333,
          28.57142857142857,
          18.181818181818183,
          38.46153846153847,
          28.57142857142857,
          41.66666666666667,
          41.66666666666667,
          46.15384615384615,
          38.46153846153847,
          38.46153846153847,
          41.66666666666667,
          36.36363636363637,
          20,
          22.22222222222222,
          30,
          58.82352941176471,
          36.36363636363637,
          46.666666666666664,
          50,
          38.46153846153847,
          50,
          53.84615384615385,
          46.15384615384615,
          22.22222222222222,
          30,
          27.27272727272727,
          50,
          66.66666666666666,
          31.25
         ],
         "yaxis": "y"
        },
        {
         "hovertemplate": "<b>LOWESS trendline</b><br><br>Country=United Kingdom<br>x=%{x}<br>y=%{y} <b>(trend)</b><extra></extra>",
         "legendgroup": "United Kingdom",
         "marker": {
          "color": "#00cc96",
          "symbol": "circle"
         },
         "mode": "lines",
         "name": "United Kingdom",
         "showlegend": false,
         "type": "scatter",
         "x": [
          1946,
          1947,
          1948,
          1949,
          1950,
          1951,
          1952,
          1953,
          1954,
          1955,
          1956,
          1957,
          1959,
          1960,
          1961,
          1962,
          1963,
          1965,
          1966,
          1967,
          1968,
          1969,
          1970,
          1971,
          1972,
          1973,
          1974,
          1975,
          1976,
          1977,
          1978,
          1979,
          1980,
          1981,
          1982,
          1983,
          1984,
          1985,
          1986,
          1987,
          1988,
          1989,
          1990,
          1991,
          1992,
          1993,
          1994,
          1995,
          1996,
          1997,
          1998,
          1999,
          2000,
          2001,
          2002,
          2003,
          2004,
          2005,
          2006,
          2007,
          2008,
          2009,
          2010,
          2011,
          2012,
          2013,
          2014,
          2015,
          2016,
          2017,
          2018,
          2019
         ],
         "xaxis": "x",
         "y": [
          27.16180200973739,
          26.74290592055019,
          26.333338134970116,
          25.933385407946197,
          25.54282629582805,
          25.161212983933563,
          24.787792301965517,
          24.421750626896113,
          24.062532287393726,
          23.70977372013451,
          23.36354939003324,
          23.024153682551606,
          22.366295857330808,
          22.047120469687606,
          21.733701617126844,
          21.42562541134465,
          21.12186441647864,
          20.51966765459308,
          20.217418675739562,
          19.9132314156564,
          19.611316800107932,
          19.32956730506804,
          19.108658954185483,
          19.09475351329772,
          19.118397092831664,
          19.174983904116385,
          19.267496882165144,
          19.405796682397728,
          19.607435265868563,
          19.887126078851086,
          20.252832446287528,
          20.70853000671662,
          21.248253041629237,
          21.857361058134178,
          22.513920174167826,
          23.200245931683725,
          23.903557857983948,
          24.613451828191167,
          25.318700790560307,
          26.012699414054875,
          26.681058274106164,
          27.339404287389698,
          27.98444770722445,
          28.628773999708645,
          29.284554082080547,
          29.95496072366641,
          30.6369501001059,
          31.325107763897837,
          32.02176964873594,
          32.70681919404575,
          33.35820086308886,
          33.9935765049398,
          34.62228224150938,
          35.24751431481246,
          35.86981543853226,
          36.48876906880706,
          37.10393032319602,
          37.715355590317216,
          38.323494286101976,
          38.92880635620067,
          39.5313218775318,
          40.13096782478515,
          40.72745455680244,
          41.32027473132826,
          41.90892408503632,
          42.4926933033241,
          43.0706023487052,
          43.64170790424939,
          44.20561736577244,
          44.76251595376374,
          45.31303394110161,
          45.85760050642984
         ],
         "yaxis": "y"
        }
       ],
       "layout": {
        "height": 360,
        "legend": {
         "title": {
          "text": "Country"
         },
         "tracegroupgap": 0
        },
        "margin": {
         "t": 60
        },
        "template": {
         "data": {
          "bar": [
           {
            "error_x": {
             "color": "#2a3f5f"
            },
            "error_y": {
             "color": "#2a3f5f"
            },
            "marker": {
             "line": {
              "color": "#E5ECF6",
              "width": 0.5
             },
             "pattern": {
              "fillmode": "overlay",
              "size": 10,
              "solidity": 0.2
             }
            },
            "type": "bar"
           }
          ],
          "barpolar": [
           {
            "marker": {
             "line": {
              "color": "#E5ECF6",
              "width": 0.5
             },
             "pattern": {
              "fillmode": "overlay",
              "size": 10,
              "solidity": 0.2
             }
            },
            "type": "barpolar"
           }
          ],
          "carpet": [
           {
            "aaxis": {
             "endlinecolor": "#2a3f5f",
             "gridcolor": "white",
             "linecolor": "white",
             "minorgridcolor": "white",
             "startlinecolor": "#2a3f5f"
            },
            "baxis": {
             "endlinecolor": "#2a3f5f",
             "gridcolor": "white",
             "linecolor": "white",
             "minorgridcolor": "white",
             "startlinecolor": "#2a3f5f"
            },
            "type": "carpet"
           }
          ],
          "choropleth": [
           {
            "colorbar": {
             "outlinewidth": 0,
             "ticks": ""
            },
            "type": "choropleth"
           }
          ],
          "contour": [
           {
            "colorbar": {
             "outlinewidth": 0,
             "ticks": ""
            },
            "colorscale": [
             [
              0,
              "#0d0887"
             ],
             [
              0.1111111111111111,
              "#46039f"
             ],
             [
              0.2222222222222222,
              "#7201a8"
             ],
             [
              0.3333333333333333,
              "#9c179e"
             ],
             [
              0.4444444444444444,
              "#bd3786"
             ],
             [
              0.5555555555555556,
              "#d8576b"
             ],
             [
              0.6666666666666666,
              "#ed7953"
             ],
             [
              0.7777777777777778,
              "#fb9f3a"
             ],
             [
              0.8888888888888888,
              "#fdca26"
             ],
             [
              1,
              "#f0f921"
             ]
            ],
            "type": "contour"
           }
          ],
          "contourcarpet": [
           {
            "colorbar": {
             "outlinewidth": 0,
             "ticks": ""
            },
            "type": "contourcarpet"
           }
          ],
          "heatmap": [
           {
            "colorbar": {
             "outlinewidth": 0,
             "ticks": ""
            },
            "colorscale": [
             [
              0,
              "#0d0887"
             ],
             [
              0.1111111111111111,
              "#46039f"
             ],
             [
              0.2222222222222222,
              "#7201a8"
             ],
             [
              0.3333333333333333,
              "#9c179e"
             ],
             [
              0.4444444444444444,
              "#bd3786"
             ],
             [
              0.5555555555555556,
              "#d8576b"
             ],
             [
              0.6666666666666666,
              "#ed7953"
             ],
             [
              0.7777777777777778,
              "#fb9f3a"
             ],
             [
              0.8888888888888888,
              "#fdca26"
             ],
             [
              1,
              "#f0f921"
             ]
            ],
            "type": "heatmap"
           }
          ],
          "heatmapgl": [
           {
            "colorbar": {
             "outlinewidth": 0,
             "ticks": ""
            },
            "colorscale": [
             [
              0,
              "#0d0887"
             ],
             [
              0.1111111111111111,
              "#46039f"
             ],
             [
              0.2222222222222222,
              "#7201a8"
             ],
             [
              0.3333333333333333,
              "#9c179e"
             ],
             [
              0.4444444444444444,
              "#bd3786"
             ],
             [
              0.5555555555555556,
              "#d8576b"
             ],
             [
              0.6666666666666666,
              "#ed7953"
             ],
             [
              0.7777777777777778,
              "#fb9f3a"
             ],
             [
              0.8888888888888888,
              "#fdca26"
             ],
             [
              1,
              "#f0f921"
             ]
            ],
            "type": "heatmapgl"
           }
          ],
          "histogram": [
           {
            "marker": {
             "pattern": {
              "fillmode": "overlay",
              "size": 10,
              "solidity": 0.2
             }
            },
            "type": "histogram"
           }
          ],
          "histogram2d": [
           {
            "colorbar": {
             "outlinewidth": 0,
             "ticks": ""
            },
            "colorscale": [
             [
              0,
              "#0d0887"
             ],
             [
              0.1111111111111111,
              "#46039f"
             ],
             [
              0.2222222222222222,
              "#7201a8"
             ],
             [
              0.3333333333333333,
              "#9c179e"
             ],
             [
              0.4444444444444444,
              "#bd3786"
             ],
             [
              0.5555555555555556,
              "#d8576b"
             ],
             [
              0.6666666666666666,
              "#ed7953"
             ],
             [
              0.7777777777777778,
              "#fb9f3a"
             ],
             [
              0.8888888888888888,
              "#fdca26"
             ],
             [
              1,
              "#f0f921"
             ]
            ],
            "type": "histogram2d"
           }
          ],
          "histogram2dcontour": [
           {
            "colorbar": {
             "outlinewidth": 0,
             "ticks": ""
            },
            "colorscale": [
             [
              0,
              "#0d0887"
             ],
             [
              0.1111111111111111,
              "#46039f"
             ],
             [
              0.2222222222222222,
              "#7201a8"
             ],
             [
              0.3333333333333333,
              "#9c179e"
             ],
             [
              0.4444444444444444,
              "#bd3786"
             ],
             [
              0.5555555555555556,
              "#d8576b"
             ],
             [
              0.6666666666666666,
              "#ed7953"
             ],
             [
              0.7777777777777778,
              "#fb9f3a"
             ],
             [
              0.8888888888888888,
              "#fdca26"
             ],
             [
              1,
              "#f0f921"
             ]
            ],
            "type": "histogram2dcontour"
           }
          ],
          "mesh3d": [
           {
            "colorbar": {
             "outlinewidth": 0,
             "ticks": ""
            },
            "type": "mesh3d"
           }
          ],
          "parcoords": [
           {
            "line": {
             "colorbar": {
              "outlinewidth": 0,
              "ticks": ""
             }
            },
            "type": "parcoords"
           }
          ],
          "pie": [
           {
            "automargin": true,
            "type": "pie"
           }
          ],
          "scatter": [
           {
            "fillpattern": {
             "fillmode": "overlay",
             "size": 10,
             "solidity": 0.2
            },
            "type": "scatter"
           }
          ],
          "scatter3d": [
           {
            "line": {
             "colorbar": {
              "outlinewidth": 0,
              "ticks": ""
             }
            },
            "marker": {
             "colorbar": {
              "outlinewidth": 0,
              "ticks": ""
             }
            },
            "type": "scatter3d"
           }
          ],
          "scattercarpet": [
           {
            "marker": {
             "colorbar": {
              "outlinewidth": 0,
              "ticks": ""
             }
            },
            "type": "scattercarpet"
           }
          ],
          "scattergeo": [
           {
            "marker": {
             "colorbar": {
              "outlinewidth": 0,
              "ticks": ""
             }
            },
            "type": "scattergeo"
           }
          ],
          "scattergl": [
           {
            "marker": {
             "colorbar": {
              "outlinewidth": 0,
              "ticks": ""
             }
            },
            "type": "scattergl"
           }
          ],
          "scattermapbox": [
           {
            "marker": {
             "colorbar": {
              "outlinewidth": 0,
              "ticks": ""
             }
            },
            "type": "scattermapbox"
           }
          ],
          "scatterpolar": [
           {
            "marker": {
             "colorbar": {
              "outlinewidth": 0,
              "ticks": ""
             }
            },
            "type": "scatterpolar"
           }
          ],
          "scatterpolargl": [
           {
            "marker": {
             "colorbar": {
              "outlinewidth": 0,
              "ticks": ""
             }
            },
            "type": "scatterpolargl"
           }
          ],
          "scatterternary": [
           {
            "marker": {
             "colorbar": {
              "outlinewidth": 0,
              "ticks": ""
             }
            },
            "type": "scatterternary"
           }
          ],
          "surface": [
           {
            "colorbar": {
             "outlinewidth": 0,
             "ticks": ""
            },
            "colorscale": [
             [
              0,
              "#0d0887"
             ],
             [
              0.1111111111111111,
              "#46039f"
             ],
             [
              0.2222222222222222,
              "#7201a8"
             ],
             [
              0.3333333333333333,
              "#9c179e"
             ],
             [
              0.4444444444444444,
              "#bd3786"
             ],
             [
              0.5555555555555556,
              "#d8576b"
             ],
             [
              0.6666666666666666,
              "#ed7953"
             ],
             [
              0.7777777777777778,
              "#fb9f3a"
             ],
             [
              0.8888888888888888,
              "#fdca26"
             ],
             [
              1,
              "#f0f921"
             ]
            ],
            "type": "surface"
           }
          ],
          "table": [
           {
            "cells": {
             "fill": {
              "color": "#EBF0F8"
             },
             "line": {
              "color": "white"
             }
            },
            "header": {
             "fill": {
              "color": "#C8D4E3"
             },
             "line": {
              "color": "white"
             }
            },
            "type": "table"
           }
          ]
         },
         "layout": {
          "annotationdefaults": {
           "arrowcolor": "#2a3f5f",
           "arrowhead": 0,
           "arrowwidth": 1
          },
          "autotypenumbers": "strict",
          "coloraxis": {
           "colorbar": {
            "outlinewidth": 0,
            "ticks": ""
           }
          },
          "colorscale": {
           "diverging": [
            [
             0,
             "#8e0152"
            ],
            [
             0.1,
             "#c51b7d"
            ],
            [
             0.2,
             "#de77ae"
            ],
            [
             0.3,
             "#f1b6da"
            ],
            [
             0.4,
             "#fde0ef"
            ],
            [
             0.5,
             "#f7f7f7"
            ],
            [
             0.6,
             "#e6f5d0"
            ],
            [
             0.7,
             "#b8e186"
            ],
            [
             0.8,
             "#7fbc41"
            ],
            [
             0.9,
             "#4d9221"
            ],
            [
             1,
             "#276419"
            ]
           ],
           "sequential": [
            [
             0,
             "#0d0887"
            ],
            [
             0.1111111111111111,
             "#46039f"
            ],
            [
             0.2222222222222222,
             "#7201a8"
            ],
            [
             0.3333333333333333,
             "#9c179e"
            ],
            [
             0.4444444444444444,
             "#bd3786"
            ],
            [
             0.5555555555555556,
             "#d8576b"
            ],
            [
             0.6666666666666666,
             "#ed7953"
            ],
            [
             0.7777777777777778,
             "#fb9f3a"
            ],
            [
             0.8888888888888888,
             "#fdca26"
            ],
            [
             1,
             "#f0f921"
            ]
           ],
           "sequentialminus": [
            [
             0,
             "#0d0887"
            ],
            [
             0.1111111111111111,
             "#46039f"
            ],
            [
             0.2222222222222222,
             "#7201a8"
            ],
            [
             0.3333333333333333,
             "#9c179e"
            ],
            [
             0.4444444444444444,
             "#bd3786"
            ],
            [
             0.5555555555555556,
             "#d8576b"
            ],
            [
             0.6666666666666666,
             "#ed7953"
            ],
            [
             0.7777777777777778,
             "#fb9f3a"
            ],
            [
             0.8888888888888888,
             "#fdca26"
            ],
            [
             1,
             "#f0f921"
            ]
           ]
          },
          "colorway": [
           "#636efa",
           "#EF553B",
           "#00cc96",
           "#ab63fa",
           "#FFA15A",
           "#19d3f3",
           "#FF6692",
           "#B6E880",
           "#FF97FF",
           "#FECB52"
          ],
          "font": {
           "color": "#2a3f5f"
          },
          "geo": {
           "bgcolor": "white",
           "lakecolor": "white",
           "landcolor": "#E5ECF6",
           "showlakes": true,
           "showland": true,
           "subunitcolor": "white"
          },
          "hoverlabel": {
           "align": "left"
          },
          "hovermode": "closest",
          "mapbox": {
           "style": "light"
          },
          "paper_bgcolor": "white",
          "plot_bgcolor": "#E5ECF6",
          "polar": {
           "angularaxis": {
            "gridcolor": "white",
            "linecolor": "white",
            "ticks": ""
           },
           "bgcolor": "#E5ECF6",
           "radialaxis": {
            "gridcolor": "white",
            "linecolor": "white",
            "ticks": ""
           }
          },
          "scene": {
           "xaxis": {
            "backgroundcolor": "#E5ECF6",
            "gridcolor": "white",
            "gridwidth": 2,
            "linecolor": "white",
            "showbackground": true,
            "ticks": "",
            "zerolinecolor": "white"
           },
           "yaxis": {
            "backgroundcolor": "#E5ECF6",
            "gridcolor": "white",
            "gridwidth": 2,
            "linecolor": "white",
            "showbackground": true,
            "ticks": "",
            "zerolinecolor": "white"
           },
           "zaxis": {
            "backgroundcolor": "#E5ECF6",
            "gridcolor": "white",
            "gridwidth": 2,
            "linecolor": "white",
            "showbackground": true,
            "ticks": "",
            "zerolinecolor": "white"
           }
          },
          "shapedefaults": {
           "line": {
            "color": "#2a3f5f"
           }
          },
          "ternary": {
           "aaxis": {
            "gridcolor": "white",
            "linecolor": "white",
            "ticks": ""
           },
           "baxis": {
            "gridcolor": "white",
            "linecolor": "white",
            "ticks": ""
           },
           "bgcolor": "#E5ECF6",
           "caxis": {
            "gridcolor": "white",
            "linecolor": "white",
            "ticks": ""
           }
          },
          "title": {
           "x": 0.05
          },
          "xaxis": {
           "automargin": true,
           "gridcolor": "white",
           "linecolor": "white",
           "ticks": "",
           "title": {
            "standoff": 15
           },
           "zerolinecolor": "white",
           "zerolinewidth": 2
          },
          "yaxis": {
           "automargin": true,
           "gridcolor": "white",
           "linecolor": "white",
           "ticks": "",
           "title": {
            "standoff": 15
           },
           "zerolinecolor": "white",
           "zerolinewidth": 2
          }
         }
        },
        "title": {
         "text": "Colonialism<br>",
         "x": 0.5,
         "xanchor": "center",
         "y": 0.9,
         "yanchor": "top"
        },
        "xaxis": {
         "anchor": "y",
         "domain": [
          0,
          1
         ],
         "title": {
          "text": "Year"
         }
        },
        "yaxis": {
         "anchor": "x",
         "domain": [
          0,
          1
         ],
         "title": {
          "text": "% Yes"
         }
        }
       }
      },
      "text/html": [
       "<div>                            <div id=\"76e1f967-4f0b-4165-8c76-8dcdfea7ac2f\" class=\"plotly-graph-div\" style=\"height:525px; width:100%;\"></div>            <script type=\"text/javascript\">                require([\"plotly\"], function(Plotly) {                    window.PLOTLYENV=window.PLOTLYENV || {};                                    if (document.getElementById(\"76e1f967-4f0b-4165-8c76-8dcdfea7ac2f\")) {                    Plotly.newPlot(                        \"76e1f967-4f0b-4165-8c76-8dcdfea7ac2f\",                        [{\"hovertemplate\":\"Country=Turkey\\u003cbr\\u003ex=%{x}\\u003cbr\\u003ey=%{y}\\u003cextra\\u003e\\u003c\\u002fextra\\u003e\",\"legendgroup\":\"Turkey\",\"marker\":{\"color\":\"#636efa\",\"symbol\":\"circle\"},\"mode\":\"markers\",\"name\":\"Turkey\",\"orientation\":\"v\",\"showlegend\":true,\"x\":[1946,1947,1948,1949,1950,1951,1952,1953,1954,1955,1957,1956,1959,1960,1961,1962,1963,1965,1966,1967,1968,1969,1970,1971,1972,1973,1974,1975,1976,1977,1978,1979,1980,1981,1982,1983,1984,1985,1986,1987,1988,1989,1990,1991,1992,1993,1994,1995,1996,1997,1998,1999,2000,2001,2002,2003,2004,2005,2006,2007,2008,2009,2010,2011,2012,2013,2014,2015,2016,2017,2018,2019],\"xaxis\":\"x\",\"y\":[80.0,22.22222222222222,41.66666666666667,30.76923076923077,58.333333333333336,100.0,9.090909090909092,16.666666666666664,25.0,40.0,44.44444444444444,100.0,62.5,63.63636363636363,73.33333333333333,38.095238095238095,66.66666666666666,66.66666666666666,70.58823529411765,64.28571428571429,63.63636363636363,78.57142857142857,88.23529411764706,90.9090909090909,100.0,91.66666666666666,100.0,81.81818181818183,84.21052631578947,88.88888888888889,75.0,76.19047619047619,81.25,88.23529411764706,82.6086956521739,94.11764705882352,91.30434782608695,100.0,93.75,83.33333333333334,85.71428571428571,84.61538461538461,60.0,60.0,64.28571428571429,54.54545454545454,61.53846153846154,71.42857142857143,66.66666666666666,75.0,76.92307692307693,76.92307692307693,69.23076923076923,81.81818181818183,72.72727272727273,80.0,77.77777777777779,80.0,86.66666666666667,81.81818181818183,86.66666666666667,85.71428571428571,84.61538461538461,83.33333333333334,92.3076923076923,92.3076923076923,88.88888888888889,90.0,90.9090909090909,87.5,66.66666666666666,37.5],\"yaxis\":\"y\",\"type\":\"scatter\"},{\"hovertemplate\":\"\\u003cb\\u003eLOWESS trendline\\u003c\\u002fb\\u003e\\u003cbr\\u003e\\u003cbr\\u003eCountry=Turkey\\u003cbr\\u003ex=%{x}\\u003cbr\\u003ey=%{y} \\u003cb\\u003e(trend)\\u003c\\u002fb\\u003e\\u003cextra\\u003e\\u003c\\u002fextra\\u003e\",\"legendgroup\":\"Turkey\",\"marker\":{\"color\":\"#636efa\",\"symbol\":\"circle\"},\"mode\":\"lines\",\"name\":\"Turkey\",\"showlegend\":false,\"x\":[1946,1947,1948,1949,1950,1951,1952,1953,1954,1955,1956,1957,1959,1960,1961,1962,1963,1965,1966,1967,1968,1969,1970,1971,1972,1973,1974,1975,1976,1977,1978,1979,1980,1981,1982,1983,1984,1985,1986,1987,1988,1989,1990,1991,1992,1993,1994,1995,1996,1997,1998,1999,2000,2001,2002,2003,2004,2005,2006,2007,2008,2009,2010,2011,2012,2013,2014,2015,2016,2017,2018,2019],\"xaxis\":\"x\",\"y\":[29.17971638023244,31.1522768828995,33.11824875203014,35.077174197681906,37.02833572819215,38.97092204433174,40.903615671951776,42.82495597793842,44.73370986021484,46.62910345955643,48.51093058662475,50.37939651906393,54.0785248861761,55.91127299615109,57.73450334208987,59.54956420852772,61.357946295780515,64.96538001176864,66.77203573920437,68.58666205371694,70.41145449507846,72.23919585774006,74.04155355611469,75.3978235197767,76.61793286734147,77.68756186669606,78.59710499839564,79.33851771837435,79.91141212177885,80.32615994177313,80.60113261361363,80.76009390163263,80.82488259695138,80.8115169914125,80.73650349763182,80.61039491205918,80.4468969851484,80.25854212757453,80.05496881524255,79.84492863265096,79.5379176603267,79.26343316330166,79.01090972703874,78.7936097273624,78.62152745499905,78.49644578963735,78.41446148507,78.37004540800146,78.3567597591237,78.68914953306498,79.0147938168652,79.32890450325077,79.63730023523748,79.94672773854093,80.2626707755058,80.58897348479539,80.92837933832263,81.28273466661018,81.65326103181144,82.04066334147466,82.44514692614126,82.86660548044127,83.30463351802874,83.75860956086117,84.22779972638838,84.71138838563337,85.20830604758947,85.71724200830005,86.23676495141912,86.76534216543052,87.30136566055776,87.84339538974946],\"yaxis\":\"y\",\"type\":\"scatter\"},{\"hovertemplate\":\"Country=United States\\u003cbr\\u003ex=%{x}\\u003cbr\\u003ey=%{y}\\u003cextra\\u003e\\u003c\\u002fextra\\u003e\",\"legendgroup\":\"United States\",\"marker\":{\"color\":\"#EF553B\",\"symbol\":\"circle\"},\"mode\":\"markers\",\"name\":\"United States\",\"orientation\":\"v\",\"showlegend\":true,\"x\":[1946,1947,1948,1949,1950,1951,1952,1953,1954,1955,1957,1956,1959,1960,1961,1962,1963,1965,1966,1967,1968,1969,1970,1971,1972,1973,1974,1975,1976,1977,1978,1979,1980,1981,1982,1983,1984,1985,1986,1987,1988,1989,1990,1991,1992,1993,1994,1995,1996,1997,1998,1999,2000,2001,2002,2003,2004,2005,2006,2007,2008,2009,2010,2011,2012,2013,2014,2015,2016,2017,2018,2019],\"xaxis\":\"x\",\"y\":[73.33333333333333,55.55555555555556,50.0,40.0,58.333333333333336,100.0,20.0,44.44444444444444,40.0,60.0,44.44444444444444,100.0,31.25,9.090909090909092,73.33333333333333,38.095238095238095,33.33333333333333,16.666666666666664,29.411764705882355,7.142857142857142,0.0,7.142857142857142,5.88235294117647,27.27272727272727,12.5,12.5,16.666666666666664,9.090909090909092,11.11111111111111,11.11111111111111,25.0,19.047619047619047,25.0,5.88235294117647,0.0,0.0,0.0,0.0,0.0,0.0,0.0,0.0,0.0,13.333333333333334,0.0,0.0,23.076923076923077,7.142857142857142,8.333333333333332,8.333333333333332,0.0,7.6923076923076925,7.6923076923076925,8.333333333333332,9.090909090909092,0.0,0.0,0.0,0.0,0.0,0.0,7.142857142857142,0.0,0.0,0.0,0.0,0.0,10.0,18.181818181818183,12.5,0.0,18.75],\"yaxis\":\"y\",\"type\":\"scatter\"},{\"hovertemplate\":\"\\u003cb\\u003eLOWESS trendline\\u003c\\u002fb\\u003e\\u003cbr\\u003e\\u003cbr\\u003eCountry=United States\\u003cbr\\u003ex=%{x}\\u003cbr\\u003ey=%{y} \\u003cb\\u003e(trend)\\u003c\\u002fb\\u003e\\u003cextra\\u003e\\u003c\\u002fextra\\u003e\",\"legendgroup\":\"United States\",\"marker\":{\"color\":\"#EF553B\",\"symbol\":\"circle\"},\"mode\":\"lines\",\"name\":\"United States\",\"showlegend\":false,\"x\":[1946,1947,1948,1949,1950,1951,1952,1953,1954,1955,1956,1957,1959,1960,1961,1962,1963,1965,1966,1967,1968,1969,1970,1971,1972,1973,1974,1975,1976,1977,1978,1979,1980,1981,1982,1983,1984,1985,1986,1987,1988,1989,1990,1991,1992,1993,1994,1995,1996,1997,1998,1999,2000,2001,2002,2003,2004,2005,2006,2007,2008,2009,2010,2011,2012,2013,2014,2015,2016,2017,2018,2019],\"xaxis\":\"x\",\"y\":[56.39150530551082,54.83523659531247,53.28307865621943,51.7349118067308,50.19080010196736,48.65108092889108,47.1159307880163,45.58546715612722,44.05983717786296,42.53925938167892,41.02402615414025,39.5141928315771,36.510097732022096,35.01501312275975,33.52392581016202,32.036247535114015,30.55108850609532,27.581392586420385,26.09159359672114,24.594775151279222,23.089982151244424,21.582755776767666,20.085628228906213,18.742815285750932,17.43605766190456,16.178077731280148,14.981847898320803,13.856897883097988,12.815855877138663,11.869012715034284,11.018484819403241,10.261783879330098,9.593618011553591,9.006734453747656,8.488316361566108,8.02749000146162,7.612778955122342,7.2341491590873765,6.880419874775329,6.539055214220495,6.099118336312254,5.764249390787989,5.426651995070732,5.092438628157359,4.7710190005863975,4.471838117510055,4.2048653714394195,3.9788002191081846,3.802868759444022,3.7472683856114304,3.7454927627363803,3.7807694337691125,3.8389210195286,3.910805219639435,3.990554619832193,4.074181976715849,4.158881307038841,4.242847830739973,4.325018398017408,4.404863072051187,4.482250193686538,4.5573547093438505,4.630552836724246,4.70226576509453,4.7730686100074955,4.843705451076406,4.91506878454485,4.988185943190561,5.064144442617588,5.143797663141493,5.227606157000353,5.315771007948362],\"yaxis\":\"y\",\"type\":\"scatter\"},{\"hovertemplate\":\"Country=United Kingdom\\u003cbr\\u003ex=%{x}\\u003cbr\\u003ey=%{y}\\u003cextra\\u003e\\u003c\\u002fextra\\u003e\",\"legendgroup\":\"United Kingdom\",\"marker\":{\"color\":\"#00cc96\",\"symbol\":\"circle\"},\"mode\":\"markers\",\"name\":\"United Kingdom\",\"orientation\":\"v\",\"showlegend\":true,\"x\":[1946,1947,1948,1949,1950,1951,1952,1953,1954,1955,1957,1956,1959,1960,1961,1962,1963,1965,1966,1967,1968,1969,1970,1971,1972,1973,1974,1975,1976,1977,1978,1979,1980,1981,1982,1983,1984,1985,1986,1987,1988,1989,1990,1991,1992,1993,1994,1995,1996,1997,1998,1999,2000,2001,2002,2003,2004,2005,2006,2007,2008,2009,2010,2011,2012,2013,2014,2015,2016,2017,2018,2019],\"xaxis\":\"x\",\"y\":[80.0,33.33333333333333,41.66666666666667,26.666666666666668,33.33333333333333,100.0,13.333333333333334,22.22222222222222,0.0,20.0,44.44444444444444,100.0,25.0,0.0,53.333333333333336,38.88888888888889,0.0,16.666666666666664,23.52941176470588,7.142857142857142,0.0,8.333333333333332,6.666666666666667,25.0,12.5,8.695652173913043,16.666666666666664,28.57142857142857,31.25,23.52941176470588,25.0,19.047619047619047,31.25,17.647058823529413,13.043478260869565,23.52941176470588,26.08695652173913,30.76923076923077,6.25,16.666666666666664,21.428571428571427,23.076923076923077,20.0,33.33333333333333,28.57142857142857,18.181818181818183,38.46153846153847,28.57142857142857,41.66666666666667,41.66666666666667,46.15384615384615,38.46153846153847,38.46153846153847,41.66666666666667,36.36363636363637,20.0,22.22222222222222,30.0,58.82352941176471,36.36363636363637,46.666666666666664,50.0,38.46153846153847,50.0,53.84615384615385,46.15384615384615,22.22222222222222,30.0,27.27272727272727,50.0,66.66666666666666,31.25],\"yaxis\":\"y\",\"type\":\"scatter\"},{\"hovertemplate\":\"\\u003cb\\u003eLOWESS trendline\\u003c\\u002fb\\u003e\\u003cbr\\u003e\\u003cbr\\u003eCountry=United Kingdom\\u003cbr\\u003ex=%{x}\\u003cbr\\u003ey=%{y} \\u003cb\\u003e(trend)\\u003c\\u002fb\\u003e\\u003cextra\\u003e\\u003c\\u002fextra\\u003e\",\"legendgroup\":\"United Kingdom\",\"marker\":{\"color\":\"#00cc96\",\"symbol\":\"circle\"},\"mode\":\"lines\",\"name\":\"United Kingdom\",\"showlegend\":false,\"x\":[1946,1947,1948,1949,1950,1951,1952,1953,1954,1955,1956,1957,1959,1960,1961,1962,1963,1965,1966,1967,1968,1969,1970,1971,1972,1973,1974,1975,1976,1977,1978,1979,1980,1981,1982,1983,1984,1985,1986,1987,1988,1989,1990,1991,1992,1993,1994,1995,1996,1997,1998,1999,2000,2001,2002,2003,2004,2005,2006,2007,2008,2009,2010,2011,2012,2013,2014,2015,2016,2017,2018,2019],\"xaxis\":\"x\",\"y\":[27.16180200973739,26.74290592055019,26.333338134970116,25.933385407946197,25.54282629582805,25.161212983933563,24.787792301965517,24.421750626896113,24.062532287393726,23.70977372013451,23.36354939003324,23.024153682551606,22.366295857330808,22.047120469687606,21.733701617126844,21.42562541134465,21.12186441647864,20.51966765459308,20.217418675739562,19.9132314156564,19.611316800107932,19.32956730506804,19.108658954185483,19.09475351329772,19.118397092831664,19.174983904116385,19.267496882165144,19.405796682397728,19.607435265868563,19.887126078851086,20.252832446287528,20.70853000671662,21.248253041629237,21.857361058134178,22.513920174167826,23.200245931683725,23.903557857983948,24.613451828191167,25.318700790560307,26.012699414054875,26.681058274106164,27.339404287389698,27.98444770722445,28.628773999708645,29.284554082080547,29.95496072366641,30.6369501001059,31.325107763897837,32.02176964873594,32.70681919404575,33.35820086308886,33.9935765049398,34.62228224150938,35.24751431481246,35.86981543853226,36.48876906880706,37.10393032319602,37.715355590317216,38.323494286101976,38.92880635620067,39.5313218775318,40.13096782478515,40.72745455680244,41.32027473132826,41.90892408503632,42.4926933033241,43.0706023487052,43.64170790424939,44.20561736577244,44.76251595376374,45.31303394110161,45.85760050642984],\"yaxis\":\"y\",\"type\":\"scatter\"}],                        {\"template\":{\"data\":{\"histogram2dcontour\":[{\"type\":\"histogram2dcontour\",\"colorbar\":{\"outlinewidth\":0,\"ticks\":\"\"},\"colorscale\":[[0.0,\"#0d0887\"],[0.1111111111111111,\"#46039f\"],[0.2222222222222222,\"#7201a8\"],[0.3333333333333333,\"#9c179e\"],[0.4444444444444444,\"#bd3786\"],[0.5555555555555556,\"#d8576b\"],[0.6666666666666666,\"#ed7953\"],[0.7777777777777778,\"#fb9f3a\"],[0.8888888888888888,\"#fdca26\"],[1.0,\"#f0f921\"]]}],\"choropleth\":[{\"type\":\"choropleth\",\"colorbar\":{\"outlinewidth\":0,\"ticks\":\"\"}}],\"histogram2d\":[{\"type\":\"histogram2d\",\"colorbar\":{\"outlinewidth\":0,\"ticks\":\"\"},\"colorscale\":[[0.0,\"#0d0887\"],[0.1111111111111111,\"#46039f\"],[0.2222222222222222,\"#7201a8\"],[0.3333333333333333,\"#9c179e\"],[0.4444444444444444,\"#bd3786\"],[0.5555555555555556,\"#d8576b\"],[0.6666666666666666,\"#ed7953\"],[0.7777777777777778,\"#fb9f3a\"],[0.8888888888888888,\"#fdca26\"],[1.0,\"#f0f921\"]]}],\"heatmap\":[{\"type\":\"heatmap\",\"colorbar\":{\"outlinewidth\":0,\"ticks\":\"\"},\"colorscale\":[[0.0,\"#0d0887\"],[0.1111111111111111,\"#46039f\"],[0.2222222222222222,\"#7201a8\"],[0.3333333333333333,\"#9c179e\"],[0.4444444444444444,\"#bd3786\"],[0.5555555555555556,\"#d8576b\"],[0.6666666666666666,\"#ed7953\"],[0.7777777777777778,\"#fb9f3a\"],[0.8888888888888888,\"#fdca26\"],[1.0,\"#f0f921\"]]}],\"heatmapgl\":[{\"type\":\"heatmapgl\",\"colorbar\":{\"outlinewidth\":0,\"ticks\":\"\"},\"colorscale\":[[0.0,\"#0d0887\"],[0.1111111111111111,\"#46039f\"],[0.2222222222222222,\"#7201a8\"],[0.3333333333333333,\"#9c179e\"],[0.4444444444444444,\"#bd3786\"],[0.5555555555555556,\"#d8576b\"],[0.6666666666666666,\"#ed7953\"],[0.7777777777777778,\"#fb9f3a\"],[0.8888888888888888,\"#fdca26\"],[1.0,\"#f0f921\"]]}],\"contourcarpet\":[{\"type\":\"contourcarpet\",\"colorbar\":{\"outlinewidth\":0,\"ticks\":\"\"}}],\"contour\":[{\"type\":\"contour\",\"colorbar\":{\"outlinewidth\":0,\"ticks\":\"\"},\"colorscale\":[[0.0,\"#0d0887\"],[0.1111111111111111,\"#46039f\"],[0.2222222222222222,\"#7201a8\"],[0.3333333333333333,\"#9c179e\"],[0.4444444444444444,\"#bd3786\"],[0.5555555555555556,\"#d8576b\"],[0.6666666666666666,\"#ed7953\"],[0.7777777777777778,\"#fb9f3a\"],[0.8888888888888888,\"#fdca26\"],[1.0,\"#f0f921\"]]}],\"surface\":[{\"type\":\"surface\",\"colorbar\":{\"outlinewidth\":0,\"ticks\":\"\"},\"colorscale\":[[0.0,\"#0d0887\"],[0.1111111111111111,\"#46039f\"],[0.2222222222222222,\"#7201a8\"],[0.3333333333333333,\"#9c179e\"],[0.4444444444444444,\"#bd3786\"],[0.5555555555555556,\"#d8576b\"],[0.6666666666666666,\"#ed7953\"],[0.7777777777777778,\"#fb9f3a\"],[0.8888888888888888,\"#fdca26\"],[1.0,\"#f0f921\"]]}],\"mesh3d\":[{\"type\":\"mesh3d\",\"colorbar\":{\"outlinewidth\":0,\"ticks\":\"\"}}],\"scatter\":[{\"fillpattern\":{\"fillmode\":\"overlay\",\"size\":10,\"solidity\":0.2},\"type\":\"scatter\"}],\"parcoords\":[{\"type\":\"parcoords\",\"line\":{\"colorbar\":{\"outlinewidth\":0,\"ticks\":\"\"}}}],\"scatterpolargl\":[{\"type\":\"scatterpolargl\",\"marker\":{\"colorbar\":{\"outlinewidth\":0,\"ticks\":\"\"}}}],\"bar\":[{\"error_x\":{\"color\":\"#2a3f5f\"},\"error_y\":{\"color\":\"#2a3f5f\"},\"marker\":{\"line\":{\"color\":\"#E5ECF6\",\"width\":0.5},\"pattern\":{\"fillmode\":\"overlay\",\"size\":10,\"solidity\":0.2}},\"type\":\"bar\"}],\"scattergeo\":[{\"type\":\"scattergeo\",\"marker\":{\"colorbar\":{\"outlinewidth\":0,\"ticks\":\"\"}}}],\"scatterpolar\":[{\"type\":\"scatterpolar\",\"marker\":{\"colorbar\":{\"outlinewidth\":0,\"ticks\":\"\"}}}],\"histogram\":[{\"marker\":{\"pattern\":{\"fillmode\":\"overlay\",\"size\":10,\"solidity\":0.2}},\"type\":\"histogram\"}],\"scattergl\":[{\"type\":\"scattergl\",\"marker\":{\"colorbar\":{\"outlinewidth\":0,\"ticks\":\"\"}}}],\"scatter3d\":[{\"type\":\"scatter3d\",\"line\":{\"colorbar\":{\"outlinewidth\":0,\"ticks\":\"\"}},\"marker\":{\"colorbar\":{\"outlinewidth\":0,\"ticks\":\"\"}}}],\"scattermapbox\":[{\"type\":\"scattermapbox\",\"marker\":{\"colorbar\":{\"outlinewidth\":0,\"ticks\":\"\"}}}],\"scatterternary\":[{\"type\":\"scatterternary\",\"marker\":{\"colorbar\":{\"outlinewidth\":0,\"ticks\":\"\"}}}],\"scattercarpet\":[{\"type\":\"scattercarpet\",\"marker\":{\"colorbar\":{\"outlinewidth\":0,\"ticks\":\"\"}}}],\"carpet\":[{\"aaxis\":{\"endlinecolor\":\"#2a3f5f\",\"gridcolor\":\"white\",\"linecolor\":\"white\",\"minorgridcolor\":\"white\",\"startlinecolor\":\"#2a3f5f\"},\"baxis\":{\"endlinecolor\":\"#2a3f5f\",\"gridcolor\":\"white\",\"linecolor\":\"white\",\"minorgridcolor\":\"white\",\"startlinecolor\":\"#2a3f5f\"},\"type\":\"carpet\"}],\"table\":[{\"cells\":{\"fill\":{\"color\":\"#EBF0F8\"},\"line\":{\"color\":\"white\"}},\"header\":{\"fill\":{\"color\":\"#C8D4E3\"},\"line\":{\"color\":\"white\"}},\"type\":\"table\"}],\"barpolar\":[{\"marker\":{\"line\":{\"color\":\"#E5ECF6\",\"width\":0.5},\"pattern\":{\"fillmode\":\"overlay\",\"size\":10,\"solidity\":0.2}},\"type\":\"barpolar\"}],\"pie\":[{\"automargin\":true,\"type\":\"pie\"}]},\"layout\":{\"autotypenumbers\":\"strict\",\"colorway\":[\"#636efa\",\"#EF553B\",\"#00cc96\",\"#ab63fa\",\"#FFA15A\",\"#19d3f3\",\"#FF6692\",\"#B6E880\",\"#FF97FF\",\"#FECB52\"],\"font\":{\"color\":\"#2a3f5f\"},\"hovermode\":\"closest\",\"hoverlabel\":{\"align\":\"left\"},\"paper_bgcolor\":\"white\",\"plot_bgcolor\":\"#E5ECF6\",\"polar\":{\"bgcolor\":\"#E5ECF6\",\"angularaxis\":{\"gridcolor\":\"white\",\"linecolor\":\"white\",\"ticks\":\"\"},\"radialaxis\":{\"gridcolor\":\"white\",\"linecolor\":\"white\",\"ticks\":\"\"}},\"ternary\":{\"bgcolor\":\"#E5ECF6\",\"aaxis\":{\"gridcolor\":\"white\",\"linecolor\":\"white\",\"ticks\":\"\"},\"baxis\":{\"gridcolor\":\"white\",\"linecolor\":\"white\",\"ticks\":\"\"},\"caxis\":{\"gridcolor\":\"white\",\"linecolor\":\"white\",\"ticks\":\"\"}},\"coloraxis\":{\"colorbar\":{\"outlinewidth\":0,\"ticks\":\"\"}},\"colorscale\":{\"sequential\":[[0.0,\"#0d0887\"],[0.1111111111111111,\"#46039f\"],[0.2222222222222222,\"#7201a8\"],[0.3333333333333333,\"#9c179e\"],[0.4444444444444444,\"#bd3786\"],[0.5555555555555556,\"#d8576b\"],[0.6666666666666666,\"#ed7953\"],[0.7777777777777778,\"#fb9f3a\"],[0.8888888888888888,\"#fdca26\"],[1.0,\"#f0f921\"]],\"sequentialminus\":[[0.0,\"#0d0887\"],[0.1111111111111111,\"#46039f\"],[0.2222222222222222,\"#7201a8\"],[0.3333333333333333,\"#9c179e\"],[0.4444444444444444,\"#bd3786\"],[0.5555555555555556,\"#d8576b\"],[0.6666666666666666,\"#ed7953\"],[0.7777777777777778,\"#fb9f3a\"],[0.8888888888888888,\"#fdca26\"],[1.0,\"#f0f921\"]],\"diverging\":[[0,\"#8e0152\"],[0.1,\"#c51b7d\"],[0.2,\"#de77ae\"],[0.3,\"#f1b6da\"],[0.4,\"#fde0ef\"],[0.5,\"#f7f7f7\"],[0.6,\"#e6f5d0\"],[0.7,\"#b8e186\"],[0.8,\"#7fbc41\"],[0.9,\"#4d9221\"],[1,\"#276419\"]]},\"xaxis\":{\"gridcolor\":\"white\",\"linecolor\":\"white\",\"ticks\":\"\",\"title\":{\"standoff\":15},\"zerolinecolor\":\"white\",\"automargin\":true,\"zerolinewidth\":2},\"yaxis\":{\"gridcolor\":\"white\",\"linecolor\":\"white\",\"ticks\":\"\",\"title\":{\"standoff\":15},\"zerolinecolor\":\"white\",\"automargin\":true,\"zerolinewidth\":2},\"scene\":{\"xaxis\":{\"backgroundcolor\":\"#E5ECF6\",\"gridcolor\":\"white\",\"linecolor\":\"white\",\"showbackground\":true,\"ticks\":\"\",\"zerolinecolor\":\"white\",\"gridwidth\":2},\"yaxis\":{\"backgroundcolor\":\"#E5ECF6\",\"gridcolor\":\"white\",\"linecolor\":\"white\",\"showbackground\":true,\"ticks\":\"\",\"zerolinecolor\":\"white\",\"gridwidth\":2},\"zaxis\":{\"backgroundcolor\":\"#E5ECF6\",\"gridcolor\":\"white\",\"linecolor\":\"white\",\"showbackground\":true,\"ticks\":\"\",\"zerolinecolor\":\"white\",\"gridwidth\":2}},\"shapedefaults\":{\"line\":{\"color\":\"#2a3f5f\"}},\"annotationdefaults\":{\"arrowcolor\":\"#2a3f5f\",\"arrowhead\":0,\"arrowwidth\":1},\"geo\":{\"bgcolor\":\"white\",\"landcolor\":\"#E5ECF6\",\"subunitcolor\":\"white\",\"showland\":true,\"showlakes\":true,\"lakecolor\":\"white\"},\"title\":{\"x\":0.05},\"mapbox\":{\"style\":\"light\"}}},\"xaxis\":{\"anchor\":\"y\",\"domain\":[0.0,1.0],\"title\":{\"text\":\"Year\"}},\"yaxis\":{\"anchor\":\"x\",\"domain\":[0.0,1.0],\"title\":{\"text\":\"% Yes\"}},\"legend\":{\"title\":{\"text\":\"Country\"},\"tracegroupgap\":0},\"margin\":{\"t\":60},\"title\":{\"text\":\"Colonialism\\u003cbr\\u003e\",\"y\":0.9,\"x\":0.5,\"xanchor\":\"center\",\"yanchor\":\"top\"}},                        {\"responsive\": true}                    ).then(function(){\n",
       "                            \n",
       "var gd = document.getElementById('76e1f967-4f0b-4165-8c76-8dcdfea7ac2f');\n",
       "var x = new MutationObserver(function (mutations, observer) {{\n",
       "        var display = window.getComputedStyle(gd).display;\n",
       "        if (!display || display === 'none') {{\n",
       "            console.log([gd, 'removed!']);\n",
       "            Plotly.purge(gd);\n",
       "            observer.disconnect();\n",
       "        }}\n",
       "}});\n",
       "\n",
       "// Listen for the removal of the full notebook cells\n",
       "var notebookContainer = gd.closest('#notebook-container');\n",
       "if (notebookContainer) {{\n",
       "    x.observe(notebookContainer, {childList: true});\n",
       "}}\n",
       "\n",
       "// Listen for the clearing of the current output cell\n",
       "var outputEl = gd.closest('.output');\n",
       "if (outputEl) {{\n",
       "    x.observe(outputEl, {childList: true});\n",
       "}}\n",
       "\n",
       "                        })                };                });            </script>        </div>"
      ]
     },
     "metadata": {},
     "output_type": "display_data"
    },
    {
     "data": {
      "application/vnd.plotly.v1+json": {
       "config": {
        "plotlyServerURL": "https://plot.ly"
       },
       "data": [
        {
         "hovertemplate": "Country=Turkey<br>x=%{x}<br>y=%{y}<extra></extra>",
         "legendgroup": "Turkey",
         "marker": {
          "color": "#636efa",
          "symbol": "circle"
         },
         "mode": "markers",
         "name": "Turkey",
         "orientation": "v",
         "showlegend": true,
         "type": "scatter",
         "x": [
          1947,
          1948,
          1949,
          1950,
          1952,
          1957,
          1956,
          1961,
          1962,
          1963,
          1965,
          1967,
          1969,
          1970,
          1971,
          1972,
          1973,
          1974,
          1975,
          1976,
          1977,
          1978,
          1979,
          1980,
          1981,
          1982,
          1983,
          1984,
          1985,
          1986,
          1987,
          1988,
          1989,
          1990,
          1991,
          1992,
          1993,
          1994,
          1995,
          1996,
          1997,
          1998,
          1999,
          2000,
          2001,
          2002,
          2003,
          2004,
          2005,
          2006,
          2007,
          2008,
          2009,
          2010,
          2011,
          2012,
          2013,
          2014,
          2015,
          2016,
          2017,
          2018,
          2019
         ],
         "xaxis": "x",
         "y": [
          14.285714285714285,
          27.27272727272727,
          14.285714285714285,
          0,
          33.33333333333333,
          100,
          100,
          75,
          100,
          100,
          100,
          30.76923076923077,
          100,
          100,
          100,
          100,
          100,
          100,
          100,
          91.66666666666666,
          100,
          100,
          100,
          100,
          96.96969696969697,
          100,
          100,
          100,
          100,
          100,
          100,
          100,
          100,
          100,
          96.42857142857143,
          96.15384615384616,
          90.47619047619048,
          94.73684210526315,
          89.47368421052632,
          90.47619047619048,
          100,
          95.65217391304348,
          100,
          95.65217391304348,
          91.66666666666666,
          100,
          89.47368421052632,
          94.73684210526315,
          100,
          95,
          89.47368421052632,
          94.11764705882352,
          100,
          100,
          100,
          100,
          100,
          100,
          100,
          92.3076923076923,
          95,
          100,
          100
         ],
         "yaxis": "y"
        },
        {
         "hovertemplate": "<b>LOWESS trendline</b><br><br>Country=Turkey<br>x=%{x}<br>y=%{y} <b>(trend)</b><extra></extra>",
         "legendgroup": "Turkey",
         "marker": {
          "color": "#636efa",
          "symbol": "circle"
         },
         "mode": "lines",
         "name": "Turkey",
         "showlegend": false,
         "type": "scatter",
         "x": [
          1947,
          1948,
          1949,
          1950,
          1952,
          1956,
          1957,
          1961,
          1962,
          1963,
          1965,
          1967,
          1969,
          1970,
          1971,
          1972,
          1973,
          1974,
          1975,
          1976,
          1977,
          1978,
          1979,
          1980,
          1981,
          1982,
          1983,
          1984,
          1985,
          1986,
          1987,
          1988,
          1989,
          1990,
          1991,
          1992,
          1993,
          1994,
          1995,
          1996,
          1997,
          1998,
          1999,
          2000,
          2001,
          2002,
          2003,
          2004,
          2005,
          2006,
          2007,
          2008,
          2009,
          2010,
          2011,
          2012,
          2013,
          2014,
          2015,
          2016,
          2017,
          2018,
          2019
         ],
         "xaxis": "x",
         "y": [
          98.41932557672824,
          98.4707296823801,
          98.52104332642524,
          98.57020468342566,
          98.66480367412466,
          98.8370026629335,
          98.87601925916721,
          99.01266395390005,
          99.04141125974634,
          99.06838519334536,
          99.11905409682686,
          99.168331321926,
          99.21930334959305,
          99.24627034823911,
          99.27442531011303,
          99.30355626192983,
          99.34747184476154,
          99.37259267331747,
          99.37273493861956,
          99.34480024837103,
          99.28918179514882,
          99.23615214083905,
          99.17000929065438,
          99.05074173272936,
          98.91333341752019,
          98.79201393819646,
          98.62783112959109,
          98.45951339900068,
          98.29190890990652,
          98.14555516558961,
          97.98317487505646,
          97.8251251741544,
          97.68139351018175,
          97.52255810229923,
          97.36417314546321,
          97.20894577775388,
          97.06058228425701,
          96.92297963546511,
          96.80017908987732,
          96.69648295639773,
          96.61577824389016,
          96.55600196269758,
          96.51366398427977,
          96.60345845028316,
          96.68974631162227,
          96.77142973275724,
          96.85066138593943,
          96.92970542934226,
          97.01041009322252,
          97.09403276780716,
          97.18122817675057,
          97.2724653812267,
          97.36823666617369,
          97.46895915310174,
          97.57478516203082,
          97.6856292969802,
          97.80122672004568,
          97.92117123403112,
          98.04494179251377,
          98.1719223345365,
          98.30149127134744,
          98.43330279496415,
          98.56722595201462
         ],
         "yaxis": "y"
        },
        {
         "hovertemplate": "Country=United States<br>x=%{x}<br>y=%{y}<extra></extra>",
         "legendgroup": "United States",
         "marker": {
          "color": "#EF553B",
          "symbol": "circle"
         },
         "mode": "markers",
         "name": "United States",
         "orientation": "v",
         "showlegend": true,
         "type": "scatter",
         "x": [
          1947,
          1948,
          1949,
          1950,
          1952,
          1957,
          1956,
          1961,
          1962,
          1963,
          1965,
          1967,
          1969,
          1970,
          1971,
          1972,
          1973,
          1974,
          1975,
          1976,
          1977,
          1978,
          1979,
          1980,
          1981,
          1982,
          1983,
          1984,
          1985,
          1986,
          1987,
          1988,
          1989,
          1990,
          1991,
          1992,
          1993,
          1994,
          1995,
          1996,
          1997,
          1998,
          1999,
          2000,
          2001,
          2002,
          2003,
          2004,
          2005,
          2006,
          2007,
          2008,
          2009,
          2010,
          2011,
          2012,
          2013,
          2014,
          2015,
          2016,
          2017,
          2018,
          2019
         ],
         "xaxis": "x",
         "y": [
          71.42857142857143,
          81.81818181818183,
          28.57142857142857,
          0,
          33.33333333333333,
          100,
          100,
          50,
          100,
          100,
          100,
          15.384615384615385,
          0,
          20,
          16.666666666666664,
          0,
          20,
          11.11111111111111,
          22.22222222222222,
          16.666666666666664,
          23.076923076923077,
          26.666666666666668,
          33.33333333333333,
          18.181818181818183,
          9.375,
          8.571428571428571,
          8.333333333333332,
          12.121212121212121,
          16.129032258064516,
          13.793103448275861,
          10.344827586206897,
          10.344827586206897,
          6.666666666666667,
          7.4074074074074066,
          7.142857142857142,
          7.6923076923076925,
          9.523809523809524,
          5.263157894736842,
          5.263157894736842,
          4.761904761904762,
          4.545454545454546,
          4.3478260869565215,
          4.761904761904762,
          4.3478260869565215,
          4,
          4.761904761904762,
          10.526315789473683,
          0,
          0,
          0,
          0,
          0,
          0,
          0,
          0,
          0,
          0,
          0,
          0,
          7.6923076923076925,
          5,
          0,
          0
         ],
         "yaxis": "y"
        },
        {
         "hovertemplate": "<b>LOWESS trendline</b><br><br>Country=United States<br>x=%{x}<br>y=%{y} <b>(trend)</b><extra></extra>",
         "legendgroup": "United States",
         "marker": {
          "color": "#EF553B",
          "symbol": "circle"
         },
         "mode": "lines",
         "name": "United States",
         "showlegend": false,
         "type": "scatter",
         "x": [
          1947,
          1948,
          1949,
          1950,
          1952,
          1956,
          1957,
          1961,
          1962,
          1963,
          1965,
          1967,
          1969,
          1970,
          1971,
          1972,
          1973,
          1974,
          1975,
          1976,
          1977,
          1978,
          1979,
          1980,
          1981,
          1982,
          1983,
          1984,
          1985,
          1986,
          1987,
          1988,
          1989,
          1990,
          1991,
          1992,
          1993,
          1994,
          1995,
          1996,
          1997,
          1998,
          1999,
          2000,
          2001,
          2002,
          2003,
          2004,
          2005,
          2006,
          2007,
          2008,
          2009,
          2010,
          2011,
          2012,
          2013,
          2014,
          2015,
          2016,
          2017,
          2018,
          2019
         ],
         "xaxis": "x",
         "y": [
          70.60793903764743,
          68.94075378650892,
          67.27520768703309,
          65.61137540324958,
          62.28903339227059,
          55.66473238897154,
          54.01194891744535,
          47.39791438529328,
          45.73752154342276,
          44.06953839082528,
          40.69093681847641,
          37.20254755066097,
          33.53635026488573,
          31.67359452451975,
          29.902047514510752,
          28.292259730817683,
          26.705609411055164,
          25.166130602435253,
          23.676511255059058,
          22.24122353241154,
          20.867160599556666,
          19.427959065074575,
          18.047867506068165,
          16.941252257554712,
          15.948980399170942,
          15.032013270825411,
          14.246415368420127,
          13.490544163416892,
          12.758161094956035,
          12.011601891404235,
          11.314108986196755,
          10.636509743041147,
          9.910596337865769,
          9.264558496911361,
          8.638744090179545,
          8.035645049325227,
          7.45841754152479,
          6.909291674095881,
          6.3884831550029375,
          5.893557152269914,
          5.42200305109232,
          4.97054150768034,
          4.539033146979692,
          4.193505960939924,
          3.8832176595870216,
          3.5895509549963744,
          3.302852930402733,
          3.019115042117621,
          2.736539835745133,
          2.454441230821056,
          2.1726958228597484,
          1.8914706990060597,
          1.6110997931650046,
          1.3320182660346624,
          1.0547218953798652,
          0.7797384462266169,
          0.5076053742873885,
          0.2388512297212586,
          -0.026020501501439253,
          -0.2865457131149912,
          -0.5423480627298587,
          -0.7932947912629985,
          -1.0395136424883766
         ],
         "yaxis": "y"
        },
        {
         "hovertemplate": "Country=United Kingdom<br>x=%{x}<br>y=%{y}<extra></extra>",
         "legendgroup": "United Kingdom",
         "marker": {
          "color": "#00cc96",
          "symbol": "circle"
         },
         "mode": "markers",
         "name": "United Kingdom",
         "orientation": "v",
         "showlegend": true,
         "type": "scatter",
         "x": [
          1947,
          1948,
          1949,
          1950,
          1952,
          1957,
          1956,
          1961,
          1962,
          1963,
          1965,
          1967,
          1969,
          1970,
          1971,
          1972,
          1973,
          1974,
          1975,
          1976,
          1977,
          1978,
          1979,
          1980,
          1981,
          1982,
          1983,
          1984,
          1985,
          1986,
          1987,
          1988,
          1989,
          1990,
          1991,
          1992,
          1993,
          1994,
          1995,
          1996,
          1997,
          1998,
          1999,
          2000,
          2001,
          2002,
          2003,
          2004,
          2005,
          2006,
          2007,
          2008,
          2009,
          2010,
          2011,
          2012,
          2013,
          2014,
          2015,
          2016,
          2017,
          2018,
          2019
         ],
         "xaxis": "x",
         "y": [
          57.14285714285714,
          27.27272727272727,
          21.428571428571427,
          0,
          33.33333333333333,
          100,
          0,
          50,
          100,
          100,
          100,
          30.76923076923077,
          0,
          20,
          33.33333333333333,
          60,
          40,
          11.11111111111111,
          22.22222222222222,
          33.33333333333333,
          38.46153846153847,
          40,
          41.66666666666667,
          40.909090909090914,
          33.33333333333333,
          48.57142857142857,
          50,
          54.54545454545454,
          48.38709677419355,
          41.37931034482759,
          48.275862068965516,
          48.275862068965516,
          56.666666666666664,
          59.25925925925925,
          57.14285714285714,
          65.38461538461539,
          57.14285714285714,
          66.66666666666666,
          68.42105263157895,
          76.19047619047619,
          81.81818181818183,
          78.26086956521739,
          80.95238095238095,
          78.26086956521739,
          72,
          76.19047619047619,
          68.42105263157895,
          68.42105263157895,
          80,
          70,
          73.68421052631578,
          76.47058823529412,
          76.47058823529412,
          75,
          82.35294117647058,
          76.47058823529412,
          75,
          80,
          73.33333333333333,
          69.23076923076923,
          80,
          75,
          71.42857142857143
         ],
         "yaxis": "y"
        },
        {
         "hovertemplate": "<b>LOWESS trendline</b><br><br>Country=United Kingdom<br>x=%{x}<br>y=%{y} <b>(trend)</b><extra></extra>",
         "legendgroup": "United Kingdom",
         "marker": {
          "color": "#00cc96",
          "symbol": "circle"
         },
         "mode": "lines",
         "name": "United Kingdom",
         "showlegend": false,
         "type": "scatter",
         "x": [
          1947,
          1948,
          1949,
          1950,
          1952,
          1956,
          1957,
          1961,
          1962,
          1963,
          1965,
          1967,
          1969,
          1970,
          1971,
          1972,
          1973,
          1974,
          1975,
          1976,
          1977,
          1978,
          1979,
          1980,
          1981,
          1982,
          1983,
          1984,
          1985,
          1986,
          1987,
          1988,
          1989,
          1990,
          1991,
          1992,
          1993,
          1994,
          1995,
          1996,
          1997,
          1998,
          1999,
          2000,
          2001,
          2002,
          2003,
          2004,
          2005,
          2006,
          2007,
          2008,
          2009,
          2010,
          2011,
          2012,
          2013,
          2014,
          2015,
          2016,
          2017,
          2018,
          2019
         ],
         "xaxis": "x",
         "y": [
          26.71315236742221,
          27.113013960704578,
          27.51390057326488,
          27.916020726669533,
          28.72641047127912,
          30.388219830080704,
          30.814281560617015,
          32.5660683417909,
          33.01507833966816,
          33.46632260846676,
          34.362649855175654,
          35.209059869985666,
          35.89715400084633,
          36.123409875467324,
          36.25843086217999,
          36.38580203454222,
          36.78139580113551,
          37.316962469575806,
          37.99763463782073,
          38.82072930037039,
          39.771449243579596,
          40.70364344463523,
          41.70361086146032,
          42.94582959645184,
          44.29114517060888,
          45.610356868474994,
          47.12677213733435,
          48.67838874085732,
          50.24397165566861,
          51.762614529898386,
          53.345563118653075,
          54.89582919193494,
          56.47831003340698,
          57.9783345424917,
          59.422629018062686,
          60.8078461474758,
          62.1356787823846,
          63.40874762774385,
          64.63245702841381,
          65.812874516946,
          66.94991517295803,
          68.0381806665862,
          69.0729081522961,
          69.74780316360275,
          70.36180876341226,
          70.94583393870863,
          71.5121886193174,
          72.0633284789953,
          72.59950106227258,
          73.12083892649484,
          73.62740153569516,
          74.11952506927364,
          74.59764320289656,
          75.06210797987804,
          75.51319571596771,
          75.95111593809972,
          76.3758477630773,
          76.78734080137583,
          77.1855893947923,
          77.57052727795448,
          77.94231224019201,
          78.30142670623482,
          78.64832862141783
         ],
         "yaxis": "y"
        }
       ],
       "layout": {
        "height": 360,
        "legend": {
         "title": {
          "text": "Country"
         },
         "tracegroupgap": 0
        },
        "margin": {
         "t": 60
        },
        "template": {
         "data": {
          "bar": [
           {
            "error_x": {
             "color": "#2a3f5f"
            },
            "error_y": {
             "color": "#2a3f5f"
            },
            "marker": {
             "line": {
              "color": "#E5ECF6",
              "width": 0.5
             },
             "pattern": {
              "fillmode": "overlay",
              "size": 10,
              "solidity": 0.2
             }
            },
            "type": "bar"
           }
          ],
          "barpolar": [
           {
            "marker": {
             "line": {
              "color": "#E5ECF6",
              "width": 0.5
             },
             "pattern": {
              "fillmode": "overlay",
              "size": 10,
              "solidity": 0.2
             }
            },
            "type": "barpolar"
           }
          ],
          "carpet": [
           {
            "aaxis": {
             "endlinecolor": "#2a3f5f",
             "gridcolor": "white",
             "linecolor": "white",
             "minorgridcolor": "white",
             "startlinecolor": "#2a3f5f"
            },
            "baxis": {
             "endlinecolor": "#2a3f5f",
             "gridcolor": "white",
             "linecolor": "white",
             "minorgridcolor": "white",
             "startlinecolor": "#2a3f5f"
            },
            "type": "carpet"
           }
          ],
          "choropleth": [
           {
            "colorbar": {
             "outlinewidth": 0,
             "ticks": ""
            },
            "type": "choropleth"
           }
          ],
          "contour": [
           {
            "colorbar": {
             "outlinewidth": 0,
             "ticks": ""
            },
            "colorscale": [
             [
              0,
              "#0d0887"
             ],
             [
              0.1111111111111111,
              "#46039f"
             ],
             [
              0.2222222222222222,
              "#7201a8"
             ],
             [
              0.3333333333333333,
              "#9c179e"
             ],
             [
              0.4444444444444444,
              "#bd3786"
             ],
             [
              0.5555555555555556,
              "#d8576b"
             ],
             [
              0.6666666666666666,
              "#ed7953"
             ],
             [
              0.7777777777777778,
              "#fb9f3a"
             ],
             [
              0.8888888888888888,
              "#fdca26"
             ],
             [
              1,
              "#f0f921"
             ]
            ],
            "type": "contour"
           }
          ],
          "contourcarpet": [
           {
            "colorbar": {
             "outlinewidth": 0,
             "ticks": ""
            },
            "type": "contourcarpet"
           }
          ],
          "heatmap": [
           {
            "colorbar": {
             "outlinewidth": 0,
             "ticks": ""
            },
            "colorscale": [
             [
              0,
              "#0d0887"
             ],
             [
              0.1111111111111111,
              "#46039f"
             ],
             [
              0.2222222222222222,
              "#7201a8"
             ],
             [
              0.3333333333333333,
              "#9c179e"
             ],
             [
              0.4444444444444444,
              "#bd3786"
             ],
             [
              0.5555555555555556,
              "#d8576b"
             ],
             [
              0.6666666666666666,
              "#ed7953"
             ],
             [
              0.7777777777777778,
              "#fb9f3a"
             ],
             [
              0.8888888888888888,
              "#fdca26"
             ],
             [
              1,
              "#f0f921"
             ]
            ],
            "type": "heatmap"
           }
          ],
          "heatmapgl": [
           {
            "colorbar": {
             "outlinewidth": 0,
             "ticks": ""
            },
            "colorscale": [
             [
              0,
              "#0d0887"
             ],
             [
              0.1111111111111111,
              "#46039f"
             ],
             [
              0.2222222222222222,
              "#7201a8"
             ],
             [
              0.3333333333333333,
              "#9c179e"
             ],
             [
              0.4444444444444444,
              "#bd3786"
             ],
             [
              0.5555555555555556,
              "#d8576b"
             ],
             [
              0.6666666666666666,
              "#ed7953"
             ],
             [
              0.7777777777777778,
              "#fb9f3a"
             ],
             [
              0.8888888888888888,
              "#fdca26"
             ],
             [
              1,
              "#f0f921"
             ]
            ],
            "type": "heatmapgl"
           }
          ],
          "histogram": [
           {
            "marker": {
             "pattern": {
              "fillmode": "overlay",
              "size": 10,
              "solidity": 0.2
             }
            },
            "type": "histogram"
           }
          ],
          "histogram2d": [
           {
            "colorbar": {
             "outlinewidth": 0,
             "ticks": ""
            },
            "colorscale": [
             [
              0,
              "#0d0887"
             ],
             [
              0.1111111111111111,
              "#46039f"
             ],
             [
              0.2222222222222222,
              "#7201a8"
             ],
             [
              0.3333333333333333,
              "#9c179e"
             ],
             [
              0.4444444444444444,
              "#bd3786"
             ],
             [
              0.5555555555555556,
              "#d8576b"
             ],
             [
              0.6666666666666666,
              "#ed7953"
             ],
             [
              0.7777777777777778,
              "#fb9f3a"
             ],
             [
              0.8888888888888888,
              "#fdca26"
             ],
             [
              1,
              "#f0f921"
             ]
            ],
            "type": "histogram2d"
           }
          ],
          "histogram2dcontour": [
           {
            "colorbar": {
             "outlinewidth": 0,
             "ticks": ""
            },
            "colorscale": [
             [
              0,
              "#0d0887"
             ],
             [
              0.1111111111111111,
              "#46039f"
             ],
             [
              0.2222222222222222,
              "#7201a8"
             ],
             [
              0.3333333333333333,
              "#9c179e"
             ],
             [
              0.4444444444444444,
              "#bd3786"
             ],
             [
              0.5555555555555556,
              "#d8576b"
             ],
             [
              0.6666666666666666,
              "#ed7953"
             ],
             [
              0.7777777777777778,
              "#fb9f3a"
             ],
             [
              0.8888888888888888,
              "#fdca26"
             ],
             [
              1,
              "#f0f921"
             ]
            ],
            "type": "histogram2dcontour"
           }
          ],
          "mesh3d": [
           {
            "colorbar": {
             "outlinewidth": 0,
             "ticks": ""
            },
            "type": "mesh3d"
           }
          ],
          "parcoords": [
           {
            "line": {
             "colorbar": {
              "outlinewidth": 0,
              "ticks": ""
             }
            },
            "type": "parcoords"
           }
          ],
          "pie": [
           {
            "automargin": true,
            "type": "pie"
           }
          ],
          "scatter": [
           {
            "fillpattern": {
             "fillmode": "overlay",
             "size": 10,
             "solidity": 0.2
            },
            "type": "scatter"
           }
          ],
          "scatter3d": [
           {
            "line": {
             "colorbar": {
              "outlinewidth": 0,
              "ticks": ""
             }
            },
            "marker": {
             "colorbar": {
              "outlinewidth": 0,
              "ticks": ""
             }
            },
            "type": "scatter3d"
           }
          ],
          "scattercarpet": [
           {
            "marker": {
             "colorbar": {
              "outlinewidth": 0,
              "ticks": ""
             }
            },
            "type": "scattercarpet"
           }
          ],
          "scattergeo": [
           {
            "marker": {
             "colorbar": {
              "outlinewidth": 0,
              "ticks": ""
             }
            },
            "type": "scattergeo"
           }
          ],
          "scattergl": [
           {
            "marker": {
             "colorbar": {
              "outlinewidth": 0,
              "ticks": ""
             }
            },
            "type": "scattergl"
           }
          ],
          "scattermapbox": [
           {
            "marker": {
             "colorbar": {
              "outlinewidth": 0,
              "ticks": ""
             }
            },
            "type": "scattermapbox"
           }
          ],
          "scatterpolar": [
           {
            "marker": {
             "colorbar": {
              "outlinewidth": 0,
              "ticks": ""
             }
            },
            "type": "scatterpolar"
           }
          ],
          "scatterpolargl": [
           {
            "marker": {
             "colorbar": {
              "outlinewidth": 0,
              "ticks": ""
             }
            },
            "type": "scatterpolargl"
           }
          ],
          "scatterternary": [
           {
            "marker": {
             "colorbar": {
              "outlinewidth": 0,
              "ticks": ""
             }
            },
            "type": "scatterternary"
           }
          ],
          "surface": [
           {
            "colorbar": {
             "outlinewidth": 0,
             "ticks": ""
            },
            "colorscale": [
             [
              0,
              "#0d0887"
             ],
             [
              0.1111111111111111,
              "#46039f"
             ],
             [
              0.2222222222222222,
              "#7201a8"
             ],
             [
              0.3333333333333333,
              "#9c179e"
             ],
             [
              0.4444444444444444,
              "#bd3786"
             ],
             [
              0.5555555555555556,
              "#d8576b"
             ],
             [
              0.6666666666666666,
              "#ed7953"
             ],
             [
              0.7777777777777778,
              "#fb9f3a"
             ],
             [
              0.8888888888888888,
              "#fdca26"
             ],
             [
              1,
              "#f0f921"
             ]
            ],
            "type": "surface"
           }
          ],
          "table": [
           {
            "cells": {
             "fill": {
              "color": "#EBF0F8"
             },
             "line": {
              "color": "white"
             }
            },
            "header": {
             "fill": {
              "color": "#C8D4E3"
             },
             "line": {
              "color": "white"
             }
            },
            "type": "table"
           }
          ]
         },
         "layout": {
          "annotationdefaults": {
           "arrowcolor": "#2a3f5f",
           "arrowhead": 0,
           "arrowwidth": 1
          },
          "autotypenumbers": "strict",
          "coloraxis": {
           "colorbar": {
            "outlinewidth": 0,
            "ticks": ""
           }
          },
          "colorscale": {
           "diverging": [
            [
             0,
             "#8e0152"
            ],
            [
             0.1,
             "#c51b7d"
            ],
            [
             0.2,
             "#de77ae"
            ],
            [
             0.3,
             "#f1b6da"
            ],
            [
             0.4,
             "#fde0ef"
            ],
            [
             0.5,
             "#f7f7f7"
            ],
            [
             0.6,
             "#e6f5d0"
            ],
            [
             0.7,
             "#b8e186"
            ],
            [
             0.8,
             "#7fbc41"
            ],
            [
             0.9,
             "#4d9221"
            ],
            [
             1,
             "#276419"
            ]
           ],
           "sequential": [
            [
             0,
             "#0d0887"
            ],
            [
             0.1111111111111111,
             "#46039f"
            ],
            [
             0.2222222222222222,
             "#7201a8"
            ],
            [
             0.3333333333333333,
             "#9c179e"
            ],
            [
             0.4444444444444444,
             "#bd3786"
            ],
            [
             0.5555555555555556,
             "#d8576b"
            ],
            [
             0.6666666666666666,
             "#ed7953"
            ],
            [
             0.7777777777777778,
             "#fb9f3a"
            ],
            [
             0.8888888888888888,
             "#fdca26"
            ],
            [
             1,
             "#f0f921"
            ]
           ],
           "sequentialminus": [
            [
             0,
             "#0d0887"
            ],
            [
             0.1111111111111111,
             "#46039f"
            ],
            [
             0.2222222222222222,
             "#7201a8"
            ],
            [
             0.3333333333333333,
             "#9c179e"
            ],
            [
             0.4444444444444444,
             "#bd3786"
            ],
            [
             0.5555555555555556,
             "#d8576b"
            ],
            [
             0.6666666666666666,
             "#ed7953"
            ],
            [
             0.7777777777777778,
             "#fb9f3a"
            ],
            [
             0.8888888888888888,
             "#fdca26"
            ],
            [
             1,
             "#f0f921"
            ]
           ]
          },
          "colorway": [
           "#636efa",
           "#EF553B",
           "#00cc96",
           "#ab63fa",
           "#FFA15A",
           "#19d3f3",
           "#FF6692",
           "#B6E880",
           "#FF97FF",
           "#FECB52"
          ],
          "font": {
           "color": "#2a3f5f"
          },
          "geo": {
           "bgcolor": "white",
           "lakecolor": "white",
           "landcolor": "#E5ECF6",
           "showlakes": true,
           "showland": true,
           "subunitcolor": "white"
          },
          "hoverlabel": {
           "align": "left"
          },
          "hovermode": "closest",
          "mapbox": {
           "style": "light"
          },
          "paper_bgcolor": "white",
          "plot_bgcolor": "#E5ECF6",
          "polar": {
           "angularaxis": {
            "gridcolor": "white",
            "linecolor": "white",
            "ticks": ""
           },
           "bgcolor": "#E5ECF6",
           "radialaxis": {
            "gridcolor": "white",
            "linecolor": "white",
            "ticks": ""
           }
          },
          "scene": {
           "xaxis": {
            "backgroundcolor": "#E5ECF6",
            "gridcolor": "white",
            "gridwidth": 2,
            "linecolor": "white",
            "showbackground": true,
            "ticks": "",
            "zerolinecolor": "white"
           },
           "yaxis": {
            "backgroundcolor": "#E5ECF6",
            "gridcolor": "white",
            "gridwidth": 2,
            "linecolor": "white",
            "showbackground": true,
            "ticks": "",
            "zerolinecolor": "white"
           },
           "zaxis": {
            "backgroundcolor": "#E5ECF6",
            "gridcolor": "white",
            "gridwidth": 2,
            "linecolor": "white",
            "showbackground": true,
            "ticks": "",
            "zerolinecolor": "white"
           }
          },
          "shapedefaults": {
           "line": {
            "color": "#2a3f5f"
           }
          },
          "ternary": {
           "aaxis": {
            "gridcolor": "white",
            "linecolor": "white",
            "ticks": ""
           },
           "baxis": {
            "gridcolor": "white",
            "linecolor": "white",
            "ticks": ""
           },
           "bgcolor": "#E5ECF6",
           "caxis": {
            "gridcolor": "white",
            "linecolor": "white",
            "ticks": ""
           }
          },
          "title": {
           "x": 0.05
          },
          "xaxis": {
           "automargin": true,
           "gridcolor": "white",
           "linecolor": "white",
           "ticks": "",
           "title": {
            "standoff": 15
           },
           "zerolinecolor": "white",
           "zerolinewidth": 2
          },
          "yaxis": {
           "automargin": true,
           "gridcolor": "white",
           "linecolor": "white",
           "ticks": "",
           "title": {
            "standoff": 15
           },
           "zerolinecolor": "white",
           "zerolinewidth": 2
          }
         }
        },
        "title": {
         "text": "Palestinian conflict<br>",
         "x": 0.5,
         "xanchor": "center",
         "y": 0.9,
         "yanchor": "top"
        },
        "xaxis": {
         "anchor": "y",
         "domain": [
          0,
          1
         ],
         "title": {
          "text": "Year"
         }
        },
        "yaxis": {
         "anchor": "x",
         "domain": [
          0,
          1
         ],
         "title": {
          "text": "% Yes"
         }
        }
       }
      },
      "text/html": [
       "<div>                            <div id=\"40ca88b5-3f5b-4510-96f7-49f5a7a7f22a\" class=\"plotly-graph-div\" style=\"height:525px; width:100%;\"></div>            <script type=\"text/javascript\">                require([\"plotly\"], function(Plotly) {                    window.PLOTLYENV=window.PLOTLYENV || {};                                    if (document.getElementById(\"40ca88b5-3f5b-4510-96f7-49f5a7a7f22a\")) {                    Plotly.newPlot(                        \"40ca88b5-3f5b-4510-96f7-49f5a7a7f22a\",                        [{\"hovertemplate\":\"Country=Turkey\\u003cbr\\u003ex=%{x}\\u003cbr\\u003ey=%{y}\\u003cextra\\u003e\\u003c\\u002fextra\\u003e\",\"legendgroup\":\"Turkey\",\"marker\":{\"color\":\"#636efa\",\"symbol\":\"circle\"},\"mode\":\"markers\",\"name\":\"Turkey\",\"orientation\":\"v\",\"showlegend\":true,\"x\":[1947,1948,1949,1950,1952,1957,1956,1961,1962,1963,1965,1967,1969,1970,1971,1972,1973,1974,1975,1976,1977,1978,1979,1980,1981,1982,1983,1984,1985,1986,1987,1988,1989,1990,1991,1992,1993,1994,1995,1996,1997,1998,1999,2000,2001,2002,2003,2004,2005,2006,2007,2008,2009,2010,2011,2012,2013,2014,2015,2016,2017,2018,2019],\"xaxis\":\"x\",\"y\":[14.285714285714285,27.27272727272727,14.285714285714285,0.0,33.33333333333333,100.0,100.0,75.0,100.0,100.0,100.0,30.76923076923077,100.0,100.0,100.0,100.0,100.0,100.0,100.0,91.66666666666666,100.0,100.0,100.0,100.0,96.96969696969697,100.0,100.0,100.0,100.0,100.0,100.0,100.0,100.0,100.0,96.42857142857143,96.15384615384616,90.47619047619048,94.73684210526315,89.47368421052632,90.47619047619048,100.0,95.65217391304348,100.0,95.65217391304348,91.66666666666666,100.0,89.47368421052632,94.73684210526315,100.0,95.0,89.47368421052632,94.11764705882352,100.0,100.0,100.0,100.0,100.0,100.0,100.0,92.3076923076923,95.0,100.0,100.0],\"yaxis\":\"y\",\"type\":\"scatter\"},{\"hovertemplate\":\"\\u003cb\\u003eLOWESS trendline\\u003c\\u002fb\\u003e\\u003cbr\\u003e\\u003cbr\\u003eCountry=Turkey\\u003cbr\\u003ex=%{x}\\u003cbr\\u003ey=%{y} \\u003cb\\u003e(trend)\\u003c\\u002fb\\u003e\\u003cextra\\u003e\\u003c\\u002fextra\\u003e\",\"legendgroup\":\"Turkey\",\"marker\":{\"color\":\"#636efa\",\"symbol\":\"circle\"},\"mode\":\"lines\",\"name\":\"Turkey\",\"showlegend\":false,\"x\":[1947,1948,1949,1950,1952,1956,1957,1961,1962,1963,1965,1967,1969,1970,1971,1972,1973,1974,1975,1976,1977,1978,1979,1980,1981,1982,1983,1984,1985,1986,1987,1988,1989,1990,1991,1992,1993,1994,1995,1996,1997,1998,1999,2000,2001,2002,2003,2004,2005,2006,2007,2008,2009,2010,2011,2012,2013,2014,2015,2016,2017,2018,2019],\"xaxis\":\"x\",\"y\":[98.41932557672824,98.4707296823801,98.52104332642524,98.57020468342566,98.66480367412466,98.8370026629335,98.87601925916721,99.01266395390005,99.04141125974634,99.06838519334536,99.11905409682686,99.168331321926,99.21930334959305,99.24627034823911,99.27442531011303,99.30355626192983,99.34747184476154,99.37259267331747,99.37273493861956,99.34480024837103,99.28918179514882,99.23615214083905,99.17000929065438,99.05074173272936,98.91333341752019,98.79201393819646,98.62783112959109,98.45951339900068,98.29190890990652,98.14555516558961,97.98317487505646,97.8251251741544,97.68139351018175,97.52255810229923,97.36417314546321,97.20894577775388,97.06058228425701,96.92297963546511,96.80017908987732,96.69648295639773,96.61577824389016,96.55600196269758,96.51366398427977,96.60345845028316,96.68974631162227,96.77142973275724,96.85066138593943,96.92970542934226,97.01041009322252,97.09403276780716,97.18122817675057,97.2724653812267,97.36823666617369,97.46895915310174,97.57478516203082,97.6856292969802,97.80122672004568,97.92117123403112,98.04494179251377,98.1719223345365,98.30149127134744,98.43330279496415,98.56722595201462],\"yaxis\":\"y\",\"type\":\"scatter\"},{\"hovertemplate\":\"Country=United States\\u003cbr\\u003ex=%{x}\\u003cbr\\u003ey=%{y}\\u003cextra\\u003e\\u003c\\u002fextra\\u003e\",\"legendgroup\":\"United States\",\"marker\":{\"color\":\"#EF553B\",\"symbol\":\"circle\"},\"mode\":\"markers\",\"name\":\"United States\",\"orientation\":\"v\",\"showlegend\":true,\"x\":[1947,1948,1949,1950,1952,1957,1956,1961,1962,1963,1965,1967,1969,1970,1971,1972,1973,1974,1975,1976,1977,1978,1979,1980,1981,1982,1983,1984,1985,1986,1987,1988,1989,1990,1991,1992,1993,1994,1995,1996,1997,1998,1999,2000,2001,2002,2003,2004,2005,2006,2007,2008,2009,2010,2011,2012,2013,2014,2015,2016,2017,2018,2019],\"xaxis\":\"x\",\"y\":[71.42857142857143,81.81818181818183,28.57142857142857,0.0,33.33333333333333,100.0,100.0,50.0,100.0,100.0,100.0,15.384615384615385,0.0,20.0,16.666666666666664,0.0,20.0,11.11111111111111,22.22222222222222,16.666666666666664,23.076923076923077,26.666666666666668,33.33333333333333,18.181818181818183,9.375,8.571428571428571,8.333333333333332,12.121212121212121,16.129032258064516,13.793103448275861,10.344827586206897,10.344827586206897,6.666666666666667,7.4074074074074066,7.142857142857142,7.6923076923076925,9.523809523809524,5.263157894736842,5.263157894736842,4.761904761904762,4.545454545454546,4.3478260869565215,4.761904761904762,4.3478260869565215,4.0,4.761904761904762,10.526315789473683,0.0,0.0,0.0,0.0,0.0,0.0,0.0,0.0,0.0,0.0,0.0,0.0,7.6923076923076925,5.0,0.0,0.0],\"yaxis\":\"y\",\"type\":\"scatter\"},{\"hovertemplate\":\"\\u003cb\\u003eLOWESS trendline\\u003c\\u002fb\\u003e\\u003cbr\\u003e\\u003cbr\\u003eCountry=United States\\u003cbr\\u003ex=%{x}\\u003cbr\\u003ey=%{y} \\u003cb\\u003e(trend)\\u003c\\u002fb\\u003e\\u003cextra\\u003e\\u003c\\u002fextra\\u003e\",\"legendgroup\":\"United States\",\"marker\":{\"color\":\"#EF553B\",\"symbol\":\"circle\"},\"mode\":\"lines\",\"name\":\"United States\",\"showlegend\":false,\"x\":[1947,1948,1949,1950,1952,1956,1957,1961,1962,1963,1965,1967,1969,1970,1971,1972,1973,1974,1975,1976,1977,1978,1979,1980,1981,1982,1983,1984,1985,1986,1987,1988,1989,1990,1991,1992,1993,1994,1995,1996,1997,1998,1999,2000,2001,2002,2003,2004,2005,2006,2007,2008,2009,2010,2011,2012,2013,2014,2015,2016,2017,2018,2019],\"xaxis\":\"x\",\"y\":[70.60793903764743,68.94075378650892,67.27520768703309,65.61137540324958,62.28903339227059,55.66473238897154,54.01194891744535,47.39791438529328,45.73752154342276,44.06953839082528,40.69093681847641,37.20254755066097,33.53635026488573,31.67359452451975,29.902047514510752,28.292259730817683,26.705609411055164,25.166130602435253,23.676511255059058,22.24122353241154,20.867160599556666,19.427959065074575,18.047867506068165,16.941252257554712,15.948980399170942,15.032013270825411,14.246415368420127,13.490544163416892,12.758161094956035,12.011601891404235,11.314108986196755,10.636509743041147,9.910596337865769,9.264558496911361,8.638744090179545,8.035645049325227,7.45841754152479,6.909291674095881,6.3884831550029375,5.893557152269914,5.42200305109232,4.97054150768034,4.539033146979692,4.193505960939924,3.8832176595870216,3.5895509549963744,3.302852930402733,3.019115042117621,2.736539835745133,2.454441230821056,2.1726958228597484,1.8914706990060597,1.6110997931650046,1.3320182660346624,1.0547218953798652,0.7797384462266169,0.5076053742873885,0.2388512297212586,-0.026020501501439253,-0.2865457131149912,-0.5423480627298587,-0.7932947912629985,-1.0395136424883766],\"yaxis\":\"y\",\"type\":\"scatter\"},{\"hovertemplate\":\"Country=United Kingdom\\u003cbr\\u003ex=%{x}\\u003cbr\\u003ey=%{y}\\u003cextra\\u003e\\u003c\\u002fextra\\u003e\",\"legendgroup\":\"United Kingdom\",\"marker\":{\"color\":\"#00cc96\",\"symbol\":\"circle\"},\"mode\":\"markers\",\"name\":\"United Kingdom\",\"orientation\":\"v\",\"showlegend\":true,\"x\":[1947,1948,1949,1950,1952,1957,1956,1961,1962,1963,1965,1967,1969,1970,1971,1972,1973,1974,1975,1976,1977,1978,1979,1980,1981,1982,1983,1984,1985,1986,1987,1988,1989,1990,1991,1992,1993,1994,1995,1996,1997,1998,1999,2000,2001,2002,2003,2004,2005,2006,2007,2008,2009,2010,2011,2012,2013,2014,2015,2016,2017,2018,2019],\"xaxis\":\"x\",\"y\":[57.14285714285714,27.27272727272727,21.428571428571427,0.0,33.33333333333333,100.0,0.0,50.0,100.0,100.0,100.0,30.76923076923077,0.0,20.0,33.33333333333333,60.0,40.0,11.11111111111111,22.22222222222222,33.33333333333333,38.46153846153847,40.0,41.66666666666667,40.909090909090914,33.33333333333333,48.57142857142857,50.0,54.54545454545454,48.38709677419355,41.37931034482759,48.275862068965516,48.275862068965516,56.666666666666664,59.25925925925925,57.14285714285714,65.38461538461539,57.14285714285714,66.66666666666666,68.42105263157895,76.19047619047619,81.81818181818183,78.26086956521739,80.95238095238095,78.26086956521739,72.0,76.19047619047619,68.42105263157895,68.42105263157895,80.0,70.0,73.68421052631578,76.47058823529412,76.47058823529412,75.0,82.35294117647058,76.47058823529412,75.0,80.0,73.33333333333333,69.23076923076923,80.0,75.0,71.42857142857143],\"yaxis\":\"y\",\"type\":\"scatter\"},{\"hovertemplate\":\"\\u003cb\\u003eLOWESS trendline\\u003c\\u002fb\\u003e\\u003cbr\\u003e\\u003cbr\\u003eCountry=United Kingdom\\u003cbr\\u003ex=%{x}\\u003cbr\\u003ey=%{y} \\u003cb\\u003e(trend)\\u003c\\u002fb\\u003e\\u003cextra\\u003e\\u003c\\u002fextra\\u003e\",\"legendgroup\":\"United Kingdom\",\"marker\":{\"color\":\"#00cc96\",\"symbol\":\"circle\"},\"mode\":\"lines\",\"name\":\"United Kingdom\",\"showlegend\":false,\"x\":[1947,1948,1949,1950,1952,1956,1957,1961,1962,1963,1965,1967,1969,1970,1971,1972,1973,1974,1975,1976,1977,1978,1979,1980,1981,1982,1983,1984,1985,1986,1987,1988,1989,1990,1991,1992,1993,1994,1995,1996,1997,1998,1999,2000,2001,2002,2003,2004,2005,2006,2007,2008,2009,2010,2011,2012,2013,2014,2015,2016,2017,2018,2019],\"xaxis\":\"x\",\"y\":[26.71315236742221,27.113013960704578,27.51390057326488,27.916020726669533,28.72641047127912,30.388219830080704,30.814281560617015,32.5660683417909,33.01507833966816,33.46632260846676,34.362649855175654,35.209059869985666,35.89715400084633,36.123409875467324,36.25843086217999,36.38580203454222,36.78139580113551,37.316962469575806,37.99763463782073,38.82072930037039,39.771449243579596,40.70364344463523,41.70361086146032,42.94582959645184,44.29114517060888,45.610356868474994,47.12677213733435,48.67838874085732,50.24397165566861,51.762614529898386,53.345563118653075,54.89582919193494,56.47831003340698,57.9783345424917,59.422629018062686,60.8078461474758,62.1356787823846,63.40874762774385,64.63245702841381,65.812874516946,66.94991517295803,68.0381806665862,69.0729081522961,69.74780316360275,70.36180876341226,70.94583393870863,71.5121886193174,72.0633284789953,72.59950106227258,73.12083892649484,73.62740153569516,74.11952506927364,74.59764320289656,75.06210797987804,75.51319571596771,75.95111593809972,76.3758477630773,76.78734080137583,77.1855893947923,77.57052727795448,77.94231224019201,78.30142670623482,78.64832862141783],\"yaxis\":\"y\",\"type\":\"scatter\"}],                        {\"template\":{\"data\":{\"histogram2dcontour\":[{\"type\":\"histogram2dcontour\",\"colorbar\":{\"outlinewidth\":0,\"ticks\":\"\"},\"colorscale\":[[0.0,\"#0d0887\"],[0.1111111111111111,\"#46039f\"],[0.2222222222222222,\"#7201a8\"],[0.3333333333333333,\"#9c179e\"],[0.4444444444444444,\"#bd3786\"],[0.5555555555555556,\"#d8576b\"],[0.6666666666666666,\"#ed7953\"],[0.7777777777777778,\"#fb9f3a\"],[0.8888888888888888,\"#fdca26\"],[1.0,\"#f0f921\"]]}],\"choropleth\":[{\"type\":\"choropleth\",\"colorbar\":{\"outlinewidth\":0,\"ticks\":\"\"}}],\"histogram2d\":[{\"type\":\"histogram2d\",\"colorbar\":{\"outlinewidth\":0,\"ticks\":\"\"},\"colorscale\":[[0.0,\"#0d0887\"],[0.1111111111111111,\"#46039f\"],[0.2222222222222222,\"#7201a8\"],[0.3333333333333333,\"#9c179e\"],[0.4444444444444444,\"#bd3786\"],[0.5555555555555556,\"#d8576b\"],[0.6666666666666666,\"#ed7953\"],[0.7777777777777778,\"#fb9f3a\"],[0.8888888888888888,\"#fdca26\"],[1.0,\"#f0f921\"]]}],\"heatmap\":[{\"type\":\"heatmap\",\"colorbar\":{\"outlinewidth\":0,\"ticks\":\"\"},\"colorscale\":[[0.0,\"#0d0887\"],[0.1111111111111111,\"#46039f\"],[0.2222222222222222,\"#7201a8\"],[0.3333333333333333,\"#9c179e\"],[0.4444444444444444,\"#bd3786\"],[0.5555555555555556,\"#d8576b\"],[0.6666666666666666,\"#ed7953\"],[0.7777777777777778,\"#fb9f3a\"],[0.8888888888888888,\"#fdca26\"],[1.0,\"#f0f921\"]]}],\"heatmapgl\":[{\"type\":\"heatmapgl\",\"colorbar\":{\"outlinewidth\":0,\"ticks\":\"\"},\"colorscale\":[[0.0,\"#0d0887\"],[0.1111111111111111,\"#46039f\"],[0.2222222222222222,\"#7201a8\"],[0.3333333333333333,\"#9c179e\"],[0.4444444444444444,\"#bd3786\"],[0.5555555555555556,\"#d8576b\"],[0.6666666666666666,\"#ed7953\"],[0.7777777777777778,\"#fb9f3a\"],[0.8888888888888888,\"#fdca26\"],[1.0,\"#f0f921\"]]}],\"contourcarpet\":[{\"type\":\"contourcarpet\",\"colorbar\":{\"outlinewidth\":0,\"ticks\":\"\"}}],\"contour\":[{\"type\":\"contour\",\"colorbar\":{\"outlinewidth\":0,\"ticks\":\"\"},\"colorscale\":[[0.0,\"#0d0887\"],[0.1111111111111111,\"#46039f\"],[0.2222222222222222,\"#7201a8\"],[0.3333333333333333,\"#9c179e\"],[0.4444444444444444,\"#bd3786\"],[0.5555555555555556,\"#d8576b\"],[0.6666666666666666,\"#ed7953\"],[0.7777777777777778,\"#fb9f3a\"],[0.8888888888888888,\"#fdca26\"],[1.0,\"#f0f921\"]]}],\"surface\":[{\"type\":\"surface\",\"colorbar\":{\"outlinewidth\":0,\"ticks\":\"\"},\"colorscale\":[[0.0,\"#0d0887\"],[0.1111111111111111,\"#46039f\"],[0.2222222222222222,\"#7201a8\"],[0.3333333333333333,\"#9c179e\"],[0.4444444444444444,\"#bd3786\"],[0.5555555555555556,\"#d8576b\"],[0.6666666666666666,\"#ed7953\"],[0.7777777777777778,\"#fb9f3a\"],[0.8888888888888888,\"#fdca26\"],[1.0,\"#f0f921\"]]}],\"mesh3d\":[{\"type\":\"mesh3d\",\"colorbar\":{\"outlinewidth\":0,\"ticks\":\"\"}}],\"scatter\":[{\"fillpattern\":{\"fillmode\":\"overlay\",\"size\":10,\"solidity\":0.2},\"type\":\"scatter\"}],\"parcoords\":[{\"type\":\"parcoords\",\"line\":{\"colorbar\":{\"outlinewidth\":0,\"ticks\":\"\"}}}],\"scatterpolargl\":[{\"type\":\"scatterpolargl\",\"marker\":{\"colorbar\":{\"outlinewidth\":0,\"ticks\":\"\"}}}],\"bar\":[{\"error_x\":{\"color\":\"#2a3f5f\"},\"error_y\":{\"color\":\"#2a3f5f\"},\"marker\":{\"line\":{\"color\":\"#E5ECF6\",\"width\":0.5},\"pattern\":{\"fillmode\":\"overlay\",\"size\":10,\"solidity\":0.2}},\"type\":\"bar\"}],\"scattergeo\":[{\"type\":\"scattergeo\",\"marker\":{\"colorbar\":{\"outlinewidth\":0,\"ticks\":\"\"}}}],\"scatterpolar\":[{\"type\":\"scatterpolar\",\"marker\":{\"colorbar\":{\"outlinewidth\":0,\"ticks\":\"\"}}}],\"histogram\":[{\"marker\":{\"pattern\":{\"fillmode\":\"overlay\",\"size\":10,\"solidity\":0.2}},\"type\":\"histogram\"}],\"scattergl\":[{\"type\":\"scattergl\",\"marker\":{\"colorbar\":{\"outlinewidth\":0,\"ticks\":\"\"}}}],\"scatter3d\":[{\"type\":\"scatter3d\",\"line\":{\"colorbar\":{\"outlinewidth\":0,\"ticks\":\"\"}},\"marker\":{\"colorbar\":{\"outlinewidth\":0,\"ticks\":\"\"}}}],\"scattermapbox\":[{\"type\":\"scattermapbox\",\"marker\":{\"colorbar\":{\"outlinewidth\":0,\"ticks\":\"\"}}}],\"scatterternary\":[{\"type\":\"scatterternary\",\"marker\":{\"colorbar\":{\"outlinewidth\":0,\"ticks\":\"\"}}}],\"scattercarpet\":[{\"type\":\"scattercarpet\",\"marker\":{\"colorbar\":{\"outlinewidth\":0,\"ticks\":\"\"}}}],\"carpet\":[{\"aaxis\":{\"endlinecolor\":\"#2a3f5f\",\"gridcolor\":\"white\",\"linecolor\":\"white\",\"minorgridcolor\":\"white\",\"startlinecolor\":\"#2a3f5f\"},\"baxis\":{\"endlinecolor\":\"#2a3f5f\",\"gridcolor\":\"white\",\"linecolor\":\"white\",\"minorgridcolor\":\"white\",\"startlinecolor\":\"#2a3f5f\"},\"type\":\"carpet\"}],\"table\":[{\"cells\":{\"fill\":{\"color\":\"#EBF0F8\"},\"line\":{\"color\":\"white\"}},\"header\":{\"fill\":{\"color\":\"#C8D4E3\"},\"line\":{\"color\":\"white\"}},\"type\":\"table\"}],\"barpolar\":[{\"marker\":{\"line\":{\"color\":\"#E5ECF6\",\"width\":0.5},\"pattern\":{\"fillmode\":\"overlay\",\"size\":10,\"solidity\":0.2}},\"type\":\"barpolar\"}],\"pie\":[{\"automargin\":true,\"type\":\"pie\"}]},\"layout\":{\"autotypenumbers\":\"strict\",\"colorway\":[\"#636efa\",\"#EF553B\",\"#00cc96\",\"#ab63fa\",\"#FFA15A\",\"#19d3f3\",\"#FF6692\",\"#B6E880\",\"#FF97FF\",\"#FECB52\"],\"font\":{\"color\":\"#2a3f5f\"},\"hovermode\":\"closest\",\"hoverlabel\":{\"align\":\"left\"},\"paper_bgcolor\":\"white\",\"plot_bgcolor\":\"#E5ECF6\",\"polar\":{\"bgcolor\":\"#E5ECF6\",\"angularaxis\":{\"gridcolor\":\"white\",\"linecolor\":\"white\",\"ticks\":\"\"},\"radialaxis\":{\"gridcolor\":\"white\",\"linecolor\":\"white\",\"ticks\":\"\"}},\"ternary\":{\"bgcolor\":\"#E5ECF6\",\"aaxis\":{\"gridcolor\":\"white\",\"linecolor\":\"white\",\"ticks\":\"\"},\"baxis\":{\"gridcolor\":\"white\",\"linecolor\":\"white\",\"ticks\":\"\"},\"caxis\":{\"gridcolor\":\"white\",\"linecolor\":\"white\",\"ticks\":\"\"}},\"coloraxis\":{\"colorbar\":{\"outlinewidth\":0,\"ticks\":\"\"}},\"colorscale\":{\"sequential\":[[0.0,\"#0d0887\"],[0.1111111111111111,\"#46039f\"],[0.2222222222222222,\"#7201a8\"],[0.3333333333333333,\"#9c179e\"],[0.4444444444444444,\"#bd3786\"],[0.5555555555555556,\"#d8576b\"],[0.6666666666666666,\"#ed7953\"],[0.7777777777777778,\"#fb9f3a\"],[0.8888888888888888,\"#fdca26\"],[1.0,\"#f0f921\"]],\"sequentialminus\":[[0.0,\"#0d0887\"],[0.1111111111111111,\"#46039f\"],[0.2222222222222222,\"#7201a8\"],[0.3333333333333333,\"#9c179e\"],[0.4444444444444444,\"#bd3786\"],[0.5555555555555556,\"#d8576b\"],[0.6666666666666666,\"#ed7953\"],[0.7777777777777778,\"#fb9f3a\"],[0.8888888888888888,\"#fdca26\"],[1.0,\"#f0f921\"]],\"diverging\":[[0,\"#8e0152\"],[0.1,\"#c51b7d\"],[0.2,\"#de77ae\"],[0.3,\"#f1b6da\"],[0.4,\"#fde0ef\"],[0.5,\"#f7f7f7\"],[0.6,\"#e6f5d0\"],[0.7,\"#b8e186\"],[0.8,\"#7fbc41\"],[0.9,\"#4d9221\"],[1,\"#276419\"]]},\"xaxis\":{\"gridcolor\":\"white\",\"linecolor\":\"white\",\"ticks\":\"\",\"title\":{\"standoff\":15},\"zerolinecolor\":\"white\",\"automargin\":true,\"zerolinewidth\":2},\"yaxis\":{\"gridcolor\":\"white\",\"linecolor\":\"white\",\"ticks\":\"\",\"title\":{\"standoff\":15},\"zerolinecolor\":\"white\",\"automargin\":true,\"zerolinewidth\":2},\"scene\":{\"xaxis\":{\"backgroundcolor\":\"#E5ECF6\",\"gridcolor\":\"white\",\"linecolor\":\"white\",\"showbackground\":true,\"ticks\":\"\",\"zerolinecolor\":\"white\",\"gridwidth\":2},\"yaxis\":{\"backgroundcolor\":\"#E5ECF6\",\"gridcolor\":\"white\",\"linecolor\":\"white\",\"showbackground\":true,\"ticks\":\"\",\"zerolinecolor\":\"white\",\"gridwidth\":2},\"zaxis\":{\"backgroundcolor\":\"#E5ECF6\",\"gridcolor\":\"white\",\"linecolor\":\"white\",\"showbackground\":true,\"ticks\":\"\",\"zerolinecolor\":\"white\",\"gridwidth\":2}},\"shapedefaults\":{\"line\":{\"color\":\"#2a3f5f\"}},\"annotationdefaults\":{\"arrowcolor\":\"#2a3f5f\",\"arrowhead\":0,\"arrowwidth\":1},\"geo\":{\"bgcolor\":\"white\",\"landcolor\":\"#E5ECF6\",\"subunitcolor\":\"white\",\"showland\":true,\"showlakes\":true,\"lakecolor\":\"white\"},\"title\":{\"x\":0.05},\"mapbox\":{\"style\":\"light\"}}},\"xaxis\":{\"anchor\":\"y\",\"domain\":[0.0,1.0],\"title\":{\"text\":\"Year\"}},\"yaxis\":{\"anchor\":\"x\",\"domain\":[0.0,1.0],\"title\":{\"text\":\"% Yes\"}},\"legend\":{\"title\":{\"text\":\"Country\"},\"tracegroupgap\":0},\"margin\":{\"t\":60},\"title\":{\"text\":\"Palestinian conflict\\u003cbr\\u003e\",\"y\":0.9,\"x\":0.5,\"xanchor\":\"center\",\"yanchor\":\"top\"}},                        {\"responsive\": true}                    ).then(function(){\n",
       "                            \n",
       "var gd = document.getElementById('40ca88b5-3f5b-4510-96f7-49f5a7a7f22a');\n",
       "var x = new MutationObserver(function (mutations, observer) {{\n",
       "        var display = window.getComputedStyle(gd).display;\n",
       "        if (!display || display === 'none') {{\n",
       "            console.log([gd, 'removed!']);\n",
       "            Plotly.purge(gd);\n",
       "            observer.disconnect();\n",
       "        }}\n",
       "}});\n",
       "\n",
       "// Listen for the removal of the full notebook cells\n",
       "var notebookContainer = gd.closest('#notebook-container');\n",
       "if (notebookContainer) {{\n",
       "    x.observe(notebookContainer, {childList: true});\n",
       "}}\n",
       "\n",
       "// Listen for the clearing of the current output cell\n",
       "var outputEl = gd.closest('.output');\n",
       "if (outputEl) {{\n",
       "    x.observe(outputEl, {childList: true});\n",
       "}}\n",
       "\n",
       "                        })                };                });            </script>        </div>"
      ]
     },
     "metadata": {},
     "output_type": "display_data"
    },
    {
     "data": {
      "application/vnd.plotly.v1+json": {
       "config": {
        "plotlyServerURL": "https://plot.ly"
       },
       "data": [
        {
         "hovertemplate": "Country=Turkey<br>x=%{x}<br>y=%{y}<extra></extra>",
         "legendgroup": "Turkey",
         "marker": {
          "color": "#636efa",
          "symbol": "circle"
         },
         "mode": "markers",
         "name": "Turkey",
         "orientation": "v",
         "showlegend": true,
         "type": "scatter",
         "x": [
          1948,
          1949,
          1950,
          1954,
          1956,
          1957,
          1958,
          1959,
          1960,
          1961,
          1962,
          1963,
          1965,
          1966,
          1967,
          1968,
          1969,
          1970,
          1971,
          1972,
          1973,
          1974,
          1975,
          1976,
          1977,
          1979,
          1978,
          1980,
          1981,
          1982,
          1983,
          1984,
          1985,
          1986,
          1987,
          1988,
          1989,
          1990,
          1991,
          1992,
          1993,
          1994,
          1995,
          1996,
          1997,
          1998,
          1999,
          2000,
          2001,
          2002,
          2003,
          2004,
          2005,
          2006,
          2007,
          2008,
          2009,
          2010,
          2011,
          2012,
          2013,
          2014,
          2015,
          2016,
          2017,
          2018,
          2019
         ],
         "xaxis": "x",
         "y": [
          0,
          0,
          100,
          100,
          100,
          60,
          50,
          25,
          33.33333333333333,
          28.57142857142857,
          50,
          0,
          80,
          100,
          66.66666666666666,
          100,
          50,
          80,
          58.333333333333336,
          70,
          57.14285714285714,
          92.85714285714286,
          84.61538461538461,
          80,
          83.33333333333334,
          64.28571428571429,
          71.42857142857143,
          55.55555555555556,
          40.74074074074074,
          44.44444444444444,
          27.77777777777778,
          33.33333333333333,
          52.5,
          55.55555555555556,
          51.85185185185185,
          68.96551724137932,
          68.96551724137932,
          56.25,
          57.14285714285714,
          75,
          72.72727272727273,
          73.33333333333333,
          52.63157894736842,
          52.38095238095239,
          59.09090909090909,
          56.52173913043478,
          63.1578947368421,
          62.5,
          64.70588235294117,
          56.52173913043478,
          56.25,
          65,
          65.21739130434783,
          70.37037037037037,
          60,
          76,
          63.1578947368421,
          69.56521739130434,
          63.63636363636363,
          60.86956521739131,
          52.94117647058824,
          59.09090909090909,
          42.857142857142854,
          65.71428571428571,
          51.724137931034484,
          52.94117647058824,
          37.5
         ],
         "yaxis": "y"
        },
        {
         "hovertemplate": "<b>LOWESS trendline</b><br><br>Country=Turkey<br>x=%{x}<br>y=%{y} <b>(trend)</b><extra></extra>",
         "legendgroup": "Turkey",
         "marker": {
          "color": "#636efa",
          "symbol": "circle"
         },
         "mode": "lines",
         "name": "Turkey",
         "showlegend": false,
         "type": "scatter",
         "x": [
          1948,
          1949,
          1950,
          1954,
          1956,
          1957,
          1958,
          1959,
          1960,
          1961,
          1962,
          1963,
          1965,
          1966,
          1967,
          1968,
          1969,
          1970,
          1971,
          1972,
          1973,
          1974,
          1975,
          1976,
          1977,
          1978,
          1979,
          1980,
          1981,
          1982,
          1983,
          1984,
          1985,
          1986,
          1987,
          1988,
          1989,
          1990,
          1991,
          1992,
          1993,
          1994,
          1995,
          1996,
          1997,
          1998,
          1999,
          2000,
          2001,
          2002,
          2003,
          2004,
          2005,
          2006,
          2007,
          2008,
          2009,
          2010,
          2011,
          2012,
          2013,
          2014,
          2015,
          2016,
          2017,
          2018,
          2019
         ],
         "xaxis": "x",
         "y": [
          43.45786320608398,
          44.43660816887048,
          45.400513884563765,
          49.09212123569166,
          50.82504871599328,
          51.65841922874042,
          52.46702981124991,
          53.24782354605264,
          53.997754298404615,
          54.714885934510605,
          55.398775489113866,
          56.05045265016631,
          57.265604618622056,
          57.834472908635114,
          58.38094351362413,
          58.90754557714584,
          59.41717294181441,
          59.914110599870455,
          60.40643669114812,
          60.90882639229487,
          61.181439668638504,
          61.453928233843655,
          61.72589010435224,
          62.258691503818596,
          62.486566647933394,
          62.86433054531468,
          62.874134382169714,
          62.783109502449115,
          62.61017443732998,
          62.37860762276811,
          62.111784608106326,
          61.82975463125366,
          61.546090034969396,
          61.26754968397478,
          60.99894531640752,
          60.747315910988355,
          60.52511807270361,
          60.34859457511156,
          60.23584126394018,
          60.203307921089944,
          60.25482619140159,
          60.38745163054038,
          60.58668998245827,
          60.83384178538704,
          61.10054190357988,
          61.3521930329367,
          61.33729202882587,
          61.235197851445996,
          61.0834588654574,
          60.90272377035799,
          60.70360082829894,
          60.4922719758428,
          60.272745482653825,
          60.047500046875534,
          59.81790923037939,
          59.584504767711095,
          59.347335851901406,
          59.105845596483256,
          58.85913414827463,
          58.60595830538138,
          58.34490955679398,
          58.07461058228008,
          57.793924077849645,
          57.50191370281368,
          57.19806501942123,
          56.88178605644153,
          56.55269690171565
         ],
         "yaxis": "y"
        },
        {
         "hovertemplate": "Country=United States<br>x=%{x}<br>y=%{y}<extra></extra>",
         "legendgroup": "United States",
         "marker": {
          "color": "#EF553B",
          "symbol": "circle"
         },
         "mode": "markers",
         "name": "United States",
         "orientation": "v",
         "showlegend": true,
         "type": "scatter",
         "x": [
          1948,
          1949,
          1950,
          1954,
          1956,
          1957,
          1958,
          1959,
          1960,
          1961,
          1962,
          1963,
          1965,
          1966,
          1967,
          1968,
          1969,
          1970,
          1971,
          1972,
          1973,
          1974,
          1975,
          1976,
          1977,
          1979,
          1978,
          1980,
          1981,
          1982,
          1983,
          1984,
          1985,
          1986,
          1987,
          1988,
          1989,
          1990,
          1991,
          1992,
          1993,
          1994,
          1995,
          1996,
          1997,
          1998,
          1999,
          2000,
          2001,
          2002,
          2003,
          2004,
          2005,
          2006,
          2007,
          2008,
          2009,
          2010,
          2011,
          2012,
          2013,
          2014,
          2015,
          2016,
          2017,
          2018,
          2019
         ],
         "xaxis": "x",
         "y": [
          0,
          0,
          100,
          100,
          100,
          60,
          50,
          25,
          33.33333333333333,
          28.57142857142857,
          50,
          0,
          80,
          0,
          66.66666666666666,
          100,
          50,
          40,
          33.33333333333333,
          20,
          28.57142857142857,
          64.28571428571429,
          30.76923076923077,
          50,
          83.33333333333334,
          26.666666666666668,
          60,
          22.22222222222222,
          14.285714285714285,
          22.22222222222222,
          13.513513513513514,
          11.76470588235294,
          19.51219512195122,
          22.22222222222222,
          11.11111111111111,
          10,
          17.24137931034483,
          18.75,
          14.285714285714285,
          16.666666666666664,
          18.181818181818183,
          26.666666666666668,
          36.84210526315789,
          33.33333333333333,
          40.909090909090914,
          37.5,
          26.31578947368421,
          31.25,
          23.52941176470588,
          13.043478260869565,
          6.25,
          10,
          13.043478260869565,
          11.11111111111111,
          5,
          24,
          30,
          40.909090909090914,
          41.66666666666667,
          39.130434782608695,
          27.77777777777778,
          36.36363636363637,
          23.809523809523807,
          51.42857142857142,
          27.586206896551722,
          23.52941176470588,
          18.75
         ],
         "yaxis": "y"
        },
        {
         "hovertemplate": "<b>LOWESS trendline</b><br><br>Country=United States<br>x=%{x}<br>y=%{y} <b>(trend)</b><extra></extra>",
         "legendgroup": "United States",
         "marker": {
          "color": "#EF553B",
          "symbol": "circle"
         },
         "mode": "lines",
         "name": "United States",
         "showlegend": false,
         "type": "scatter",
         "x": [
          1948,
          1949,
          1950,
          1954,
          1956,
          1957,
          1958,
          1959,
          1960,
          1961,
          1962,
          1963,
          1965,
          1966,
          1967,
          1968,
          1969,
          1970,
          1971,
          1972,
          1973,
          1974,
          1975,
          1976,
          1977,
          1978,
          1979,
          1980,
          1981,
          1982,
          1983,
          1984,
          1985,
          1986,
          1987,
          1988,
          1989,
          1990,
          1991,
          1992,
          1993,
          1994,
          1995,
          1996,
          1997,
          1998,
          1999,
          2000,
          2001,
          2002,
          2003,
          2004,
          2005,
          2006,
          2007,
          2008,
          2009,
          2010,
          2011,
          2012,
          2013,
          2014,
          2015,
          2016,
          2017,
          2018,
          2019
         ],
         "xaxis": "x",
         "y": [
          65.18690164507875,
          64.01924828164769,
          62.85750600921237,
          58.28154554434594,
          56.03136488178954,
          54.91077254023779,
          53.78891791905327,
          52.66152507097223,
          51.52428932523177,
          50.37382489159834,
          49.20777949998102,
          48.02481088258125,
          45.60584302925057,
          44.37103465054167,
          43.12071754475047,
          41.85795911781073,
          40.58771376984059,
          39.318782455528904,
          38.06810067019103,
          36.869823133476125,
          35.719088618674625,
          34.635119781337764,
          33.62654461110351,
          32.743779332454174,
          31.876706915181003,
          31.07774827134467,
          30.22054115497167,
          29.38480774046743,
          28.58550693156133,
          27.83870926494515,
          27.147851025666437,
          26.504126364926123,
          25.89201333462796,
          25.300667730150135,
          24.717803851632222,
          24.13749714958307,
          23.571181142946283,
          23.03380686226322,
          22.55017301649166,
          22.147351472146145,
          21.851784975414176,
          21.68759666039001,
          21.669734180207083,
          21.801279949976763,
          22.067962811584703,
          22.44521900293573,
          22.968564057770415,
          23.459238631161867,
          23.911402439860925,
          24.329603153914153,
          24.71922242453211,
          25.085363841046494,
          25.432927948406125,
          25.766517252646263,
          26.090393951475004,
          26.40860291029465,
          26.725015997732203,
          27.042915408382502,
          27.36478959504508,
          27.69217031988006,
          28.025721340278153,
          28.365499846167328,
          28.711312005081723,
          29.062676553653976,
          29.419004362729343,
          29.779101327040376,
          30.14176578270531
         ],
         "yaxis": "y"
        },
        {
         "hovertemplate": "Country=United Kingdom<br>x=%{x}<br>y=%{y}<extra></extra>",
         "legendgroup": "United Kingdom",
         "marker": {
          "color": "#00cc96",
          "symbol": "circle"
         },
         "mode": "markers",
         "name": "United Kingdom",
         "orientation": "v",
         "showlegend": true,
         "type": "scatter",
         "x": [
          1948,
          1949,
          1950,
          1954,
          1956,
          1957,
          1958,
          1959,
          1960,
          1961,
          1962,
          1963,
          1965,
          1966,
          1967,
          1968,
          1969,
          1970,
          1971,
          1972,
          1973,
          1974,
          1975,
          1976,
          1977,
          1979,
          1978,
          1980,
          1981,
          1982,
          1983,
          1984,
          1985,
          1986,
          1987,
          1988,
          1989,
          1990,
          1991,
          1992,
          1993,
          1994,
          1995,
          1996,
          1997,
          1998,
          1999,
          2000,
          2001,
          2002,
          2003,
          2004,
          2005,
          2006,
          2007,
          2008,
          2009,
          2010,
          2011,
          2012,
          2013,
          2014,
          2015,
          2016,
          2017,
          2018,
          2019
         ],
         "xaxis": "x",
         "y": [
          0,
          0,
          100,
          100,
          0,
          60,
          50,
          33.33333333333333,
          66.66666666666666,
          28.57142857142857,
          50,
          0,
          80,
          100,
          66.66666666666666,
          100,
          50,
          40,
          33.33333333333333,
          30,
          28.57142857142857,
          57.14285714285714,
          46.15384615384615,
          50,
          83.33333333333334,
          33.33333333333333,
          66.66666666666666,
          22.22222222222222,
          21.428571428571427,
          25.925925925925924,
          13.513513513513514,
          23.52941176470588,
          34.146341463414636,
          36.11111111111111,
          33.33333333333333,
          36.666666666666664,
          37.93103448275862,
          31.25,
          21.428571428571427,
          41.66666666666667,
          54.54545454545454,
          42.857142857142854,
          42.10526315789473,
          61.904761904761905,
          50,
          54.166666666666664,
          47.368421052631575,
          56.25,
          52.94117647058824,
          43.47826086956522,
          37.5,
          45,
          47.82608695652174,
          55.55555555555556,
          35,
          64,
          50,
          47.82608695652174,
          54.166666666666664,
          47.368421052631575,
          44.44444444444444,
          50,
          33.33333333333333,
          54.285714285714285,
          41.37931034482759,
          41.17647058823529,
          31.25
         ],
         "yaxis": "y"
        },
        {
         "hovertemplate": "<b>LOWESS trendline</b><br><br>Country=United Kingdom<br>x=%{x}<br>y=%{y} <b>(trend)</b><extra></extra>",
         "legendgroup": "United Kingdom",
         "marker": {
          "color": "#00cc96",
          "symbol": "circle"
         },
         "mode": "lines",
         "name": "United Kingdom",
         "showlegend": false,
         "type": "scatter",
         "x": [
          1948,
          1949,
          1950,
          1954,
          1956,
          1957,
          1958,
          1959,
          1960,
          1961,
          1962,
          1963,
          1965,
          1966,
          1967,
          1968,
          1969,
          1970,
          1971,
          1972,
          1973,
          1974,
          1975,
          1976,
          1977,
          1978,
          1979,
          1980,
          1981,
          1982,
          1983,
          1984,
          1985,
          1986,
          1987,
          1988,
          1989,
          1990,
          1991,
          1992,
          1993,
          1994,
          1995,
          1996,
          1997,
          1998,
          1999,
          2000,
          2001,
          2002,
          2003,
          2004,
          2005,
          2006,
          2007,
          2008,
          2009,
          2010,
          2011,
          2012,
          2013,
          2014,
          2015,
          2016,
          2017,
          2018,
          2019
         ],
         "xaxis": "x",
         "y": [
          64.60697840530727,
          63.68640157872215,
          62.770763966323415,
          59.14870467760522,
          57.34772042373761,
          56.444438347344715,
          55.53686782135606,
          54.62304629454498,
          53.701600885908235,
          52.77233408504242,
          51.8351505960885,
          50.891263683527455,
          48.9933695302091,
          48.04686022631206,
          47.10787621045877,
          46.1817827460154,
          45.27459776729946,
          44.39377161184507,
          43.548373418113286,
          42.74868401516204,
          42.03210770344756,
          41.3773460132909,
          40.78836208399795,
          40.131532716367154,
          39.637003035471906,
          38.98408861782646,
          38.57718197542359,
          38.26409578221246,
          38.05836078492894,
          37.96342542311715,
          37.9647886743847,
          38.047793226279076,
          38.19533516857444,
          38.397869459142086,
          38.644987880844255,
          38.92922820543515,
          39.25093645207937,
          39.6102470908773,
          40.015340174541365,
          40.47066003496008,
          40.98114882062887,
          41.55050725081361,
          42.173271094403354,
          42.8365043963995,
          43.515964666493694,
          44.18435473396299,
          44.53099032754921,
          44.807398035834076,
          45.046930046643105,
          45.2638522981279,
          45.4630605227298,
          45.64654740912188,
          45.81567891102472,
          45.97148645542446,
          46.11464398677857,
          46.245492694366845,
          46.36442738897709,
          46.47137643086676,
          46.56604555788621,
          46.648042714336725,
          46.716781668263586,
          46.77167800903975,
          46.812241740447995,
          46.8380451284082,
          46.84900932094975,
          46.844959892940686,
          46.82590730366914
         ],
         "yaxis": "y"
        }
       ],
       "layout": {
        "height": 360,
        "legend": {
         "title": {
          "text": "Country"
         },
         "tracegroupgap": 0
        },
        "margin": {
         "t": 60
        },
        "template": {
         "data": {
          "bar": [
           {
            "error_x": {
             "color": "#2a3f5f"
            },
            "error_y": {
             "color": "#2a3f5f"
            },
            "marker": {
             "line": {
              "color": "#E5ECF6",
              "width": 0.5
             },
             "pattern": {
              "fillmode": "overlay",
              "size": 10,
              "solidity": 0.2
             }
            },
            "type": "bar"
           }
          ],
          "barpolar": [
           {
            "marker": {
             "line": {
              "color": "#E5ECF6",
              "width": 0.5
             },
             "pattern": {
              "fillmode": "overlay",
              "size": 10,
              "solidity": 0.2
             }
            },
            "type": "barpolar"
           }
          ],
          "carpet": [
           {
            "aaxis": {
             "endlinecolor": "#2a3f5f",
             "gridcolor": "white",
             "linecolor": "white",
             "minorgridcolor": "white",
             "startlinecolor": "#2a3f5f"
            },
            "baxis": {
             "endlinecolor": "#2a3f5f",
             "gridcolor": "white",
             "linecolor": "white",
             "minorgridcolor": "white",
             "startlinecolor": "#2a3f5f"
            },
            "type": "carpet"
           }
          ],
          "choropleth": [
           {
            "colorbar": {
             "outlinewidth": 0,
             "ticks": ""
            },
            "type": "choropleth"
           }
          ],
          "contour": [
           {
            "colorbar": {
             "outlinewidth": 0,
             "ticks": ""
            },
            "colorscale": [
             [
              0,
              "#0d0887"
             ],
             [
              0.1111111111111111,
              "#46039f"
             ],
             [
              0.2222222222222222,
              "#7201a8"
             ],
             [
              0.3333333333333333,
              "#9c179e"
             ],
             [
              0.4444444444444444,
              "#bd3786"
             ],
             [
              0.5555555555555556,
              "#d8576b"
             ],
             [
              0.6666666666666666,
              "#ed7953"
             ],
             [
              0.7777777777777778,
              "#fb9f3a"
             ],
             [
              0.8888888888888888,
              "#fdca26"
             ],
             [
              1,
              "#f0f921"
             ]
            ],
            "type": "contour"
           }
          ],
          "contourcarpet": [
           {
            "colorbar": {
             "outlinewidth": 0,
             "ticks": ""
            },
            "type": "contourcarpet"
           }
          ],
          "heatmap": [
           {
            "colorbar": {
             "outlinewidth": 0,
             "ticks": ""
            },
            "colorscale": [
             [
              0,
              "#0d0887"
             ],
             [
              0.1111111111111111,
              "#46039f"
             ],
             [
              0.2222222222222222,
              "#7201a8"
             ],
             [
              0.3333333333333333,
              "#9c179e"
             ],
             [
              0.4444444444444444,
              "#bd3786"
             ],
             [
              0.5555555555555556,
              "#d8576b"
             ],
             [
              0.6666666666666666,
              "#ed7953"
             ],
             [
              0.7777777777777778,
              "#fb9f3a"
             ],
             [
              0.8888888888888888,
              "#fdca26"
             ],
             [
              1,
              "#f0f921"
             ]
            ],
            "type": "heatmap"
           }
          ],
          "heatmapgl": [
           {
            "colorbar": {
             "outlinewidth": 0,
             "ticks": ""
            },
            "colorscale": [
             [
              0,
              "#0d0887"
             ],
             [
              0.1111111111111111,
              "#46039f"
             ],
             [
              0.2222222222222222,
              "#7201a8"
             ],
             [
              0.3333333333333333,
              "#9c179e"
             ],
             [
              0.4444444444444444,
              "#bd3786"
             ],
             [
              0.5555555555555556,
              "#d8576b"
             ],
             [
              0.6666666666666666,
              "#ed7953"
             ],
             [
              0.7777777777777778,
              "#fb9f3a"
             ],
             [
              0.8888888888888888,
              "#fdca26"
             ],
             [
              1,
              "#f0f921"
             ]
            ],
            "type": "heatmapgl"
           }
          ],
          "histogram": [
           {
            "marker": {
             "pattern": {
              "fillmode": "overlay",
              "size": 10,
              "solidity": 0.2
             }
            },
            "type": "histogram"
           }
          ],
          "histogram2d": [
           {
            "colorbar": {
             "outlinewidth": 0,
             "ticks": ""
            },
            "colorscale": [
             [
              0,
              "#0d0887"
             ],
             [
              0.1111111111111111,
              "#46039f"
             ],
             [
              0.2222222222222222,
              "#7201a8"
             ],
             [
              0.3333333333333333,
              "#9c179e"
             ],
             [
              0.4444444444444444,
              "#bd3786"
             ],
             [
              0.5555555555555556,
              "#d8576b"
             ],
             [
              0.6666666666666666,
              "#ed7953"
             ],
             [
              0.7777777777777778,
              "#fb9f3a"
             ],
             [
              0.8888888888888888,
              "#fdca26"
             ],
             [
              1,
              "#f0f921"
             ]
            ],
            "type": "histogram2d"
           }
          ],
          "histogram2dcontour": [
           {
            "colorbar": {
             "outlinewidth": 0,
             "ticks": ""
            },
            "colorscale": [
             [
              0,
              "#0d0887"
             ],
             [
              0.1111111111111111,
              "#46039f"
             ],
             [
              0.2222222222222222,
              "#7201a8"
             ],
             [
              0.3333333333333333,
              "#9c179e"
             ],
             [
              0.4444444444444444,
              "#bd3786"
             ],
             [
              0.5555555555555556,
              "#d8576b"
             ],
             [
              0.6666666666666666,
              "#ed7953"
             ],
             [
              0.7777777777777778,
              "#fb9f3a"
             ],
             [
              0.8888888888888888,
              "#fdca26"
             ],
             [
              1,
              "#f0f921"
             ]
            ],
            "type": "histogram2dcontour"
           }
          ],
          "mesh3d": [
           {
            "colorbar": {
             "outlinewidth": 0,
             "ticks": ""
            },
            "type": "mesh3d"
           }
          ],
          "parcoords": [
           {
            "line": {
             "colorbar": {
              "outlinewidth": 0,
              "ticks": ""
             }
            },
            "type": "parcoords"
           }
          ],
          "pie": [
           {
            "automargin": true,
            "type": "pie"
           }
          ],
          "scatter": [
           {
            "fillpattern": {
             "fillmode": "overlay",
             "size": 10,
             "solidity": 0.2
            },
            "type": "scatter"
           }
          ],
          "scatter3d": [
           {
            "line": {
             "colorbar": {
              "outlinewidth": 0,
              "ticks": ""
             }
            },
            "marker": {
             "colorbar": {
              "outlinewidth": 0,
              "ticks": ""
             }
            },
            "type": "scatter3d"
           }
          ],
          "scattercarpet": [
           {
            "marker": {
             "colorbar": {
              "outlinewidth": 0,
              "ticks": ""
             }
            },
            "type": "scattercarpet"
           }
          ],
          "scattergeo": [
           {
            "marker": {
             "colorbar": {
              "outlinewidth": 0,
              "ticks": ""
             }
            },
            "type": "scattergeo"
           }
          ],
          "scattergl": [
           {
            "marker": {
             "colorbar": {
              "outlinewidth": 0,
              "ticks": ""
             }
            },
            "type": "scattergl"
           }
          ],
          "scattermapbox": [
           {
            "marker": {
             "colorbar": {
              "outlinewidth": 0,
              "ticks": ""
             }
            },
            "type": "scattermapbox"
           }
          ],
          "scatterpolar": [
           {
            "marker": {
             "colorbar": {
              "outlinewidth": 0,
              "ticks": ""
             }
            },
            "type": "scatterpolar"
           }
          ],
          "scatterpolargl": [
           {
            "marker": {
             "colorbar": {
              "outlinewidth": 0,
              "ticks": ""
             }
            },
            "type": "scatterpolargl"
           }
          ],
          "scatterternary": [
           {
            "marker": {
             "colorbar": {
              "outlinewidth": 0,
              "ticks": ""
             }
            },
            "type": "scatterternary"
           }
          ],
          "surface": [
           {
            "colorbar": {
             "outlinewidth": 0,
             "ticks": ""
            },
            "colorscale": [
             [
              0,
              "#0d0887"
             ],
             [
              0.1111111111111111,
              "#46039f"
             ],
             [
              0.2222222222222222,
              "#7201a8"
             ],
             [
              0.3333333333333333,
              "#9c179e"
             ],
             [
              0.4444444444444444,
              "#bd3786"
             ],
             [
              0.5555555555555556,
              "#d8576b"
             ],
             [
              0.6666666666666666,
              "#ed7953"
             ],
             [
              0.7777777777777778,
              "#fb9f3a"
             ],
             [
              0.8888888888888888,
              "#fdca26"
             ],
             [
              1,
              "#f0f921"
             ]
            ],
            "type": "surface"
           }
          ],
          "table": [
           {
            "cells": {
             "fill": {
              "color": "#EBF0F8"
             },
             "line": {
              "color": "white"
             }
            },
            "header": {
             "fill": {
              "color": "#C8D4E3"
             },
             "line": {
              "color": "white"
             }
            },
            "type": "table"
           }
          ]
         },
         "layout": {
          "annotationdefaults": {
           "arrowcolor": "#2a3f5f",
           "arrowhead": 0,
           "arrowwidth": 1
          },
          "autotypenumbers": "strict",
          "coloraxis": {
           "colorbar": {
            "outlinewidth": 0,
            "ticks": ""
           }
          },
          "colorscale": {
           "diverging": [
            [
             0,
             "#8e0152"
            ],
            [
             0.1,
             "#c51b7d"
            ],
            [
             0.2,
             "#de77ae"
            ],
            [
             0.3,
             "#f1b6da"
            ],
            [
             0.4,
             "#fde0ef"
            ],
            [
             0.5,
             "#f7f7f7"
            ],
            [
             0.6,
             "#e6f5d0"
            ],
            [
             0.7,
             "#b8e186"
            ],
            [
             0.8,
             "#7fbc41"
            ],
            [
             0.9,
             "#4d9221"
            ],
            [
             1,
             "#276419"
            ]
           ],
           "sequential": [
            [
             0,
             "#0d0887"
            ],
            [
             0.1111111111111111,
             "#46039f"
            ],
            [
             0.2222222222222222,
             "#7201a8"
            ],
            [
             0.3333333333333333,
             "#9c179e"
            ],
            [
             0.4444444444444444,
             "#bd3786"
            ],
            [
             0.5555555555555556,
             "#d8576b"
            ],
            [
             0.6666666666666666,
             "#ed7953"
            ],
            [
             0.7777777777777778,
             "#fb9f3a"
            ],
            [
             0.8888888888888888,
             "#fdca26"
            ],
            [
             1,
             "#f0f921"
            ]
           ],
           "sequentialminus": [
            [
             0,
             "#0d0887"
            ],
            [
             0.1111111111111111,
             "#46039f"
            ],
            [
             0.2222222222222222,
             "#7201a8"
            ],
            [
             0.3333333333333333,
             "#9c179e"
            ],
            [
             0.4444444444444444,
             "#bd3786"
            ],
            [
             0.5555555555555556,
             "#d8576b"
            ],
            [
             0.6666666666666666,
             "#ed7953"
            ],
            [
             0.7777777777777778,
             "#fb9f3a"
            ],
            [
             0.8888888888888888,
             "#fdca26"
            ],
            [
             1,
             "#f0f921"
            ]
           ]
          },
          "colorway": [
           "#636efa",
           "#EF553B",
           "#00cc96",
           "#ab63fa",
           "#FFA15A",
           "#19d3f3",
           "#FF6692",
           "#B6E880",
           "#FF97FF",
           "#FECB52"
          ],
          "font": {
           "color": "#2a3f5f"
          },
          "geo": {
           "bgcolor": "white",
           "lakecolor": "white",
           "landcolor": "#E5ECF6",
           "showlakes": true,
           "showland": true,
           "subunitcolor": "white"
          },
          "hoverlabel": {
           "align": "left"
          },
          "hovermode": "closest",
          "mapbox": {
           "style": "light"
          },
          "paper_bgcolor": "white",
          "plot_bgcolor": "#E5ECF6",
          "polar": {
           "angularaxis": {
            "gridcolor": "white",
            "linecolor": "white",
            "ticks": ""
           },
           "bgcolor": "#E5ECF6",
           "radialaxis": {
            "gridcolor": "white",
            "linecolor": "white",
            "ticks": ""
           }
          },
          "scene": {
           "xaxis": {
            "backgroundcolor": "#E5ECF6",
            "gridcolor": "white",
            "gridwidth": 2,
            "linecolor": "white",
            "showbackground": true,
            "ticks": "",
            "zerolinecolor": "white"
           },
           "yaxis": {
            "backgroundcolor": "#E5ECF6",
            "gridcolor": "white",
            "gridwidth": 2,
            "linecolor": "white",
            "showbackground": true,
            "ticks": "",
            "zerolinecolor": "white"
           },
           "zaxis": {
            "backgroundcolor": "#E5ECF6",
            "gridcolor": "white",
            "gridwidth": 2,
            "linecolor": "white",
            "showbackground": true,
            "ticks": "",
            "zerolinecolor": "white"
           }
          },
          "shapedefaults": {
           "line": {
            "color": "#2a3f5f"
           }
          },
          "ternary": {
           "aaxis": {
            "gridcolor": "white",
            "linecolor": "white",
            "ticks": ""
           },
           "baxis": {
            "gridcolor": "white",
            "linecolor": "white",
            "ticks": ""
           },
           "bgcolor": "#E5ECF6",
           "caxis": {
            "gridcolor": "white",
            "linecolor": "white",
            "ticks": ""
           }
          },
          "title": {
           "x": 0.05
          },
          "xaxis": {
           "automargin": true,
           "gridcolor": "white",
           "linecolor": "white",
           "ticks": "",
           "title": {
            "standoff": 15
           },
           "zerolinecolor": "white",
           "zerolinewidth": 2
          },
          "yaxis": {
           "automargin": true,
           "gridcolor": "white",
           "linecolor": "white",
           "ticks": "",
           "title": {
            "standoff": 15
           },
           "zerolinecolor": "white",
           "zerolinewidth": 2
          }
         }
        },
        "title": {
         "text": "Arms control and disarmament<br>",
         "x": 0.5,
         "xanchor": "center",
         "y": 0.9,
         "yanchor": "top"
        },
        "xaxis": {
         "anchor": "y",
         "domain": [
          0,
          1
         ],
         "title": {
          "text": "Year"
         }
        },
        "yaxis": {
         "anchor": "x",
         "domain": [
          0,
          1
         ],
         "title": {
          "text": "% Yes"
         }
        }
       }
      },
      "text/html": [
       "<div>                            <div id=\"c129fc2a-fae9-444e-8240-94524b4abb87\" class=\"plotly-graph-div\" style=\"height:525px; width:100%;\"></div>            <script type=\"text/javascript\">                require([\"plotly\"], function(Plotly) {                    window.PLOTLYENV=window.PLOTLYENV || {};                                    if (document.getElementById(\"c129fc2a-fae9-444e-8240-94524b4abb87\")) {                    Plotly.newPlot(                        \"c129fc2a-fae9-444e-8240-94524b4abb87\",                        [{\"hovertemplate\":\"Country=Turkey\\u003cbr\\u003ex=%{x}\\u003cbr\\u003ey=%{y}\\u003cextra\\u003e\\u003c\\u002fextra\\u003e\",\"legendgroup\":\"Turkey\",\"marker\":{\"color\":\"#636efa\",\"symbol\":\"circle\"},\"mode\":\"markers\",\"name\":\"Turkey\",\"orientation\":\"v\",\"showlegend\":true,\"x\":[1948,1949,1950,1954,1956,1957,1958,1959,1960,1961,1962,1963,1965,1966,1967,1968,1969,1970,1971,1972,1973,1974,1975,1976,1977,1979,1978,1980,1981,1982,1983,1984,1985,1986,1987,1988,1989,1990,1991,1992,1993,1994,1995,1996,1997,1998,1999,2000,2001,2002,2003,2004,2005,2006,2007,2008,2009,2010,2011,2012,2013,2014,2015,2016,2017,2018,2019],\"xaxis\":\"x\",\"y\":[0.0,0.0,100.0,100.0,100.0,60.0,50.0,25.0,33.33333333333333,28.57142857142857,50.0,0.0,80.0,100.0,66.66666666666666,100.0,50.0,80.0,58.333333333333336,70.0,57.14285714285714,92.85714285714286,84.61538461538461,80.0,83.33333333333334,64.28571428571429,71.42857142857143,55.55555555555556,40.74074074074074,44.44444444444444,27.77777777777778,33.33333333333333,52.5,55.55555555555556,51.85185185185185,68.96551724137932,68.96551724137932,56.25,57.14285714285714,75.0,72.72727272727273,73.33333333333333,52.63157894736842,52.38095238095239,59.09090909090909,56.52173913043478,63.1578947368421,62.5,64.70588235294117,56.52173913043478,56.25,65.0,65.21739130434783,70.37037037037037,60.0,76.0,63.1578947368421,69.56521739130434,63.63636363636363,60.86956521739131,52.94117647058824,59.09090909090909,42.857142857142854,65.71428571428571,51.724137931034484,52.94117647058824,37.5],\"yaxis\":\"y\",\"type\":\"scatter\"},{\"hovertemplate\":\"\\u003cb\\u003eLOWESS trendline\\u003c\\u002fb\\u003e\\u003cbr\\u003e\\u003cbr\\u003eCountry=Turkey\\u003cbr\\u003ex=%{x}\\u003cbr\\u003ey=%{y} \\u003cb\\u003e(trend)\\u003c\\u002fb\\u003e\\u003cextra\\u003e\\u003c\\u002fextra\\u003e\",\"legendgroup\":\"Turkey\",\"marker\":{\"color\":\"#636efa\",\"symbol\":\"circle\"},\"mode\":\"lines\",\"name\":\"Turkey\",\"showlegend\":false,\"x\":[1948,1949,1950,1954,1956,1957,1958,1959,1960,1961,1962,1963,1965,1966,1967,1968,1969,1970,1971,1972,1973,1974,1975,1976,1977,1978,1979,1980,1981,1982,1983,1984,1985,1986,1987,1988,1989,1990,1991,1992,1993,1994,1995,1996,1997,1998,1999,2000,2001,2002,2003,2004,2005,2006,2007,2008,2009,2010,2011,2012,2013,2014,2015,2016,2017,2018,2019],\"xaxis\":\"x\",\"y\":[43.45786320608398,44.43660816887048,45.400513884563765,49.09212123569166,50.82504871599328,51.65841922874042,52.46702981124991,53.24782354605264,53.997754298404615,54.714885934510605,55.398775489113866,56.05045265016631,57.265604618622056,57.834472908635114,58.38094351362413,58.90754557714584,59.41717294181441,59.914110599870455,60.40643669114812,60.90882639229487,61.181439668638504,61.453928233843655,61.72589010435224,62.258691503818596,62.486566647933394,62.86433054531468,62.874134382169714,62.783109502449115,62.61017443732998,62.37860762276811,62.111784608106326,61.82975463125366,61.546090034969396,61.26754968397478,60.99894531640752,60.747315910988355,60.52511807270361,60.34859457511156,60.23584126394018,60.203307921089944,60.25482619140159,60.38745163054038,60.58668998245827,60.83384178538704,61.10054190357988,61.3521930329367,61.33729202882587,61.235197851445996,61.0834588654574,60.90272377035799,60.70360082829894,60.4922719758428,60.272745482653825,60.047500046875534,59.81790923037939,59.584504767711095,59.347335851901406,59.105845596483256,58.85913414827463,58.60595830538138,58.34490955679398,58.07461058228008,57.793924077849645,57.50191370281368,57.19806501942123,56.88178605644153,56.55269690171565],\"yaxis\":\"y\",\"type\":\"scatter\"},{\"hovertemplate\":\"Country=United States\\u003cbr\\u003ex=%{x}\\u003cbr\\u003ey=%{y}\\u003cextra\\u003e\\u003c\\u002fextra\\u003e\",\"legendgroup\":\"United States\",\"marker\":{\"color\":\"#EF553B\",\"symbol\":\"circle\"},\"mode\":\"markers\",\"name\":\"United States\",\"orientation\":\"v\",\"showlegend\":true,\"x\":[1948,1949,1950,1954,1956,1957,1958,1959,1960,1961,1962,1963,1965,1966,1967,1968,1969,1970,1971,1972,1973,1974,1975,1976,1977,1979,1978,1980,1981,1982,1983,1984,1985,1986,1987,1988,1989,1990,1991,1992,1993,1994,1995,1996,1997,1998,1999,2000,2001,2002,2003,2004,2005,2006,2007,2008,2009,2010,2011,2012,2013,2014,2015,2016,2017,2018,2019],\"xaxis\":\"x\",\"y\":[0.0,0.0,100.0,100.0,100.0,60.0,50.0,25.0,33.33333333333333,28.57142857142857,50.0,0.0,80.0,0.0,66.66666666666666,100.0,50.0,40.0,33.33333333333333,20.0,28.57142857142857,64.28571428571429,30.76923076923077,50.0,83.33333333333334,26.666666666666668,60.0,22.22222222222222,14.285714285714285,22.22222222222222,13.513513513513514,11.76470588235294,19.51219512195122,22.22222222222222,11.11111111111111,10.0,17.24137931034483,18.75,14.285714285714285,16.666666666666664,18.181818181818183,26.666666666666668,36.84210526315789,33.33333333333333,40.909090909090914,37.5,26.31578947368421,31.25,23.52941176470588,13.043478260869565,6.25,10.0,13.043478260869565,11.11111111111111,5.0,24.0,30.0,40.909090909090914,41.66666666666667,39.130434782608695,27.77777777777778,36.36363636363637,23.809523809523807,51.42857142857142,27.586206896551722,23.52941176470588,18.75],\"yaxis\":\"y\",\"type\":\"scatter\"},{\"hovertemplate\":\"\\u003cb\\u003eLOWESS trendline\\u003c\\u002fb\\u003e\\u003cbr\\u003e\\u003cbr\\u003eCountry=United States\\u003cbr\\u003ex=%{x}\\u003cbr\\u003ey=%{y} \\u003cb\\u003e(trend)\\u003c\\u002fb\\u003e\\u003cextra\\u003e\\u003c\\u002fextra\\u003e\",\"legendgroup\":\"United States\",\"marker\":{\"color\":\"#EF553B\",\"symbol\":\"circle\"},\"mode\":\"lines\",\"name\":\"United States\",\"showlegend\":false,\"x\":[1948,1949,1950,1954,1956,1957,1958,1959,1960,1961,1962,1963,1965,1966,1967,1968,1969,1970,1971,1972,1973,1974,1975,1976,1977,1978,1979,1980,1981,1982,1983,1984,1985,1986,1987,1988,1989,1990,1991,1992,1993,1994,1995,1996,1997,1998,1999,2000,2001,2002,2003,2004,2005,2006,2007,2008,2009,2010,2011,2012,2013,2014,2015,2016,2017,2018,2019],\"xaxis\":\"x\",\"y\":[65.18690164507875,64.01924828164769,62.85750600921237,58.28154554434594,56.03136488178954,54.91077254023779,53.78891791905327,52.66152507097223,51.52428932523177,50.37382489159834,49.20777949998102,48.02481088258125,45.60584302925057,44.37103465054167,43.12071754475047,41.85795911781073,40.58771376984059,39.318782455528904,38.06810067019103,36.869823133476125,35.719088618674625,34.635119781337764,33.62654461110351,32.743779332454174,31.876706915181003,31.07774827134467,30.22054115497167,29.38480774046743,28.58550693156133,27.83870926494515,27.147851025666437,26.504126364926123,25.89201333462796,25.300667730150135,24.717803851632222,24.13749714958307,23.571181142946283,23.03380686226322,22.55017301649166,22.147351472146145,21.851784975414176,21.68759666039001,21.669734180207083,21.801279949976763,22.067962811584703,22.44521900293573,22.968564057770415,23.459238631161867,23.911402439860925,24.329603153914153,24.71922242453211,25.085363841046494,25.432927948406125,25.766517252646263,26.090393951475004,26.40860291029465,26.725015997732203,27.042915408382502,27.36478959504508,27.69217031988006,28.025721340278153,28.365499846167328,28.711312005081723,29.062676553653976,29.419004362729343,29.779101327040376,30.14176578270531],\"yaxis\":\"y\",\"type\":\"scatter\"},{\"hovertemplate\":\"Country=United Kingdom\\u003cbr\\u003ex=%{x}\\u003cbr\\u003ey=%{y}\\u003cextra\\u003e\\u003c\\u002fextra\\u003e\",\"legendgroup\":\"United Kingdom\",\"marker\":{\"color\":\"#00cc96\",\"symbol\":\"circle\"},\"mode\":\"markers\",\"name\":\"United Kingdom\",\"orientation\":\"v\",\"showlegend\":true,\"x\":[1948,1949,1950,1954,1956,1957,1958,1959,1960,1961,1962,1963,1965,1966,1967,1968,1969,1970,1971,1972,1973,1974,1975,1976,1977,1979,1978,1980,1981,1982,1983,1984,1985,1986,1987,1988,1989,1990,1991,1992,1993,1994,1995,1996,1997,1998,1999,2000,2001,2002,2003,2004,2005,2006,2007,2008,2009,2010,2011,2012,2013,2014,2015,2016,2017,2018,2019],\"xaxis\":\"x\",\"y\":[0.0,0.0,100.0,100.0,0.0,60.0,50.0,33.33333333333333,66.66666666666666,28.57142857142857,50.0,0.0,80.0,100.0,66.66666666666666,100.0,50.0,40.0,33.33333333333333,30.0,28.57142857142857,57.14285714285714,46.15384615384615,50.0,83.33333333333334,33.33333333333333,66.66666666666666,22.22222222222222,21.428571428571427,25.925925925925924,13.513513513513514,23.52941176470588,34.146341463414636,36.11111111111111,33.33333333333333,36.666666666666664,37.93103448275862,31.25,21.428571428571427,41.66666666666667,54.54545454545454,42.857142857142854,42.10526315789473,61.904761904761905,50.0,54.166666666666664,47.368421052631575,56.25,52.94117647058824,43.47826086956522,37.5,45.0,47.82608695652174,55.55555555555556,35.0,64.0,50.0,47.82608695652174,54.166666666666664,47.368421052631575,44.44444444444444,50.0,33.33333333333333,54.285714285714285,41.37931034482759,41.17647058823529,31.25],\"yaxis\":\"y\",\"type\":\"scatter\"},{\"hovertemplate\":\"\\u003cb\\u003eLOWESS trendline\\u003c\\u002fb\\u003e\\u003cbr\\u003e\\u003cbr\\u003eCountry=United Kingdom\\u003cbr\\u003ex=%{x}\\u003cbr\\u003ey=%{y} \\u003cb\\u003e(trend)\\u003c\\u002fb\\u003e\\u003cextra\\u003e\\u003c\\u002fextra\\u003e\",\"legendgroup\":\"United Kingdom\",\"marker\":{\"color\":\"#00cc96\",\"symbol\":\"circle\"},\"mode\":\"lines\",\"name\":\"United Kingdom\",\"showlegend\":false,\"x\":[1948,1949,1950,1954,1956,1957,1958,1959,1960,1961,1962,1963,1965,1966,1967,1968,1969,1970,1971,1972,1973,1974,1975,1976,1977,1978,1979,1980,1981,1982,1983,1984,1985,1986,1987,1988,1989,1990,1991,1992,1993,1994,1995,1996,1997,1998,1999,2000,2001,2002,2003,2004,2005,2006,2007,2008,2009,2010,2011,2012,2013,2014,2015,2016,2017,2018,2019],\"xaxis\":\"x\",\"y\":[64.60697840530727,63.68640157872215,62.770763966323415,59.14870467760522,57.34772042373761,56.444438347344715,55.53686782135606,54.62304629454498,53.701600885908235,52.77233408504242,51.8351505960885,50.891263683527455,48.9933695302091,48.04686022631206,47.10787621045877,46.1817827460154,45.27459776729946,44.39377161184507,43.548373418113286,42.74868401516204,42.03210770344756,41.3773460132909,40.78836208399795,40.131532716367154,39.637003035471906,38.98408861782646,38.57718197542359,38.26409578221246,38.05836078492894,37.96342542311715,37.9647886743847,38.047793226279076,38.19533516857444,38.397869459142086,38.644987880844255,38.92922820543515,39.25093645207937,39.6102470908773,40.015340174541365,40.47066003496008,40.98114882062887,41.55050725081361,42.173271094403354,42.8365043963995,43.515964666493694,44.18435473396299,44.53099032754921,44.807398035834076,45.046930046643105,45.2638522981279,45.4630605227298,45.64654740912188,45.81567891102472,45.97148645542446,46.11464398677857,46.245492694366845,46.36442738897709,46.47137643086676,46.56604555788621,46.648042714336725,46.716781668263586,46.77167800903975,46.812241740447995,46.8380451284082,46.84900932094975,46.844959892940686,46.82590730366914],\"yaxis\":\"y\",\"type\":\"scatter\"}],                        {\"template\":{\"data\":{\"histogram2dcontour\":[{\"type\":\"histogram2dcontour\",\"colorbar\":{\"outlinewidth\":0,\"ticks\":\"\"},\"colorscale\":[[0.0,\"#0d0887\"],[0.1111111111111111,\"#46039f\"],[0.2222222222222222,\"#7201a8\"],[0.3333333333333333,\"#9c179e\"],[0.4444444444444444,\"#bd3786\"],[0.5555555555555556,\"#d8576b\"],[0.6666666666666666,\"#ed7953\"],[0.7777777777777778,\"#fb9f3a\"],[0.8888888888888888,\"#fdca26\"],[1.0,\"#f0f921\"]]}],\"choropleth\":[{\"type\":\"choropleth\",\"colorbar\":{\"outlinewidth\":0,\"ticks\":\"\"}}],\"histogram2d\":[{\"type\":\"histogram2d\",\"colorbar\":{\"outlinewidth\":0,\"ticks\":\"\"},\"colorscale\":[[0.0,\"#0d0887\"],[0.1111111111111111,\"#46039f\"],[0.2222222222222222,\"#7201a8\"],[0.3333333333333333,\"#9c179e\"],[0.4444444444444444,\"#bd3786\"],[0.5555555555555556,\"#d8576b\"],[0.6666666666666666,\"#ed7953\"],[0.7777777777777778,\"#fb9f3a\"],[0.8888888888888888,\"#fdca26\"],[1.0,\"#f0f921\"]]}],\"heatmap\":[{\"type\":\"heatmap\",\"colorbar\":{\"outlinewidth\":0,\"ticks\":\"\"},\"colorscale\":[[0.0,\"#0d0887\"],[0.1111111111111111,\"#46039f\"],[0.2222222222222222,\"#7201a8\"],[0.3333333333333333,\"#9c179e\"],[0.4444444444444444,\"#bd3786\"],[0.5555555555555556,\"#d8576b\"],[0.6666666666666666,\"#ed7953\"],[0.7777777777777778,\"#fb9f3a\"],[0.8888888888888888,\"#fdca26\"],[1.0,\"#f0f921\"]]}],\"heatmapgl\":[{\"type\":\"heatmapgl\",\"colorbar\":{\"outlinewidth\":0,\"ticks\":\"\"},\"colorscale\":[[0.0,\"#0d0887\"],[0.1111111111111111,\"#46039f\"],[0.2222222222222222,\"#7201a8\"],[0.3333333333333333,\"#9c179e\"],[0.4444444444444444,\"#bd3786\"],[0.5555555555555556,\"#d8576b\"],[0.6666666666666666,\"#ed7953\"],[0.7777777777777778,\"#fb9f3a\"],[0.8888888888888888,\"#fdca26\"],[1.0,\"#f0f921\"]]}],\"contourcarpet\":[{\"type\":\"contourcarpet\",\"colorbar\":{\"outlinewidth\":0,\"ticks\":\"\"}}],\"contour\":[{\"type\":\"contour\",\"colorbar\":{\"outlinewidth\":0,\"ticks\":\"\"},\"colorscale\":[[0.0,\"#0d0887\"],[0.1111111111111111,\"#46039f\"],[0.2222222222222222,\"#7201a8\"],[0.3333333333333333,\"#9c179e\"],[0.4444444444444444,\"#bd3786\"],[0.5555555555555556,\"#d8576b\"],[0.6666666666666666,\"#ed7953\"],[0.7777777777777778,\"#fb9f3a\"],[0.8888888888888888,\"#fdca26\"],[1.0,\"#f0f921\"]]}],\"surface\":[{\"type\":\"surface\",\"colorbar\":{\"outlinewidth\":0,\"ticks\":\"\"},\"colorscale\":[[0.0,\"#0d0887\"],[0.1111111111111111,\"#46039f\"],[0.2222222222222222,\"#7201a8\"],[0.3333333333333333,\"#9c179e\"],[0.4444444444444444,\"#bd3786\"],[0.5555555555555556,\"#d8576b\"],[0.6666666666666666,\"#ed7953\"],[0.7777777777777778,\"#fb9f3a\"],[0.8888888888888888,\"#fdca26\"],[1.0,\"#f0f921\"]]}],\"mesh3d\":[{\"type\":\"mesh3d\",\"colorbar\":{\"outlinewidth\":0,\"ticks\":\"\"}}],\"scatter\":[{\"fillpattern\":{\"fillmode\":\"overlay\",\"size\":10,\"solidity\":0.2},\"type\":\"scatter\"}],\"parcoords\":[{\"type\":\"parcoords\",\"line\":{\"colorbar\":{\"outlinewidth\":0,\"ticks\":\"\"}}}],\"scatterpolargl\":[{\"type\":\"scatterpolargl\",\"marker\":{\"colorbar\":{\"outlinewidth\":0,\"ticks\":\"\"}}}],\"bar\":[{\"error_x\":{\"color\":\"#2a3f5f\"},\"error_y\":{\"color\":\"#2a3f5f\"},\"marker\":{\"line\":{\"color\":\"#E5ECF6\",\"width\":0.5},\"pattern\":{\"fillmode\":\"overlay\",\"size\":10,\"solidity\":0.2}},\"type\":\"bar\"}],\"scattergeo\":[{\"type\":\"scattergeo\",\"marker\":{\"colorbar\":{\"outlinewidth\":0,\"ticks\":\"\"}}}],\"scatterpolar\":[{\"type\":\"scatterpolar\",\"marker\":{\"colorbar\":{\"outlinewidth\":0,\"ticks\":\"\"}}}],\"histogram\":[{\"marker\":{\"pattern\":{\"fillmode\":\"overlay\",\"size\":10,\"solidity\":0.2}},\"type\":\"histogram\"}],\"scattergl\":[{\"type\":\"scattergl\",\"marker\":{\"colorbar\":{\"outlinewidth\":0,\"ticks\":\"\"}}}],\"scatter3d\":[{\"type\":\"scatter3d\",\"line\":{\"colorbar\":{\"outlinewidth\":0,\"ticks\":\"\"}},\"marker\":{\"colorbar\":{\"outlinewidth\":0,\"ticks\":\"\"}}}],\"scattermapbox\":[{\"type\":\"scattermapbox\",\"marker\":{\"colorbar\":{\"outlinewidth\":0,\"ticks\":\"\"}}}],\"scatterternary\":[{\"type\":\"scatterternary\",\"marker\":{\"colorbar\":{\"outlinewidth\":0,\"ticks\":\"\"}}}],\"scattercarpet\":[{\"type\":\"scattercarpet\",\"marker\":{\"colorbar\":{\"outlinewidth\":0,\"ticks\":\"\"}}}],\"carpet\":[{\"aaxis\":{\"endlinecolor\":\"#2a3f5f\",\"gridcolor\":\"white\",\"linecolor\":\"white\",\"minorgridcolor\":\"white\",\"startlinecolor\":\"#2a3f5f\"},\"baxis\":{\"endlinecolor\":\"#2a3f5f\",\"gridcolor\":\"white\",\"linecolor\":\"white\",\"minorgridcolor\":\"white\",\"startlinecolor\":\"#2a3f5f\"},\"type\":\"carpet\"}],\"table\":[{\"cells\":{\"fill\":{\"color\":\"#EBF0F8\"},\"line\":{\"color\":\"white\"}},\"header\":{\"fill\":{\"color\":\"#C8D4E3\"},\"line\":{\"color\":\"white\"}},\"type\":\"table\"}],\"barpolar\":[{\"marker\":{\"line\":{\"color\":\"#E5ECF6\",\"width\":0.5},\"pattern\":{\"fillmode\":\"overlay\",\"size\":10,\"solidity\":0.2}},\"type\":\"barpolar\"}],\"pie\":[{\"automargin\":true,\"type\":\"pie\"}]},\"layout\":{\"autotypenumbers\":\"strict\",\"colorway\":[\"#636efa\",\"#EF553B\",\"#00cc96\",\"#ab63fa\",\"#FFA15A\",\"#19d3f3\",\"#FF6692\",\"#B6E880\",\"#FF97FF\",\"#FECB52\"],\"font\":{\"color\":\"#2a3f5f\"},\"hovermode\":\"closest\",\"hoverlabel\":{\"align\":\"left\"},\"paper_bgcolor\":\"white\",\"plot_bgcolor\":\"#E5ECF6\",\"polar\":{\"bgcolor\":\"#E5ECF6\",\"angularaxis\":{\"gridcolor\":\"white\",\"linecolor\":\"white\",\"ticks\":\"\"},\"radialaxis\":{\"gridcolor\":\"white\",\"linecolor\":\"white\",\"ticks\":\"\"}},\"ternary\":{\"bgcolor\":\"#E5ECF6\",\"aaxis\":{\"gridcolor\":\"white\",\"linecolor\":\"white\",\"ticks\":\"\"},\"baxis\":{\"gridcolor\":\"white\",\"linecolor\":\"white\",\"ticks\":\"\"},\"caxis\":{\"gridcolor\":\"white\",\"linecolor\":\"white\",\"ticks\":\"\"}},\"coloraxis\":{\"colorbar\":{\"outlinewidth\":0,\"ticks\":\"\"}},\"colorscale\":{\"sequential\":[[0.0,\"#0d0887\"],[0.1111111111111111,\"#46039f\"],[0.2222222222222222,\"#7201a8\"],[0.3333333333333333,\"#9c179e\"],[0.4444444444444444,\"#bd3786\"],[0.5555555555555556,\"#d8576b\"],[0.6666666666666666,\"#ed7953\"],[0.7777777777777778,\"#fb9f3a\"],[0.8888888888888888,\"#fdca26\"],[1.0,\"#f0f921\"]],\"sequentialminus\":[[0.0,\"#0d0887\"],[0.1111111111111111,\"#46039f\"],[0.2222222222222222,\"#7201a8\"],[0.3333333333333333,\"#9c179e\"],[0.4444444444444444,\"#bd3786\"],[0.5555555555555556,\"#d8576b\"],[0.6666666666666666,\"#ed7953\"],[0.7777777777777778,\"#fb9f3a\"],[0.8888888888888888,\"#fdca26\"],[1.0,\"#f0f921\"]],\"diverging\":[[0,\"#8e0152\"],[0.1,\"#c51b7d\"],[0.2,\"#de77ae\"],[0.3,\"#f1b6da\"],[0.4,\"#fde0ef\"],[0.5,\"#f7f7f7\"],[0.6,\"#e6f5d0\"],[0.7,\"#b8e186\"],[0.8,\"#7fbc41\"],[0.9,\"#4d9221\"],[1,\"#276419\"]]},\"xaxis\":{\"gridcolor\":\"white\",\"linecolor\":\"white\",\"ticks\":\"\",\"title\":{\"standoff\":15},\"zerolinecolor\":\"white\",\"automargin\":true,\"zerolinewidth\":2},\"yaxis\":{\"gridcolor\":\"white\",\"linecolor\":\"white\",\"ticks\":\"\",\"title\":{\"standoff\":15},\"zerolinecolor\":\"white\",\"automargin\":true,\"zerolinewidth\":2},\"scene\":{\"xaxis\":{\"backgroundcolor\":\"#E5ECF6\",\"gridcolor\":\"white\",\"linecolor\":\"white\",\"showbackground\":true,\"ticks\":\"\",\"zerolinecolor\":\"white\",\"gridwidth\":2},\"yaxis\":{\"backgroundcolor\":\"#E5ECF6\",\"gridcolor\":\"white\",\"linecolor\":\"white\",\"showbackground\":true,\"ticks\":\"\",\"zerolinecolor\":\"white\",\"gridwidth\":2},\"zaxis\":{\"backgroundcolor\":\"#E5ECF6\",\"gridcolor\":\"white\",\"linecolor\":\"white\",\"showbackground\":true,\"ticks\":\"\",\"zerolinecolor\":\"white\",\"gridwidth\":2}},\"shapedefaults\":{\"line\":{\"color\":\"#2a3f5f\"}},\"annotationdefaults\":{\"arrowcolor\":\"#2a3f5f\",\"arrowhead\":0,\"arrowwidth\":1},\"geo\":{\"bgcolor\":\"white\",\"landcolor\":\"#E5ECF6\",\"subunitcolor\":\"white\",\"showland\":true,\"showlakes\":true,\"lakecolor\":\"white\"},\"title\":{\"x\":0.05},\"mapbox\":{\"style\":\"light\"}}},\"xaxis\":{\"anchor\":\"y\",\"domain\":[0.0,1.0],\"title\":{\"text\":\"Year\"}},\"yaxis\":{\"anchor\":\"x\",\"domain\":[0.0,1.0],\"title\":{\"text\":\"% Yes\"}},\"legend\":{\"title\":{\"text\":\"Country\"},\"tracegroupgap\":0},\"margin\":{\"t\":60},\"title\":{\"text\":\"Arms control and disarmament\\u003cbr\\u003e\",\"y\":0.9,\"x\":0.5,\"xanchor\":\"center\",\"yanchor\":\"top\"}},                        {\"responsive\": true}                    ).then(function(){\n",
       "                            \n",
       "var gd = document.getElementById('c129fc2a-fae9-444e-8240-94524b4abb87');\n",
       "var x = new MutationObserver(function (mutations, observer) {{\n",
       "        var display = window.getComputedStyle(gd).display;\n",
       "        if (!display || display === 'none') {{\n",
       "            console.log([gd, 'removed!']);\n",
       "            Plotly.purge(gd);\n",
       "            observer.disconnect();\n",
       "        }}\n",
       "}});\n",
       "\n",
       "// Listen for the removal of the full notebook cells\n",
       "var notebookContainer = gd.closest('#notebook-container');\n",
       "if (notebookContainer) {{\n",
       "    x.observe(notebookContainer, {childList: true});\n",
       "}}\n",
       "\n",
       "// Listen for the clearing of the current output cell\n",
       "var outputEl = gd.closest('.output');\n",
       "if (outputEl) {{\n",
       "    x.observe(outputEl, {childList: true});\n",
       "}}\n",
       "\n",
       "                        })                };                });            </script>        </div>"
      ]
     },
     "metadata": {},
     "output_type": "display_data"
    },
    {
     "data": {
      "application/vnd.plotly.v1+json": {
       "config": {
        "plotlyServerURL": "https://plot.ly"
       },
       "data": [
        {
         "hovertemplate": "Country=Turkey<br>x=%{x}<br>y=%{y}<extra></extra>",
         "legendgroup": "Turkey",
         "marker": {
          "color": "#636efa",
          "symbol": "circle"
         },
         "mode": "markers",
         "name": "Turkey",
         "orientation": "v",
         "showlegend": true,
         "type": "scatter",
         "x": [
          1948,
          1949,
          1957,
          1958,
          1959,
          1960,
          1961,
          1962,
          1963,
          1965,
          1966,
          1967,
          1968,
          1969,
          1970,
          1971,
          1972,
          1973,
          1974,
          1975,
          1976,
          1977,
          1979,
          1978,
          1980,
          1981,
          1982,
          1983,
          1984,
          1985,
          1986,
          1987,
          1988,
          1989,
          1990,
          1991,
          1992,
          1993,
          1994,
          1995,
          1996,
          1997,
          1998,
          1999,
          2000,
          2001,
          2002,
          2003,
          2004,
          2005,
          2006,
          2007,
          2008,
          2009,
          2010,
          2011,
          2012,
          2013,
          2014,
          2015,
          2016,
          2017,
          2018,
          2019
         ],
         "xaxis": "x",
         "y": [
          0,
          0,
          66.66666666666666,
          50,
          11.11111111111111,
          0,
          25,
          66.66666666666666,
          50,
          100,
          100,
          66.66666666666666,
          100,
          100,
          66.66666666666666,
          40,
          62.5,
          60,
          90.9090909090909,
          75,
          80,
          90,
          64.70588235294117,
          73.33333333333333,
          58.82352941176471,
          52.63157894736842,
          50,
          46.875,
          40,
          44,
          45.83333333333333,
          50,
          57.14285714285714,
          60,
          64.70588235294117,
          45.45454545454545,
          50,
          40,
          50,
          36.36363636363637,
          50,
          53.84615384615385,
          44.44444444444444,
          57.14285714285714,
          64.28571428571429,
          64.28571428571429,
          50,
          46.666666666666664,
          68.75,
          56.25,
          62.5,
          53.333333333333336,
          53.333333333333336,
          64.70588235294117,
          71.42857142857143,
          64.70588235294117,
          61.904761904761905,
          36.36363636363637,
          42.857142857142854,
          31.57894736842105,
          54.166666666666664,
          30.76923076923077,
          37.5,
          29.411764705882355
         ],
         "yaxis": "y"
        },
        {
         "hovertemplate": "<b>LOWESS trendline</b><br><br>Country=Turkey<br>x=%{x}<br>y=%{y} <b>(trend)</b><extra></extra>",
         "legendgroup": "Turkey",
         "marker": {
          "color": "#636efa",
          "symbol": "circle"
         },
         "mode": "lines",
         "name": "Turkey",
         "showlegend": false,
         "type": "scatter",
         "x": [
          1948,
          1949,
          1957,
          1958,
          1959,
          1960,
          1961,
          1962,
          1963,
          1965,
          1966,
          1967,
          1968,
          1969,
          1970,
          1971,
          1972,
          1973,
          1974,
          1975,
          1976,
          1977,
          1978,
          1979,
          1980,
          1981,
          1982,
          1983,
          1984,
          1985,
          1986,
          1987,
          1988,
          1989,
          1990,
          1991,
          1992,
          1993,
          1994,
          1995,
          1996,
          1997,
          1998,
          1999,
          2000,
          2001,
          2002,
          2003,
          2004,
          2005,
          2006,
          2007,
          2008,
          2009,
          2010,
          2011,
          2012,
          2013,
          2014,
          2015,
          2016,
          2017,
          2018,
          2019
         ],
         "xaxis": "x",
         "y": [
          28.165370485110575,
          29.846278453442917,
          42.15420470649569,
          43.575454351296216,
          44.97626585014444,
          46.3573212124928,
          47.72017631640903,
          49.06733738823173,
          50.40201263575533,
          53.042262307308555,
          54.34829641453353,
          55.63906911304788,
          56.900175157618726,
          58.10230611654678,
          59.19329880326761,
          60.09632250318474,
          60.7425135497119,
          60.83724238369351,
          60.842806540117884,
          61.19264785090294,
          61.56805374407297,
          61.882485432615425,
          61.91806942662635,
          61.28165614070409,
          60.50244870406864,
          59.63772722229028,
          58.74373539616186,
          57.869622978213435,
          57.04165197790902,
          56.27754655654064,
          55.580538893998,
          54.94994358440029,
          54.38532108231357,
          53.88785914176556,
          53.46125701686539,
          53.11842301002109,
          52.8801946109854,
          52.76537435817284,
          52.76891577552861,
          52.86852896151606,
          53.029109554911656,
          53.217363237098546,
          53.39672365614693,
          53.5316730648584,
          53.36946475471428,
          53.08252468123012,
          52.74487141286733,
          52.38894582089338,
          52.0274505710538,
          51.66542162912851,
          51.30416874619153,
          50.94339709517717,
          50.58188282095422,
          50.21804404743533,
          49.85001226295255,
          49.475314587355015,
          49.09081074573416,
          48.69291880580066,
          48.27799295628919,
          47.843157319124884,
          47.38631374993525,
          46.90617234017911,
          46.40163666005109,
          45.872411094325294
         ],
         "yaxis": "y"
        },
        {
         "hovertemplate": "Country=United States<br>x=%{x}<br>y=%{y}<extra></extra>",
         "legendgroup": "United States",
         "marker": {
          "color": "#EF553B",
          "symbol": "circle"
         },
         "mode": "markers",
         "name": "United States",
         "orientation": "v",
         "showlegend": true,
         "type": "scatter",
         "x": [
          1948,
          1949,
          1957,
          1958,
          1959,
          1960,
          1961,
          1962,
          1963,
          1965,
          1966,
          1967,
          1968,
          1969,
          1970,
          1971,
          1972,
          1973,
          1974,
          1975,
          1976,
          1977,
          1979,
          1978,
          1980,
          1981,
          1982,
          1983,
          1984,
          1985,
          1986,
          1987,
          1988,
          1989,
          1990,
          1991,
          1992,
          1993,
          1994,
          1995,
          1996,
          1997,
          1998,
          1999,
          2000,
          2001,
          2002,
          2003,
          2004,
          2005,
          2006,
          2007,
          2008,
          2009,
          2010,
          2011,
          2012,
          2013,
          2014,
          2015,
          2016,
          2017,
          2018,
          2019
         ],
         "xaxis": "x",
         "y": [
          0,
          0,
          66.66666666666666,
          50,
          11.11111111111111,
          0,
          25,
          66.66666666666666,
          50,
          100,
          0,
          66.66666666666666,
          80,
          100,
          66.66666666666666,
          0,
          37.5,
          40,
          50,
          33.33333333333333,
          50,
          80,
          27.77777777777778,
          46.666666666666664,
          11.76470588235294,
          5.555555555555555,
          7.6923076923076925,
          12.5,
          12,
          16,
          8.333333333333332,
          10.526315789473683,
          14.285714285714285,
          15,
          17.647058823529413,
          9.090909090909092,
          20,
          20,
          20,
          36.36363636363637,
          41.66666666666667,
          53.84615384615385,
          27.77777777777778,
          23.076923076923077,
          42.857142857142854,
          14.285714285714285,
          0,
          0,
          0,
          0,
          6.25,
          0,
          0,
          21.052631578947366,
          40,
          42.10526315789473,
          33.33333333333333,
          16.666666666666664,
          14.285714285714285,
          15.789473684210526,
          33.33333333333333,
          15.384615384615385,
          6.25,
          5.88235294117647
         ],
         "yaxis": "y"
        },
        {
         "hovertemplate": "<b>LOWESS trendline</b><br><br>Country=United States<br>x=%{x}<br>y=%{y} <b>(trend)</b><extra></extra>",
         "legendgroup": "United States",
         "marker": {
          "color": "#EF553B",
          "symbol": "circle"
         },
         "mode": "lines",
         "name": "United States",
         "showlegend": false,
         "type": "scatter",
         "x": [
          1948,
          1949,
          1957,
          1958,
          1959,
          1960,
          1961,
          1962,
          1963,
          1965,
          1966,
          1967,
          1968,
          1969,
          1970,
          1971,
          1972,
          1973,
          1974,
          1975,
          1976,
          1977,
          1978,
          1979,
          1980,
          1981,
          1982,
          1983,
          1984,
          1985,
          1986,
          1987,
          1988,
          1989,
          1990,
          1991,
          1992,
          1993,
          1994,
          1995,
          1996,
          1997,
          1998,
          1999,
          2000,
          2001,
          2002,
          2003,
          2004,
          2005,
          2006,
          2007,
          2008,
          2009,
          2010,
          2011,
          2012,
          2013,
          2014,
          2015,
          2016,
          2017,
          2018,
          2019
         ],
         "xaxis": "x",
         "y": [
          32.33961808370241,
          32.876449920794286,
          35.9270701036007,
          36.18672411439658,
          36.42688335782064,
          36.64834594336522,
          36.85272181881325,
          37.04286234383811,
          37.221924205773696,
          37.551258843267796,
          37.697710169577014,
          37.82208805768657,
          37.90783836054242,
          37.923284666959084,
          37.81383325570165,
          37.50188471598173,
          36.92121900907493,
          35.925425861125305,
          34.93141967408179,
          34.13425095935429,
          33.37456257541099,
          32.58807986707919,
          31.583984904416795,
          30.32353757730082,
          29.060751249572416,
          27.863476823321157,
          26.780787263438416,
          25.819390687980295,
          24.9505024501091,
          24.140856070752598,
          23.36426596245795,
          22.604030722121703,
          21.853454879047984,
          21.09783090618212,
          20.33894161468429,
          19.606220327242827,
          18.947386437185678,
          18.41817162540044,
          18.047838903678137,
          17.84096628110049,
          17.78676762639074,
          17.867138541511657,
          18.044349621774867,
          18.265875844636962,
          18.389584131749878,
          18.444614471753987,
          18.435752226861815,
          18.374082615204678,
          18.269803121891826,
          18.131845138210885,
          17.968207016147996,
          17.786118647206045,
          17.592032853008842,
          17.391904867095814,
          17.19112699888585,
          16.99382536964221,
          16.802392423219302,
          16.61765547741902,
          16.439435853975695,
          16.267291791440023,
          16.100757370502503,
          15.939149625505875,
          15.781088480808478,
          15.625174827040556
         ],
         "yaxis": "y"
        },
        {
         "hovertemplate": "Country=United Kingdom<br>x=%{x}<br>y=%{y}<extra></extra>",
         "legendgroup": "United Kingdom",
         "marker": {
          "color": "#00cc96",
          "symbol": "circle"
         },
         "mode": "markers",
         "name": "United Kingdom",
         "orientation": "v",
         "showlegend": true,
         "type": "scatter",
         "x": [
          1948,
          1949,
          1957,
          1958,
          1959,
          1960,
          1961,
          1962,
          1963,
          1965,
          1966,
          1967,
          1968,
          1969,
          1970,
          1971,
          1972,
          1973,
          1974,
          1975,
          1976,
          1977,
          1979,
          1978,
          1980,
          1981,
          1982,
          1983,
          1984,
          1985,
          1986,
          1987,
          1988,
          1989,
          1990,
          1991,
          1992,
          1993,
          1994,
          1995,
          1996,
          1997,
          1998,
          1999,
          2000,
          2001,
          2002,
          2003,
          2004,
          2005,
          2006,
          2007,
          2008,
          2009,
          2010,
          2011,
          2012,
          2013,
          2014,
          2015,
          2016,
          2017,
          2018,
          2019
         ],
         "xaxis": "x",
         "y": [
          0,
          0,
          66.66666666666666,
          50,
          11.11111111111111,
          66.66666666666666,
          25,
          66.66666666666666,
          50,
          100,
          100,
          66.66666666666666,
          80,
          100,
          66.66666666666666,
          0,
          37.5,
          40,
          58.333333333333336,
          50,
          50,
          80,
          22.22222222222222,
          53.333333333333336,
          5.88235294117647,
          5.263157894736842,
          11.538461538461538,
          12.5,
          16,
          16,
          12.5,
          21.052631578947366,
          19.047619047619047,
          20,
          17.647058823529413,
          9.090909090909092,
          20,
          20,
          20,
          36.36363636363637,
          50,
          53.84615384615385,
          36.84210526315789,
          30.76923076923077,
          50,
          35.714285714285715,
          35,
          26.666666666666668,
          37.5,
          25,
          37.5,
          26.666666666666668,
          26.666666666666668,
          42.10526315789473,
          42.857142857142854,
          47.368421052631575,
          44.44444444444444,
          25,
          14.285714285714285,
          15.789473684210526,
          25,
          23.076923076923077,
          18.75,
          17.647058823529413
         ],
         "yaxis": "y"
        },
        {
         "hovertemplate": "<b>LOWESS trendline</b><br><br>Country=United Kingdom<br>x=%{x}<br>y=%{y} <b>(trend)</b><extra></extra>",
         "legendgroup": "United Kingdom",
         "marker": {
          "color": "#00cc96",
          "symbol": "circle"
         },
         "mode": "lines",
         "name": "United Kingdom",
         "showlegend": false,
         "type": "scatter",
         "x": [
          1948,
          1949,
          1957,
          1958,
          1959,
          1960,
          1961,
          1962,
          1963,
          1965,
          1966,
          1967,
          1968,
          1969,
          1970,
          1971,
          1972,
          1973,
          1974,
          1975,
          1976,
          1977,
          1978,
          1979,
          1980,
          1981,
          1982,
          1983,
          1984,
          1985,
          1986,
          1987,
          1988,
          1989,
          1990,
          1991,
          1992,
          1993,
          1994,
          1995,
          1996,
          1997,
          1998,
          1999,
          2000,
          2001,
          2002,
          2003,
          2004,
          2005,
          2006,
          2007,
          2008,
          2009,
          2010,
          2011,
          2012,
          2013,
          2014,
          2015,
          2016,
          2017,
          2018,
          2019
         ],
         "xaxis": "x",
         "y": [
          67.5108936874808,
          66.90618411646433,
          60.98279924856713,
          60.11252097112685,
          59.21350991999258,
          58.28594293114828,
          57.33103378623034,
          56.34996015556204,
          55.34469930126656,
          53.267573875168104,
          52.19761232602726,
          51.10577999984363,
          49.98860664511066,
          48.839918724460595,
          47.65069790196969,
          46.411052490863334,
          45.11779409256878,
          43.62746720132267,
          42.178581403335535,
          40.8781886303094,
          39.58677467994851,
          38.21974763628569,
          36.59024019004965,
          34.88745393250131,
          33.23836787581247,
          31.70557287458161,
          30.340740695640896,
          29.181539463013436,
          28.231808853032458,
          27.480996633545633,
          26.910528323462085,
          26.497785401601558,
          26.218043891221477,
          26.045419876746696,
          25.968292907715455,
          25.99552336910261,
          26.147372576044507,
          26.453421230466418,
          26.915563858192993,
          27.506567303601596,
          28.181194795481016,
          28.890425217194476,
          29.585529369096697,
          30.22098944322705,
          30.360421684336337,
          30.397215162376668,
          30.39069298169207,
          30.361841257481267,
          30.316165628485734,
          30.25479069036077,
          30.177608407083515,
          30.084491063700156,
          29.97515948588535,
          29.849488105098953,
          29.707383573349972,
          29.548253937066427,
          29.370923408691475,
          29.173609370704007,
          28.954190259867726,
          28.710975968522373,
          28.443156405922352,
          28.150680231943706,
          27.833853973738673,
          27.49333046722393
         ],
         "yaxis": "y"
        }
       ],
       "layout": {
        "height": 360,
        "legend": {
         "title": {
          "text": "Country"
         },
         "tracegroupgap": 0
        },
        "margin": {
         "t": 60
        },
        "template": {
         "data": {
          "bar": [
           {
            "error_x": {
             "color": "#2a3f5f"
            },
            "error_y": {
             "color": "#2a3f5f"
            },
            "marker": {
             "line": {
              "color": "#E5ECF6",
              "width": 0.5
             },
             "pattern": {
              "fillmode": "overlay",
              "size": 10,
              "solidity": 0.2
             }
            },
            "type": "bar"
           }
          ],
          "barpolar": [
           {
            "marker": {
             "line": {
              "color": "#E5ECF6",
              "width": 0.5
             },
             "pattern": {
              "fillmode": "overlay",
              "size": 10,
              "solidity": 0.2
             }
            },
            "type": "barpolar"
           }
          ],
          "carpet": [
           {
            "aaxis": {
             "endlinecolor": "#2a3f5f",
             "gridcolor": "white",
             "linecolor": "white",
             "minorgridcolor": "white",
             "startlinecolor": "#2a3f5f"
            },
            "baxis": {
             "endlinecolor": "#2a3f5f",
             "gridcolor": "white",
             "linecolor": "white",
             "minorgridcolor": "white",
             "startlinecolor": "#2a3f5f"
            },
            "type": "carpet"
           }
          ],
          "choropleth": [
           {
            "colorbar": {
             "outlinewidth": 0,
             "ticks": ""
            },
            "type": "choropleth"
           }
          ],
          "contour": [
           {
            "colorbar": {
             "outlinewidth": 0,
             "ticks": ""
            },
            "colorscale": [
             [
              0,
              "#0d0887"
             ],
             [
              0.1111111111111111,
              "#46039f"
             ],
             [
              0.2222222222222222,
              "#7201a8"
             ],
             [
              0.3333333333333333,
              "#9c179e"
             ],
             [
              0.4444444444444444,
              "#bd3786"
             ],
             [
              0.5555555555555556,
              "#d8576b"
             ],
             [
              0.6666666666666666,
              "#ed7953"
             ],
             [
              0.7777777777777778,
              "#fb9f3a"
             ],
             [
              0.8888888888888888,
              "#fdca26"
             ],
             [
              1,
              "#f0f921"
             ]
            ],
            "type": "contour"
           }
          ],
          "contourcarpet": [
           {
            "colorbar": {
             "outlinewidth": 0,
             "ticks": ""
            },
            "type": "contourcarpet"
           }
          ],
          "heatmap": [
           {
            "colorbar": {
             "outlinewidth": 0,
             "ticks": ""
            },
            "colorscale": [
             [
              0,
              "#0d0887"
             ],
             [
              0.1111111111111111,
              "#46039f"
             ],
             [
              0.2222222222222222,
              "#7201a8"
             ],
             [
              0.3333333333333333,
              "#9c179e"
             ],
             [
              0.4444444444444444,
              "#bd3786"
             ],
             [
              0.5555555555555556,
              "#d8576b"
             ],
             [
              0.6666666666666666,
              "#ed7953"
             ],
             [
              0.7777777777777778,
              "#fb9f3a"
             ],
             [
              0.8888888888888888,
              "#fdca26"
             ],
             [
              1,
              "#f0f921"
             ]
            ],
            "type": "heatmap"
           }
          ],
          "heatmapgl": [
           {
            "colorbar": {
             "outlinewidth": 0,
             "ticks": ""
            },
            "colorscale": [
             [
              0,
              "#0d0887"
             ],
             [
              0.1111111111111111,
              "#46039f"
             ],
             [
              0.2222222222222222,
              "#7201a8"
             ],
             [
              0.3333333333333333,
              "#9c179e"
             ],
             [
              0.4444444444444444,
              "#bd3786"
             ],
             [
              0.5555555555555556,
              "#d8576b"
             ],
             [
              0.6666666666666666,
              "#ed7953"
             ],
             [
              0.7777777777777778,
              "#fb9f3a"
             ],
             [
              0.8888888888888888,
              "#fdca26"
             ],
             [
              1,
              "#f0f921"
             ]
            ],
            "type": "heatmapgl"
           }
          ],
          "histogram": [
           {
            "marker": {
             "pattern": {
              "fillmode": "overlay",
              "size": 10,
              "solidity": 0.2
             }
            },
            "type": "histogram"
           }
          ],
          "histogram2d": [
           {
            "colorbar": {
             "outlinewidth": 0,
             "ticks": ""
            },
            "colorscale": [
             [
              0,
              "#0d0887"
             ],
             [
              0.1111111111111111,
              "#46039f"
             ],
             [
              0.2222222222222222,
              "#7201a8"
             ],
             [
              0.3333333333333333,
              "#9c179e"
             ],
             [
              0.4444444444444444,
              "#bd3786"
             ],
             [
              0.5555555555555556,
              "#d8576b"
             ],
             [
              0.6666666666666666,
              "#ed7953"
             ],
             [
              0.7777777777777778,
              "#fb9f3a"
             ],
             [
              0.8888888888888888,
              "#fdca26"
             ],
             [
              1,
              "#f0f921"
             ]
            ],
            "type": "histogram2d"
           }
          ],
          "histogram2dcontour": [
           {
            "colorbar": {
             "outlinewidth": 0,
             "ticks": ""
            },
            "colorscale": [
             [
              0,
              "#0d0887"
             ],
             [
              0.1111111111111111,
              "#46039f"
             ],
             [
              0.2222222222222222,
              "#7201a8"
             ],
             [
              0.3333333333333333,
              "#9c179e"
             ],
             [
              0.4444444444444444,
              "#bd3786"
             ],
             [
              0.5555555555555556,
              "#d8576b"
             ],
             [
              0.6666666666666666,
              "#ed7953"
             ],
             [
              0.7777777777777778,
              "#fb9f3a"
             ],
             [
              0.8888888888888888,
              "#fdca26"
             ],
             [
              1,
              "#f0f921"
             ]
            ],
            "type": "histogram2dcontour"
           }
          ],
          "mesh3d": [
           {
            "colorbar": {
             "outlinewidth": 0,
             "ticks": ""
            },
            "type": "mesh3d"
           }
          ],
          "parcoords": [
           {
            "line": {
             "colorbar": {
              "outlinewidth": 0,
              "ticks": ""
             }
            },
            "type": "parcoords"
           }
          ],
          "pie": [
           {
            "automargin": true,
            "type": "pie"
           }
          ],
          "scatter": [
           {
            "fillpattern": {
             "fillmode": "overlay",
             "size": 10,
             "solidity": 0.2
            },
            "type": "scatter"
           }
          ],
          "scatter3d": [
           {
            "line": {
             "colorbar": {
              "outlinewidth": 0,
              "ticks": ""
             }
            },
            "marker": {
             "colorbar": {
              "outlinewidth": 0,
              "ticks": ""
             }
            },
            "type": "scatter3d"
           }
          ],
          "scattercarpet": [
           {
            "marker": {
             "colorbar": {
              "outlinewidth": 0,
              "ticks": ""
             }
            },
            "type": "scattercarpet"
           }
          ],
          "scattergeo": [
           {
            "marker": {
             "colorbar": {
              "outlinewidth": 0,
              "ticks": ""
             }
            },
            "type": "scattergeo"
           }
          ],
          "scattergl": [
           {
            "marker": {
             "colorbar": {
              "outlinewidth": 0,
              "ticks": ""
             }
            },
            "type": "scattergl"
           }
          ],
          "scattermapbox": [
           {
            "marker": {
             "colorbar": {
              "outlinewidth": 0,
              "ticks": ""
             }
            },
            "type": "scattermapbox"
           }
          ],
          "scatterpolar": [
           {
            "marker": {
             "colorbar": {
              "outlinewidth": 0,
              "ticks": ""
             }
            },
            "type": "scatterpolar"
           }
          ],
          "scatterpolargl": [
           {
            "marker": {
             "colorbar": {
              "outlinewidth": 0,
              "ticks": ""
             }
            },
            "type": "scatterpolargl"
           }
          ],
          "scatterternary": [
           {
            "marker": {
             "colorbar": {
              "outlinewidth": 0,
              "ticks": ""
             }
            },
            "type": "scatterternary"
           }
          ],
          "surface": [
           {
            "colorbar": {
             "outlinewidth": 0,
             "ticks": ""
            },
            "colorscale": [
             [
              0,
              "#0d0887"
             ],
             [
              0.1111111111111111,
              "#46039f"
             ],
             [
              0.2222222222222222,
              "#7201a8"
             ],
             [
              0.3333333333333333,
              "#9c179e"
             ],
             [
              0.4444444444444444,
              "#bd3786"
             ],
             [
              0.5555555555555556,
              "#d8576b"
             ],
             [
              0.6666666666666666,
              "#ed7953"
             ],
             [
              0.7777777777777778,
              "#fb9f3a"
             ],
             [
              0.8888888888888888,
              "#fdca26"
             ],
             [
              1,
              "#f0f921"
             ]
            ],
            "type": "surface"
           }
          ],
          "table": [
           {
            "cells": {
             "fill": {
              "color": "#EBF0F8"
             },
             "line": {
              "color": "white"
             }
            },
            "header": {
             "fill": {
              "color": "#C8D4E3"
             },
             "line": {
              "color": "white"
             }
            },
            "type": "table"
           }
          ]
         },
         "layout": {
          "annotationdefaults": {
           "arrowcolor": "#2a3f5f",
           "arrowhead": 0,
           "arrowwidth": 1
          },
          "autotypenumbers": "strict",
          "coloraxis": {
           "colorbar": {
            "outlinewidth": 0,
            "ticks": ""
           }
          },
          "colorscale": {
           "diverging": [
            [
             0,
             "#8e0152"
            ],
            [
             0.1,
             "#c51b7d"
            ],
            [
             0.2,
             "#de77ae"
            ],
            [
             0.3,
             "#f1b6da"
            ],
            [
             0.4,
             "#fde0ef"
            ],
            [
             0.5,
             "#f7f7f7"
            ],
            [
             0.6,
             "#e6f5d0"
            ],
            [
             0.7,
             "#b8e186"
            ],
            [
             0.8,
             "#7fbc41"
            ],
            [
             0.9,
             "#4d9221"
            ],
            [
             1,
             "#276419"
            ]
           ],
           "sequential": [
            [
             0,
             "#0d0887"
            ],
            [
             0.1111111111111111,
             "#46039f"
            ],
            [
             0.2222222222222222,
             "#7201a8"
            ],
            [
             0.3333333333333333,
             "#9c179e"
            ],
            [
             0.4444444444444444,
             "#bd3786"
            ],
            [
             0.5555555555555556,
             "#d8576b"
            ],
            [
             0.6666666666666666,
             "#ed7953"
            ],
            [
             0.7777777777777778,
             "#fb9f3a"
            ],
            [
             0.8888888888888888,
             "#fdca26"
            ],
            [
             1,
             "#f0f921"
            ]
           ],
           "sequentialminus": [
            [
             0,
             "#0d0887"
            ],
            [
             0.1111111111111111,
             "#46039f"
            ],
            [
             0.2222222222222222,
             "#7201a8"
            ],
            [
             0.3333333333333333,
             "#9c179e"
            ],
            [
             0.4444444444444444,
             "#bd3786"
            ],
            [
             0.5555555555555556,
             "#d8576b"
            ],
            [
             0.6666666666666666,
             "#ed7953"
            ],
            [
             0.7777777777777778,
             "#fb9f3a"
            ],
            [
             0.8888888888888888,
             "#fdca26"
            ],
            [
             1,
             "#f0f921"
            ]
           ]
          },
          "colorway": [
           "#636efa",
           "#EF553B",
           "#00cc96",
           "#ab63fa",
           "#FFA15A",
           "#19d3f3",
           "#FF6692",
           "#B6E880",
           "#FF97FF",
           "#FECB52"
          ],
          "font": {
           "color": "#2a3f5f"
          },
          "geo": {
           "bgcolor": "white",
           "lakecolor": "white",
           "landcolor": "#E5ECF6",
           "showlakes": true,
           "showland": true,
           "subunitcolor": "white"
          },
          "hoverlabel": {
           "align": "left"
          },
          "hovermode": "closest",
          "mapbox": {
           "style": "light"
          },
          "paper_bgcolor": "white",
          "plot_bgcolor": "#E5ECF6",
          "polar": {
           "angularaxis": {
            "gridcolor": "white",
            "linecolor": "white",
            "ticks": ""
           },
           "bgcolor": "#E5ECF6",
           "radialaxis": {
            "gridcolor": "white",
            "linecolor": "white",
            "ticks": ""
           }
          },
          "scene": {
           "xaxis": {
            "backgroundcolor": "#E5ECF6",
            "gridcolor": "white",
            "gridwidth": 2,
            "linecolor": "white",
            "showbackground": true,
            "ticks": "",
            "zerolinecolor": "white"
           },
           "yaxis": {
            "backgroundcolor": "#E5ECF6",
            "gridcolor": "white",
            "gridwidth": 2,
            "linecolor": "white",
            "showbackground": true,
            "ticks": "",
            "zerolinecolor": "white"
           },
           "zaxis": {
            "backgroundcolor": "#E5ECF6",
            "gridcolor": "white",
            "gridwidth": 2,
            "linecolor": "white",
            "showbackground": true,
            "ticks": "",
            "zerolinecolor": "white"
           }
          },
          "shapedefaults": {
           "line": {
            "color": "#2a3f5f"
           }
          },
          "ternary": {
           "aaxis": {
            "gridcolor": "white",
            "linecolor": "white",
            "ticks": ""
           },
           "baxis": {
            "gridcolor": "white",
            "linecolor": "white",
            "ticks": ""
           },
           "bgcolor": "#E5ECF6",
           "caxis": {
            "gridcolor": "white",
            "linecolor": "white",
            "ticks": ""
           }
          },
          "title": {
           "x": 0.05
          },
          "xaxis": {
           "automargin": true,
           "gridcolor": "white",
           "linecolor": "white",
           "ticks": "",
           "title": {
            "standoff": 15
           },
           "zerolinecolor": "white",
           "zerolinewidth": 2
          },
          "yaxis": {
           "automargin": true,
           "gridcolor": "white",
           "linecolor": "white",
           "ticks": "",
           "title": {
            "standoff": 15
           },
           "zerolinecolor": "white",
           "zerolinewidth": 2
          }
         }
        },
        "title": {
         "text": "Nuclear weapons and nuclear material<br>",
         "x": 0.5,
         "xanchor": "center",
         "y": 0.9,
         "yanchor": "top"
        },
        "xaxis": {
         "anchor": "y",
         "domain": [
          0,
          1
         ],
         "title": {
          "text": "Year"
         }
        },
        "yaxis": {
         "anchor": "x",
         "domain": [
          0,
          1
         ],
         "title": {
          "text": "% Yes"
         }
        }
       }
      },
      "text/html": [
       "<div>                            <div id=\"9e6343a7-4660-4cc4-ab24-7361f067689e\" class=\"plotly-graph-div\" style=\"height:525px; width:100%;\"></div>            <script type=\"text/javascript\">                require([\"plotly\"], function(Plotly) {                    window.PLOTLYENV=window.PLOTLYENV || {};                                    if (document.getElementById(\"9e6343a7-4660-4cc4-ab24-7361f067689e\")) {                    Plotly.newPlot(                        \"9e6343a7-4660-4cc4-ab24-7361f067689e\",                        [{\"hovertemplate\":\"Country=Turkey\\u003cbr\\u003ex=%{x}\\u003cbr\\u003ey=%{y}\\u003cextra\\u003e\\u003c\\u002fextra\\u003e\",\"legendgroup\":\"Turkey\",\"marker\":{\"color\":\"#636efa\",\"symbol\":\"circle\"},\"mode\":\"markers\",\"name\":\"Turkey\",\"orientation\":\"v\",\"showlegend\":true,\"x\":[1948,1949,1957,1958,1959,1960,1961,1962,1963,1965,1966,1967,1968,1969,1970,1971,1972,1973,1974,1975,1976,1977,1979,1978,1980,1981,1982,1983,1984,1985,1986,1987,1988,1989,1990,1991,1992,1993,1994,1995,1996,1997,1998,1999,2000,2001,2002,2003,2004,2005,2006,2007,2008,2009,2010,2011,2012,2013,2014,2015,2016,2017,2018,2019],\"xaxis\":\"x\",\"y\":[0.0,0.0,66.66666666666666,50.0,11.11111111111111,0.0,25.0,66.66666666666666,50.0,100.0,100.0,66.66666666666666,100.0,100.0,66.66666666666666,40.0,62.5,60.0,90.9090909090909,75.0,80.0,90.0,64.70588235294117,73.33333333333333,58.82352941176471,52.63157894736842,50.0,46.875,40.0,44.0,45.83333333333333,50.0,57.14285714285714,60.0,64.70588235294117,45.45454545454545,50.0,40.0,50.0,36.36363636363637,50.0,53.84615384615385,44.44444444444444,57.14285714285714,64.28571428571429,64.28571428571429,50.0,46.666666666666664,68.75,56.25,62.5,53.333333333333336,53.333333333333336,64.70588235294117,71.42857142857143,64.70588235294117,61.904761904761905,36.36363636363637,42.857142857142854,31.57894736842105,54.166666666666664,30.76923076923077,37.5,29.411764705882355],\"yaxis\":\"y\",\"type\":\"scatter\"},{\"hovertemplate\":\"\\u003cb\\u003eLOWESS trendline\\u003c\\u002fb\\u003e\\u003cbr\\u003e\\u003cbr\\u003eCountry=Turkey\\u003cbr\\u003ex=%{x}\\u003cbr\\u003ey=%{y} \\u003cb\\u003e(trend)\\u003c\\u002fb\\u003e\\u003cextra\\u003e\\u003c\\u002fextra\\u003e\",\"legendgroup\":\"Turkey\",\"marker\":{\"color\":\"#636efa\",\"symbol\":\"circle\"},\"mode\":\"lines\",\"name\":\"Turkey\",\"showlegend\":false,\"x\":[1948,1949,1957,1958,1959,1960,1961,1962,1963,1965,1966,1967,1968,1969,1970,1971,1972,1973,1974,1975,1976,1977,1978,1979,1980,1981,1982,1983,1984,1985,1986,1987,1988,1989,1990,1991,1992,1993,1994,1995,1996,1997,1998,1999,2000,2001,2002,2003,2004,2005,2006,2007,2008,2009,2010,2011,2012,2013,2014,2015,2016,2017,2018,2019],\"xaxis\":\"x\",\"y\":[28.165370485110575,29.846278453442917,42.15420470649569,43.575454351296216,44.97626585014444,46.3573212124928,47.72017631640903,49.06733738823173,50.40201263575533,53.042262307308555,54.34829641453353,55.63906911304788,56.900175157618726,58.10230611654678,59.19329880326761,60.09632250318474,60.7425135497119,60.83724238369351,60.842806540117884,61.19264785090294,61.56805374407297,61.882485432615425,61.91806942662635,61.28165614070409,60.50244870406864,59.63772722229028,58.74373539616186,57.869622978213435,57.04165197790902,56.27754655654064,55.580538893998,54.94994358440029,54.38532108231357,53.88785914176556,53.46125701686539,53.11842301002109,52.8801946109854,52.76537435817284,52.76891577552861,52.86852896151606,53.029109554911656,53.217363237098546,53.39672365614693,53.5316730648584,53.36946475471428,53.08252468123012,52.74487141286733,52.38894582089338,52.0274505710538,51.66542162912851,51.30416874619153,50.94339709517717,50.58188282095422,50.21804404743533,49.85001226295255,49.475314587355015,49.09081074573416,48.69291880580066,48.27799295628919,47.843157319124884,47.38631374993525,46.90617234017911,46.40163666005109,45.872411094325294],\"yaxis\":\"y\",\"type\":\"scatter\"},{\"hovertemplate\":\"Country=United States\\u003cbr\\u003ex=%{x}\\u003cbr\\u003ey=%{y}\\u003cextra\\u003e\\u003c\\u002fextra\\u003e\",\"legendgroup\":\"United States\",\"marker\":{\"color\":\"#EF553B\",\"symbol\":\"circle\"},\"mode\":\"markers\",\"name\":\"United States\",\"orientation\":\"v\",\"showlegend\":true,\"x\":[1948,1949,1957,1958,1959,1960,1961,1962,1963,1965,1966,1967,1968,1969,1970,1971,1972,1973,1974,1975,1976,1977,1979,1978,1980,1981,1982,1983,1984,1985,1986,1987,1988,1989,1990,1991,1992,1993,1994,1995,1996,1997,1998,1999,2000,2001,2002,2003,2004,2005,2006,2007,2008,2009,2010,2011,2012,2013,2014,2015,2016,2017,2018,2019],\"xaxis\":\"x\",\"y\":[0.0,0.0,66.66666666666666,50.0,11.11111111111111,0.0,25.0,66.66666666666666,50.0,100.0,0.0,66.66666666666666,80.0,100.0,66.66666666666666,0.0,37.5,40.0,50.0,33.33333333333333,50.0,80.0,27.77777777777778,46.666666666666664,11.76470588235294,5.555555555555555,7.6923076923076925,12.5,12.0,16.0,8.333333333333332,10.526315789473683,14.285714285714285,15.0,17.647058823529413,9.090909090909092,20.0,20.0,20.0,36.36363636363637,41.66666666666667,53.84615384615385,27.77777777777778,23.076923076923077,42.857142857142854,14.285714285714285,0.0,0.0,0.0,0.0,6.25,0.0,0.0,21.052631578947366,40.0,42.10526315789473,33.33333333333333,16.666666666666664,14.285714285714285,15.789473684210526,33.33333333333333,15.384615384615385,6.25,5.88235294117647],\"yaxis\":\"y\",\"type\":\"scatter\"},{\"hovertemplate\":\"\\u003cb\\u003eLOWESS trendline\\u003c\\u002fb\\u003e\\u003cbr\\u003e\\u003cbr\\u003eCountry=United States\\u003cbr\\u003ex=%{x}\\u003cbr\\u003ey=%{y} \\u003cb\\u003e(trend)\\u003c\\u002fb\\u003e\\u003cextra\\u003e\\u003c\\u002fextra\\u003e\",\"legendgroup\":\"United States\",\"marker\":{\"color\":\"#EF553B\",\"symbol\":\"circle\"},\"mode\":\"lines\",\"name\":\"United States\",\"showlegend\":false,\"x\":[1948,1949,1957,1958,1959,1960,1961,1962,1963,1965,1966,1967,1968,1969,1970,1971,1972,1973,1974,1975,1976,1977,1978,1979,1980,1981,1982,1983,1984,1985,1986,1987,1988,1989,1990,1991,1992,1993,1994,1995,1996,1997,1998,1999,2000,2001,2002,2003,2004,2005,2006,2007,2008,2009,2010,2011,2012,2013,2014,2015,2016,2017,2018,2019],\"xaxis\":\"x\",\"y\":[32.33961808370241,32.876449920794286,35.9270701036007,36.18672411439658,36.42688335782064,36.64834594336522,36.85272181881325,37.04286234383811,37.221924205773696,37.551258843267796,37.697710169577014,37.82208805768657,37.90783836054242,37.923284666959084,37.81383325570165,37.50188471598173,36.92121900907493,35.925425861125305,34.93141967408179,34.13425095935429,33.37456257541099,32.58807986707919,31.583984904416795,30.32353757730082,29.060751249572416,27.863476823321157,26.780787263438416,25.819390687980295,24.9505024501091,24.140856070752598,23.36426596245795,22.604030722121703,21.853454879047984,21.09783090618212,20.33894161468429,19.606220327242827,18.947386437185678,18.41817162540044,18.047838903678137,17.84096628110049,17.78676762639074,17.867138541511657,18.044349621774867,18.265875844636962,18.389584131749878,18.444614471753987,18.435752226861815,18.374082615204678,18.269803121891826,18.131845138210885,17.968207016147996,17.786118647206045,17.592032853008842,17.391904867095814,17.19112699888585,16.99382536964221,16.802392423219302,16.61765547741902,16.439435853975695,16.267291791440023,16.100757370502503,15.939149625505875,15.781088480808478,15.625174827040556],\"yaxis\":\"y\",\"type\":\"scatter\"},{\"hovertemplate\":\"Country=United Kingdom\\u003cbr\\u003ex=%{x}\\u003cbr\\u003ey=%{y}\\u003cextra\\u003e\\u003c\\u002fextra\\u003e\",\"legendgroup\":\"United Kingdom\",\"marker\":{\"color\":\"#00cc96\",\"symbol\":\"circle\"},\"mode\":\"markers\",\"name\":\"United Kingdom\",\"orientation\":\"v\",\"showlegend\":true,\"x\":[1948,1949,1957,1958,1959,1960,1961,1962,1963,1965,1966,1967,1968,1969,1970,1971,1972,1973,1974,1975,1976,1977,1979,1978,1980,1981,1982,1983,1984,1985,1986,1987,1988,1989,1990,1991,1992,1993,1994,1995,1996,1997,1998,1999,2000,2001,2002,2003,2004,2005,2006,2007,2008,2009,2010,2011,2012,2013,2014,2015,2016,2017,2018,2019],\"xaxis\":\"x\",\"y\":[0.0,0.0,66.66666666666666,50.0,11.11111111111111,66.66666666666666,25.0,66.66666666666666,50.0,100.0,100.0,66.66666666666666,80.0,100.0,66.66666666666666,0.0,37.5,40.0,58.333333333333336,50.0,50.0,80.0,22.22222222222222,53.333333333333336,5.88235294117647,5.263157894736842,11.538461538461538,12.5,16.0,16.0,12.5,21.052631578947366,19.047619047619047,20.0,17.647058823529413,9.090909090909092,20.0,20.0,20.0,36.36363636363637,50.0,53.84615384615385,36.84210526315789,30.76923076923077,50.0,35.714285714285715,35.0,26.666666666666668,37.5,25.0,37.5,26.666666666666668,26.666666666666668,42.10526315789473,42.857142857142854,47.368421052631575,44.44444444444444,25.0,14.285714285714285,15.789473684210526,25.0,23.076923076923077,18.75,17.647058823529413],\"yaxis\":\"y\",\"type\":\"scatter\"},{\"hovertemplate\":\"\\u003cb\\u003eLOWESS trendline\\u003c\\u002fb\\u003e\\u003cbr\\u003e\\u003cbr\\u003eCountry=United Kingdom\\u003cbr\\u003ex=%{x}\\u003cbr\\u003ey=%{y} \\u003cb\\u003e(trend)\\u003c\\u002fb\\u003e\\u003cextra\\u003e\\u003c\\u002fextra\\u003e\",\"legendgroup\":\"United Kingdom\",\"marker\":{\"color\":\"#00cc96\",\"symbol\":\"circle\"},\"mode\":\"lines\",\"name\":\"United Kingdom\",\"showlegend\":false,\"x\":[1948,1949,1957,1958,1959,1960,1961,1962,1963,1965,1966,1967,1968,1969,1970,1971,1972,1973,1974,1975,1976,1977,1978,1979,1980,1981,1982,1983,1984,1985,1986,1987,1988,1989,1990,1991,1992,1993,1994,1995,1996,1997,1998,1999,2000,2001,2002,2003,2004,2005,2006,2007,2008,2009,2010,2011,2012,2013,2014,2015,2016,2017,2018,2019],\"xaxis\":\"x\",\"y\":[67.5108936874808,66.90618411646433,60.98279924856713,60.11252097112685,59.21350991999258,58.28594293114828,57.33103378623034,56.34996015556204,55.34469930126656,53.267573875168104,52.19761232602726,51.10577999984363,49.98860664511066,48.839918724460595,47.65069790196969,46.411052490863334,45.11779409256878,43.62746720132267,42.178581403335535,40.8781886303094,39.58677467994851,38.21974763628569,36.59024019004965,34.88745393250131,33.23836787581247,31.70557287458161,30.340740695640896,29.181539463013436,28.231808853032458,27.480996633545633,26.910528323462085,26.497785401601558,26.218043891221477,26.045419876746696,25.968292907715455,25.99552336910261,26.147372576044507,26.453421230466418,26.915563858192993,27.506567303601596,28.181194795481016,28.890425217194476,29.585529369096697,30.22098944322705,30.360421684336337,30.397215162376668,30.39069298169207,30.361841257481267,30.316165628485734,30.25479069036077,30.177608407083515,30.084491063700156,29.97515948588535,29.849488105098953,29.707383573349972,29.548253937066427,29.370923408691475,29.173609370704007,28.954190259867726,28.710975968522373,28.443156405922352,28.150680231943706,27.833853973738673,27.49333046722393],\"yaxis\":\"y\",\"type\":\"scatter\"}],                        {\"template\":{\"data\":{\"histogram2dcontour\":[{\"type\":\"histogram2dcontour\",\"colorbar\":{\"outlinewidth\":0,\"ticks\":\"\"},\"colorscale\":[[0.0,\"#0d0887\"],[0.1111111111111111,\"#46039f\"],[0.2222222222222222,\"#7201a8\"],[0.3333333333333333,\"#9c179e\"],[0.4444444444444444,\"#bd3786\"],[0.5555555555555556,\"#d8576b\"],[0.6666666666666666,\"#ed7953\"],[0.7777777777777778,\"#fb9f3a\"],[0.8888888888888888,\"#fdca26\"],[1.0,\"#f0f921\"]]}],\"choropleth\":[{\"type\":\"choropleth\",\"colorbar\":{\"outlinewidth\":0,\"ticks\":\"\"}}],\"histogram2d\":[{\"type\":\"histogram2d\",\"colorbar\":{\"outlinewidth\":0,\"ticks\":\"\"},\"colorscale\":[[0.0,\"#0d0887\"],[0.1111111111111111,\"#46039f\"],[0.2222222222222222,\"#7201a8\"],[0.3333333333333333,\"#9c179e\"],[0.4444444444444444,\"#bd3786\"],[0.5555555555555556,\"#d8576b\"],[0.6666666666666666,\"#ed7953\"],[0.7777777777777778,\"#fb9f3a\"],[0.8888888888888888,\"#fdca26\"],[1.0,\"#f0f921\"]]}],\"heatmap\":[{\"type\":\"heatmap\",\"colorbar\":{\"outlinewidth\":0,\"ticks\":\"\"},\"colorscale\":[[0.0,\"#0d0887\"],[0.1111111111111111,\"#46039f\"],[0.2222222222222222,\"#7201a8\"],[0.3333333333333333,\"#9c179e\"],[0.4444444444444444,\"#bd3786\"],[0.5555555555555556,\"#d8576b\"],[0.6666666666666666,\"#ed7953\"],[0.7777777777777778,\"#fb9f3a\"],[0.8888888888888888,\"#fdca26\"],[1.0,\"#f0f921\"]]}],\"heatmapgl\":[{\"type\":\"heatmapgl\",\"colorbar\":{\"outlinewidth\":0,\"ticks\":\"\"},\"colorscale\":[[0.0,\"#0d0887\"],[0.1111111111111111,\"#46039f\"],[0.2222222222222222,\"#7201a8\"],[0.3333333333333333,\"#9c179e\"],[0.4444444444444444,\"#bd3786\"],[0.5555555555555556,\"#d8576b\"],[0.6666666666666666,\"#ed7953\"],[0.7777777777777778,\"#fb9f3a\"],[0.8888888888888888,\"#fdca26\"],[1.0,\"#f0f921\"]]}],\"contourcarpet\":[{\"type\":\"contourcarpet\",\"colorbar\":{\"outlinewidth\":0,\"ticks\":\"\"}}],\"contour\":[{\"type\":\"contour\",\"colorbar\":{\"outlinewidth\":0,\"ticks\":\"\"},\"colorscale\":[[0.0,\"#0d0887\"],[0.1111111111111111,\"#46039f\"],[0.2222222222222222,\"#7201a8\"],[0.3333333333333333,\"#9c179e\"],[0.4444444444444444,\"#bd3786\"],[0.5555555555555556,\"#d8576b\"],[0.6666666666666666,\"#ed7953\"],[0.7777777777777778,\"#fb9f3a\"],[0.8888888888888888,\"#fdca26\"],[1.0,\"#f0f921\"]]}],\"surface\":[{\"type\":\"surface\",\"colorbar\":{\"outlinewidth\":0,\"ticks\":\"\"},\"colorscale\":[[0.0,\"#0d0887\"],[0.1111111111111111,\"#46039f\"],[0.2222222222222222,\"#7201a8\"],[0.3333333333333333,\"#9c179e\"],[0.4444444444444444,\"#bd3786\"],[0.5555555555555556,\"#d8576b\"],[0.6666666666666666,\"#ed7953\"],[0.7777777777777778,\"#fb9f3a\"],[0.8888888888888888,\"#fdca26\"],[1.0,\"#f0f921\"]]}],\"mesh3d\":[{\"type\":\"mesh3d\",\"colorbar\":{\"outlinewidth\":0,\"ticks\":\"\"}}],\"scatter\":[{\"fillpattern\":{\"fillmode\":\"overlay\",\"size\":10,\"solidity\":0.2},\"type\":\"scatter\"}],\"parcoords\":[{\"type\":\"parcoords\",\"line\":{\"colorbar\":{\"outlinewidth\":0,\"ticks\":\"\"}}}],\"scatterpolargl\":[{\"type\":\"scatterpolargl\",\"marker\":{\"colorbar\":{\"outlinewidth\":0,\"ticks\":\"\"}}}],\"bar\":[{\"error_x\":{\"color\":\"#2a3f5f\"},\"error_y\":{\"color\":\"#2a3f5f\"},\"marker\":{\"line\":{\"color\":\"#E5ECF6\",\"width\":0.5},\"pattern\":{\"fillmode\":\"overlay\",\"size\":10,\"solidity\":0.2}},\"type\":\"bar\"}],\"scattergeo\":[{\"type\":\"scattergeo\",\"marker\":{\"colorbar\":{\"outlinewidth\":0,\"ticks\":\"\"}}}],\"scatterpolar\":[{\"type\":\"scatterpolar\",\"marker\":{\"colorbar\":{\"outlinewidth\":0,\"ticks\":\"\"}}}],\"histogram\":[{\"marker\":{\"pattern\":{\"fillmode\":\"overlay\",\"size\":10,\"solidity\":0.2}},\"type\":\"histogram\"}],\"scattergl\":[{\"type\":\"scattergl\",\"marker\":{\"colorbar\":{\"outlinewidth\":0,\"ticks\":\"\"}}}],\"scatter3d\":[{\"type\":\"scatter3d\",\"line\":{\"colorbar\":{\"outlinewidth\":0,\"ticks\":\"\"}},\"marker\":{\"colorbar\":{\"outlinewidth\":0,\"ticks\":\"\"}}}],\"scattermapbox\":[{\"type\":\"scattermapbox\",\"marker\":{\"colorbar\":{\"outlinewidth\":0,\"ticks\":\"\"}}}],\"scatterternary\":[{\"type\":\"scatterternary\",\"marker\":{\"colorbar\":{\"outlinewidth\":0,\"ticks\":\"\"}}}],\"scattercarpet\":[{\"type\":\"scattercarpet\",\"marker\":{\"colorbar\":{\"outlinewidth\":0,\"ticks\":\"\"}}}],\"carpet\":[{\"aaxis\":{\"endlinecolor\":\"#2a3f5f\",\"gridcolor\":\"white\",\"linecolor\":\"white\",\"minorgridcolor\":\"white\",\"startlinecolor\":\"#2a3f5f\"},\"baxis\":{\"endlinecolor\":\"#2a3f5f\",\"gridcolor\":\"white\",\"linecolor\":\"white\",\"minorgridcolor\":\"white\",\"startlinecolor\":\"#2a3f5f\"},\"type\":\"carpet\"}],\"table\":[{\"cells\":{\"fill\":{\"color\":\"#EBF0F8\"},\"line\":{\"color\":\"white\"}},\"header\":{\"fill\":{\"color\":\"#C8D4E3\"},\"line\":{\"color\":\"white\"}},\"type\":\"table\"}],\"barpolar\":[{\"marker\":{\"line\":{\"color\":\"#E5ECF6\",\"width\":0.5},\"pattern\":{\"fillmode\":\"overlay\",\"size\":10,\"solidity\":0.2}},\"type\":\"barpolar\"}],\"pie\":[{\"automargin\":true,\"type\":\"pie\"}]},\"layout\":{\"autotypenumbers\":\"strict\",\"colorway\":[\"#636efa\",\"#EF553B\",\"#00cc96\",\"#ab63fa\",\"#FFA15A\",\"#19d3f3\",\"#FF6692\",\"#B6E880\",\"#FF97FF\",\"#FECB52\"],\"font\":{\"color\":\"#2a3f5f\"},\"hovermode\":\"closest\",\"hoverlabel\":{\"align\":\"left\"},\"paper_bgcolor\":\"white\",\"plot_bgcolor\":\"#E5ECF6\",\"polar\":{\"bgcolor\":\"#E5ECF6\",\"angularaxis\":{\"gridcolor\":\"white\",\"linecolor\":\"white\",\"ticks\":\"\"},\"radialaxis\":{\"gridcolor\":\"white\",\"linecolor\":\"white\",\"ticks\":\"\"}},\"ternary\":{\"bgcolor\":\"#E5ECF6\",\"aaxis\":{\"gridcolor\":\"white\",\"linecolor\":\"white\",\"ticks\":\"\"},\"baxis\":{\"gridcolor\":\"white\",\"linecolor\":\"white\",\"ticks\":\"\"},\"caxis\":{\"gridcolor\":\"white\",\"linecolor\":\"white\",\"ticks\":\"\"}},\"coloraxis\":{\"colorbar\":{\"outlinewidth\":0,\"ticks\":\"\"}},\"colorscale\":{\"sequential\":[[0.0,\"#0d0887\"],[0.1111111111111111,\"#46039f\"],[0.2222222222222222,\"#7201a8\"],[0.3333333333333333,\"#9c179e\"],[0.4444444444444444,\"#bd3786\"],[0.5555555555555556,\"#d8576b\"],[0.6666666666666666,\"#ed7953\"],[0.7777777777777778,\"#fb9f3a\"],[0.8888888888888888,\"#fdca26\"],[1.0,\"#f0f921\"]],\"sequentialminus\":[[0.0,\"#0d0887\"],[0.1111111111111111,\"#46039f\"],[0.2222222222222222,\"#7201a8\"],[0.3333333333333333,\"#9c179e\"],[0.4444444444444444,\"#bd3786\"],[0.5555555555555556,\"#d8576b\"],[0.6666666666666666,\"#ed7953\"],[0.7777777777777778,\"#fb9f3a\"],[0.8888888888888888,\"#fdca26\"],[1.0,\"#f0f921\"]],\"diverging\":[[0,\"#8e0152\"],[0.1,\"#c51b7d\"],[0.2,\"#de77ae\"],[0.3,\"#f1b6da\"],[0.4,\"#fde0ef\"],[0.5,\"#f7f7f7\"],[0.6,\"#e6f5d0\"],[0.7,\"#b8e186\"],[0.8,\"#7fbc41\"],[0.9,\"#4d9221\"],[1,\"#276419\"]]},\"xaxis\":{\"gridcolor\":\"white\",\"linecolor\":\"white\",\"ticks\":\"\",\"title\":{\"standoff\":15},\"zerolinecolor\":\"white\",\"automargin\":true,\"zerolinewidth\":2},\"yaxis\":{\"gridcolor\":\"white\",\"linecolor\":\"white\",\"ticks\":\"\",\"title\":{\"standoff\":15},\"zerolinecolor\":\"white\",\"automargin\":true,\"zerolinewidth\":2},\"scene\":{\"xaxis\":{\"backgroundcolor\":\"#E5ECF6\",\"gridcolor\":\"white\",\"linecolor\":\"white\",\"showbackground\":true,\"ticks\":\"\",\"zerolinecolor\":\"white\",\"gridwidth\":2},\"yaxis\":{\"backgroundcolor\":\"#E5ECF6\",\"gridcolor\":\"white\",\"linecolor\":\"white\",\"showbackground\":true,\"ticks\":\"\",\"zerolinecolor\":\"white\",\"gridwidth\":2},\"zaxis\":{\"backgroundcolor\":\"#E5ECF6\",\"gridcolor\":\"white\",\"linecolor\":\"white\",\"showbackground\":true,\"ticks\":\"\",\"zerolinecolor\":\"white\",\"gridwidth\":2}},\"shapedefaults\":{\"line\":{\"color\":\"#2a3f5f\"}},\"annotationdefaults\":{\"arrowcolor\":\"#2a3f5f\",\"arrowhead\":0,\"arrowwidth\":1},\"geo\":{\"bgcolor\":\"white\",\"landcolor\":\"#E5ECF6\",\"subunitcolor\":\"white\",\"showland\":true,\"showlakes\":true,\"lakecolor\":\"white\"},\"title\":{\"x\":0.05},\"mapbox\":{\"style\":\"light\"}}},\"xaxis\":{\"anchor\":\"y\",\"domain\":[0.0,1.0],\"title\":{\"text\":\"Year\"}},\"yaxis\":{\"anchor\":\"x\",\"domain\":[0.0,1.0],\"title\":{\"text\":\"% Yes\"}},\"legend\":{\"title\":{\"text\":\"Country\"},\"tracegroupgap\":0},\"margin\":{\"t\":60},\"title\":{\"text\":\"Nuclear weapons and nuclear material\\u003cbr\\u003e\",\"y\":0.9,\"x\":0.5,\"xanchor\":\"center\",\"yanchor\":\"top\"}},                        {\"responsive\": true}                    ).then(function(){\n",
       "                            \n",
       "var gd = document.getElementById('9e6343a7-4660-4cc4-ab24-7361f067689e');\n",
       "var x = new MutationObserver(function (mutations, observer) {{\n",
       "        var display = window.getComputedStyle(gd).display;\n",
       "        if (!display || display === 'none') {{\n",
       "            console.log([gd, 'removed!']);\n",
       "            Plotly.purge(gd);\n",
       "            observer.disconnect();\n",
       "        }}\n",
       "}});\n",
       "\n",
       "// Listen for the removal of the full notebook cells\n",
       "var notebookContainer = gd.closest('#notebook-container');\n",
       "if (notebookContainer) {{\n",
       "    x.observe(notebookContainer, {childList: true});\n",
       "}}\n",
       "\n",
       "// Listen for the clearing of the current output cell\n",
       "var outputEl = gd.closest('.output');\n",
       "if (outputEl) {{\n",
       "    x.observe(outputEl, {childList: true});\n",
       "}}\n",
       "\n",
       "                        })                };                });            </script>        </div>"
      ]
     },
     "metadata": {},
     "output_type": "display_data"
    }
   ],
   "source": [
    "def make_plot(countries,issue):\n",
    "    '''\n",
    "    A Python function that takes in the list of countries and issues and makes\n",
    "    a scatter plot of each issue with a trendline for each country.\n",
    "    '''\n",
    "    x_data = []\n",
    "    y_data = []\n",
    "    c_data = []\n",
    "    for cntry in countries:\n",
    "        my_group = c_groups.get_group((cntry,issue))\n",
    "        for y in my_group['year'].unique():\n",
    "            x_data.append(y)\n",
    "            tot_yes = sum(my_group[my_group['year']==y]['vote']=='yes')\n",
    "            percent_yes = tot_yes/len(my_group[my_group['year']==y])*100\n",
    "            y_data.append(percent_yes)\n",
    "            c_data.append(cntry)\n",
    "\n",
    "    fig = px.scatter(x=x_data, y=y_data,color=c_data,trendline=\"lowess\",labels={\"color\": \"Country\"})\n",
    "\n",
    "    fig.update_layout(\n",
    "        title={\n",
    "            'text': issue + '<br>',\n",
    "            'y':0.9,\n",
    "            'x':0.5,\n",
    "            'xanchor': 'center',\n",
    "            'yanchor': 'top'})\n",
    "    fig.update_yaxes(title_text=\"% Yes\")\n",
    "    fig.update_xaxes(title_text=\"Year\")\n",
    "    fig.show()\n",
    "    \n",
    "for iss in issues:\n",
    "    make_plot(countries,iss)"
   ]
  },
  {
   "cell_type": "markdown",
   "id": "130de118-e079-455c-9eb2-0eff64efca6a",
   "metadata": {},
   "source": [
    "### Problem 3\n",
    "\n",
    "Choose one of the graphs produced above (should match the lecture notes) and discuss what you see there:\n",
    "\n",
    "1. Which issue are you focusing on.\n",
    "2. What do the graph axis represent?\n",
    "3. Say in words how the United States votes have changed over time.\n",
    "4. How do the United States votes compare to the other countries?\n",
    "5. See if you can come up with one or two questions that interest you about the data in the graph."
   ]
  },
  {
   "cell_type": "markdown",
   "id": "de5b34d4-b795-43ac-a6e0-9c66680beb68",
   "metadata": {},
   "source": [
    "**(double click here)**"
   ]
  },
  {
   "cell_type": "markdown",
   "id": "4874978e-edb6-488a-a11e-6dd290b351cc",
   "metadata": {},
   "source": [
    "### Problem 4\n",
    "\n",
    "Now go back up to where we picked our three focus countries and choose some different ones. Rerun the analysis. If you want you could choose more than three countries. \n",
    "\n",
    "Discuss the graph for the same issue but with the new countries."
   ]
  },
  {
   "cell_type": "markdown",
   "id": "ed39a439-8ef9-4d66-9a84-4d1615f971b5",
   "metadata": {},
   "source": [
    "**(double click here)**"
   ]
  },
  {
   "cell_type": "markdown",
   "id": "9fcce607-bfda-42a1-a556-a05c424dd6c9",
   "metadata": {},
   "source": [
    "--------------------------------\n",
    "### You are done with the homework... now what?\n",
    "--------------------------------\n",
    "\n",
    "1. Save your changes.\n",
    "2. In the Git tab, **Stage** your changed files - use the (+) button next to the file.\n",
    "3. **Commit** your changes by entering a summary and pushing commit.\n",
    "4. **Push** your changes using the cloud button.\n",
    "5. Check that your changes are on your GitHub repo (online)\n",
    "6. **TAKE THE DAILY QUIZ ON CANVAS** the quiz will ask you to copy and past the HTTPS link to your repo for the day.\n",
    "7. Come to class and get your questions answered.\n",
    "\n",
    "At the end of the week  you will submit your final versions of the homework on Canvas for grading. For this you can just drag and drop the HW.ipynb files into canvas. \n",
    "\n",
    "**IMPORTANT** If this is confusing this first week, don't worry, I can help you and I will be really flexible about these first few deadlines.\n"
   ]
  },
  {
   "cell_type": "code",
   "execution_count": null,
   "id": "f00c8fd3-9713-4a3c-906e-7db71731da15",
   "metadata": {},
   "outputs": [],
   "source": []
  }
 ],
 "metadata": {
  "kernelspec": {
   "display_name": "Python 3 (ipykernel)",
   "language": "python",
   "name": "python3"
  },
  "language_info": {
   "codemirror_mode": {
    "name": "ipython",
    "version": 3
   },
   "file_extension": ".py",
   "mimetype": "text/x-python",
   "name": "python",
   "nbconvert_exporter": "python",
   "pygments_lexer": "ipython3",
   "version": "3.12.2"
  }
 },
 "nbformat": 4,
 "nbformat_minor": 5
}
